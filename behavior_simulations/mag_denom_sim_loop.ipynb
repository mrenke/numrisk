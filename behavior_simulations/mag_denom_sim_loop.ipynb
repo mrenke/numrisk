{
 "cells": [
  {
   "cell_type": "code",
   "execution_count": 1,
   "metadata": {},
   "outputs": [],
   "source": [
    "from bauer.utils.data import load_garcia2022\n",
    "from bauer.models import MagnitudeComparisonModel\n",
    "import numpy as np\n",
    "import pandas as pd\n",
    "import seaborn as sns\n",
    "from bauer.utils.plotting import plot_ppc\n",
    "from utils import create_design_magJudge, simulate_choices_subind\n",
    "from scipy.stats import pearsonr\n",
    "import arviz as az\n",
    "import os.path as op"
   ]
  },
  {
   "cell_type": "code",
   "execution_count": null,
   "metadata": {},
   "outputs": [],
   "source": [
    "params = pd.read_csv('/Users/mrenke/git/numrisk/behavior_simulations/sub-params_Miguel.csv')\n",
    "sub_params = pd.DataFrame(data = {'subject': params.iloc[:,0], 'n1_evidence_sd': params.iloc[:,1], 'n2_evidence_sd': params.iloc[:,2], 'n2_prior_mu':params.iloc[:,3]})\n",
    "\n",
    "target_folder = '/Users/mrenke/git/numrisk/behavior_simulations/data_saved'\n",
    "df = pd.DataFrame()\n",
    "\n",
    "count = 0\n",
    "for denominator in [6, 10, 14, 20, 26]:\n",
    "\n",
    "    frac = np.linspace(-6,6, 13)\n",
    "    frac = np.delete(frac, 6)                     \n",
    "    fractions = np.power(2,(frac/denominator))\n",
    "\n",
    "    df_task = create_design_magJudge(fractions, repetitions=3, n_runs= 6)\n",
    "\n",
    "    df_ts_s =  pd.DataFrame() # df trial settings als subs\n",
    "    for sub in sub_params['subject']:\n",
    "        df_task['subject'] = np.array(sub, copy=len(df_task))\n",
    "        df_ts_s = pd.concat([df_ts_s, df_task])\n",
    "\n",
    "    for run in range(1,10):\n",
    "        df_sim = simulate_choices_subind(df_ts_s, sub_params.set_index('subject'))\n",
    "        df_sim['trial_nr'] = df_sim['trial']\n",
    "        df_sim['choice'] = df_sim['sim_choice']\n",
    "        df_sim = df_sim.set_index(['subject', 'trial_nr'])\n",
    "\n",
    "        model = MagnitudeComparisonModel(df_sim)\n",
    "        model.build_estimation_model()\n",
    "        trace = model.sample(draws=1000, tune=1000)\n",
    "\n",
    "        az.to_netcdf(trace, op.join(target_folder, f'denom{denominator}_run{run}_trace.netcdf'))\n",
    "        df_sim.to_csv(op.join(target_folder, f'denom{denominator}_run{run}_sim-data.csv'))\n",
    "\n",
    "        n1_ev_sd = trace.posterior['n1_evidence_sd'].to_dataframe()\n",
    "        denom = n1_ev_sd\n",
    "        dc = pd.DataFrame(data={'evid_sd_std': denom.groupby('subject').std()['n1_evidence_sd'],'evid_sd_mu':denom.groupby('subject').mean()['n1_evidence_sd'], 'true_evid_sd_mu': sub_params.set_index('subject')['n1_evidence_sd'] })\n",
    "\n",
    "        x = 'evid_sd_mu'\n",
    "        y = 'true_evid_sd_mu'\n",
    "        z =  'evid_sd_std'\n",
    "\n",
    "        ccy = pearsonr(dc[x], dc[y])\n",
    "        ccz = pearsonr(dc[x], dc[z])\n",
    "\n",
    "        count += 1\n",
    "        d = pd.DataFrame(data={'denom' : denominator,'run': run, \n",
    "                 'evid_sd_mu_true-est_cc': round(ccy[0],3), \n",
    "                 'evid_sd_mu_true-est_pv': round(ccy[1],3), \n",
    "                 'evid_sd_mu-std_cc': round(ccz[0],3),    \n",
    "                 'evid_sd_mu-std_pv': round(ccz[1],3),\n",
    "                 'mean_evid_sd_std' : dc['evid_sd_std'].mean()},\n",
    "                index=[count])\n",
    "\n",
    "        df = pd.concat([df,d ])"
   ]
  },
  {
   "cell_type": "code",
   "execution_count": null,
   "metadata": {},
   "outputs": [],
   "source": []
  }
 ],
 "metadata": {
  "kernelspec": {
   "display_name": "behav_fit2",
   "language": "python",
   "name": "python3"
  },
  "language_info": {
   "codemirror_mode": {
    "name": "ipython",
    "version": 3
   },
   "file_extension": ".py",
   "mimetype": "text/x-python",
   "name": "python",
   "nbconvert_exporter": "python",
   "pygments_lexer": "ipython3",
   "version": "3.10.6"
  },
  "orig_nbformat": 4,
  "vscode": {
   "interpreter": {
    "hash": "44a3e0f9115580f704b08da5d109cb9a380d4abe7d786b4b0f3f40932a909701"
   }
  }
 },
 "nbformat": 4,
 "nbformat_minor": 2
}
