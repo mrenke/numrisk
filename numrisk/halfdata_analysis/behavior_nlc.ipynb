{
 "cells": [
  {
   "cell_type": "code",
   "execution_count": 4,
   "metadata": {},
   "outputs": [],
   "source": [
    "import pandas as pd\n",
    "import os.path as op\n",
    "import numpy as np\n",
    "from os import listdir\n",
    "import matplotlib.pyplot as plt\n",
    "import seaborn as sns\n",
    "import os\n",
    "from numrisk.utils.data import Subject\n",
    "\n",
    "bids_folder = '/Volumes/mrenkeED/data/ds-dnumrisk'\n",
    "subs= [int(f[4:]) for f in listdir(bids_folder) if f[0:3] == 'sub']\n",
    "pati_save = '/Users/mrenke/data/ds-dnumrisk/interim_sum_data'\n",
    "\n",
    "target_folder = op.join(bids_folder, 'derivatives', 'cogmodels')\n",
    "subjects = [Subject(sub, bids_folder) for sub in subs]\n",
    "\n"
   ]
  },
  {
   "cell_type": "code",
   "execution_count": 6,
   "metadata": {},
   "outputs": [],
   "source": [
    "from bauer.models import MagnitudeComparisonModel\n",
    "import arviz as az\n",
    "\n",
    "target_accept = 0.9\n",
    "burnin=1000\n",
    "samples=1000"
   ]
  },
  {
   "cell_type": "code",
   "execution_count": 2,
   "metadata": {},
   "outputs": [
    {
     "name": "stderr",
     "output_type": "stream",
     "text": [
      "/var/folders/3k/8g0xv78x051fznwyh_m5xcn8f91w3q/T/ipykernel_82417/1763774174.py:9: FutureWarning: In a future version of pandas all arguments of DataFrame.sort_index will be keyword-only.\n",
      "  behavior = pd.concat(behavior).sort_index(0)\n"
     ]
    }
   ],
   "source": [
    "# single, for model-vis\n",
    "from pymc import model_graph # needs graphviz which is only installed in behav_fit2 !\n",
    "\n",
    "split_data = 'run_456'\n",
    "runs = range(4,7)\n",
    "\n",
    "behavior = [s.get_behavior_magjudge(runs = runs) for s in subjects]\n",
    "behavior = pd.concat(behavior).sort_index(0)\n",
    "\n",
    "df = behavior.dropna()\n",
    "df['choice'] = df['chose_n2']\n",
    "\n",
    "model = MagnitudeComparisonModel(df, fit_seperate_evidence_sd = True)\n",
    "model.build_estimation_model()\n",
    "model_graph.model_to_graphviz(model=model.estimation_model)"
   ]
  },
  {
   "cell_type": "code",
   "execution_count": 7,
   "metadata": {},
   "outputs": [
    {
     "name": "stderr",
     "output_type": "stream",
     "text": [
      "/var/folders/3k/8g0xv78x051fznwyh_m5xcn8f91w3q/T/ipykernel_84246/1057976836.py:17: FutureWarning: In a future version of pandas all arguments of DataFrame.sort_index will be keyword-only.\n",
      "  df =  pd.concat(behavior).sort_index(0).dropna()\n",
      "Auto-assigning NUTS sampler...\n",
      "Initializing NUTS using jitter+adapt_diag...\n",
      "Multiprocess sampling (4 chains in 4 jobs)\n",
      "NUTS: [n1_evidence_sd_mu_untransformed, n1_evidence_sd_sd, n1_evidence_sd_offset, n2_evidence_sd_mu_untransformed, n2_evidence_sd_sd, n2_evidence_sd_offset, prior_mu_mu, prior_mu_sd, prior_mu_offset, prior_sd_mu_untransformed, prior_sd_sd, prior_sd_offset]\n"
     ]
    },
    {
     "data": {
      "text/html": [
       "\n",
       "    <div>\n",
       "        <style>\n",
       "            /* Turns off some styling */\n",
       "            progress {\n",
       "                /* gets rid of default border in Firefox and Opera. */\n",
       "                border: none;\n",
       "                /* Needs to be in here for Safari polyfill so background images work as expected. */\n",
       "                background-size: auto;\n",
       "            }\n",
       "            .progress-bar-interrupted, .progress-bar-interrupted::-webkit-progress-bar {\n",
       "                background: #F44336;\n",
       "            }\n",
       "        </style>\n",
       "      <progress value='4073' class='' max='8000' style='width:300px; height:20px; vertical-align: middle;'></progress>\n",
       "      50.91% [4073/8000 01:13<01:10 Sampling 4 chains, 0 divergences]\n",
       "    </div>\n",
       "    "
      ],
      "text/plain": [
       "<IPython.core.display.HTML object>"
      ]
     },
     "metadata": {},
     "output_type": "display_data"
    }
   ],
   "source": [
    "# loop \n",
    "\n",
    "fit_prior = True\n",
    "evisd = True # fit_seperate_evidence_sd\n",
    "\n",
    "data_variants = ['full', 'run_123', 'run_456']\n",
    "\n",
    "for split_data in data_variants:\n",
    "    if split_data == 'full':\n",
    "        runs = range(1, 7)\n",
    "    if split_data == 'run_123':\n",
    "        runs = range(1, 4)\n",
    "    elif split_data == 'run_456':\n",
    "        runs = range(4,7)\n",
    "\n",
    "    behavior = [s.get_behavior_magjudge(runs = runs) for s in subjects]\n",
    "    df =  pd.concat(behavior).sort_index(0).dropna()\n",
    "    df['choice'] = df['chose_n2']\n",
    "\n",
    "    model = MagnitudeComparisonModel(df, fit_prior=fit_prior, fit_seperate_evidence_sd = evisd )\n",
    "    model.build_estimation_model()\n",
    "    trace = model.sample(burnin, samples, target_accept=target_accept)\n",
    "\n",
    "    fit_prior = 'fit' if fit_prior else 'obj'\n",
    "    evisd = 'sep' if evisd else 'same'\n",
    "    az.to_netcdf(trace,\n",
    "                    op.join(target_folder, f'model-{split_data}_prior-{fit_prior}_evisd-{evisd}_trace.netcdf'))\n",
    "    \n",
    "    "
   ]
  },
  {
   "cell_type": "code",
   "execution_count": 15,
   "metadata": {},
   "outputs": [],
   "source": [
    "split_data = 'full'\n",
    "idata =  az.from_netcdf(op.join(target_folder, f'model-{split_data}_trace.netcdf'))\n"
   ]
  },
  {
   "cell_type": "code",
   "execution_count": 17,
   "metadata": {},
   "outputs": [],
   "source": [
    "from bauer.utils.math import softplus_np\n",
    "\n",
    "data_variants = ['full', 'run_123', 'run_456']\n",
    "key = ''#_untransformed'# _offset\n",
    "\n",
    "df_sds = []\n",
    "for split_data in data_variants:\n",
    "    idata =  az.from_netcdf(op.join(target_folder, f'model-{split_data}_trace.netcdf'))\n",
    "    #evidence_sd = pd.concat((idata.posterior['n1_evidence_sd_mu'].to_dataframe(), (idata.posterior['n2_evidence_sd_mu'].to_dataframe())), axis=1)\n",
    "    evidence_sd = pd.concat((idata.posterior[f'n1_evidence_sd{key}'].to_dataframe(), (idata.posterior[f'n2_evidence_sd{key}'].to_dataframe())), axis=1)\n",
    "    evidence_sd.columns.name = 'parameter'\n",
    "    evidence_sd = evidence_sd.stack().to_frame('value')\n",
    "    evidence_sd['Noise'] = evidence_sd.index.get_level_values('parameter').map({f'n1_evidence_sd{key}':'n1', f'n2_evidence_sd{key}':'n2'})\n",
    "    evidence_sd = evidence_sd.set_index('Noise', append=True)\n",
    "    evidence_sd['value_softpl'] = softplus_np(evidence_sd['value'])\n",
    "    df_sds.append(evidence_sd.groupby(['subject','Noise'])['value_softpl'].mean()) # \n",
    "\n",
    "\n",
    "df_sds = pd.concat(df_sds, keys=data_variants, names=['data','subject','order']).to_frame('sd')\n",
    "\n",
    "df_sds.to_csv(op.join(pati_save, 'sds_sub1-42_data-variants.csv'))"
   ]
  },
  {
   "cell_type": "code",
   "execution_count": 18,
   "metadata": {},
   "outputs": [
    {
     "data": {
      "text/plain": [
       "<matplotlib.legend.Legend at 0x168d724d0>"
      ]
     },
     "execution_count": 18,
     "metadata": {},
     "output_type": "execute_result"
    },
    {
     "data": {
      "image/png": "[encoded data removed]",
      "text/plain": [
       "<Figure size 275x250 with 1 Axes>"
      ]
     },
     "metadata": {},
     "output_type": "display_data"
    }
   ],
   "source": [
    "\n",
    "temp = df_sds.xs('full',0,'data')\n",
    "fac = sns.FacetGrid(temp.reset_index(), hue='order', palette=sns.color_palette()[4:], aspect=1.1, height=2.5)\n",
    "fac.map(sns.kdeplot, 'sd', fill=True)\n",
    "fac.set(xlabel=None, ylabel=None, yticks=[])\n",
    "plt.title('Evidence sd mu')\n",
    "plt.legend(title='Noise',loc='upper right',fontsize='x-small')\n"
   ]
  },
  {
   "cell_type": "code",
   "execution_count": 12,
   "metadata": {},
   "outputs": [],
   "source": [
    "# load in \n",
    "\n",
    "df_sds = pd.read_csv(op.join(pati_save, 'sds_sub1-42_data-variants.csv'))\n",
    "df_sds = df_sds.set_index(['data','subject','order'])\n",
    "\n",
    "df_rs = pd.read_csv(op.join(pati_save, 'rs_sub1-42_data-variants.csv'))"
   ]
  },
  {
   "cell_type": "code",
   "execution_count": 14,
   "metadata": {},
   "outputs": [
    {
     "data": {
      "text/html": [
       "<div>\n",
       "<style scoped>\n",
       "    .dataframe tbody tr th:only-of-type {\n",
       "        vertical-align: middle;\n",
       "    }\n",
       "\n",
       "    .dataframe tbody tr th {\n",
       "        vertical-align: top;\n",
       "    }\n",
       "\n",
       "    .dataframe thead th {\n",
       "        text-align: right;\n",
       "    }\n",
       "</style>\n",
       "<table border=\"1\" class=\"dataframe\">\n",
       "  <thead>\n",
       "    <tr style=\"text-align: right;\">\n",
       "      <th></th>\n",
       "      <th></th>\n",
       "      <th></th>\n",
       "      <th>sd</th>\n",
       "    </tr>\n",
       "    <tr>\n",
       "      <th>data</th>\n",
       "      <th>subject</th>\n",
       "      <th>order</th>\n",
       "      <th></th>\n",
       "    </tr>\n",
       "  </thead>\n",
       "  <tbody>\n",
       "    <tr>\n",
       "      <th rowspan=\"5\" valign=\"top\">full</th>\n",
       "      <th rowspan=\"2\" valign=\"top\">1</th>\n",
       "      <th>n1</th>\n",
       "      <td>0.177702</td>\n",
       "    </tr>\n",
       "    <tr>\n",
       "      <th>n2</th>\n",
       "      <td>0.142251</td>\n",
       "    </tr>\n",
       "    <tr>\n",
       "      <th rowspan=\"2\" valign=\"top\">2</th>\n",
       "      <th>n1</th>\n",
       "      <td>0.271972</td>\n",
       "    </tr>\n",
       "    <tr>\n",
       "      <th>n2</th>\n",
       "      <td>0.152757</td>\n",
       "    </tr>\n",
       "    <tr>\n",
       "      <th>3</th>\n",
       "      <th>n1</th>\n",
       "      <td>0.303147</td>\n",
       "    </tr>\n",
       "  </tbody>\n",
       "</table>\n",
       "</div>"
      ],
      "text/plain": [
       "                          sd\n",
       "data subject order          \n",
       "full 1       n1     0.177702\n",
       "             n2     0.142251\n",
       "     2       n1     0.271972\n",
       "             n2     0.152757\n",
       "     3       n1     0.303147"
      ]
     },
     "execution_count": 14,
     "metadata": {},
     "output_type": "execute_result"
    }
   ],
   "source": [
    "df_sds.head()"
   ]
  },
  {
   "cell_type": "code",
   "execution_count": 17,
   "metadata": {},
   "outputs": [],
   "source": [
    "df_comb = df_sds.xs('n2',0,'order').join(df_rs.set_index(['data','subject']))\n",
    "df_comb = df_comb.dropna()"
   ]
  },
  {
   "cell_type": "code",
   "execution_count": 18,
   "metadata": {},
   "outputs": [
    {
     "data": {
      "text/html": [
       "<div>\n",
       "<style scoped>\n",
       "    .dataframe tbody tr th:only-of-type {\n",
       "        vertical-align: middle;\n",
       "    }\n",
       "\n",
       "    .dataframe tbody tr th {\n",
       "        vertical-align: top;\n",
       "    }\n",
       "\n",
       "    .dataframe thead th {\n",
       "        text-align: right;\n",
       "    }\n",
       "</style>\n",
       "<table border=\"1\" class=\"dataframe\">\n",
       "  <thead>\n",
       "    <tr style=\"text-align: right;\">\n",
       "      <th></th>\n",
       "      <th></th>\n",
       "      <th>sd</th>\n",
       "      <th>r</th>\n",
       "    </tr>\n",
       "    <tr>\n",
       "      <th>data</th>\n",
       "      <th>subject</th>\n",
       "      <th></th>\n",
       "      <th></th>\n",
       "    </tr>\n",
       "  </thead>\n",
       "  <tbody>\n",
       "    <tr>\n",
       "      <th rowspan=\"5\" valign=\"top\">full</th>\n",
       "      <th>2</th>\n",
       "      <td>0.152757</td>\n",
       "      <td>0.207033</td>\n",
       "    </tr>\n",
       "    <tr>\n",
       "      <th>5</th>\n",
       "      <td>0.181419</td>\n",
       "      <td>-0.023740</td>\n",
       "    </tr>\n",
       "    <tr>\n",
       "      <th>6</th>\n",
       "      <td>0.144508</td>\n",
       "      <td>0.062036</td>\n",
       "    </tr>\n",
       "    <tr>\n",
       "      <th>7</th>\n",
       "      <td>0.158677</td>\n",
       "      <td>0.087489</td>\n",
       "    </tr>\n",
       "    <tr>\n",
       "      <th>8</th>\n",
       "      <td>0.123607</td>\n",
       "      <td>0.262900</td>\n",
       "    </tr>\n",
       "  </tbody>\n",
       "</table>\n",
       "</div>"
      ],
      "text/plain": [
       "                    sd         r\n",
       "data subject                    \n",
       "full 2        0.152757  0.207033\n",
       "     5        0.181419 -0.023740\n",
       "     6        0.144508  0.062036\n",
       "     7        0.158677  0.087489\n",
       "     8        0.123607  0.262900"
      ]
     },
     "execution_count": 18,
     "metadata": {},
     "output_type": "execute_result"
    }
   ],
   "source": [
    "df_comb.head()"
   ]
  },
  {
   "cell_type": "code",
   "execution_count": 22,
   "metadata": {},
   "outputs": [
    {
     "data": {
      "text/plain": [
       "Text(0.5, 1.0, ' r=0.16, p= 0.33924')"
      ]
     },
     "execution_count": 22,
     "metadata": {},
     "output_type": "execute_result"
    },
    {
     "data": {
      "image/png": "[encoded data removed]",
      "text/plain": [
       "<Figure size 360x360 with 1 Axes>"
      ]
     },
     "metadata": {
      "needs_background": "light"
     },
     "output_type": "display_data"
    }
   ],
   "source": [
    "import pingouin \n",
    "sns.set_context('talk')\n",
    "\n",
    "temp = df_comb.xs('full',0,'data')\n",
    "\n",
    "var1 = 'sd' #'run_456' # \n",
    "var2 = 'r'\n",
    "cor = pingouin.corr(temp[var1],temp[var2])\n",
    "r_ = np.round(cor['r'][0], 2)\n",
    "p = np.round(cor['p-val'][0], 5)\n",
    "\n",
    "sns.lmplot(data=temp, x=var1,y=var2)\n",
    "plt.title(f' r={r_}, p= {p}') "
   ]
  },
  {
   "cell_type": "code",
   "execution_count": null,
   "metadata": {},
   "outputs": [],
   "source": []
  }
 ],
 "metadata": {
  "kernelspec": {
   "display_name": "behav_fit2_copy",
   "language": "python",
   "name": "python3"
  },
  "language_info": {
   "codemirror_mode": {
    "name": "ipython",
    "version": 3
   },
   "file_extension": ".py",
   "mimetype": "text/x-python",
   "name": "python",
   "nbconvert_exporter": "python",
   "pygments_lexer": "ipython3",
   "version": "3.10.12"
  },
  "orig_nbformat": 4
 },
 "nbformat": 4,
 "nbformat_minor": 2
}
