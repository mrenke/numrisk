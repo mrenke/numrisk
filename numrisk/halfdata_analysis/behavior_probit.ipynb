{
 "cells": [
  {
   "cell_type": "code",
   "execution_count": 1,
   "metadata": {},
   "outputs": [],
   "source": [
    "import pandas as pd\n",
    "import os.path as op\n",
    "import numpy as np\n",
    "from os import listdir\n",
    "import matplotlib.pyplot as plt\n",
    "import seaborn as sns\n",
    "import os\n",
    "from numrisk.utils.data import Subject\n",
    "\n",
    "bids_folder = '/Volumes/mrenkeED/data/ds-dnumrisk'\n",
    "subs= [int(f[4:]) for f in listdir(bids_folder) if f[0:3] == 'sub']\n",
    "pati_save = '/Users/mrenke/data/ds-dnumrisk/interim_sum_data'\n",
    "\n",
    "target_folder = op.join(bids_folder, 'derivatives', 'cogmodels')\n",
    "subjects = [Subject(sub, bids_folder) for sub in subs]\n",
    "\n",
    "group_mapping = pd.read_csv('/Users/mrenke/data/ds-dnumrisk/interim_sum_data/group_assignment_sub1-42.csv').set_index('subject')\n",
    "\n",
    "data_variants = ['full', 'run_123', 'run_456'] #\n",
    "\n"
   ]
  },
  {
   "cell_type": "code",
   "execution_count": null,
   "metadata": {},
   "outputs": [],
   "source": [
    "import bambi as bmb\n",
    "import arviz as az\n",
    "\n",
    "\n",
    "for split_data in data_variants:\n",
    "    if split_data == 'full':\n",
    "        runs = range(1, 7)\n",
    "    if split_data == 'run_123':\n",
    "        runs = range(1, 4)\n",
    "    elif split_data == 'run_456':\n",
    "        runs = range(4,7)\n",
    "\n",
    "    behavior = [s.get_behavior_magjudge(runs = runs) for s in subjects]\n",
    "    df =  pd.concat(behavior).sort_index(0).dropna()\n",
    "    df['choice'] = df['chose_n2']\n",
    "    df['x'] = df['log(n2/n1)']\n",
    "    \n",
    "    probit_model = bmb.Model('choice ~ 0 + x + (x|subject)', data=df.reset_index(), family='bernoulli', link='probit')\n",
    "\n",
    "    trace = probit_model.fit()\n",
    "\n",
    "    fn = op.join(target_folder, f'bmb_model-{split_data}_trace.netcdf')\n",
    "    az.to_netcdf(trace,fn)\n",
    "\n",
    "# 0 divergences for all fittings!!!"
   ]
  },
  {
   "cell_type": "code",
   "execution_count": 7,
   "metadata": {},
   "outputs": [
    {
     "name": "stderr",
     "output_type": "stream",
     "text": [
      "/var/folders/3k/8g0xv78x051fznwyh_m5xcn8f91w3q/T/ipykernel_96691/403140897.py:15: FutureWarning: In a future version of pandas all arguments of DataFrame.sort_index will be keyword-only.\n",
      "  df =  pd.concat(behavior).sort_index(0).dropna()\n",
      "/var/folders/3k/8g0xv78x051fznwyh_m5xcn8f91w3q/T/ipykernel_96691/403140897.py:15: FutureWarning: In a future version of pandas all arguments of DataFrame.sort_index will be keyword-only.\n",
      "  df =  pd.concat(behavior).sort_index(0).dropna()\n",
      "/var/folders/3k/8g0xv78x051fznwyh_m5xcn8f91w3q/T/ipykernel_96691/403140897.py:15: FutureWarning: In a future version of pandas all arguments of DataFrame.sort_index will be keyword-only.\n",
      "  df =  pd.concat(behavior).sort_index(0).dropna()\n"
     ]
    }
   ],
   "source": [
    "from utils import extract_intercept_gamma\n",
    "import arviz as az\n",
    "import bambi as bmb\n",
    "\n",
    "df_slopes = []\n",
    "for split_data in data_variants:\n",
    "    if split_data == 'full':\n",
    "        runs = range(1, 7)\n",
    "    if split_data == 'run_123':\n",
    "        runs = range(1, 4)\n",
    "    elif split_data == 'run_456':\n",
    "        runs = range(4,7)\n",
    "\n",
    "    behavior = [s.get_behavior_magjudge(runs = runs) for s in subjects]\n",
    "    df =  pd.concat(behavior).sort_index(0).dropna()\n",
    "    df['choice'] = df['chose_n2']\n",
    "    df['x'] = df['log(n2/n1)']\n",
    "    \n",
    "    probit_model = bmb.Model('choice ~ 0 + x + (x|subject)', data=df.reset_index(), family='bernoulli', link='probit')\n",
    "\n",
    "    idata_probit = az.from_netcdf(op.join(target_folder, f'bmb_model-{split_data}_trace.netcdf'))\n",
    "    intercept, gamma = extract_intercept_gamma(idata_probit, probit_model, df)\n",
    "    slopes = gamma.stack(['chain','draw']).groupby('subject').mean()\n",
    "    df_slopes.append(slopes)\n",
    "\n",
    "df_slopes = pd.concat(df_slopes, keys=data_variants, names=['data','subject'])\n",
    "df_slopes.to_csv(op.join(pati_save, 'gammas-bambi_sub1-42_data-variants.csv'))"
   ]
  },
  {
   "cell_type": "markdown",
   "metadata": {},
   "source": [
    "## load in "
   ]
  },
  {
   "cell_type": "code",
   "execution_count": 2,
   "metadata": {},
   "outputs": [],
   "source": [
    "df_slopes = pd.read_csv(op.join(pati_save, 'gammas-bambi_sub1-42_data-variants.csv'))\n",
    "df_slopes = df_slopes.set_index(['data','subject'])\n"
   ]
  },
  {
   "cell_type": "code",
   "execution_count": 3,
   "metadata": {},
   "outputs": [
    {
     "data": {
      "text/html": [
       "<div>\n",
       "<style scoped>\n",
       "    .dataframe tbody tr th:only-of-type {\n",
       "        vertical-align: middle;\n",
       "    }\n",
       "\n",
       "    .dataframe tbody tr th {\n",
       "        vertical-align: top;\n",
       "    }\n",
       "\n",
       "    .dataframe thead th {\n",
       "        text-align: right;\n",
       "    }\n",
       "</style>\n",
       "<table border=\"1\" class=\"dataframe\">\n",
       "  <thead>\n",
       "    <tr style=\"text-align: right;\">\n",
       "      <th></th>\n",
       "      <th></th>\n",
       "      <th>gamma</th>\n",
       "    </tr>\n",
       "    <tr>\n",
       "      <th>data</th>\n",
       "      <th>subject</th>\n",
       "      <th></th>\n",
       "    </tr>\n",
       "  </thead>\n",
       "  <tbody>\n",
       "    <tr>\n",
       "      <th rowspan=\"5\" valign=\"top\">full</th>\n",
       "      <th>1</th>\n",
       "      <td>4.316913</td>\n",
       "    </tr>\n",
       "    <tr>\n",
       "      <th>2</th>\n",
       "      <td>3.258281</td>\n",
       "    </tr>\n",
       "    <tr>\n",
       "      <th>3</th>\n",
       "      <td>2.774678</td>\n",
       "    </tr>\n",
       "    <tr>\n",
       "      <th>4</th>\n",
       "      <td>4.573071</td>\n",
       "    </tr>\n",
       "    <tr>\n",
       "      <th>5</th>\n",
       "      <td>3.428308</td>\n",
       "    </tr>\n",
       "  </tbody>\n",
       "</table>\n",
       "</div>"
      ],
      "text/plain": [
       "                 gamma\n",
       "data subject          \n",
       "full 1        4.316913\n",
       "     2        3.258281\n",
       "     3        2.774678\n",
       "     4        4.573071\n",
       "     5        3.428308"
      ]
     },
     "execution_count": 3,
     "metadata": {},
     "output_type": "execute_result"
    }
   ],
   "source": [
    "df_slopes.head()"
   ]
  },
  {
   "cell_type": "code",
   "execution_count": 5,
   "metadata": {},
   "outputs": [
    {
     "data": {
      "text/plain": [
       "Text(0.5, 1.0, ' r=0.44, p= 0.00381')"
      ]
     },
     "execution_count": 5,
     "metadata": {},
     "output_type": "execute_result"
    },
    {
     "data": {
      "image/png": "[encoded data removed]",
      "text/plain": [
       "<Figure size 360x360 with 1 Axes>"
      ]
     },
     "metadata": {
      "needs_background": "light"
     },
     "output_type": "display_data"
    }
   ],
   "source": [
    "import pingouin\n",
    "\n",
    "temp = df_slopes['gamma'].unstack('data')\n",
    "\n",
    "var1 = 'run_456'#'full' #'run_456' # \n",
    "var2 = 'run_123'\n",
    "cor = pingouin.corr(temp[var1],temp[var2])\n",
    "r_ = np.round(cor['r'][0], 2)\n",
    "p = np.round(cor['p-val'][0], 5)\n",
    "\n",
    "sns.lmplot(data=temp.reset_index(), x=var1,y=var2)\n",
    "plt.title(f' r={r_}, p= {p}') "
   ]
  },
  {
   "cell_type": "code",
   "execution_count": 8,
   "metadata": {},
   "outputs": [
    {
     "name": "stdout",
     "output_type": "stream",
     "text": [
      "full -removed, 0.57\n",
      "run_123 -removed, 0.89\n",
      "run_456 -removed, 0.91\n"
     ]
    }
   ],
   "source": [
    "import pingouin\n",
    "df = df_slopes['gamma'].unstack('data')\n",
    "\n",
    "for split_data in data_variants:\n",
    "    trr = pingouin.cronbach_alpha(data=df.drop(split_data,axis=1))\n",
    "    print(f'{split_data} -removed, {trr[0]:0.2f}')"
   ]
  },
  {
   "cell_type": "markdown",
   "metadata": {},
   "source": [
    "# comp. with r-decoding"
   ]
  },
  {
   "cell_type": "code",
   "execution_count": 29,
   "metadata": {},
   "outputs": [],
   "source": [
    "df_rs = pd.read_csv(op.join(pati_save, 'rs_sub1-42_data-variants.csv'))\n",
    "df_rs = df_rs.set_index(['data','subject']).xs('full',0,'data')\n"
   ]
  },
  {
   "cell_type": "code",
   "execution_count": 31,
   "metadata": {},
   "outputs": [],
   "source": [
    "df_comb = df_slopes.xs('full',0,'data').join(df_rs)"
   ]
  },
  {
   "cell_type": "code",
   "execution_count": 35,
   "metadata": {},
   "outputs": [
    {
     "data": {
      "text/plain": [
       "Text(0.5, 1.0, 'r=-0.1, p= 0.55604')"
      ]
     },
     "execution_count": 35,
     "metadata": {},
     "output_type": "execute_result"
    },
    {
     "data": {
      "image/png": "[encoded data removed]",
      "text/plain": [
       "<Figure size 360x360 with 1 Axes>"
      ]
     },
     "metadata": {
      "needs_background": "light"
     },
     "output_type": "display_data"
    }
   ],
   "source": [
    "sns.set_context('talk')\n",
    "var1 = 'gamma' #'run_456' # \n",
    "var2 = 'r'\n",
    "cor = pingouin.corr(df_comb[var1],df_comb[var2])\n",
    "r_ = np.round(cor['r'][0], 2)\n",
    "p = np.round(cor['p-val'][0], 5)\n",
    "\n",
    "sns.lmplot(data=df_comb, x=var1,y=var2)\n",
    "plt.title(f'r={r_}, p= {p}') "
   ]
  },
  {
   "cell_type": "code",
   "execution_count": 40,
   "metadata": {},
   "outputs": [
    {
     "data": {
      "text/plain": [
       "<seaborn.axisgrid.FacetGrid at 0x149869810>"
      ]
     },
     "execution_count": 40,
     "metadata": {},
     "output_type": "execute_result"
    },
    {
     "data": {
      "image/png": "[encoded data removed]",
      "text/plain": [
       "<Figure size 360x360 with 1 Axes>"
      ]
     },
     "metadata": {
      "needs_background": "light"
     },
     "output_type": "display_data"
    }
   ],
   "source": [
    "temp = df_comb.join(group_mapping)\n",
    "temp['group']= np.where(temp['group'] == 0, 'control', 'dyscalc')\n",
    "\n",
    "palette = sns.color_palette()[4:]\n",
    "\n",
    "sns.catplot(data =temp ,x='group',y='gamma',kind='bar', palette=palette)"
   ]
  },
  {
   "cell_type": "code",
   "execution_count": null,
   "metadata": {},
   "outputs": [],
   "source": []
  }
 ],
 "metadata": {
  "kernelspec": {
   "display_name": "behav_fit2",
   "language": "python",
   "name": "python3"
  },
  "language_info": {
   "codemirror_mode": {
    "name": "ipython",
    "version": 3
   },
   "file_extension": ".py",
   "mimetype": "text/x-python",
   "name": "python",
   "nbconvert_exporter": "python",
   "pygments_lexer": "ipython3",
   "version": "3.10.5"
  },
  "orig_nbformat": 4
 },
 "nbformat": 4,
 "nbformat_minor": 2
}
