{
 "cells": [
  {
   "cell_type": "code",
   "execution_count": 6,
   "metadata": {},
   "outputs": [],
   "source": [
    "import pandas as pd\n",
    "import os.path as op\n",
    "import numpy as np\n",
    "from os import listdir\n",
    "import pingouin\n",
    "import matplotlib.pyplot as plt\n",
    "import seaborn as sns\n",
    "\n",
    "bids_folder = '/Volumes/mrenkeED/data/ds-dnumrisk'\n",
    "subs= [int(f[4:]) for f in listdir(bids_folder) if f[0:3] == 'sub']\n"
   ]
  },
  {
   "cell_type": "code",
   "execution_count": 7,
   "metadata": {},
   "outputs": [
    {
     "name": "stderr",
     "output_type": "stream",
     "text": [
      "/var/folders/3k/8g0xv78x051fznwyh_m5xcn8f91w3q/T/ipykernel_72025/4025717983.py:6: FutureWarning: In a future version of pandas all arguments of DataFrame.sort_index will be keyword-only.\n",
      "  behavior = pd.concat(behavior).sort_index(0)\n"
     ]
    }
   ],
   "source": [
    "from numrisk.utils.data import Subject\n",
    "runs = range(1, 7)\n",
    "\n",
    "subjects = [Subject(sub, bids_folder) for sub in subs]\n",
    "behavior = [s.get_behavior_magjudge(runs = runs) for s in subjects]\n",
    "behavior = pd.concat(behavior).sort_index(0)\n"
   ]
  },
  {
   "cell_type": "code",
   "execution_count": null,
   "metadata": {},
   "outputs": [],
   "source": [
    "from utils import get_decoding_info\n",
    "\n",
    "split_data = 'run_123' # 'full'\n",
    "pred = [get_decoding_info(sub,bids_folder=bids_folder,split_data=split_data) for sub in subs]\n",
    "pred = pd.concat(pred)"
   ]
  },
  {
   "cell_type": "code",
   "execution_count": 4,
   "metadata": {},
   "outputs": [
    {
     "name": "stderr",
     "output_type": "stream",
     "text": [
      "  6%|▌         | 7/126 [00:00<00:02, 58.11it/s]"
     ]
    },
    {
     "name": "stdout",
     "output_type": "stream",
     "text": [
      "/Volumes/mrenkeED/data/ds-dnumrisk/derivatives/decoded_pdfs.volume.cv_vselect.denoise/sub-10/func/sub-10_ses-1_mask-NPC_R_space-T1w_pars.tsv\n",
      "/Volumes/mrenkeED/data/ds-dnumrisk/derivatives/decoded_pdfs.volume.cv_vselect_run_123.denoise/sub-10/func/sub-10_ses-1_mask-NPC_R_space-T1w_pars.tsv\n",
      "/Volumes/mrenkeED/data/ds-dnumrisk/derivatives/decoded_pdfs.volume.cv_vselect_run_456.denoise/sub-10/func/sub-10_ses-1_mask-NPC_R_space-T1w_pars.tsv\n",
      "/Volumes/mrenkeED/data/ds-dnumrisk/derivatives/decoded_pdfs.volume.cv_vselect.denoise/sub-01/func/sub-01_ses-1_mask-NPC_R_space-T1w_pars.tsv\n"
     ]
    },
    {
     "name": "stderr",
     "output_type": "stream",
     "text": [
      " 27%|██▋       | 34/126 [00:00<00:01, 59.29it/s]"
     ]
    },
    {
     "name": "stdout",
     "output_type": "stream",
     "text": [
      "/Volumes/mrenkeED/data/ds-dnumrisk/derivatives/decoded_pdfs.volume.cv_vselect.denoise/sub-03/func/sub-03_ses-1_mask-NPC_R_space-T1w_pars.tsv\n",
      "/Volumes/mrenkeED/data/ds-dnumrisk/derivatives/decoded_pdfs.volume.cv_vselect_run_123.denoise/sub-03/func/sub-03_ses-1_mask-NPC_R_space-T1w_pars.tsv\n",
      "/Volumes/mrenkeED/data/ds-dnumrisk/derivatives/decoded_pdfs.volume.cv_vselect_run_456.denoise/sub-03/func/sub-03_ses-1_mask-NPC_R_space-T1w_pars.tsv\n",
      "/Volumes/mrenkeED/data/ds-dnumrisk/derivatives/decoded_pdfs.volume.cv_vselect.denoise/sub-04/func/sub-04_ses-1_mask-NPC_R_space-T1w_pars.tsv\n",
      "/Volumes/mrenkeED/data/ds-dnumrisk/derivatives/decoded_pdfs.volume.cv_vselect_run_123.denoise/sub-04/func/sub-04_ses-1_mask-NPC_R_space-T1w_pars.tsv\n",
      "/Volumes/mrenkeED/data/ds-dnumrisk/derivatives/decoded_pdfs.volume.cv_vselect_run_456.denoise/sub-04/func/sub-04_ses-1_mask-NPC_R_space-T1w_pars.tsv\n"
     ]
    },
    {
     "name": "stderr",
     "output_type": "stream",
     "text": [
      " 94%|█████████▎| 118/126 [00:02<00:00, 46.37it/s]"
     ]
    },
    {
     "name": "stdout",
     "output_type": "stream",
     "text": [
      "/Volumes/mrenkeED/data/ds-dnumrisk/derivatives/decoded_pdfs.volume.cv_vselect.denoise/sub-38/func/sub-38_ses-1_mask-NPC_R_space-T1w_pars.tsv\n",
      "/Volumes/mrenkeED/data/ds-dnumrisk/derivatives/decoded_pdfs.volume.cv_vselect_run_123.denoise/sub-38/func/sub-38_ses-1_mask-NPC_R_space-T1w_pars.tsv\n",
      "/Volumes/mrenkeED/data/ds-dnumrisk/derivatives/decoded_pdfs.volume.cv_vselect_run_456.denoise/sub-38/func/sub-38_ses-1_mask-NPC_R_space-T1w_pars.tsv\n"
     ]
    },
    {
     "name": "stderr",
     "output_type": "stream",
     "text": [
      "100%|██████████| 126/126 [00:02<00:00, 42.79it/s]\n"
     ]
    }
   ],
   "source": [
    "from tqdm.contrib.itertools import product\n",
    "from utils import get_decoding_info\n",
    "\n",
    "data_variants = ['full', 'run_123', 'run_456']\n",
    "\n",
    "pred = []\n",
    "for (sub, split_data) in product(subs, data_variants):\n",
    "    pred.append(get_decoding_info(sub, bids_folder=bids_folder, split_data=split_data))\n",
    "                \n",
    "pred = pd.concat(pred)"
   ]
  },
  {
   "cell_type": "code",
   "execution_count": 8,
   "metadata": {},
   "outputs": [
    {
     "data": {
      "text/html": [
       "<div>\n",
       "<style scoped>\n",
       "    .dataframe tbody tr th:only-of-type {\n",
       "        vertical-align: middle;\n",
       "    }\n",
       "\n",
       "    .dataframe tbody tr th {\n",
       "        vertical-align: top;\n",
       "    }\n",
       "\n",
       "    .dataframe thead th {\n",
       "        text-align: right;\n",
       "    }\n",
       "</style>\n",
       "<table border=\"1\" class=\"dataframe\">\n",
       "  <thead>\n",
       "    <tr style=\"text-align: right;\">\n",
       "      <th></th>\n",
       "      <th></th>\n",
       "      <th></th>\n",
       "      <th>E</th>\n",
       "      <th>sd</th>\n",
       "    </tr>\n",
       "    <tr>\n",
       "      <th>subject</th>\n",
       "      <th>data</th>\n",
       "      <th>trial_nr</th>\n",
       "      <th></th>\n",
       "      <th></th>\n",
       "    </tr>\n",
       "  </thead>\n",
       "  <tbody>\n",
       "    <tr>\n",
       "      <th rowspan=\"5\" valign=\"top\">23</th>\n",
       "      <th rowspan=\"5\" valign=\"top\">full</th>\n",
       "      <th>1</th>\n",
       "      <td>1.813796</td>\n",
       "      <td>0.259045</td>\n",
       "    </tr>\n",
       "    <tr>\n",
       "      <th>2</th>\n",
       "      <td>4.183693</td>\n",
       "      <td>0.330421</td>\n",
       "    </tr>\n",
       "    <tr>\n",
       "      <th>3</th>\n",
       "      <td>2.035080</td>\n",
       "      <td>0.186209</td>\n",
       "    </tr>\n",
       "    <tr>\n",
       "      <th>4</th>\n",
       "      <td>2.569386</td>\n",
       "      <td>0.116908</td>\n",
       "    </tr>\n",
       "    <tr>\n",
       "      <th>5</th>\n",
       "      <td>2.442365</td>\n",
       "      <td>0.116785</td>\n",
       "    </tr>\n",
       "    <tr>\n",
       "      <th>...</th>\n",
       "      <th>...</th>\n",
       "      <th>...</th>\n",
       "      <td>...</td>\n",
       "      <td>...</td>\n",
       "    </tr>\n",
       "    <tr>\n",
       "      <th rowspan=\"5\" valign=\"top\">42</th>\n",
       "      <th rowspan=\"5\" valign=\"top\">run_456</th>\n",
       "      <th>176</th>\n",
       "      <td>3.617928</td>\n",
       "      <td>0.124263</td>\n",
       "    </tr>\n",
       "    <tr>\n",
       "      <th>177</th>\n",
       "      <td>2.239169</td>\n",
       "      <td>0.221851</td>\n",
       "    </tr>\n",
       "    <tr>\n",
       "      <th>178</th>\n",
       "      <td>2.753460</td>\n",
       "      <td>0.201419</td>\n",
       "    </tr>\n",
       "    <tr>\n",
       "      <th>179</th>\n",
       "      <td>2.607445</td>\n",
       "      <td>0.158162</td>\n",
       "    </tr>\n",
       "    <tr>\n",
       "      <th>180</th>\n",
       "      <td>2.163166</td>\n",
       "      <td>0.191711</td>\n",
       "    </tr>\n",
       "  </tbody>\n",
       "</table>\n",
       "<p>13500 rows × 2 columns</p>\n",
       "</div>"
      ],
      "text/plain": [
       "                                 E        sd\n",
       "subject data    trial_nr                    \n",
       "23      full    1         1.813796  0.259045\n",
       "                2         4.183693  0.330421\n",
       "                3         2.035080  0.186209\n",
       "                4         2.569386  0.116908\n",
       "                5         2.442365  0.116785\n",
       "...                            ...       ...\n",
       "42      run_456 176       3.617928  0.124263\n",
       "                177       2.239169  0.221851\n",
       "                178       2.753460  0.201419\n",
       "                179       2.607445  0.158162\n",
       "                180       2.163166  0.191711\n",
       "\n",
       "[13500 rows x 2 columns]"
      ]
     },
     "execution_count": 8,
     "metadata": {},
     "output_type": "execute_result"
    }
   ],
   "source": [
    "pred"
   ]
  },
  {
   "cell_type": "code",
   "execution_count": 9,
   "metadata": {},
   "outputs": [],
   "source": [
    "df = pred.join(behavior['log(n1)'], how='inner')\n"
   ]
  },
  {
   "cell_type": "code",
   "execution_count": 10,
   "metadata": {},
   "outputs": [
    {
     "data": {
      "text/html": [
       "<div>\n",
       "<style scoped>\n",
       "    .dataframe tbody tr th:only-of-type {\n",
       "        vertical-align: middle;\n",
       "    }\n",
       "\n",
       "    .dataframe tbody tr th {\n",
       "        vertical-align: top;\n",
       "    }\n",
       "\n",
       "    .dataframe thead th {\n",
       "        text-align: right;\n",
       "    }\n",
       "</style>\n",
       "<table border=\"1\" class=\"dataframe\">\n",
       "  <thead>\n",
       "    <tr style=\"text-align: right;\">\n",
       "      <th></th>\n",
       "      <th></th>\n",
       "      <th></th>\n",
       "      <th></th>\n",
       "      <th>E</th>\n",
       "      <th>sd</th>\n",
       "      <th>log(n1)</th>\n",
       "    </tr>\n",
       "    <tr>\n",
       "      <th>subject</th>\n",
       "      <th>trial_nr</th>\n",
       "      <th>data</th>\n",
       "      <th>run</th>\n",
       "      <th></th>\n",
       "      <th></th>\n",
       "      <th></th>\n",
       "    </tr>\n",
       "  </thead>\n",
       "  <tbody>\n",
       "    <tr>\n",
       "      <th rowspan=\"5\" valign=\"top\">1</th>\n",
       "      <th>1</th>\n",
       "      <th>run_123</th>\n",
       "      <th>1</th>\n",
       "      <td>1.995321</td>\n",
       "      <td>0.336058</td>\n",
       "      <td>1.945910</td>\n",
       "    </tr>\n",
       "    <tr>\n",
       "      <th>2</th>\n",
       "      <th>run_123</th>\n",
       "      <th>1</th>\n",
       "      <td>2.217738</td>\n",
       "      <td>0.293640</td>\n",
       "      <td>2.302585</td>\n",
       "    </tr>\n",
       "    <tr>\n",
       "      <th>3</th>\n",
       "      <th>run_123</th>\n",
       "      <th>1</th>\n",
       "      <td>2.447210</td>\n",
       "      <td>0.304341</td>\n",
       "      <td>2.639057</td>\n",
       "    </tr>\n",
       "    <tr>\n",
       "      <th>4</th>\n",
       "      <th>run_123</th>\n",
       "      <th>1</th>\n",
       "      <td>2.602902</td>\n",
       "      <td>0.125741</td>\n",
       "      <td>2.302585</td>\n",
       "    </tr>\n",
       "    <tr>\n",
       "      <th>5</th>\n",
       "      <th>run_123</th>\n",
       "      <th>1</th>\n",
       "      <td>2.269390</td>\n",
       "      <td>0.329136</td>\n",
       "      <td>1.609438</td>\n",
       "    </tr>\n",
       "  </tbody>\n",
       "</table>\n",
       "</div>"
      ],
      "text/plain": [
       "                                     E        sd   log(n1)\n",
       "subject trial_nr data    run                              \n",
       "1       1        run_123 1    1.995321  0.336058  1.945910\n",
       "        2        run_123 1    2.217738  0.293640  2.302585\n",
       "        3        run_123 1    2.447210  0.304341  2.639057\n",
       "        4        run_123 1    2.602902  0.125741  2.302585\n",
       "        5        run_123 1    2.269390  0.329136  1.609438"
      ]
     },
     "execution_count": 10,
     "metadata": {},
     "output_type": "execute_result"
    }
   ],
   "source": [
    "df.head()"
   ]
  },
  {
   "cell_type": "code",
   "execution_count": 15,
   "metadata": {},
   "outputs": [],
   "source": [
    "import pingouin\n",
    "\n",
    "r = df.groupby(['subject','data']).apply(lambda d: pingouin.corr(d['E'], d['log(n1)']))\n",
    "r = r.reset_index(2,drop=True) # get rid of None-index with pearson entry\n"
   ]
  },
  {
   "cell_type": "code",
   "execution_count": 16,
   "metadata": {},
   "outputs": [
    {
     "data": {
      "text/html": [
       "<div>\n",
       "<style scoped>\n",
       "    .dataframe tbody tr th:only-of-type {\n",
       "        vertical-align: middle;\n",
       "    }\n",
       "\n",
       "    .dataframe tbody tr th {\n",
       "        vertical-align: top;\n",
       "    }\n",
       "\n",
       "    .dataframe thead th {\n",
       "        text-align: right;\n",
       "    }\n",
       "</style>\n",
       "<table border=\"1\" class=\"dataframe\">\n",
       "  <thead>\n",
       "    <tr style=\"text-align: right;\">\n",
       "      <th></th>\n",
       "      <th></th>\n",
       "      <th>n</th>\n",
       "      <th>r</th>\n",
       "      <th>CI95%</th>\n",
       "      <th>p-val</th>\n",
       "      <th>BF10</th>\n",
       "      <th>power</th>\n",
       "    </tr>\n",
       "    <tr>\n",
       "      <th>subject</th>\n",
       "      <th>data</th>\n",
       "      <th></th>\n",
       "      <th></th>\n",
       "      <th></th>\n",
       "      <th></th>\n",
       "      <th></th>\n",
       "      <th></th>\n",
       "    </tr>\n",
       "  </thead>\n",
       "  <tbody>\n",
       "    <tr>\n",
       "      <th rowspan=\"2\" valign=\"top\">1</th>\n",
       "      <th>run_123</th>\n",
       "      <td>90</td>\n",
       "      <td>-0.098708</td>\n",
       "      <td>[-0.3, 0.11]</td>\n",
       "      <td>0.354654</td>\n",
       "      <td>0.201</td>\n",
       "      <td>0.152817</td>\n",
       "    </tr>\n",
       "    <tr>\n",
       "      <th>run_456</th>\n",
       "      <td>90</td>\n",
       "      <td>-0.173934</td>\n",
       "      <td>[-0.37, 0.03]</td>\n",
       "      <td>0.101100</td>\n",
       "      <td>0.494</td>\n",
       "      <td>0.377162</td>\n",
       "    </tr>\n",
       "    <tr>\n",
       "      <th rowspan=\"3\" valign=\"top\">2</th>\n",
       "      <th>full</th>\n",
       "      <td>180</td>\n",
       "      <td>0.207033</td>\n",
       "      <td>[0.06, 0.34]</td>\n",
       "      <td>0.005294</td>\n",
       "      <td>4.411</td>\n",
       "      <td>0.800041</td>\n",
       "    </tr>\n",
       "    <tr>\n",
       "      <th>run_123</th>\n",
       "      <td>90</td>\n",
       "      <td>0.096463</td>\n",
       "      <td>[-0.11, 0.3]</td>\n",
       "      <td>0.365759</td>\n",
       "      <td>0.197</td>\n",
       "      <td>0.148029</td>\n",
       "    </tr>\n",
       "    <tr>\n",
       "      <th>run_456</th>\n",
       "      <td>90</td>\n",
       "      <td>0.111854</td>\n",
       "      <td>[-0.1, 0.31]</td>\n",
       "      <td>0.293898</td>\n",
       "      <td>0.227</td>\n",
       "      <td>0.183244</td>\n",
       "    </tr>\n",
       "    <tr>\n",
       "      <th>...</th>\n",
       "      <th>...</th>\n",
       "      <td>...</td>\n",
       "      <td>...</td>\n",
       "      <td>...</td>\n",
       "      <td>...</td>\n",
       "      <td>...</td>\n",
       "      <td>...</td>\n",
       "    </tr>\n",
       "    <tr>\n",
       "      <th rowspan=\"2\" valign=\"top\">41</th>\n",
       "      <th>run_123</th>\n",
       "      <td>90</td>\n",
       "      <td>-0.016253</td>\n",
       "      <td>[-0.22, 0.19]</td>\n",
       "      <td>0.879154</td>\n",
       "      <td>0.133</td>\n",
       "      <td>0.052485</td>\n",
       "    </tr>\n",
       "    <tr>\n",
       "      <th>run_456</th>\n",
       "      <td>90</td>\n",
       "      <td>0.022403</td>\n",
       "      <td>[-0.19, 0.23]</td>\n",
       "      <td>0.833987</td>\n",
       "      <td>0.135</td>\n",
       "      <td>0.054888</td>\n",
       "    </tr>\n",
       "    <tr>\n",
       "      <th rowspan=\"3\" valign=\"top\">42</th>\n",
       "      <th>full</th>\n",
       "      <td>180</td>\n",
       "      <td>0.102523</td>\n",
       "      <td>[-0.04, 0.25]</td>\n",
       "      <td>0.170835</td>\n",
       "      <td>0.236</td>\n",
       "      <td>0.278655</td>\n",
       "    </tr>\n",
       "    <tr>\n",
       "      <th>run_123</th>\n",
       "      <td>90</td>\n",
       "      <td>0.228757</td>\n",
       "      <td>[0.02, 0.42]</td>\n",
       "      <td>0.030106</td>\n",
       "      <td>1.332</td>\n",
       "      <td>0.588111</td>\n",
       "    </tr>\n",
       "    <tr>\n",
       "      <th>run_456</th>\n",
       "      <td>90</td>\n",
       "      <td>-0.090796</td>\n",
       "      <td>[-0.29, 0.12]</td>\n",
       "      <td>0.394723</td>\n",
       "      <td>0.188</td>\n",
       "      <td>0.136475</td>\n",
       "    </tr>\n",
       "  </tbody>\n",
       "</table>\n",
       "<p>113 rows × 6 columns</p>\n",
       "</div>"
      ],
      "text/plain": [
       "                   n         r          CI95%     p-val   BF10     power\n",
       "subject data                                                            \n",
       "1       run_123   90 -0.098708   [-0.3, 0.11]  0.354654  0.201  0.152817\n",
       "        run_456   90 -0.173934  [-0.37, 0.03]  0.101100  0.494  0.377162\n",
       "2       full     180  0.207033   [0.06, 0.34]  0.005294  4.411  0.800041\n",
       "        run_123   90  0.096463   [-0.11, 0.3]  0.365759  0.197  0.148029\n",
       "        run_456   90  0.111854   [-0.1, 0.31]  0.293898  0.227  0.183244\n",
       "...              ...       ...            ...       ...    ...       ...\n",
       "41      run_123   90 -0.016253  [-0.22, 0.19]  0.879154  0.133  0.052485\n",
       "        run_456   90  0.022403  [-0.19, 0.23]  0.833987  0.135  0.054888\n",
       "42      full     180  0.102523  [-0.04, 0.25]  0.170835  0.236  0.278655\n",
       "        run_123   90  0.228757   [0.02, 0.42]  0.030106  1.332  0.588111\n",
       "        run_456   90 -0.090796  [-0.29, 0.12]  0.394723  0.188  0.136475\n",
       "\n",
       "[113 rows x 6 columns]"
      ]
     },
     "execution_count": 16,
     "metadata": {},
     "output_type": "execute_result"
    }
   ],
   "source": [
    "r"
   ]
  },
  {
   "cell_type": "code",
   "execution_count": 18,
   "metadata": {},
   "outputs": [
    {
     "data": {
      "text/plain": [
       "<seaborn.axisgrid.FacetGrid at 0x1740241f0>"
      ]
     },
     "execution_count": 18,
     "metadata": {},
     "output_type": "execute_result"
    },
    {
     "data": {
      "image/png": "[encoded data removed]",
      "text/plain": [
       "<Figure size 360x360 with 1 Axes>"
      ]
     },
     "metadata": {
      "needs_background": "light"
     },
     "output_type": "display_data"
    }
   ],
   "source": [
    "import seaborn as sns\n",
    "sns.set_context('talk')\n",
    "sns.catplot(data=r.reset_index(), y='r',x='data',kind='bar')#,errorbar = 'se'"
   ]
  },
  {
   "cell_type": "code",
   "execution_count": null,
   "metadata": {},
   "outputs": [],
   "source": []
  }
 ],
 "metadata": {
  "kernelspec": {
   "display_name": "numrefields",
   "language": "python",
   "name": "python3"
  },
  "language_info": {
   "codemirror_mode": {
    "name": "ipython",
    "version": 3
   },
   "file_extension": ".py",
   "mimetype": "text/x-python",
   "name": "python",
   "nbconvert_exporter": "python",
   "pygments_lexer": "ipython3",
   "version": "3.10.5"
  },
  "orig_nbformat": 4
 },
 "nbformat": 4,
 "nbformat_minor": 2
}
