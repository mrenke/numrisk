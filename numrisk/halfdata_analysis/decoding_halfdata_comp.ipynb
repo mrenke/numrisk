{
 "cells": [
  {
   "cell_type": "code",
   "execution_count": 4,
   "metadata": {},
   "outputs": [],
   "source": [
    "import pandas as pd\n",
    "import os.path as op\n",
    "import numpy as np\n",
    "from os import listdir\n",
    "import pingouin\n",
    "import matplotlib.pyplot as plt\n",
    "import seaborn as sns\n",
    "\n",
    "bids_folder = '/Volumes/mrenkeED/data/ds-dnumrisk'\n",
    "subs= [int(f[4:]) for f in listdir(bids_folder) if f[0:3] == 'sub']\n",
    "\n",
    "pati_save = '/Users/mrenke/data/ds-dnumrisk/interim_sum_data'\n",
    "\n",
    "group_mapping = pd.read_csv('/Users/mrenke/data/ds-dnumrisk/interim_sum_data/group_assignment_sub1-42.csv').set_index('subject')\n"
   ]
  },
  {
   "cell_type": "code",
   "execution_count": 79,
   "metadata": {},
   "outputs": [
    {
     "name": "stderr",
     "output_type": "stream",
     "text": [
      "/var/folders/3k/8g0xv78x051fznwyh_m5xcn8f91w3q/T/ipykernel_72025/4025717983.py:6: FutureWarning: In a future version of pandas all arguments of DataFrame.sort_index will be keyword-only.\n",
      "  behavior = pd.concat(behavior).sort_index(0)\n"
     ]
    }
   ],
   "source": [
    "from numrisk.utils.data import Subject\n",
    "runs = range(1, 7)\n",
    "\n",
    "subjects = [Subject(sub, bids_folder) for sub in subs]\n",
    "behavior = [s.get_behavior_magjudge(runs = runs) for s in subjects]\n",
    "behavior = pd.concat(behavior).sort_index(0)\n"
   ]
  },
  {
   "cell_type": "code",
   "execution_count": 80,
   "metadata": {},
   "outputs": [
    {
     "name": "stdout",
     "output_type": "stream",
     "text": [
      "/Volumes/mrenkeED/data/ds-dnumrisk/derivatives/decoded_pdfs.volume.cv_vselect_run_123.denoise/sub-10/func/sub-10_ses-1_mask-NPC_R_space-T1w_pars.tsv\n",
      "/Volumes/mrenkeED/data/ds-dnumrisk/derivatives/decoded_pdfs.volume.cv_vselect_run_123.denoise/sub-03/func/sub-03_ses-1_mask-NPC_R_space-T1w_pars.tsv\n",
      "/Volumes/mrenkeED/data/ds-dnumrisk/derivatives/decoded_pdfs.volume.cv_vselect_run_123.denoise/sub-04/func/sub-04_ses-1_mask-NPC_R_space-T1w_pars.tsv\n",
      "/Volumes/mrenkeED/data/ds-dnumrisk/derivatives/decoded_pdfs.volume.cv_vselect_run_123.denoise/sub-38/func/sub-38_ses-1_mask-NPC_R_space-T1w_pars.tsv\n"
     ]
    }
   ],
   "source": [
    "from utils import get_decoding_info\n",
    "\n",
    "split_data = 'run_123' # 'full'\n",
    "pred = [get_decoding_info(sub,bids_folder=bids_folder,split_data=split_data) for sub in subs]\n",
    "pred = pd.concat(pred)"
   ]
  },
  {
   "cell_type": "code",
   "execution_count": 81,
   "metadata": {},
   "outputs": [
    {
     "name": "stderr",
     "output_type": "stream",
     "text": [
      "  6%|▌         | 7/126 [00:00<00:02, 55.67it/s]"
     ]
    },
    {
     "name": "stdout",
     "output_type": "stream",
     "text": [
      "/Volumes/mrenkeED/data/ds-dnumrisk/derivatives/decoded_pdfs.volume.cv_vselect.denoise/sub-10/func/sub-10_ses-1_mask-NPC_R_space-T1w_pars.tsv\n",
      "/Volumes/mrenkeED/data/ds-dnumrisk/derivatives/decoded_pdfs.volume.cv_vselect_run_123.denoise/sub-10/func/sub-10_ses-1_mask-NPC_R_space-T1w_pars.tsv\n",
      "/Volumes/mrenkeED/data/ds-dnumrisk/derivatives/decoded_pdfs.volume.cv_vselect_run_456.denoise/sub-10/func/sub-10_ses-1_mask-NPC_R_space-T1w_pars.tsv\n"
     ]
    },
    {
     "name": "stderr",
     "output_type": "stream",
     "text": [
      " 25%|██▌       | 32/126 [00:00<00:01, 55.78it/s]"
     ]
    },
    {
     "name": "stdout",
     "output_type": "stream",
     "text": [
      "/Volumes/mrenkeED/data/ds-dnumrisk/derivatives/decoded_pdfs.volume.cv_vselect.denoise/sub-03/func/sub-03_ses-1_mask-NPC_R_space-T1w_pars.tsv\n",
      "/Volumes/mrenkeED/data/ds-dnumrisk/derivatives/decoded_pdfs.volume.cv_vselect_run_123.denoise/sub-03/func/sub-03_ses-1_mask-NPC_R_space-T1w_pars.tsv\n",
      "/Volumes/mrenkeED/data/ds-dnumrisk/derivatives/decoded_pdfs.volume.cv_vselect_run_456.denoise/sub-03/func/sub-03_ses-1_mask-NPC_R_space-T1w_pars.tsv\n",
      "/Volumes/mrenkeED/data/ds-dnumrisk/derivatives/decoded_pdfs.volume.cv_vselect.denoise/sub-04/func/sub-04_ses-1_mask-NPC_R_space-T1w_pars.tsv\n",
      "/Volumes/mrenkeED/data/ds-dnumrisk/derivatives/decoded_pdfs.volume.cv_vselect_run_123.denoise/sub-04/func/sub-04_ses-1_mask-NPC_R_space-T1w_pars.tsv\n",
      "/Volumes/mrenkeED/data/ds-dnumrisk/derivatives/decoded_pdfs.volume.cv_vselect_run_456.denoise/sub-04/func/sub-04_ses-1_mask-NPC_R_space-T1w_pars.tsv\n"
     ]
    },
    {
     "name": "stderr",
     "output_type": "stream",
     "text": [
      " 94%|█████████▎| 118/126 [00:02<00:00, 43.12it/s]"
     ]
    },
    {
     "name": "stdout",
     "output_type": "stream",
     "text": [
      "/Volumes/mrenkeED/data/ds-dnumrisk/derivatives/decoded_pdfs.volume.cv_vselect.denoise/sub-38/func/sub-38_ses-1_mask-NPC_R_space-T1w_pars.tsv\n",
      "/Volumes/mrenkeED/data/ds-dnumrisk/derivatives/decoded_pdfs.volume.cv_vselect_run_123.denoise/sub-38/func/sub-38_ses-1_mask-NPC_R_space-T1w_pars.tsv\n",
      "/Volumes/mrenkeED/data/ds-dnumrisk/derivatives/decoded_pdfs.volume.cv_vselect_run_456.denoise/sub-38/func/sub-38_ses-1_mask-NPC_R_space-T1w_pars.tsv\n"
     ]
    },
    {
     "name": "stderr",
     "output_type": "stream",
     "text": [
      "100%|██████████| 126/126 [00:03<00:00, 40.04it/s]\n"
     ]
    }
   ],
   "source": [
    "from tqdm.contrib.itertools import product\n",
    "from utils import get_decoding_info\n",
    "\n",
    "data_variants = ['full', 'run_123', 'run_456']\n",
    "\n",
    "pred = []\n",
    "for (sub, split_data) in product(subs, data_variants):\n",
    "    pred.append(get_decoding_info(sub, bids_folder=bids_folder, split_data=split_data))\n",
    "                \n",
    "pred = pd.concat(pred)"
   ]
  },
  {
   "cell_type": "code",
   "execution_count": 82,
   "metadata": {},
   "outputs": [],
   "source": [
    "import pingouin\n",
    "df = pred.join(behavior['log(n1)'], how='inner')\n",
    "\n",
    "r = df.groupby(['subject','data']).apply(lambda d: pingouin.corr(d['E'], d['log(n1)']))\n",
    "r = r.reset_index(2,drop=True) # get rid of None-index with pearson entry\n"
   ]
  },
  {
   "cell_type": "code",
   "execution_count": 18,
   "metadata": {},
   "outputs": [
    {
     "data": {
      "text/plain": [
       "<seaborn.axisgrid.FacetGrid at 0x1740241f0>"
      ]
     },
     "execution_count": 18,
     "metadata": {},
     "output_type": "execute_result"
    },
    {
     "data": {
      "image/png": "[encoded data removed]",
      "text/plain": [
       "<Figure size 360x360 with 1 Axes>"
      ]
     },
     "metadata": {
      "needs_background": "light"
     },
     "output_type": "display_data"
    }
   ],
   "source": [
    "import seaborn as sns\n",
    "sns.set_context('talk')\n",
    "sns.catplot(data=r.reset_index(), y='r',x='data',kind='bar')#,errorbar = 'se'"
   ]
  },
  {
   "cell_type": "code",
   "execution_count": 83,
   "metadata": {},
   "outputs": [],
   "source": [
    "\n",
    "temp = r['r']\n",
    "temp = temp.unstack('data')\n",
    "#temp.stack().to_frame('r').to_csv(op.join(pati_save, 'rs_sub1-42_data-variants.csv')) # save !"
   ]
  },
  {
   "cell_type": "code",
   "execution_count": 75,
   "metadata": {},
   "outputs": [],
   "source": [
    "temp = pd.read_csv(op.join(pati_save, 'rs_sub1-42_data-variants.csv')).set_index(['subject','data']).unstack('data')\n"
   ]
  },
  {
   "cell_type": "code",
   "execution_count": 86,
   "metadata": {},
   "outputs": [
    {
     "data": {
      "text/html": [
       "<div>\n",
       "<style scoped>\n",
       "    .dataframe tbody tr th:only-of-type {\n",
       "        vertical-align: middle;\n",
       "    }\n",
       "\n",
       "    .dataframe tbody tr th {\n",
       "        vertical-align: top;\n",
       "    }\n",
       "\n",
       "    .dataframe thead th {\n",
       "        text-align: right;\n",
       "    }\n",
       "</style>\n",
       "<table border=\"1\" class=\"dataframe\">\n",
       "  <thead>\n",
       "    <tr style=\"text-align: right;\">\n",
       "      <th>data</th>\n",
       "      <th>full</th>\n",
       "      <th>run_123</th>\n",
       "      <th>run_456</th>\n",
       "    </tr>\n",
       "    <tr>\n",
       "      <th>subject</th>\n",
       "      <th></th>\n",
       "      <th></th>\n",
       "      <th></th>\n",
       "    </tr>\n",
       "  </thead>\n",
       "  <tbody>\n",
       "    <tr>\n",
       "      <th>1</th>\n",
       "      <td>-0.058083</td>\n",
       "      <td>-0.098708</td>\n",
       "      <td>-0.173934</td>\n",
       "    </tr>\n",
       "    <tr>\n",
       "      <th>2</th>\n",
       "      <td>0.207033</td>\n",
       "      <td>0.096463</td>\n",
       "      <td>0.111854</td>\n",
       "    </tr>\n",
       "    <tr>\n",
       "      <th>5</th>\n",
       "      <td>-0.023740</td>\n",
       "      <td>-0.004588</td>\n",
       "      <td>-0.068201</td>\n",
       "    </tr>\n",
       "    <tr>\n",
       "      <th>6</th>\n",
       "      <td>0.062036</td>\n",
       "      <td>0.046835</td>\n",
       "      <td>0.088642</td>\n",
       "    </tr>\n",
       "    <tr>\n",
       "      <th>7</th>\n",
       "      <td>0.087489</td>\n",
       "      <td>-0.051561</td>\n",
       "      <td>0.001348</td>\n",
       "    </tr>\n",
       "  </tbody>\n",
       "</table>\n",
       "</div>"
      ],
      "text/plain": [
       "data         full   run_123   run_456\n",
       "subject                              \n",
       "1       -0.058083 -0.098708 -0.173934\n",
       "2        0.207033  0.096463  0.111854\n",
       "5       -0.023740 -0.004588 -0.068201\n",
       "6        0.062036  0.046835  0.088642\n",
       "7        0.087489 -0.051561  0.001348"
      ]
     },
     "execution_count": 86,
     "metadata": {},
     "output_type": "execute_result"
    }
   ],
   "source": [
    "r['r'].unstack('data').head()"
   ]
  },
  {
   "cell_type": "code",
   "execution_count": 88,
   "metadata": {},
   "outputs": [
    {
     "data": {
      "text/plain": [
       "Text(0.5, 1.0, ' r=0.22, p= 0.1831')"
      ]
     },
     "execution_count": 88,
     "metadata": {},
     "output_type": "execute_result"
    },
    {
     "data": {
      "image/png": "[encoded data removed]",
      "text/plain": [
       "<Figure size 360x360 with 1 Axes>"
      ]
     },
     "metadata": {
      "needs_background": "light"
     },
     "output_type": "display_data"
    }
   ],
   "source": [
    "var1 = 'run_456'#'full' #'run_456' # \n",
    "var2 = 'run_123'\n",
    "cor = pingouin.corr(temp[var1],temp[var2])\n",
    "r_ = np.round(cor['r'][0], 2)\n",
    "p = np.round(cor['p-val'][0], 5)\n",
    "\n",
    "sns.lmplot(data=temp, x=var1,y=var2)\n",
    "plt.title(f' r={r_}, p= {p}') "
   ]
  },
  {
   "cell_type": "code",
   "execution_count": 35,
   "metadata": {},
   "outputs": [
    {
     "data": {
      "text/plain": [
       "56.0"
      ]
     },
     "execution_count": 35,
     "metadata": {},
     "output_type": "execute_result"
    }
   ],
   "source": [
    "behavior['n2'].max()"
   ]
  },
  {
   "cell_type": "code",
   "execution_count": 6,
   "metadata": {},
   "outputs": [
    {
     "data": {
      "text/plain": [
       "<seaborn.axisgrid.FacetGrid at 0x28a5bfe50>"
      ]
     },
     "execution_count": 6,
     "metadata": {},
     "output_type": "execute_result"
    },
    {
     "data": {
      "image/png": "[encoded data removed]",
      "text/plain": [
       "<Figure size 360x360 with 1 Axes>"
      ]
     },
     "metadata": {
      "needs_background": "light"
     },
     "output_type": "display_data"
    }
   ],
   "source": [
    "# group difference ?\n",
    "palette = sns.color_palette()[4:]\n",
    "sns.set_context('talk')\n",
    "\n",
    "temp = pd.read_csv(op.join(pati_save, 'rs_sub1-42_data-variants.csv')).set_index(['subject','data'])\n",
    "temp = temp.xs('full',0,'data')\n",
    "temp =temp.join(group_mapping)\n",
    "temp['group']= np.where(temp['group'] == 0, 'control', 'dyscalc')\n",
    "\n",
    "sns.catplot(data=temp.reset_index(), y='r',x='group',kind='bar', palette = palette)#,errorbar = 'se'\n"
   ]
  },
  {
   "cell_type": "markdown",
   "metadata": {},
   "source": [
    "## test-retest reliablity"
   ]
  },
  {
   "cell_type": "code",
   "execution_count": 101,
   "metadata": {},
   "outputs": [
    {
     "data": {
      "text/plain": [
       "(0.3614135913539054, array([-0.229,  0.668]))"
      ]
     },
     "execution_count": 101,
     "metadata": {},
     "output_type": "execute_result"
    }
   ],
   "source": [
    "import pingouin\n",
    "\n",
    "\n",
    "pingouin.cronbach_alpha(data=temp.drop('full',axis=1))"
   ]
  },
  {
   "cell_type": "code",
   "execution_count": 93,
   "metadata": {},
   "outputs": [
    {
     "data": {
      "text/html": [
       "<div>\n",
       "<style scoped>\n",
       "    .dataframe tbody tr th:only-of-type {\n",
       "        vertical-align: middle;\n",
       "    }\n",
       "\n",
       "    .dataframe tbody tr th {\n",
       "        vertical-align: top;\n",
       "    }\n",
       "\n",
       "    .dataframe thead th {\n",
       "        text-align: right;\n",
       "    }\n",
       "</style>\n",
       "<table border=\"1\" class=\"dataframe\">\n",
       "  <thead>\n",
       "    <tr style=\"text-align: right;\">\n",
       "      <th>data</th>\n",
       "      <th>run_123</th>\n",
       "      <th>run_456</th>\n",
       "    </tr>\n",
       "    <tr>\n",
       "      <th>subject</th>\n",
       "      <th></th>\n",
       "      <th></th>\n",
       "    </tr>\n",
       "  </thead>\n",
       "  <tbody>\n",
       "    <tr>\n",
       "      <th>1</th>\n",
       "      <td>-0.098708</td>\n",
       "      <td>-0.173934</td>\n",
       "    </tr>\n",
       "    <tr>\n",
       "      <th>2</th>\n",
       "      <td>0.096463</td>\n",
       "      <td>0.111854</td>\n",
       "    </tr>\n",
       "    <tr>\n",
       "      <th>5</th>\n",
       "      <td>-0.004588</td>\n",
       "      <td>-0.068201</td>\n",
       "    </tr>\n",
       "    <tr>\n",
       "      <th>6</th>\n",
       "      <td>0.046835</td>\n",
       "      <td>0.088642</td>\n",
       "    </tr>\n",
       "    <tr>\n",
       "      <th>7</th>\n",
       "      <td>-0.051561</td>\n",
       "      <td>0.001348</td>\n",
       "    </tr>\n",
       "  </tbody>\n",
       "</table>\n",
       "</div>"
      ],
      "text/plain": [
       "data      run_123   run_456\n",
       "subject                    \n",
       "1       -0.098708 -0.173934\n",
       "2        0.096463  0.111854\n",
       "5       -0.004588 -0.068201\n",
       "6        0.046835  0.088642\n",
       "7       -0.051561  0.001348"
      ]
     },
     "execution_count": 93,
     "metadata": {},
     "output_type": "execute_result"
    }
   ],
   "source": [
    "temp.drop('full',axis=1).head()"
   ]
  },
  {
   "cell_type": "code",
   "execution_count": null,
   "metadata": {},
   "outputs": [],
   "source": []
  }
 ],
 "metadata": {
  "kernelspec": {
   "display_name": "numrefields",
   "language": "python",
   "name": "python3"
  },
  "language_info": {
   "codemirror_mode": {
    "name": "ipython",
    "version": 3
   },
   "file_extension": ".py",
   "mimetype": "text/x-python",
   "name": "python",
   "nbconvert_exporter": "python",
   "pygments_lexer": "ipython3",
   "version": "3.10.5"
  },
  "orig_nbformat": 4
 },
 "nbformat": 4,
 "nbformat_minor": 2
}
