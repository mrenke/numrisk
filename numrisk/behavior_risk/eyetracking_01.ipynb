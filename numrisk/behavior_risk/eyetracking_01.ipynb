{
 "cells": [
  {
   "cell_type": "markdown",
   "metadata": {},
   "source": [
    "### Start lokign at eye-tracking data from risk task\n",
    "\n",
    "1st: clean up data, put into right format!"
   ]
  },
  {
   "cell_type": "markdown",
   "metadata": {},
   "source": [
    "This is a library that Tomas and Jan-Willem and I built to analyze data from the Eyelink.\n",
    "https://github.com/Gilles86/hedfpy\n",
    "\n",
    "These are some analyses on Miguel's data using that stuff.\n",
    "https://github.com/Gilles86/riskeye\n",
    "\n",
    "Careful, you need the edf2asc-binary (computer program). I think for that you need officially need a Eyelink account.\n",
    "\n",
    "And look for the 'EyeLink Developer’s Kit'\n",
    "\n",
    "But you can also find a binary in the root directory of this repo\n",
    "https://github.com/Gilles86/riskeye\n",
    "\n",
    "I think it's for Linux/Ubuntu, so you can run it on Sciencecloud or Docker."
   ]
  },
  {
   "cell_type": "code",
   "execution_count": null,
   "metadata": {},
   "outputs": [],
   "source": []
  }
 ],
 "metadata": {
  "kernelspec": {
   "display_name": "behav_fit",
   "language": "python",
   "name": "python3"
  },
  "language_info": {
   "codemirror_mode": {
    "name": "ipython",
    "version": 3
   },
   "file_extension": ".py",
   "mimetype": "text/x-python",
   "name": "python",
   "nbconvert_exporter": "python",
   "pygments_lexer": "ipython3",
   "version": "3.10.6"
  }
 },
 "nbformat": 4,
 "nbformat_minor": 2
}
