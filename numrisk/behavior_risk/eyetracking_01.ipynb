{
 "cells": [
  {
   "cell_type": "markdown",
   "metadata": {},
   "source": [
    "### Start lokign at eye-tracking data from risk task\n",
    "\n",
    "1st: clean up data, put into right format!"
   ]
  },
  {
   "cell_type": "markdown",
   "metadata": {},
   "source": [
    "This is a library that Tomas and Jan-Willem and I built to analyze data from the Eyelink.\n",
    "https://github.com/Gilles86/hedfpy\n",
    "\n",
    "These are some analyses on Miguel's data using that stuff.\n",
    "https://github.com/Gilles86/riskeye\n",
    "\n",
    "Careful, you need the edf2asc-binary (computer program). I think for that you need officially need a Eyelink account.\n",
    "\n",
    "And look for the 'EyeLink Developer’s Kit'\n",
    "\n",
    "But you can also find a binary in the root directory of this repo\n",
    "https://github.com/Gilles86/riskeye\n",
    "\n",
    "I think it's for Linux/Ubuntu, so you can run it on Sciencecloud or Docker."
   ]
  },
  {
   "cell_type": "markdown",
   "metadata": {},
   "source": [
    "### file conversion\n",
    "\n",
    "on sciencecloud `~/git/riskeye/edf2asc`\n",
    "created `/mnt_03/ds-dnumrisk/09_14_11.asc`"
   ]
  },
  {
   "cell_type": "markdown",
   "metadata": {},
   "source": [
    "## renaming to organize"
   ]
  },
  {
   "cell_type": "code",
   "execution_count": 124,
   "metadata": {},
   "outputs": [],
   "source": [
    "# renaming & reorganizing files\n",
    "\n",
    "import os\n",
    "import pandas as pd\n",
    "import os.path as op\n",
    "from datetime import datetime\n",
    "\n",
    "bids_folder = '/Users/mrenke/data/ds-dnumrisk'\n",
    "pati_eye = op.join(bids_folder, 'sourcedata/eyetracking_risk')\n",
    "pati_eye_new = op.join(bids_folder, 'sourcedata/eyetracking_risk_renames')\n",
    "#os.makedirs(pati_eye_new, exist_ok=True)\n",
    "\n",
    "fns = os.listdir(pati_eye)"
   ]
  },
  {
   "cell_type": "code",
   "execution_count": 125,
   "metadata": {},
   "outputs": [],
   "source": [
    "scan_table = op.join(bids_folder, 'add_tables/subjects_recruit&scan_scanned_final.csv')\n",
    "df = pd.read_csv(scan_table, header=1, usecols=[0,1,2,3,4],nrows=66)#.dropna() #,#sheet_name='scanned', header=1)  \n",
    "df['date'] = pd.to_datetime(df['date'],dayfirst=True)\n",
    "df['subject ID'] = df['subject ID'].astype(int)\n",
    "#df.set_index('subject ID', inplace=True)\n",
    "#df\n"
   ]
  },
  {
   "cell_type": "code",
   "execution_count": 116,
   "metadata": {},
   "outputs": [
    {
     "name": "stdout",
     "output_type": "stream",
     "text": [
      "/Users/mrenke/data/ds-dnumrisk/sourcedata/eyetracking_risk/13_58_41.edf created 06-02-2023\n"
     ]
    }
   ],
   "source": [
    "file_path = os.path.join(pati_eye,'13_58_41.edf' ) #fns[3]\n",
    "mod_time = os.path.getmtime(file_path)\n",
    "\n",
    "mod_time = datetime.fromtimestamp(mod_time)## _%H-%M-%S\n",
    "print(file_path + ' created ' + mod_time.strftime('%d-%m-%Y') )"
   ]
  },
  {
   "cell_type": "code",
   "execution_count": 117,
   "metadata": {},
   "outputs": [],
   "source": [
    "file_year = mod_time.year\n",
    "file_month = mod_time.month\n",
    "file_day = mod_time.day\n",
    "\n",
    "matching_row = df[df['date'].apply(lambda x: (x.year == file_year) and (x.month == file_month) and (x.day == file_day))]\n"
   ]
  },
  {
   "cell_type": "code",
   "execution_count": 126,
   "metadata": {},
   "outputs": [
    {
     "name": "stdout",
     "output_type": "stream",
     "text": [
      "Renamed /Users/mrenke/data/ds-dnumrisk/sourcedata/eyetracking_risk/13_05_31.edf to sub-51_16-1-2024.edf\n",
      "Renamed /Users/mrenke/data/ds-dnumrisk/sourcedata/eyetracking_risk/10_54_48.edf to sub-12_12-4-2023.edf\n",
      "Renamed /Users/mrenke/data/ds-dnumrisk/sourcedata/eyetracking_risk/13_58_41.edf to sub-1_6-2-2023.edf\n",
      "Renamed /Users/mrenke/data/ds-dnumrisk/sourcedata/eyetracking_risk/16_15_12.edf to sub-1_6-2-2023.edf\n",
      "Renamed /Users/mrenke/data/ds-dnumrisk/sourcedata/eyetracking_risk/16_23_07.edf to sub-11_15-3-2023.edf\n",
      "Renamed /Users/mrenke/data/ds-dnumrisk/sourcedata/eyetracking_risk/17_12_44.edf to sub-52_16-2-2024.edf\n",
      "Renamed /Users/mrenke/data/ds-dnumrisk/sourcedata/eyetracking_risk/14_29_27.edf to sub-24_13-6-2023.edf\n",
      "Renamed /Users/mrenke/data/ds-dnumrisk/sourcedata/eyetracking_risk/10_43_53.edf to sub-59_8-4-2024.edf\n",
      "Renamed /Users/mrenke/data/ds-dnumrisk/sourcedata/eyetracking_risk/09_38_25.edf to sub-6_28-2-2023.edf\n",
      "Renamed /Users/mrenke/data/ds-dnumrisk/sourcedata/eyetracking_risk/13_07_23.edf to sub-9_11-3-2023.edf\n",
      "Renamed /Users/mrenke/data/ds-dnumrisk/sourcedata/eyetracking_risk/10_00_36.edf to sub-63_15-4-2024.edf\n",
      "Renamed /Users/mrenke/data/ds-dnumrisk/sourcedata/eyetracking_risk/16_38_08.edf to sub-44_20-11-2023.edf\n",
      "Renamed /Users/mrenke/data/ds-dnumrisk/sourcedata/eyetracking_risk/15_55_39.edf to sub-16_20-4-2023.edf\n",
      "Renamed /Users/mrenke/data/ds-dnumrisk/sourcedata/eyetracking_risk/eye004.log to sub-64_18-4-2024.edf\n",
      "Renamed /Users/mrenke/data/ds-dnumrisk/sourcedata/eyetracking_risk/12_52_50.edf to sub-51_16-1-2024.edf\n",
      "Renamed /Users/mrenke/data/ds-dnumrisk/sourcedata/eyetracking_risk/15_56_50.edf to sub-32_21-6-2023.edf\n",
      "Renamed /Users/mrenke/data/ds-dnumrisk/sourcedata/eyetracking_risk/15_59_01.edf to sub-10_13-3-2023.edf\n",
      "Renamed /Users/mrenke/data/ds-dnumrisk/sourcedata/eyetracking_risk/11_12_50.edf to sub-25_15-6-2023.edf\n",
      "Renamed /Users/mrenke/data/ds-dnumrisk/sourcedata/eyetracking_risk/16_18_54.edf to sub-44_20-11-2023.edf\n",
      "Renamed /Users/mrenke/data/ds-dnumrisk/sourcedata/eyetracking_risk/11_00_45.edf to sub-37_19-7-2023.edf\n",
      "Renamed /Users/mrenke/data/ds-dnumrisk/sourcedata/eyetracking_risk/eye005.log to sub-63_15-4-2024.edf\n",
      "Renamed /Users/mrenke/data/ds-dnumrisk/sourcedata/eyetracking_risk/eye011.log to sub-56_27-3-2024.edf\n",
      "Renamed /Users/mrenke/data/ds-dnumrisk/sourcedata/eyetracking_risk/15_48_45.edf to sub-8_6-3-2023.edf\n",
      "Renamed /Users/mrenke/data/ds-dnumrisk/sourcedata/eyetracking_risk/16_45_31.edf to sub-7_3-3-2023.edf\n",
      "Renamed /Users/mrenke/data/ds-dnumrisk/sourcedata/eyetracking_risk/10_57_20.edf to sub-42_15-8-2023.edf\n",
      "Renamed /Users/mrenke/data/ds-dnumrisk/sourcedata/eyetracking_risk/11_03_16.edf to sub-41_8-8-2023.edf\n",
      "Renamed /Users/mrenke/data/ds-dnumrisk/sourcedata/eyetracking_risk/16_53_57.edf to sub-40_7-8-2023.edf\n",
      "Renamed /Users/mrenke/data/ds-dnumrisk/sourcedata/eyetracking_risk/16_12_36.edf to sub-13_17-4-2023.edf\n",
      "Renamed /Users/mrenke/data/ds-dnumrisk/sourcedata/eyetracking_risk/11_03_17.edf to sub-12_12-4-2023.edf\n",
      "Renamed /Users/mrenke/data/ds-dnumrisk/sourcedata/eyetracking_risk/eye012.log to sub-56_27-3-2024.edf\n",
      "Renamed /Users/mrenke/data/ds-dnumrisk/sourcedata/eyetracking_risk/eye006.log to sub-62_12-4-2024.edf\n",
      "Renamed /Users/mrenke/data/ds-dnumrisk/sourcedata/eyetracking_risk/18_21_30.edf to sub-17_28-4-2023.edf\n",
      "Renamed /Users/mrenke/data/ds-dnumrisk/sourcedata/eyetracking_risk/15_55_58.edf to sub-22_8-5-2023.edf\n",
      "Renamed /Users/mrenke/data/ds-dnumrisk/sourcedata/eyetracking_risk/11_07_28.edf to sub-42_15-8-2023.edf\n",
      "Renamed /Users/mrenke/data/ds-dnumrisk/sourcedata/eyetracking_risk/10_46_17.edf to sub-47_28-11-2023.edf\n",
      "Renamed /Users/mrenke/data/ds-dnumrisk/sourcedata/eyetracking_risk/11_09_38.edf to sub-41_8-8-2023.edf\n",
      "Renamed /Users/mrenke/data/ds-dnumrisk/sourcedata/eyetracking_risk/17_02_36.edf to sub-40_7-8-2023.edf\n",
      "Renamed /Users/mrenke/data/ds-dnumrisk/sourcedata/eyetracking_risk/16_00_52.edf to sub-24_13-6-2023.edf\n",
      "Renamed /Users/mrenke/data/ds-dnumrisk/sourcedata/eyetracking_risk/15_37_32.edf to sub-33_23-6-2023.edf\n",
      "Renamed /Users/mrenke/data/ds-dnumrisk/sourcedata/eyetracking_risk/10_08_18.edf to sub-63_15-4-2024.edf\n",
      "Renamed /Users/mrenke/data/ds-dnumrisk/sourcedata/eyetracking_risk/09_25_02.edf to sub-6_28-2-2023.edf\n",
      "Renamed /Users/mrenke/data/ds-dnumrisk/sourcedata/eyetracking_risk/15_42_56.edf to sub-22_8-5-2023.edf\n",
      "Renamed /Users/mrenke/data/ds-dnumrisk/sourcedata/eyetracking_risk/14_34_00.edf to sub-48_30-11-2023.edf\n",
      "Renamed /Users/mrenke/data/ds-dnumrisk/sourcedata/eyetracking_risk/15_48_27.edf to sub-10_13-3-2023.edf\n",
      "Renamed /Users/mrenke/data/ds-dnumrisk/sourcedata/eyetracking_risk/10_39_14.edf to sub-50_8-12-2023.edf\n",
      "Renamed /Users/mrenke/data/ds-dnumrisk/sourcedata/eyetracking_risk/17_30_54.edf to sub-52_16-2-2024.edf\n",
      "Renamed /Users/mrenke/data/ds-dnumrisk/sourcedata/eyetracking_risk/16_37_02.edf to sub-7_3-3-2023.edf\n",
      "Renamed /Users/mrenke/data/ds-dnumrisk/sourcedata/eyetracking_risk/11_20_42.edf to sub-45_21-11-2023.edf\n",
      "Renamed /Users/mrenke/data/ds-dnumrisk/sourcedata/eyetracking_risk/15_53_02.edf to sub-56_27-3-2024.edf\n",
      "Renamed /Users/mrenke/data/ds-dnumrisk/sourcedata/eyetracking_risk/16_26_52.edf to sub-53_20-2-2024.edf\n",
      "Renamed /Users/mrenke/data/ds-dnumrisk/sourcedata/eyetracking_risk/10_41_33.edf to sub-46_22-11-2023.edf\n",
      "Renamed /Users/mrenke/data/ds-dnumrisk/sourcedata/eyetracking_risk/12_33_34.edf to sub-49_4-12-2023.edf\n",
      "Renamed /Users/mrenke/data/ds-dnumrisk/sourcedata/eyetracking_risk/15_51_04.edf to sub-24_13-6-2023.edf\n",
      "Renamed /Users/mrenke/data/ds-dnumrisk/sourcedata/eyetracking_risk/run12.edf to sub-56_27-3-2024.edf\n",
      "Renamed /Users/mrenke/data/ds-dnumrisk/sourcedata/eyetracking_risk/10_35_27.edf to sub-47_28-11-2023.edf\n",
      "Renamed /Users/mrenke/data/ds-dnumrisk/sourcedata/eyetracking_risk/15_59_51.edf to sub-8_6-3-2023.edf\n",
      "Renamed /Users/mrenke/data/ds-dnumrisk/sourcedata/eyetracking_risk/16_15_50.edf to sub-53_20-2-2024.edf\n",
      "Renamed /Users/mrenke/data/ds-dnumrisk/sourcedata/eyetracking_risk/12_23_15.edf to sub-49_4-12-2023.edf\n",
      "Renamed /Users/mrenke/data/ds-dnumrisk/sourcedata/eyetracking_risk/run13.edf to sub-56_27-3-2024.edf\n",
      "Renamed /Users/mrenke/data/ds-dnumrisk/sourcedata/eyetracking_risk/10_30_02.edf to sub-62_12-4-2024.edf\n",
      "Renamed /Users/mrenke/data/ds-dnumrisk/sourcedata/eyetracking_risk/11_31_21.edf to sub-45_21-11-2023.edf\n",
      "Renamed /Users/mrenke/data/ds-dnumrisk/sourcedata/eyetracking_risk/10_53_00.edf to sub-46_22-11-2023.edf\n",
      "Renamed /Users/mrenke/data/ds-dnumrisk/sourcedata/eyetracking_risk/14_23_04.edf to sub-48_30-11-2023.edf\n",
      "Renamed /Users/mrenke/data/ds-dnumrisk/sourcedata/eyetracking_risk/12_05_07.edf to sub-64_18-4-2024.edf\n",
      "Renamed /Users/mrenke/data/ds-dnumrisk/sourcedata/eyetracking_risk/18_13_11.edf to sub-17_28-4-2023.edf\n",
      "Renamed /Users/mrenke/data/ds-dnumrisk/sourcedata/eyetracking_risk/15_41_26.edf to sub-56_27-3-2024.edf\n",
      "Renamed /Users/mrenke/data/ds-dnumrisk/sourcedata/eyetracking_risk/11_07_27.edf to sub-39_27-7-2023.edf\n",
      "Renamed /Users/mrenke/data/ds-dnumrisk/sourcedata/eyetracking_risk/run14.edf to sub-56_27-3-2024.edf\n",
      "Renamed /Users/mrenke/data/ds-dnumrisk/sourcedata/eyetracking_risk/run15.edf to sub-56_27-3-2024.edf\n",
      "Renamed /Users/mrenke/data/ds-dnumrisk/sourcedata/eyetracking_risk/10_53_38.edf to sub-41_8-8-2023.edf\n",
      "Renamed /Users/mrenke/data/ds-dnumrisk/sourcedata/eyetracking_risk/16_07_56.edf to sub-36_17-7-2023.edf\n",
      "Renamed /Users/mrenke/data/ds-dnumrisk/sourcedata/eyetracking_risk/11_28_12.edf to sub-43_30-9-2023.edf\n",
      "Renamed /Users/mrenke/data/ds-dnumrisk/sourcedata/eyetracking_risk/16_03_18.edf to sub-28_19-6-2023.edf\n",
      "Renamed /Users/mrenke/data/ds-dnumrisk/sourcedata/eyetracking_risk/15_53_35.edf to sub-23_12-6-2023.edf\n",
      "Renamed /Users/mrenke/data/ds-dnumrisk/sourcedata/eyetracking_risk/run17.edf to sub-56_27-3-2024.edf\n",
      "Renamed /Users/mrenke/data/ds-dnumrisk/sourcedata/eyetracking_risk/run16.edf to sub-56_27-3-2024.edf\n",
      "Renamed /Users/mrenke/data/ds-dnumrisk/sourcedata/eyetracking_risk/16_32_05.edf to sub-11_15-3-2023.edf\n",
      "Renamed /Users/mrenke/data/ds-dnumrisk/sourcedata/eyetracking_risk/11_52_30.edf to sub-64_18-4-2024.edf\n",
      "Renamed /Users/mrenke/data/ds-dnumrisk/sourcedata/eyetracking_risk/11_21_35.edf to sub-25_15-6-2023.edf\n",
      "Renamed /Users/mrenke/data/ds-dnumrisk/sourcedata/eyetracking_risk/16_26_17.edf to sub-1_6-2-2023.edf\n",
      "Renamed /Users/mrenke/data/ds-dnumrisk/sourcedata/eyetracking_risk/13_17_10.edf to sub-9_11-3-2023.edf\n",
      "Renamed /Users/mrenke/data/ds-dnumrisk/sourcedata/eyetracking_risk/11_29_37.edf to sub-38_20-7-2023.edf\n",
      "Renamed /Users/mrenke/data/ds-dnumrisk/sourcedata/eyetracking_risk/16_24_07.edf to sub-13_17-4-2023.edf\n",
      "Renamed /Users/mrenke/data/ds-dnumrisk/sourcedata/eyetracking_risk/eye008.log to sub-59_8-4-2024.edf\n",
      "Renamed /Users/mrenke/data/ds-dnumrisk/sourcedata/eyetracking_risk/15_53_44.edf to sub-28_19-6-2023.edf\n",
      "Renamed /Users/mrenke/data/ds-dnumrisk/sourcedata/eyetracking_risk/11_39_24.edf to sub-38_20-7-2023.edf\n",
      "Renamed /Users/mrenke/data/ds-dnumrisk/sourcedata/eyetracking_risk/13_53_42.edf to sub-23_12-6-2023.edf\n",
      "Renamed /Users/mrenke/data/ds-dnumrisk/sourcedata/eyetracking_risk/16_03_50.edf to sub-23_12-6-2023.edf\n",
      "Renamed /Users/mrenke/data/ds-dnumrisk/sourcedata/eyetracking_risk/10_34_16.edf to sub-59_8-4-2024.edf\n",
      "Renamed /Users/mrenke/data/ds-dnumrisk/sourcedata/eyetracking_risk/10_46_47.edf to sub-50_8-12-2023.edf\n",
      "Renamed /Users/mrenke/data/ds-dnumrisk/sourcedata/eyetracking_risk/15_45_24.edf to sub-32_21-6-2023.edf\n",
      "Renamed /Users/mrenke/data/ds-dnumrisk/sourcedata/eyetracking_risk/16_00_00.edf to sub-36_17-7-2023.edf\n",
      "Renamed /Users/mrenke/data/ds-dnumrisk/sourcedata/eyetracking_risk/11_17_54.edf to sub-39_27-7-2023.edf\n",
      "Renamed /Users/mrenke/data/ds-dnumrisk/sourcedata/eyetracking_risk/10_39_55.edf to sub-62_12-4-2024.edf\n",
      "Renamed /Users/mrenke/data/ds-dnumrisk/sourcedata/eyetracking_risk/11_41_06.edf to sub-43_30-9-2023.edf\n",
      "Renamed /Users/mrenke/data/ds-dnumrisk/sourcedata/eyetracking_risk/16_05_26.edf to sub-16_20-4-2023.edf\n",
      "Renamed /Users/mrenke/data/ds-dnumrisk/sourcedata/eyetracking_risk/15_47_23.edf to sub-33_23-6-2023.edf\n",
      "Renamed /Users/mrenke/data/ds-dnumrisk/sourcedata/eyetracking_risk/11_11_23.edf to sub-37_19-7-2023.edf\n",
      "Renamed /Users/mrenke/data/ds-dnumrisk/sourcedata/eyetracking_risk/15_53_57.edf to sub-1_6-2-2023.edf\n"
     ]
    }
   ],
   "source": [
    "fns_2days = []\n",
    "fns_unmatched = []\n",
    "\n",
    "for fn in fns:\n",
    "    full_fn = os.path.join(pati_eye,fn) \n",
    "    mod_time = os.path.getmtime(full_fn)\n",
    "    mod_time = datetime.fromtimestamp(mod_time)\n",
    "    matching_row = df[df['date'].apply(lambda x: (x.year == mod_time.year) and (x.month == mod_time.month) and (x.day == mod_time.day))]\n",
    "\n",
    "    if len(matching_row['subject ID'].values) == 1: # only one match!\n",
    "        sub_id = matching_row['subject ID'].values[0]\n",
    "        new_filename = f\"sub-{sub_id}_{mod_time.day}-{mod_time.month}-{mod_time.year}.edf\"\n",
    "        full_fn_new = os.path.join(pati_eye_new,new_filename)\n",
    "        os.rename(full_fn, full_fn_new) # Renames a file and can also move it to a new location if the new name includes a different path.\n",
    "        print(f\"Renamed {full_fn} to {new_filename}\")\n",
    "        \n",
    "    elif len(matching_row['subject ID'].values) == 0:\n",
    "        fns_unmatched.append(fn)\n",
    "    elif len(matching_row['subject ID'].values) == 2:\n",
    "        fns_2days.append(fn)\n",
    "\n"
   ]
  },
  {
   "cell_type": "code",
   "execution_count": null,
   "metadata": {},
   "outputs": [],
   "source": [
    "## format ?\n",
    "# first non-symbolic, then symbolic"
   ]
  },
  {
   "cell_type": "code",
   "execution_count": 127,
   "metadata": {},
   "outputs": [
    {
     "data": {
      "text/plain": [
       "['eye002.log',\n",
       " '11_32_33.edf',\n",
       " '10_49_31.edf',\n",
       " '12_03_33.edf',\n",
       " '16_20_56.edf',\n",
       " 'eye003.log',\n",
       " '16_12_21.edf',\n",
       " 'eye007.log',\n",
       " '11_16_37.edf',\n",
       " '11_02_56.edf',\n",
       " '15_46_18.edf',\n",
       " '16_10_56.edf',\n",
       " '11_15_06.edf',\n",
       " '11_42_17.edf',\n",
       " '16_03_11.edf',\n",
       " '10_10_56.edf',\n",
       " '11_44_48.edf',\n",
       " '11_02_08.edf',\n",
       " '11_11_48.edf',\n",
       " '15_31_41.edf',\n",
       " '16_03_10.edf',\n",
       " '11_21_19.edf',\n",
       " '11_00_14.edf',\n",
       " '12_12_08.edf',\n",
       " '16_12_58.edf',\n",
       " '16_54_30.edf',\n",
       " '11_33_18.edf',\n",
       " '10_01_34.edf',\n",
       " '15_53_33.edf',\n",
       " '10_31_40.edf',\n",
       " '11_12_17.edf',\n",
       " '11_23_22.edf',\n",
       " '10_49_59.edf',\n",
       " '16_15_57.edf',\n",
       " '10_18_39.edf',\n",
       " '10_52_52.edf',\n",
       " '16_28_49.edf',\n",
       " '10_40_08.edf',\n",
       " '10_40_35.edf',\n",
       " '16_06_58.edf',\n",
       " '17_03_23.edf',\n",
       " 'eye009.log',\n",
       " '11_11_34.edf',\n",
       " '16_37_41.edf',\n",
       " '11_31_44.edf',\n",
       " '11_04_02.edf',\n",
       " '11_21_43.edf',\n",
       " '16_02_06.edf',\n",
       " 'trackerui.log']"
      ]
     },
     "execution_count": 127,
     "metadata": {},
     "output_type": "execute_result"
    }
   ],
   "source": [
    "fns_2days"
   ]
  },
  {
   "cell_type": "code",
   "execution_count": null,
   "metadata": {},
   "outputs": [],
   "source": []
  },
  {
   "cell_type": "code",
   "execution_count": 128,
   "metadata": {},
   "outputs": [],
   "source": [
    "import re\n",
    "from io import StringIO\n",
    "import argparse\n",
    "import os.path as op\n",
    "import os\n",
    "import subprocess\n",
    "import gzip\n",
    "\n",
    "import glob\n",
    "import pandas as pd\n",
    "import shutil"
   ]
  },
  {
   "cell_type": "code",
   "execution_count": null,
   "metadata": {},
   "outputs": [],
   "source": [
    "\n",
    "\n",
    "def extract_data(subject, root_folder='/data'):\n",
    "    subject = int(subject)\n",
    "\n",
    "    dir = get_subject_folder(subject, root_folder) \n",
    "\n",
    "    for run in runs:\n",
    "        fn = op.join(dir, f'Rs{subject:02d}rn{run:02d}.edf')\n",
    "        asc_fn = fn.replace('.edf', '.asc')\n",
    "        gaze_target_fn = fn.replace('.edf', '.gaz.gz')\n",
    "\n",
    "        # get gaze\n",
    "        cmd = f'edf2asc  -t -y -z -v -s -vel {fn}'\n",
    "\n",
    "        subprocess.run(cmd, shell=True)\n",
    "\n",
    "        with open(asc_fn, 'rb') as asc_file, gzip.open(gaze_target_fn, 'wb') as target_file:\n",
    "                target_file.writelines(asc_file)\n",
    "\n",
    "        os.remove(asc_fn)\n",
    "\n",
    "        # get messages\n",
    "        cmd = f'edf2asc  -t -y -z -v -e {fn}'\n",
    "        msg_target_fn = fn.replace('.edf', '.msg.gz')\n",
    "\n",
    "        subprocess.run(cmd, shell=True)\n",
    "\n",
    "        with open(asc_fn, 'rb') as asc_file, gzip.open(msg_target_fn, 'wb') as target_file:\n",
    "                target_file.writelines(asc_file)\n",
    "\n",
    "        os.remove(asc_fn)"
   ]
  }
 ],
 "metadata": {
  "kernelspec": {
   "display_name": "behav_fit",
   "language": "python",
   "name": "python3"
  },
  "language_info": {
   "codemirror_mode": {
    "name": "ipython",
    "version": 3
   },
   "file_extension": ".py",
   "mimetype": "text/x-python",
   "name": "python",
   "nbconvert_exporter": "python",
   "pygments_lexer": "ipython3",
   "version": "3.10.6"
  }
 },
 "nbformat": 4,
 "nbformat_minor": 2
}
