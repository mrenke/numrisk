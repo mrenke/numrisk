{
 "cells": [
  {
   "cell_type": "markdown",
   "metadata": {},
   "source": [
    "\n",
    "## Compare different model versions\n",
    "\n"
   ]
  },
  {
   "cell_type": "code",
   "execution_count": 7,
   "metadata": {},
   "outputs": [
    {
     "name": "stdout",
     "output_type": "stream",
     "text": [
      "number of subjects in dataframe: 66\n",
      "Int64Index([ 1,  2,  3,  4,  5,  6,  7,  8,  9, 10, 11, 12, 13, 14, 15, 16, 17,\n",
      "            18, 19, 20, 21, 22, 23, 24, 25, 26, 27, 28, 29, 30, 31, 32, 33, 34,\n",
      "            35, 36, 37, 38, 39, 40, 41, 42, 43, 44, 45, 46, 47, 48, 49, 50, 51,\n",
      "            52, 53, 54, 55, 56, 57, 58, 59, 60, 61, 62, 63, 64, 65, 66],\n",
      "           dtype='int64', name='subject')\n"
     ]
    }
   ],
   "source": [
    "import os.path as op\n",
    "import os\n",
    "import numpy as np\n",
    "import pandas as pd\n",
    "import arviz as az\n",
    "\n",
    "\n",
    "bids_folder = '/Users/mrenke/data/ds-dnumrisk'\n",
    "target_folder = op.join(bids_folder, f'derivatives/cogmodels_risk')\n",
    "format = 'symbolic'\n",
    "\n",
    "from utils import get_data  \n",
    "df = get_data(bids_folder)\n",
    "df = df.xs(format,0, level='format')"
   ]
  },
  {
   "cell_type": "code",
   "execution_count": 14,
   "metadata": {},
   "outputs": [],
   "source": [
    "format = 'symbolic'\n",
    "model_1 =  az.from_netcdf(op.join(target_folder, f'model-2_format-{format}_trace.netcdf'))\n",
    "model_2 =  az.from_netcdf(op.join(target_folder, f'model-5_format-{format}_trace.netcdf'))"
   ]
  },
  {
   "cell_type": "code",
   "execution_count": 13,
   "metadata": {},
   "outputs": [
    {
     "name": "stdout",
     "output_type": "stream",
     "text": [
      "number of subjects in dataframe: 66\n",
      "Int64Index([ 1,  2,  3,  4,  5,  6,  7,  8,  9, 10, 11, 12, 13, 14, 15, 16, 17,\n",
      "            18, 19, 20, 21, 22, 23, 24, 25, 26, 27, 28, 29, 30, 31, 32, 33, 34,\n",
      "            35, 36, 37, 38, 39, 40, 41, 42, 43, 44, 45, 46, 47, 48, 49, 50, 51,\n",
      "            52, 53, 54, 55, 56, 57, 58, 59, 60, 61, 62, 63, 64, 65, 66],\n",
      "           dtype='int64', name='subject')\n",
      "{'evidence_sd_spline1': {'mu_intercept': 5.0, 'sigma_intercept': 5.0, 'transform': 'identity'}, 'evidence_sd_spline2': {'mu_intercept': 5.0, 'sigma_intercept': 5.0, 'transform': 'identity'}, 'evidence_sd_spline3': {'mu_intercept': 5.0, 'sigma_intercept': 5.0, 'transform': 'identity'}, 'evidence_sd_spline4': {'mu_intercept': 5.0, 'sigma_intercept': 5.0, 'transform': 'identity'}, 'evidence_sd_spline5': {'mu_intercept': 5.0, 'sigma_intercept': 5.0, 'transform': 'identity'}, 'prior_mu': {'mu_intercept': 23.2989104501352, 'sigma_intercept': 25.0, 'transform': 'identity'}, 'prior_sd': {'mu_intercept': 23.2989104501352, 'sigma_intercept': 25.0, 'transform': 'softplus'}}\n",
      "{'evidence_sd_spline1': {'mu_intercept': 5.0, 'sigma_intercept': 5.0, 'transform': 'identity'}, 'evidence_sd_spline2': {'mu_intercept': 5.0, 'sigma_intercept': 5.0, 'transform': 'identity'}, 'evidence_sd_spline3': {'mu_intercept': 5.0, 'sigma_intercept': 5.0, 'transform': 'identity'}, 'evidence_sd_spline4': {'mu_intercept': 5.0, 'sigma_intercept': 5.0, 'transform': 'identity'}, 'evidence_sd_spline5': {'mu_intercept': 5.0, 'sigma_intercept': 5.0, 'transform': 'identity'}, 'prior_mu': {'mu_intercept': 23.2989104501352, 'sigma_intercept': 25.0, 'transform': 'identity'}, 'prior_sd': {'mu_intercept': 23.2989104501352, 'sigma_intercept': 25.0, 'transform': 'softplus'}}\n"
     ]
    },
    {
     "name": "stderr",
     "output_type": "stream",
     "text": [
      "/Users/mrenke/git/bauer/bauer/models.py:1496: UserWarning: Found evidence_sd in regressors, will add it for all 5 splines!\n",
      "  warn(f'Found {key} in regressors, will add it for all {po} splines!')\n"
     ]
    },
    {
     "name": "stdout",
     "output_type": "stream",
     "text": [
      "█\r"
     ]
    }
   ],
   "source": [
    "# compute likelihood \n",
    "from utils_02 import build_model\n",
    "from utils import get_data  \n",
    "import pymc as pm\n",
    "\n",
    "df = get_data(bids_folder)\n",
    "df = df.xs(format,0, level='format')\n",
    "\n",
    "for model_label in ['5']:\n",
    "\n",
    "    model = build_model(model_label, df)\n",
    "    model.build_estimation_model()\n",
    "\n",
    "    trace = az.from_netcdf(op.join(target_folder, f'model-{model_label}_format-{format}_trace_.netcdf'))\n",
    "\n",
    "    with model.estimation_model:\n",
    "        pm.compute_log_likelihood(trace)\n",
    "        \n",
    "    az.to_netcdf(trace,op.join(target_folder, f'model-{model_label}_format-{format}_trace.netcdf'))\n"
   ]
  },
  {
   "cell_type": "code",
   "execution_count": 15,
   "metadata": {},
   "outputs": [
    {
     "name": "stderr",
     "output_type": "stream",
     "text": [
      "/Users/mrenke/mambaforge/envs/behav_fit/lib/python3.10/site-packages/arviz/stats/stats.py:803: UserWarning: Estimated shape parameter of Pareto distribution is greater than 0.7 for one or more samples. You should consider using a more robust model, this is because importance sampling is less likely to work well if the marginal posterior and LOO posterior are very different. This is more likely to happen with a non-robust model and highly influential observations.\n",
      "  warnings.warn(\n",
      "/Users/mrenke/mambaforge/envs/behav_fit/lib/python3.10/site-packages/arviz/stats/stats.py:803: UserWarning: Estimated shape parameter of Pareto distribution is greater than 0.7 for one or more samples. You should consider using a more robust model, this is because importance sampling is less likely to work well if the marginal posterior and LOO posterior are very different. This is more likely to happen with a non-robust model and highly influential observations.\n",
      "  warnings.warn(\n"
     ]
    },
    {
     "data": {
      "text/html": [
       "<div>\n",
       "<style scoped>\n",
       "    .dataframe tbody tr th:only-of-type {\n",
       "        vertical-align: middle;\n",
       "    }\n",
       "\n",
       "    .dataframe tbody tr th {\n",
       "        vertical-align: top;\n",
       "    }\n",
       "\n",
       "    .dataframe thead th {\n",
       "        text-align: right;\n",
       "    }\n",
       "</style>\n",
       "<table border=\"1\" class=\"dataframe\">\n",
       "  <thead>\n",
       "    <tr style=\"text-align: right;\">\n",
       "      <th></th>\n",
       "      <th>rank</th>\n",
       "      <th>elpd_loo</th>\n",
       "      <th>p_loo</th>\n",
       "      <th>elpd_diff</th>\n",
       "      <th>weight</th>\n",
       "      <th>se</th>\n",
       "      <th>dse</th>\n",
       "      <th>warning</th>\n",
       "      <th>scale</th>\n",
       "    </tr>\n",
       "  </thead>\n",
       "  <tbody>\n",
       "    <tr>\n",
       "      <th>2 priors</th>\n",
       "      <td>0</td>\n",
       "      <td>-4375.368674</td>\n",
       "      <td>176.410236</td>\n",
       "      <td>0.000000</td>\n",
       "      <td>0.898273</td>\n",
       "      <td>61.719813</td>\n",
       "      <td>0.000000</td>\n",
       "      <td>True</td>\n",
       "      <td>log</td>\n",
       "    </tr>\n",
       "    <tr>\n",
       "      <th>flexibelNoise</th>\n",
       "      <td>1</td>\n",
       "      <td>-4685.717279</td>\n",
       "      <td>255.479048</td>\n",
       "      <td>310.348605</td>\n",
       "      <td>0.101727</td>\n",
       "      <td>65.351013</td>\n",
       "      <td>30.597213</td>\n",
       "      <td>True</td>\n",
       "      <td>log</td>\n",
       "    </tr>\n",
       "  </tbody>\n",
       "</table>\n",
       "</div>"
      ],
      "text/plain": [
       "               rank     elpd_loo       p_loo   elpd_diff    weight         se  \\\n",
       "2 priors          0 -4375.368674  176.410236    0.000000  0.898273  61.719813   \n",
       "flexibelNoise     1 -4685.717279  255.479048  310.348605  0.101727  65.351013   \n",
       "\n",
       "                     dse  warning scale  \n",
       "2 priors        0.000000     True   log  \n",
       "flexibelNoise  30.597213     True   log  "
      ]
     },
     "execution_count": 15,
     "metadata": {},
     "output_type": "execute_result"
    }
   ],
   "source": [
    "compare_dict = {\"2 priors\": model_1, #\"n1/n2, fit prior\": model_2,\n",
    "                \"flexibelNoise\": model_2}\n",
    "\n",
    "az.compare(compare_dict)"
   ]
  },
  {
   "cell_type": "code",
   "execution_count": null,
   "metadata": {},
   "outputs": [],
   "source": []
  }
 ],
 "metadata": {
  "kernelspec": {
   "display_name": "behav_fit",
   "language": "python",
   "name": "python3"
  },
  "language_info": {
   "codemirror_mode": {
    "name": "ipython",
    "version": 3
   },
   "file_extension": ".py",
   "mimetype": "text/x-python",
   "name": "python",
   "nbconvert_exporter": "python",
   "pygments_lexer": "ipython3",
   "version": "3.10.6"
  }
 },
 "nbformat": 4,
 "nbformat_minor": 2
}
