{
 "cells": [
  {
   "cell_type": "code",
   "execution_count": 3,
   "metadata": {},
   "outputs": [],
   "source": [
    "import os.path as op\n",
    "import os\n",
    "import numpy as np\n",
    "import pandas as pd\n",
    "\n",
    "bids_folder = '/Users/mrenke/data/ds-dnumrisk'\n",
    "\n"
   ]
  },
  {
   "cell_type": "code",
   "execution_count": 9,
   "metadata": {},
   "outputs": [
    {
     "name": "stdout",
     "output_type": "stream",
     "text": [
      "number of subjects found: 64\n"
     ]
    }
   ],
   "source": [
    "from utils_02 import build_model\n",
    "from utils import get_data\n",
    "import arviz as az\n",
    "\n",
    "df = get_data()\n",
    "\n",
    "format = 'symbolic'\n",
    "model_label = '4'\n",
    "\n",
    "df = df.xs(format,0, level='format')\n",
    "model = build_model(model_label, df)\n",
    "\n",
    "idata = az.from_netcdf(op.join(bids_folder, f'derivatives/cogmodels_risk/model-{model_label}_format-{format}_trace.netcdf'))\n",
    "\n",
    "\n"
   ]
  },
  {
   "cell_type": "code",
   "execution_count": 6,
   "metadata": {},
   "outputs": [
    {
     "data": {
      "text/plain": [
       "'klw'"
      ]
     },
     "execution_count": 6,
     "metadata": {},
     "output_type": "execute_result"
    }
   ],
   "source": [
    "model.prior_estimate"
   ]
  },
  {
   "cell_type": "code",
   "execution_count": 13,
   "metadata": {},
   "outputs": [
    {
     "name": "stdout",
     "output_type": "stream",
     "text": [
      "            rnp          \n",
      "        hdi_low  hdi_high\n",
      "subject                  \n",
      "1           0.0  0.492722\n",
      "2           0.0  0.505051\n",
      "3           0.0  0.495153\n",
      "4           0.0  0.503256\n",
      "5           0.0  0.512372\n",
      "...         ...       ...\n",
      "60          0.0  0.547870\n",
      "61          0.0  0.487228\n",
      "62          0.0  0.548397\n",
      "63          0.0  0.494798\n",
      "64          0.0  0.540765\n",
      "\n",
      "[64 rows x 2 columns]\n"
     ]
    },
    {
     "data": {
      "image/png": "[encoded data removed]",
      "text/plain": [
       "<Figure size 640x480 with 1 Axes>"
      ]
     },
     "metadata": {},
     "output_type": "display_data"
    }
   ],
   "source": [
    "from bauer.utils.plotting import plot_subjectwise_parameters\n",
    "from utils_02 import get_rnp\n",
    "\n",
    "idata.posterior['rnp'] = get_rnp(idata.posterior['evidence_sd'], idata.posterior['prior_sd'])\n",
    "idata.posterior['rnp_mu'] = get_rnp(idata.posterior['evidence_sd_mu'], idata.posterior['prior_sd_mu'])\n",
    "\n",
    "plot_subjectwise_parameters(idata, parameter='rnp')"
   ]
  },
  {
   "cell_type": "code",
   "execution_count": 14,
   "metadata": {},
   "outputs": [],
   "source": [
    "par = 'rnp'\n",
    "traces = idata.posterior[par+'_mu'].to_dataframe()"
   ]
  },
  {
   "cell_type": "code",
   "execution_count": 16,
   "metadata": {},
   "outputs": [
    {
     "data": {
      "text/html": [
       "<div>\n",
       "<style scoped>\n",
       "    .dataframe tbody tr th:only-of-type {\n",
       "        vertical-align: middle;\n",
       "    }\n",
       "\n",
       "    .dataframe tbody tr th {\n",
       "        vertical-align: top;\n",
       "    }\n",
       "\n",
       "    .dataframe thead th {\n",
       "        text-align: right;\n",
       "    }\n",
       "</style>\n",
       "<table border=\"1\" class=\"dataframe\">\n",
       "  <thead>\n",
       "    <tr style=\"text-align: right;\">\n",
       "      <th></th>\n",
       "      <th></th>\n",
       "      <th></th>\n",
       "      <th></th>\n",
       "      <th>rnp_mu</th>\n",
       "    </tr>\n",
       "    <tr>\n",
       "      <th>chain</th>\n",
       "      <th>draw</th>\n",
       "      <th>prior_sd_regressors</th>\n",
       "      <th>evidence_sd_regressors</th>\n",
       "      <th></th>\n",
       "    </tr>\n",
       "  </thead>\n",
       "  <tbody>\n",
       "    <tr>\n",
       "      <th rowspan=\"5\" valign=\"top\">0</th>\n",
       "      <th rowspan=\"4\" valign=\"top\">0</th>\n",
       "      <th rowspan=\"2\" valign=\"top\">Intercept</th>\n",
       "      <th>Intercept</th>\n",
       "      <td>0.035903</td>\n",
       "    </tr>\n",
       "    <tr>\n",
       "      <th>group</th>\n",
       "      <td>0.064763</td>\n",
       "    </tr>\n",
       "    <tr>\n",
       "      <th rowspan=\"2\" valign=\"top\">group</th>\n",
       "      <th>Intercept</th>\n",
       "      <td>0.000057</td>\n",
       "    </tr>\n",
       "    <tr>\n",
       "      <th>group</th>\n",
       "      <td>0.000413</td>\n",
       "    </tr>\n",
       "    <tr>\n",
       "      <th>1</th>\n",
       "      <th>Intercept</th>\n",
       "      <th>Intercept</th>\n",
       "      <td>0.073517</td>\n",
       "    </tr>\n",
       "    <tr>\n",
       "      <th>...</th>\n",
       "      <th>...</th>\n",
       "      <th>...</th>\n",
       "      <th>...</th>\n",
       "      <td>...</td>\n",
       "    </tr>\n",
       "    <tr>\n",
       "      <th rowspan=\"5\" valign=\"top\">3</th>\n",
       "      <th>998</th>\n",
       "      <th>group</th>\n",
       "      <th>group</th>\n",
       "      <td>0.000123</td>\n",
       "    </tr>\n",
       "    <tr>\n",
       "      <th rowspan=\"4\" valign=\"top\">999</th>\n",
       "      <th rowspan=\"2\" valign=\"top\">Intercept</th>\n",
       "      <th>Intercept</th>\n",
       "      <td>0.343010</td>\n",
       "    </tr>\n",
       "    <tr>\n",
       "      <th>group</th>\n",
       "      <td>0.202086</td>\n",
       "    </tr>\n",
       "    <tr>\n",
       "      <th rowspan=\"2\" valign=\"top\">group</th>\n",
       "      <th>Intercept</th>\n",
       "      <td>0.229516</td>\n",
       "    </tr>\n",
       "    <tr>\n",
       "      <th>group</th>\n",
       "      <td>0.086203</td>\n",
       "    </tr>\n",
       "  </tbody>\n",
       "</table>\n",
       "<p>16000 rows × 1 columns</p>\n",
       "</div>"
      ],
      "text/plain": [
       "                                                         rnp_mu\n",
       "chain draw prior_sd_regressors evidence_sd_regressors          \n",
       "0     0    Intercept           Intercept               0.035903\n",
       "                               group                   0.064763\n",
       "           group               Intercept               0.000057\n",
       "                               group                   0.000413\n",
       "      1    Intercept           Intercept               0.073517\n",
       "...                                                         ...\n",
       "3     998  group               group                   0.000123\n",
       "      999  Intercept           Intercept               0.343010\n",
       "                               group                   0.202086\n",
       "           group               Intercept               0.229516\n",
       "                               group                   0.086203\n",
       "\n",
       "[16000 rows x 1 columns]"
      ]
     },
     "execution_count": 16,
     "metadata": {},
     "output_type": "execute_result"
    }
   ],
   "source": [
    "traces"
   ]
  },
  {
   "cell_type": "code",
   "execution_count": 17,
   "metadata": {},
   "outputs": [
    {
     "name": "stdout",
     "output_type": "stream",
     "text": [
      "Intercept                                                              rnp_mu\n",
      "chain draw prior_sd_regressors evidence_sd_regressors              \n",
      "0     0    Intercept           Intercept               3.590307e-02\n",
      "           group               Intercept               5.685179e-05\n",
      "      1    Intercept           Intercept               7.351729e-02\n",
      "           group               Intercept               1.070663e-01\n",
      "      2    Intercept           Intercept               1.007758e-01\n",
      "...                                                             ...\n",
      "3     997  group               Intercept               5.943070e-09\n",
      "      998  Intercept           Intercept               0.000000e+00\n",
      "           group               Intercept               1.007689e-03\n",
      "      999  Intercept           Intercept               3.430095e-01\n",
      "           group               Intercept               2.295156e-01\n",
      "\n",
      "[8000 rows x 1 columns]\n",
      "group                                                              rnp_mu\n",
      "chain draw prior_sd_regressors evidence_sd_regressors              \n",
      "0     0    Intercept           group                   6.476271e-02\n",
      "           group               group                   4.132902e-04\n",
      "      1    Intercept           group                   4.631903e-02\n",
      "           group               group                   7.353631e-02\n",
      "      2    Intercept           group                   3.441110e-01\n",
      "...                                                             ...\n",
      "3     997  group               group                   1.470542e-47\n",
      "      998  Intercept           group                   0.000000e+00\n",
      "           group               group                   1.225553e-04\n",
      "      999  Intercept           group                   2.020864e-01\n",
      "           group               group                   8.620250e-02\n",
      "\n",
      "[8000 rows x 1 columns]\n"
     ]
    }
   ],
   "source": [
    "import seaborn as sns\n",
    "import matplotlib.pyplot as plt\n",
    "from bauer.utils.bayes import softplus\n",
    "\n",
    "target_folder = op.join(bids_folder, f'derivatives/cogmodels_risk/figures/{model_label}_format-{format}')\n",
    "\n",
    "par = 'rnp'\n",
    "\n",
    "for regressor, t in traces.groupby('evidence_sd_regressors'):\n",
    "            t = t.copy()\n",
    "            print(regressor, t)\n",
    "            if (par in ['prior_std', 'evidence_sd']) & (regressor == 'Intercept'): #  'risky_prior_std', 'safe_prior_std', 'n1_evidence_sd', 'n2_evidence_sd',\n",
    "                t = softplus(t)\n",
    "\n",
    "            plt.figure()\n",
    "            sns.kdeplot(t, fill=True)\n",
    "            if regressor != 'Intercept':\n",
    "                plt.axvline(0.0, c='k', ls='--')\n",
    "                txt = f'p({par} < 0.0) = {np.round((t.values < 0.0).mean(), 3)}'\n",
    "                plt.xlabel(txt)\n",
    "\n",
    "            else:\n",
    "                if par == 'risky_prior_mu':\n",
    "                    plt.axvline(np.log(df['n_risky']).mean(), c='k', ls='--')\n",
    "                elif par == 'risky_prior_std':\n",
    "                    plt.axvline(np.log(df['n_risky']).std(), c='k', ls='--')\n",
    "                elif par == 'safe_prior_mu':\n",
    "                    for n_safe in np.log([7., 10., 14., 20., 28.]):\n",
    "                        plt.axvline(n_safe, c='k', ls='--')\n",
    "\n",
    "                    plt.axvline(np.log(df['n_safe']).mean(), c='k', ls='--', lw=2)\n",
    "                elif par == 'safe_prior_std':\n",
    "                    plt.axvline(np.log(df['n_safe']).std(), c='k', ls='--')\n",
    "\n",
    "            plt.savefig(op.join(target_folder, f'group_par-{par}.{regressor}.pdf'))\n",
    "            plt.close()\n"
   ]
  },
  {
   "cell_type": "code",
   "execution_count": null,
   "metadata": {},
   "outputs": [],
   "source": []
  }
 ],
 "metadata": {
  "kernelspec": {
   "display_name": "behav_fit",
   "language": "python",
   "name": "python3"
  },
  "language_info": {
   "codemirror_mode": {
    "name": "ipython",
    "version": 3
   },
   "file_extension": ".py",
   "mimetype": "text/x-python",
   "name": "python",
   "nbconvert_exporter": "python",
   "pygments_lexer": "ipython3",
   "version": "3.10.6"
  }
 },
 "nbformat": 4,
 "nbformat_minor": 2
}
