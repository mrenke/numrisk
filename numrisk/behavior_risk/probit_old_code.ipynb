{
 "cells": [
  {
   "cell_type": "markdown",
   "metadata": {},
   "source": [
    "* gammas from traces (not generated via predictions!!) \n",
    "    * save (∂format) & load in-\n",
    "    * -> correlate across format"
   ]
  },
  {
   "cell_type": "code",
   "execution_count": 3,
   "metadata": {},
   "outputs": [],
   "source": [
    "import pandas as pd \n",
    "import numpy as np\n",
    "import matplotlib.pyplot as plt\n",
    "import seaborn as sns\n",
    "import os.path  as op\n",
    "\n"
   ]
  },
  {
   "cell_type": "code",
   "execution_count": 4,
   "metadata": {},
   "outputs": [],
   "source": [
    "frac = np.linspace(-6,6, 13)\n",
    "frac = np.delete(frac, 6)                     \n",
    "fractions = np.power(2,(frac/4))\n",
    "\n",
    "base = np.array([5, 7, 10, 14, 20])"
   ]
  },
  {
   "cell_type": "code",
   "execution_count": 5,
   "metadata": {},
   "outputs": [
    {
     "data": {
      "text/plain": [
       "array([0.35355339, 0.42044821, 0.5       , 0.59460356, 0.70710678,\n",
       "       0.84089642, 1.18920712, 1.41421356, 1.68179283, 2.        ,\n",
       "       2.37841423, 2.82842712])"
      ]
     },
     "execution_count": 5,
     "metadata": {},
     "output_type": "execute_result"
    }
   ],
   "source": [
    "fractions"
   ]
  },
  {
   "cell_type": "code",
   "execution_count": 7,
   "metadata": {},
   "outputs": [
    {
     "data": {
      "text/plain": [
       "180"
      ]
     },
     "execution_count": 7,
     "metadata": {},
     "output_type": "execute_result"
    }
   ],
   "source": [
    "12 * 5 * 3"
   ]
  },
  {
   "cell_type": "code",
   "execution_count": null,
   "metadata": {},
   "outputs": [],
   "source": [
    "import arviz as az\n",
    "\n",
    "model_label = 4 # 1 '1rem1' #3 \n",
    "format = 'symbolic' # 'both' # 'non-symbolic' # \n",
    "\n",
    "traces = az.from_netcdf( op.join(target_folder, f'rnp_model-{model_label}_format-{format}_trace.netcdf'))\n"
   ]
  },
  {
   "cell_type": "code",
   "execution_count": null,
   "metadata": {},
   "outputs": [],
   "source": [
    "## Get params\n",
    "#(from traces directly, not vie predict, maybe a bad idea?- but extract_rnp_prec stopped working at some point)\n",
    "\n",
    "target_folder = op.join(bids_folder, 'derivatives/phenotype')\n",
    "\n",
    "dys_subs = group_list[group_list['group']==1]['subject'].values.tolist()\n",
    "dys_subs = [str(x) for x in dys_subs]   \n",
    "con_subs = group_list[group_list['group']==0]['subject'].values.tolist()\n",
    "con_subs = [str(x) for x in con_subs] \n",
    "\n",
    "gammas_sub = traces.posterior['x|subject'].to_dataframe() #.groupby('subject').mean().mean()\n",
    "gammas_int = traces.posterior['x'].to_dataframe()\n",
    "gammas_group = traces.posterior['x:group'].to_dataframe()\n",
    "\n",
    "gammas = gammas_sub.join(gammas_int, on=['chain','draw']).join(gammas_group,on=['chain','draw'])\n",
    "gammas['sum_dys']= gammas['x'] +  gammas['x|subject'] +  gammas['x:group'] \n",
    "gammas['sum_con']= gammas['x'] +  gammas['x|subject']\n",
    "gammas_d = gammas['sum_dys'].unstack([0,1]).mean(axis=1).to_frame().loc[dys_subs]\n",
    "gammas_c =  gammas['sum_con'].unstack([0,1]).mean(axis=1).to_frame().loc[con_subs]\n",
    "gammas = pd.concat([gammas_c,gammas_d]).reset_index().rename(columns={0:'gamma','subject__factor_dim':'subject'})\n",
    "gammas.to_csv(op.join(target_folder, f'probit_model-{model_label}_format-{format}_gammas.csv'))\n",
    "gammas.head()"
   ]
  },
  {
   "cell_type": "code",
   "execution_count": null,
   "metadata": {},
   "outputs": [],
   "source": [
    "stake_sub = traces.posterior['C(n_safe)|subject'].to_dataframe() #.groupby('subject').mean().mean()\n",
    "stake_int = traces.posterior['C(n_safe)'].to_dataframe()\n",
    "stake_group = traces.posterior['group:C(n_safe)'].to_dataframe()"
   ]
  },
  {
   "cell_type": "code",
   "execution_count": null,
   "metadata": {},
   "outputs": [],
   "source": [
    "stake = stake_sub.join(stake_int).join(stake_group)\n",
    "stake['sum_dys']= stake['C(n_safe)'] +  stake['C(n_safe)|subject'] +  stake['group:C(n_safe)'] \n",
    "stake['sum_con']= stake['C(n_safe)'] +  stake['C(n_safe)|subject']\n",
    "stake_d = stake['sum_dys'].unstack([0,1]).mean(axis=1).to_frame().loc[dys_subs]\n",
    "stake_c =  stake['sum_con'].unstack([0,1]).mean(axis=1).to_frame().loc[con_subs]\n",
    "stake = pd.concat([stake_c,stake_d]).reset_index().rename(columns={0:'gamma','subject__factor_dim':'subject'})\n",
    "stake.to_csv(op.join(target_folder, f'probit_model-{model_label}_format-{format}_stake-sizes.csv'))\n",
    "stake.head()"
   ]
  },
  {
   "cell_type": "code",
   "execution_count": null,
   "metadata": {},
   "outputs": [],
   "source": [
    "# read in & correlate\n",
    "target_folder = op.join(bids_folder,  'derivatives/phenotype')\n",
    "\n",
    "gammas_symbolic = pd.read_csv(op.join(target_folder, f'probit_model-2_format-symbolic_gammas.csv'))\n",
    "gammas_symbolic = gammas_symbolic.set_index('subject').drop(columns=['Unnamed: 0'])\n",
    "gammas_nonsymbolic = pd.read_csv(op.join(target_folder, f'probit_model-2_format-non-symbolic_gammas.csv'))\n",
    "gammas_nonsymbolic = gammas_nonsymbolic.set_index('subject').drop(columns=['Unnamed: 0'])\n",
    "\n",
    "group_list['group'] = np.where(group_list['group'] == 0, 'control', 'dyscalc')\n",
    "\n",
    "gammas = gammas_symbolic.join(gammas_nonsymbolic, lsuffix='_symbolic', rsuffix='_nonsymbolic').join(group_list.set_index('subject'))\n",
    "gammas.head()"
   ]
  },
  {
   "cell_type": "code",
   "execution_count": null,
   "metadata": {},
   "outputs": [],
   "source": [
    "sns.lmplot(data=gammas, x='gamma_symbolic', y='gamma_nonsymbolic', hue='group', fit_reg=True)"
   ]
  },
  {
   "cell_type": "code",
   "execution_count": null,
   "metadata": {},
   "outputs": [],
   "source": []
  },
  {
   "cell_type": "markdown",
   "metadata": {},
   "source": [
    "## old\n",
    "\n",
    "false with joining datframes etc., predict method way easier !"
   ]
  },
  {
   "cell_type": "code",
   "execution_count": null,
   "metadata": {},
   "outputs": [],
   "source": [
    "par_gr_n = traces.posterior['x:group:C(n_safe)'].to_dataframe() # for model-4 format-symbolic\n",
    "par_gr_n = par_gr_n\n",
    "par_n = traces.posterior['x:C(n_safe)'].to_dataframe()\n",
    "par_x = traces.posterior['x'].to_dataframe()\n",
    "par_gr = traces.posterior['x:group'].to_dataframe()\n",
    "\n",
    "par = par_n.join(par_gr_n.droplevel(2), on=['chain','draw']).join(par_x, on=['chain','draw']).join(par_gr, on=['chain','draw'])\n",
    "#par.head()\n",
    "par['control'] = par['x'] + par['x:C(n_safe)']\n",
    "par['dyscalc'] = par['x'] + par['x:C(n_safe)'] + par['x:group'] + par['x:group:C(n_safe)'] \n",
    "par = par[['control','dyscalc']]\n",
    "\n",
    "par = par.stack().to_frame()\n",
    "par = par.reset_index().rename(mapper={'level_3':'group','x:C(n_safe)_dim':'n_safe',0:'gamma' },axis=1).set_index(['chain','draw','n_safe','group'])\n",
    "par.head()"
   ]
  },
  {
   "cell_type": "code",
   "execution_count": null,
   "metadata": {},
   "outputs": [],
   "source": [
    "sns.violinplot(data=par.reset_index(), x='n_safe', y='gamma', hue='group')\n",
    "\n",
    "for n in par.index.unique('n_safe').values :\n",
    "    print(n)\n",
    "    temp = par.xs(n, 0,level='n_safe')\n",
    "    diff = np.mean((temp.xs('dyscalc', level='group') - temp.xs('control', level='group') ) > 0 )\n",
    "    print(diff)"
   ]
  },
  {
   "cell_type": "code",
   "execution_count": null,
   "metadata": {},
   "outputs": [],
   "source": [
    "reg = 'x:C(n_safe)' # 'x:group:C(n_safe)'\n",
    "n_safe_level = f'{reg}_dim'\n",
    "data = par_n # par_gr_n\n",
    "\n",
    "sns.violinplot(data=data.reset_index(), x=n_safe_level, y=reg)\n",
    "plt.axhline(0,c='k',)\n",
    "plt.title(reg)\n",
    "\n",
    "for n_safe in data.index.unique(n_safe_level):\n",
    "    p_val = np.round(np.mean(data.xs(n_safe,0,n_safe_level)>0),3)\n",
    "    print(p_val)\n",
    "#par_gr_n"
   ]
  }
 ],
 "metadata": {
  "kernelspec": {
   "display_name": "behav_fit",
   "language": "python",
   "name": "python3"
  },
  "language_info": {
   "codemirror_mode": {
    "name": "ipython",
    "version": 3
   },
   "file_extension": ".py",
   "mimetype": "text/x-python",
   "name": "python",
   "nbconvert_exporter": "python",
   "pygments_lexer": "ipython3",
   "version": "3.10.6"
  }
 },
 "nbformat": 4,
 "nbformat_minor": 2
}
