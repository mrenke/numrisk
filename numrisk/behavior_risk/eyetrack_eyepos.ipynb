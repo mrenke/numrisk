{
 "cells": [
  {
   "cell_type": "markdown",
   "id": "4aee6df8",
   "metadata": {},
   "source": [
    "\n",
    "\n",
    "Starter scripts in https://github.com/Gilles86/riskeye/blob/main/riskeye/eyetracking/\n",
    "\n",
    "- Currently only did saccades, now also eyepos \n",
    "\n",
    "- `prep_eyetrack_data.py` \n",
    "    - get_experimental_messages --> sub-XX_messages.tsv\n",
    "    - get_saccades ---> sub-XX_saccades.tsv\n",
    "\n",
    "- subject.get_trialwise_saccade_info(source=source....\n",
    "\n",
    "    def get_trialwise_saccade_info(self, source='saccades', summarize_trials=True):\n",
    "        elif source == 'eyepos':\n",
    "            eyepos = self.get_eyeposition(trialwise=True)\n",
    "    \n",
    "    def get_eyeposition(self, trialwise=True):\n",
    "            fn = op.join(self.bids_folder, 'derivatives', 'pupil', f'sub-{self.subject_id}', 'func', f'sub-{self.subject_id}_run-{run}_gaze.tsv.gz')\n",
    "\n",
    "--> where and how this '..._gaze.tsv.gz' created ?\n"
   ]
  },
  {
   "cell_type": "code",
   "execution_count": 1,
   "id": "215176c0",
   "metadata": {},
   "outputs": [],
   "source": [
    "import pandas as pd\n",
    "import numpy as np\n",
    "import os\n",
    "import os.path as op\n",
    "\n",
    "\n",
    "bids_folder = '/Users/mrenke/data/ds-dnumrisk'\n"
   ]
  },
  {
   "cell_type": "code",
   "execution_count": 2,
   "id": "8496bf29",
   "metadata": {},
   "outputs": [],
   "source": [
    "from numrisk.behavior_risk.utils_eyetrack import Subject\n",
    "subject_id = '01'\n",
    "\n",
    "subject = Subject(subject_id, bids_folder)"
   ]
  },
  {
   "cell_type": "code",
   "execution_count": 3,
   "id": "630a19cf",
   "metadata": {},
   "outputs": [
    {
     "data": {
      "application/vnd.microsoft.datawrangler.viewer.v0+json": {
       "columns": [
        {
         "name": "('subject', 'trial', 'time')",
         "rawType": "object",
         "type": "string"
        },
        {
         "name": "L_gaze_X",
         "rawType": "float64",
         "type": "float"
        },
        {
         "name": "L_gaze_Y",
         "rawType": "float64",
         "type": "float"
        },
        {
         "name": "fixation_target",
         "rawType": "category",
         "type": "unknown"
        }
       ],
       "ref": "d1e12d6c-f1cb-44cf-a5ec-2c8b2377260b",
       "rows": [
        [
         "('01', 1, Timedelta('0 days 02:29:11.122000'))",
         "789.6",
         "520.9",
         "center_left"
        ],
        [
         "('01', 1, Timedelta('0 days 02:29:11.124000'))",
         "789.4",
         "520.8",
         "center_left"
        ],
        [
         "('01', 1, Timedelta('0 days 02:29:11.126000'))",
         "789.1",
         "520.5",
         "center_left"
        ],
        [
         "('01', 1, Timedelta('0 days 02:29:11.128000'))",
         "789.0",
         "520.3",
         "center_left"
        ],
        [
         "('01', 1, Timedelta('0 days 02:29:11.130000'))",
         "788.8",
         "520.2",
         "center_left"
        ],
        [
         "('01', 1, Timedelta('0 days 02:29:11.132000'))",
         "788.8",
         "520.2",
         "center_left"
        ],
        [
         "('01', 1, Timedelta('0 days 02:29:11.134000'))",
         "789.2",
         "520.1",
         "center_left"
        ],
        [
         "('01', 1, Timedelta('0 days 02:29:11.136000'))",
         "789.6",
         "520.1",
         "center_left"
        ],
        [
         "('01', 1, Timedelta('0 days 02:29:11.138000'))",
         "790.1",
         "520.1",
         "center_left"
        ],
        [
         "('01', 1, Timedelta('0 days 02:29:11.140000'))",
         "790.6",
         "520.1",
         "center_left"
        ],
        [
         "('01', 1, Timedelta('0 days 02:29:11.142000'))",
         "791.3",
         "520.3",
         "center_left"
        ],
        [
         "('01', 1, Timedelta('0 days 02:29:11.144000'))",
         "791.8",
         "520.4",
         "center_left"
        ],
        [
         "('01', 1, Timedelta('0 days 02:29:11.146000'))",
         "792.1",
         "520.7",
         "center_left"
        ],
        [
         "('01', 1, Timedelta('0 days 02:29:11.148000'))",
         "792.2",
         "521.0",
         "center_left"
        ],
        [
         "('01', 1, Timedelta('0 days 02:29:11.150000'))",
         "792.3",
         "521.3",
         "center_left"
        ],
        [
         "('01', 1, Timedelta('0 days 02:29:11.152000'))",
         "792.3",
         "521.6",
         "center_left"
        ],
        [
         "('01', 1, Timedelta('0 days 02:29:11.154000'))",
         "792.4",
         "521.4",
         "center_left"
        ],
        [
         "('01', 1, Timedelta('0 days 02:29:11.156000'))",
         "792.2",
         "520.8",
         "center_left"
        ],
        [
         "('01', 1, Timedelta('0 days 02:29:11.158000'))",
         "792.1",
         "520.1",
         "center_left"
        ],
        [
         "('01', 1, Timedelta('0 days 02:29:11.160000'))",
         "792.1",
         "519.4",
         "center_left"
        ],
        [
         "('01', 1, Timedelta('0 days 02:29:11.162000'))",
         "792.2",
         "518.8",
         "center_left"
        ],
        [
         "('01', 1, Timedelta('0 days 02:29:11.164000'))",
         "792.5",
         "518.2",
         "center_left"
        ],
        [
         "('01', 1, Timedelta('0 days 02:29:11.166000'))",
         "793.1",
         "517.7",
         "center_left"
        ],
        [
         "('01', 1, Timedelta('0 days 02:29:11.168000'))",
         "795.7",
         "515.9",
         "center_left"
        ],
        [
         "('01', 1, Timedelta('0 days 02:29:11.170000'))",
         "798.7",
         "510.8",
         "center_left"
        ],
        [
         "('01', 1, Timedelta('0 days 02:29:11.172000'))",
         "803.4",
         "503.1",
         "center_left"
        ],
        [
         "('01', 1, Timedelta('0 days 02:29:11.174000'))",
         "810.9",
         "492.4",
         "center_left"
        ],
        [
         "('01', 1, Timedelta('0 days 02:29:11.176000'))",
         "820.3",
         "479.1",
         "center_left"
        ],
        [
         "('01', 1, Timedelta('0 days 02:29:11.178000'))",
         "830.9",
         "462.4",
         "center_left"
        ],
        [
         "('01', 1, Timedelta('0 days 02:29:11.180000'))",
         "842.2",
         "442.9",
         "center_left"
        ],
        [
         "('01', 1, Timedelta('0 days 02:29:11.182000'))",
         "852.2",
         "424.8",
         "center_left"
        ],
        [
         "('01', 1, Timedelta('0 days 02:29:11.184000'))",
         "861.9",
         "409.8",
         "center_left"
        ],
        [
         "('01', 1, Timedelta('0 days 02:29:11.186000'))",
         "869.7",
         "397.6",
         "center_left"
        ],
        [
         "('01', 1, Timedelta('0 days 02:29:11.188000'))",
         "874.7",
         "388.6",
         "center_left"
        ],
        [
         "('01', 1, Timedelta('0 days 02:29:11.190000'))",
         "877.5",
         "382.7",
         "center_left"
        ],
        [
         "('01', 1, Timedelta('0 days 02:29:11.192000'))",
         "878.6",
         "380.6",
         "center_left"
        ],
        [
         "('01', 1, Timedelta('0 days 02:29:11.194000'))",
         "878.8",
         "382.1",
         "center_left"
        ],
        [
         "('01', 1, Timedelta('0 days 02:29:11.196000'))",
         "878.0",
         "383.8",
         "center_left"
        ],
        [
         "('01', 1, Timedelta('0 days 02:29:11.198000'))",
         "877.2",
         "385.7",
         "center_left"
        ],
        [
         "('01', 1, Timedelta('0 days 02:29:11.200000'))",
         "876.6",
         "388.6",
         "center_left"
        ],
        [
         "('01', 1, Timedelta('0 days 02:29:11.202000'))",
         "875.9",
         "391.3",
         "center_left"
        ],
        [
         "('01', 1, Timedelta('0 days 02:29:11.204000'))",
         "875.6",
         "393.4",
         "center_left"
        ],
        [
         "('01', 1, Timedelta('0 days 02:29:11.206000'))",
         "875.4",
         "394.8",
         "center_left"
        ],
        [
         "('01', 1, Timedelta('0 days 02:29:11.208000'))",
         "875.2",
         "395.1",
         "center_left"
        ],
        [
         "('01', 1, Timedelta('0 days 02:29:11.210000'))",
         "875.2",
         "395.3",
         "center_left"
        ],
        [
         "('01', 1, Timedelta('0 days 02:29:11.212000'))",
         "875.3",
         "395.4",
         "center_left"
        ],
        [
         "('01', 1, Timedelta('0 days 02:29:11.214000'))",
         "875.5",
         "394.1",
         "center_left"
        ],
        [
         "('01', 1, Timedelta('0 days 02:29:11.216000'))",
         "876.3",
         "392.7",
         "center_left"
        ],
        [
         "('01', 1, Timedelta('0 days 02:29:11.218000'))",
         "877.2",
         "391.7",
         "center_left"
        ],
        [
         "('01', 1, Timedelta('0 days 02:29:11.220000'))",
         "878.1",
         "390.8",
         "center_left"
        ]
       ],
       "shape": {
        "columns": 3,
        "rows": 175264
       }
      },
      "text/html": [
       "<div>\n",
       "<style scoped>\n",
       "    .dataframe tbody tr th:only-of-type {\n",
       "        vertical-align: middle;\n",
       "    }\n",
       "\n",
       "    .dataframe tbody tr th {\n",
       "        vertical-align: top;\n",
       "    }\n",
       "\n",
       "    .dataframe thead th {\n",
       "        text-align: right;\n",
       "    }\n",
       "</style>\n",
       "<table border=\"1\" class=\"dataframe\">\n",
       "  <thead>\n",
       "    <tr style=\"text-align: right;\">\n",
       "      <th></th>\n",
       "      <th></th>\n",
       "      <th></th>\n",
       "      <th>L_gaze_X</th>\n",
       "      <th>L_gaze_Y</th>\n",
       "      <th>fixation_target</th>\n",
       "    </tr>\n",
       "    <tr>\n",
       "      <th>subject</th>\n",
       "      <th>trial</th>\n",
       "      <th>time</th>\n",
       "      <th></th>\n",
       "      <th></th>\n",
       "      <th></th>\n",
       "    </tr>\n",
       "  </thead>\n",
       "  <tbody>\n",
       "    <tr>\n",
       "      <th rowspan=\"11\" valign=\"top\">01</th>\n",
       "      <th rowspan=\"5\" valign=\"top\">1</th>\n",
       "      <th>0 days 02:29:11.122000</th>\n",
       "      <td>789.6</td>\n",
       "      <td>520.9</td>\n",
       "      <td>center_left</td>\n",
       "    </tr>\n",
       "    <tr>\n",
       "      <th>0 days 02:29:11.124000</th>\n",
       "      <td>789.4</td>\n",
       "      <td>520.8</td>\n",
       "      <td>center_left</td>\n",
       "    </tr>\n",
       "    <tr>\n",
       "      <th>0 days 02:29:11.126000</th>\n",
       "      <td>789.1</td>\n",
       "      <td>520.5</td>\n",
       "      <td>center_left</td>\n",
       "    </tr>\n",
       "    <tr>\n",
       "      <th>0 days 02:29:11.128000</th>\n",
       "      <td>789.0</td>\n",
       "      <td>520.3</td>\n",
       "      <td>center_left</td>\n",
       "    </tr>\n",
       "    <tr>\n",
       "      <th>0 days 02:29:11.130000</th>\n",
       "      <td>788.8</td>\n",
       "      <td>520.2</td>\n",
       "      <td>center_left</td>\n",
       "    </tr>\n",
       "    <tr>\n",
       "      <th>...</th>\n",
       "      <th>...</th>\n",
       "      <td>...</td>\n",
       "      <td>...</td>\n",
       "      <td>...</td>\n",
       "    </tr>\n",
       "    <tr>\n",
       "      <th rowspan=\"5\" valign=\"top\">192</th>\n",
       "      <th>0 days 02:29:17.096000</th>\n",
       "      <td>1301.5</td>\n",
       "      <td>313.5</td>\n",
       "      <td>right_option</td>\n",
       "    </tr>\n",
       "    <tr>\n",
       "      <th>0 days 02:29:17.098000</th>\n",
       "      <td>1301.1</td>\n",
       "      <td>313.7</td>\n",
       "      <td>right_option</td>\n",
       "    </tr>\n",
       "    <tr>\n",
       "      <th>0 days 02:29:17.100000</th>\n",
       "      <td>1300.8</td>\n",
       "      <td>314.0</td>\n",
       "      <td>right_option</td>\n",
       "    </tr>\n",
       "    <tr>\n",
       "      <th>0 days 02:29:17.102000</th>\n",
       "      <td>1300.7</td>\n",
       "      <td>314.3</td>\n",
       "      <td>right_option</td>\n",
       "    </tr>\n",
       "    <tr>\n",
       "      <th>0 days 02:29:17.104000</th>\n",
       "      <td>1300.8</td>\n",
       "      <td>314.6</td>\n",
       "      <td>right_option</td>\n",
       "    </tr>\n",
       "  </tbody>\n",
       "</table>\n",
       "<p>175264 rows × 3 columns</p>\n",
       "</div>"
      ],
      "text/plain": [
       "                                      L_gaze_X  L_gaze_Y fixation_target\n",
       "subject trial time                                                      \n",
       "01      1     0 days 02:29:11.122000     789.6     520.9     center_left\n",
       "              0 days 02:29:11.124000     789.4     520.8     center_left\n",
       "              0 days 02:29:11.126000     789.1     520.5     center_left\n",
       "              0 days 02:29:11.128000     789.0     520.3     center_left\n",
       "              0 days 02:29:11.130000     788.8     520.2     center_left\n",
       "...                                        ...       ...             ...\n",
       "        192   0 days 02:29:17.096000    1301.5     313.5    right_option\n",
       "              0 days 02:29:17.098000    1301.1     313.7    right_option\n",
       "              0 days 02:29:17.100000    1300.8     314.0    right_option\n",
       "              0 days 02:29:17.102000    1300.7     314.3    right_option\n",
       "              0 days 02:29:17.104000    1300.8     314.6    right_option\n",
       "\n",
       "[175264 rows x 3 columns]"
      ]
     },
     "execution_count": 3,
     "metadata": {},
     "output_type": "execute_result"
    }
   ],
   "source": [
    "subject.get_eyeposition()"
   ]
  },
  {
   "cell_type": "code",
   "execution_count": 6,
   "id": "3545088b",
   "metadata": {},
   "outputs": [
    {
     "data": {
      "application/vnd.microsoft.datawrangler.viewer.v0+json": {
       "columns": [
        {
         "name": "('subject', 'trial')",
         "rawType": "object",
         "type": "string"
        },
        {
         "name": "n",
         "rawType": "int64",
         "type": "integer"
        },
        {
         "name": "fixation_target",
         "rawType": "category",
         "type": "unknown"
        },
        {
         "name": "duration",
         "rawType": "float64",
         "type": "float"
        }
       ],
       "ref": "6b118675-4610-4864-ba22-a64b09859c98",
       "rows": [
        [
         "('01', 1)",
         "1",
         "center_left",
         "252.0"
        ],
        [
         "('01', 1)",
         "2",
         "left_option",
         "646.0"
        ],
        [
         "('01', 1)",
         "6",
         "right_option",
         "666.0"
        ],
        [
         "('01', 1)",
         "10",
         "left_option",
         "740.0"
        ],
        [
         "('01', 1)",
         "14",
         "right_option",
         "486.0"
        ]
       ],
       "shape": {
        "columns": 3,
        "rows": 5
       }
      },
      "text/html": [
       "<div>\n",
       "<style scoped>\n",
       "    .dataframe tbody tr th:only-of-type {\n",
       "        vertical-align: middle;\n",
       "    }\n",
       "\n",
       "    .dataframe tbody tr th {\n",
       "        vertical-align: top;\n",
       "    }\n",
       "\n",
       "    .dataframe thead th {\n",
       "        text-align: right;\n",
       "    }\n",
       "</style>\n",
       "<table border=\"1\" class=\"dataframe\">\n",
       "  <thead>\n",
       "    <tr style=\"text-align: right;\">\n",
       "      <th></th>\n",
       "      <th></th>\n",
       "      <th>n</th>\n",
       "      <th>fixation_target</th>\n",
       "      <th>duration</th>\n",
       "    </tr>\n",
       "    <tr>\n",
       "      <th>subject</th>\n",
       "      <th>trial</th>\n",
       "      <th></th>\n",
       "      <th></th>\n",
       "      <th></th>\n",
       "    </tr>\n",
       "  </thead>\n",
       "  <tbody>\n",
       "    <tr>\n",
       "      <th rowspan=\"5\" valign=\"top\">01</th>\n",
       "      <th>1</th>\n",
       "      <td>1</td>\n",
       "      <td>center_left</td>\n",
       "      <td>252.0</td>\n",
       "    </tr>\n",
       "    <tr>\n",
       "      <th>1</th>\n",
       "      <td>2</td>\n",
       "      <td>left_option</td>\n",
       "      <td>646.0</td>\n",
       "    </tr>\n",
       "    <tr>\n",
       "      <th>1</th>\n",
       "      <td>6</td>\n",
       "      <td>right_option</td>\n",
       "      <td>666.0</td>\n",
       "    </tr>\n",
       "    <tr>\n",
       "      <th>1</th>\n",
       "      <td>10</td>\n",
       "      <td>left_option</td>\n",
       "      <td>740.0</td>\n",
       "    </tr>\n",
       "    <tr>\n",
       "      <th>1</th>\n",
       "      <td>14</td>\n",
       "      <td>right_option</td>\n",
       "      <td>486.0</td>\n",
       "    </tr>\n",
       "  </tbody>\n",
       "</table>\n",
       "</div>"
      ],
      "text/plain": [
       "                n fixation_target  duration\n",
       "subject trial                              \n",
       "01      1       1     center_left     252.0\n",
       "        1       2     left_option     646.0\n",
       "        1       6    right_option     666.0\n",
       "        1      10     left_option     740.0\n",
       "        1      14    right_option     486.0"
      ]
     },
     "execution_count": 6,
     "metadata": {},
     "output_type": "execute_result"
    }
   ],
   "source": [
    "eyepos = subject.get_trialwise_saccade_info(source='eyepos',summarize_trials=False).sort_index()\n",
    "eyepos.head()"
   ]
  },
  {
   "cell_type": "code",
   "execution_count": null,
   "id": "3629de12",
   "metadata": {},
   "outputs": [],
   "source": [
    "# eyepos = self.get_eyeposition(trialwise=True)\n",
    "\n",
    "trialwise=True\n",
    "\n",
    "eyepos = []\n",
    "fn = op.join(bids_folder, 'derivatives', 'pupil', f'sub-{subject_id}', 'func', f'sub-{subject_id}_gaze.tsv.gz')\n",
    "\n",
    "def get_header_length_csv(fn):\n",
    "    return pd.read_csv(fn, delim_whitespace=True, nrows=0).shape[1]\n",
    "\n",
    "n_cols = get_header_length_csv(fn)\n",
    "\n",
    "#   for run in runs:\n",
    "\n",
    "if n_cols == 11:\n",
    "    cols = ['time', 'L_gaze_X', 'L_gaze_Y', 'L_pupil_size', 'L_vel_X', 'L_vel_Y', 'null', 'target_x', 'target_y', 'target_distance', 'null2']\n",
    "elif n_cols == 12:\n",
    "    cols = ['time', 'L_gaze_X', 'L_gaze_Y', 'L_pupil_size', 'R_gaze_X', 'R_gaze_Y', 'R_pupil_size', 'L_vel_X', 'L_vel_Y', 'R_vel_X', 'R_vel_Y', 'null2']\n",
    "elif n_cols == 7:\n",
    "    cols = ['time', 'L_gaze_X', 'L_gaze_Y', 'L_pupil_size', 'L_vel_X', 'L_vel_Y', 'null']\n",
    "\n",
    "e =pd.read_csv(fn,\n",
    "                delim_whitespace=True, index_col=0,\n",
    "                names=cols, na_values='.',\n",
    "                usecols=['time', 'L_gaze_X', 'L_gaze_Y'])\n",
    "e.fillna(method='ffill')\n",
    "e.index = pd.TimedeltaIndex(e.index, unit='ms')\n",
    "eyepos.append(e)\n",
    "\n",
    "eyepos = pd.DataFrame(eyepos[0])\n"
   ]
  },
  {
   "cell_type": "code",
   "execution_count": 4,
   "id": "4b544903",
   "metadata": {},
   "outputs": [],
   "source": [
    "\n",
    "#median = eyepos['L_gaze_X'].median()\n",
    "#bins = [-np.inf, median-350, median-100, median-75, median+75, median+100, median+350, np.inf]\n",
    "median = 1000 # df['end_x'].median()\n",
    "dist_to_median_out= 750\n",
    "dist_to_median = 250\n",
    "#bins = [-np.inf, median-350, median-100, median-75, median+75, median+100, median+350, np.inf]\n",
    "bins = [-np.inf, median-dist_to_median_out, median-dist_to_median, median-75, median+75, median+dist_to_median, median+dist_to_median_out, np.inf]\n",
    "\n",
    "eyepos['fixation_target']  = pd.cut(eyepos['L_gaze_X'], bins=bins,\n",
    "                                    labels=['outside_left', 'left_option', 'center_left', 'fixation', 'center_right', 'right_option', 'outside_right'])\n",
    "\n",
    "if trialwise:\n",
    "    messages = subject.get_eyetracker_timings()\n",
    "    messages = pd.to_timedelta(messages, unit='ms').unstack('type')\n",
    "\n",
    "    # non-responses take 4500 ms\n",
    "    messages.loc[messages['response'].isnull(), 'response'] = messages.loc[messages['response'].isnull()] + pd.to_timedelta(4500, 'ms')\n",
    "\n",
    "    trialwise_eyepos = []\n",
    "    for ix, row in messages.iterrows():\n",
    "        if pd.notnull(row.stim) and pd.notnull(row.response):\n",
    "            e = eyepos.loc[slice(row.stim, row.response)]\n",
    "            trialwise_eyepos.append(e)\n",
    "        else:\n",
    "        # handle or skip this case\n",
    "            continue\n",
    "    trialwise_eyepos = pd.concat(trialwise_eyepos, keys=messages.index)\n",
    "\n",
    "#return trialwise_eyepos\n"
   ]
  },
  {
   "cell_type": "code",
   "execution_count": 13,
   "id": "b97c10a5",
   "metadata": {},
   "outputs": [],
   "source": [
    "trialwise_eyepos = trialwise_eyepos.reset_index()\n",
    "trialwise_eyepos['trial'] = trialwise_eyepos['trial'].astype(int)\n",
    "trialwise_eyepos = trialwise_eyepos.set_index(['subject','trial','time'])"
   ]
  },
  {
   "cell_type": "code",
   "execution_count": null,
   "id": "f192f6b0",
   "metadata": {},
   "outputs": [],
   "source": [
    "eyepos = trialwise_eyepos.sort_index() # has 192 trials! \n",
    "\n",
    "# subject.get_trialwise_saccade_info(source='eyepos').\n",
    "#eyepos = self.get_eyeposition(trialwise=True)\n",
    "\n",
    "eyepos['n'] = eyepos.groupby(['trial'], group_keys=False)['fixation_target'].apply(lambda x: x.ne(x.shift(1)).cumsum())\n",
    "saccades = eyepos.groupby(['trial', 'n', 'fixation_target']).apply(lambda d: d.iloc[-1].name[-1] - d.iloc[0].name[-1])\n",
    "saccades = (saccades.dt.total_seconds() * 1000.).to_frame('duration').reset_index(['fixation_target', 'n'])\n",
    "saccades = saccades[saccades.duration > 30.]"
   ]
  },
  {
   "cell_type": "code",
   "execution_count": null,
   "id": "742f4d93",
   "metadata": {},
   "outputs": [
    {
     "data": {
      "application/vnd.microsoft.datawrangler.viewer.v0+json": {
       "columns": [
        {
         "name": "trial",
         "rawType": "int64",
         "type": "integer"
        },
        {
         "name": "n",
         "rawType": "int64",
         "type": "integer"
        },
        {
         "name": "fixation_target",
         "rawType": "category",
         "type": "unknown"
        },
        {
         "name": "duration",
         "rawType": "float64",
         "type": "float"
        }
       ],
       "ref": "6482c38e-0e79-417d-a69b-c42eae0fb413",
       "rows": [
        [
         "0",
         "1",
         "center_left",
         "530.0"
        ],
        [
         "0",
         "2",
         "left_option",
         "388.0"
        ],
        [
         "0",
         "3",
         "center_left",
         "174.0"
        ],
        [
         "0",
         "6",
         "fixation",
         "118.0"
        ],
        [
         "0",
         "8",
         "fixation",
         "76.0"
        ],
        [
         "0",
         "10",
         "fixation",
         "184.0"
        ],
        [
         "0",
         "11",
         "center_left",
         "266.0"
        ],
        [
         "0",
         "12",
         "fixation",
         "200.0"
        ],
        [
         "0",
         "13",
         "center_right",
         "442.0"
        ],
        [
         "0",
         "14",
         "right_option",
         "534.0"
        ],
        [
         "0",
         "18",
         "fixation",
         "116.0"
        ],
        [
         "0",
         "695",
         "center_left",
         "490.0"
        ],
        [
         "0",
         "696",
         "left_option",
         "386.0"
        ],
        [
         "0",
         "697",
         "center_left",
         "194.0"
        ],
        [
         "0",
         "699",
         "center_right",
         "152.0"
        ],
        [
         "0",
         "700",
         "fixation",
         "222.0"
        ],
        [
         "0",
         "701",
         "center_right",
         "292.0"
        ],
        [
         "0",
         "704",
         "left_option",
         "2204.0"
        ],
        [
         "0",
         "705",
         "center_left",
         "234.0"
        ],
        [
         "0",
         "706",
         "fixation",
         "398.0"
        ],
        [
         "0",
         "707",
         "center_right",
         "488.0"
        ],
        [
         "0",
         "708",
         "right_option",
         "486.0"
        ],
        [
         "0",
         "712",
         "left_option",
         "524.0"
        ],
        [
         "0",
         "713",
         "center_left",
         "356.0"
        ],
        [
         "0",
         "714",
         "fixation",
         "218.0"
        ],
        [
         "0",
         "715",
         "center_right",
         "156.0"
        ],
        [
         "0",
         "779",
         "right_option",
         "146.0"
        ],
        [
         "0",
         "781",
         "right_option",
         "384.0"
        ],
        [
         "0",
         "782",
         "center_right",
         "592.0"
        ],
        [
         "0",
         "783",
         "fixation",
         "178.0"
        ],
        [
         "0",
         "785",
         "left_option",
         "380.0"
        ],
        [
         "0",
         "786",
         "center_left",
         "250.0"
        ],
        [
         "0",
         "787",
         "fixation",
         "418.0"
        ],
        [
         "0",
         "788",
         "center_right",
         "240.0"
        ],
        [
         "0",
         "789",
         "right_option",
         "402.0"
        ],
        [
         "0",
         "793",
         "left_option",
         "832.0"
        ],
        [
         "0",
         "794",
         "center_left",
         "220.0"
        ],
        [
         "0",
         "796",
         "center_left",
         "32.0"
        ],
        [
         "0",
         "797",
         "fixation",
         "208.0"
        ],
        [
         "0",
         "799",
         "fixation",
         "38.0"
        ],
        [
         "0",
         "804",
         "center_right",
         "72.0"
        ],
        [
         "0",
         "806",
         "center_right",
         "266.0"
        ],
        [
         "0",
         "807",
         "right_option",
         "698.0"
        ],
        [
         "0",
         "811",
         "left_option",
         "626.0"
        ],
        [
         "0",
         "812",
         "center_left",
         "576.0"
        ],
        [
         "0",
         "813",
         "fixation",
         "402.0"
        ],
        [
         "0",
         "814",
         "center_right",
         "208.0"
        ],
        [
         "0",
         "816",
         "center_left",
         "82.0"
        ],
        [
         "0",
         "819",
         "fixation",
         "38.0"
        ],
        [
         "0",
         "1117",
         "center_right",
         "84.0"
        ]
       ],
       "shape": {
        "columns": 3,
        "rows": 913
       }
      },
      "text/html": [
       "<div>\n",
       "<style scoped>\n",
       "    .dataframe tbody tr th:only-of-type {\n",
       "        vertical-align: middle;\n",
       "    }\n",
       "\n",
       "    .dataframe tbody tr th {\n",
       "        vertical-align: top;\n",
       "    }\n",
       "\n",
       "    .dataframe thead th {\n",
       "        text-align: right;\n",
       "    }\n",
       "</style>\n",
       "<table border=\"1\" class=\"dataframe\">\n",
       "  <thead>\n",
       "    <tr style=\"text-align: right;\">\n",
       "      <th></th>\n",
       "      <th>n</th>\n",
       "      <th>fixation_target</th>\n",
       "      <th>duration</th>\n",
       "    </tr>\n",
       "    <tr>\n",
       "      <th>trial</th>\n",
       "      <th></th>\n",
       "      <th></th>\n",
       "      <th></th>\n",
       "    </tr>\n",
       "  </thead>\n",
       "  <tbody>\n",
       "    <tr>\n",
       "      <th>0</th>\n",
       "      <td>1</td>\n",
       "      <td>center_left</td>\n",
       "      <td>530.0</td>\n",
       "    </tr>\n",
       "    <tr>\n",
       "      <th>0</th>\n",
       "      <td>2</td>\n",
       "      <td>left_option</td>\n",
       "      <td>388.0</td>\n",
       "    </tr>\n",
       "    <tr>\n",
       "      <th>0</th>\n",
       "      <td>3</td>\n",
       "      <td>center_left</td>\n",
       "      <td>174.0</td>\n",
       "    </tr>\n",
       "    <tr>\n",
       "      <th>0</th>\n",
       "      <td>6</td>\n",
       "      <td>fixation</td>\n",
       "      <td>118.0</td>\n",
       "    </tr>\n",
       "    <tr>\n",
       "      <th>0</th>\n",
       "      <td>8</td>\n",
       "      <td>fixation</td>\n",
       "      <td>76.0</td>\n",
       "    </tr>\n",
       "    <tr>\n",
       "      <th>...</th>\n",
       "      <td>...</td>\n",
       "      <td>...</td>\n",
       "      <td>...</td>\n",
       "    </tr>\n",
       "    <tr>\n",
       "      <th>192</th>\n",
       "      <td>41</td>\n",
       "      <td>center_left</td>\n",
       "      <td>122.0</td>\n",
       "    </tr>\n",
       "    <tr>\n",
       "      <th>192</th>\n",
       "      <td>42</td>\n",
       "      <td>left_option</td>\n",
       "      <td>232.0</td>\n",
       "    </tr>\n",
       "    <tr>\n",
       "      <th>192</th>\n",
       "      <td>46</td>\n",
       "      <td>right_option</td>\n",
       "      <td>766.0</td>\n",
       "    </tr>\n",
       "    <tr>\n",
       "      <th>192</th>\n",
       "      <td>50</td>\n",
       "      <td>left_option</td>\n",
       "      <td>432.0</td>\n",
       "    </tr>\n",
       "    <tr>\n",
       "      <th>192</th>\n",
       "      <td>54</td>\n",
       "      <td>right_option</td>\n",
       "      <td>92.0</td>\n",
       "    </tr>\n",
       "  </tbody>\n",
       "</table>\n",
       "<p>913 rows × 3 columns</p>\n",
       "</div>"
      ],
      "text/plain": [
       "        n fixation_target  duration\n",
       "trial                              \n",
       "0       1     center_left     530.0\n",
       "0       2     left_option     388.0\n",
       "0       3     center_left     174.0\n",
       "0       6        fixation     118.0\n",
       "0       8        fixation      76.0\n",
       "...    ..             ...       ...\n",
       "192    41     center_left     122.0\n",
       "192    42     left_option     232.0\n",
       "192    46    right_option     766.0\n",
       "192    50     left_option     432.0\n",
       "192    54    right_option      92.0\n",
       "\n",
       "[913 rows x 3 columns]"
      ]
     },
     "execution_count": 24,
     "metadata": {},
     "output_type": "execute_result"
    }
   ],
   "source": [
    "saccades"
   ]
  },
  {
   "cell_type": "code",
   "execution_count": null,
   "id": "f7533730",
   "metadata": {},
   "outputs": [],
   "source": []
  },
  {
   "cell_type": "code",
   "execution_count": null,
   "id": "f551e016",
   "metadata": {},
   "outputs": [],
   "source": []
  }
 ],
 "metadata": {
  "kernelspec": {
   "display_name": "behav_fit",
   "language": "python",
   "name": "python3"
  },
  "language_info": {
   "codemirror_mode": {
    "name": "ipython",
    "version": 3
   },
   "file_extension": ".py",
   "mimetype": "text/x-python",
   "name": "python",
   "nbconvert_exporter": "python",
   "pygments_lexer": "ipython3",
   "version": "3.10.6"
  }
 },
 "nbformat": 4,
 "nbformat_minor": 5
}
