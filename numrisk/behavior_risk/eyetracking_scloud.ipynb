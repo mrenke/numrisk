{
 "cells": [
  {
   "cell_type": "code",
   "execution_count": 2,
   "metadata": {},
   "outputs": [],
   "source": [
    "import re\n",
    "from io import StringIO\n",
    "import argparse\n",
    "import os.path as op\n",
    "import os\n",
    "import subprocess\n",
    "import gzip\n",
    "\n",
    "import glob\n",
    "import pandas as pd\n",
    "import shutil"
   ]
  },
  {
   "cell_type": "code",
   "execution_count": 22,
   "metadata": {},
   "outputs": [],
   "source": [
    "# fromeyetracking computer \n",
    "pati = '/mnt_03/ds-dnumrisk/sourcedata/eyetracking_risk_renamed' # tryouts'\n",
    "\n",
    "file = 'sub-01' # '16_26_17'\n",
    "fn = op.join(pati, f'{file}.edf')\n"
   ]
  },
  {
   "cell_type": "code",
   "execution_count": 9,
   "metadata": {},
   "outputs": [
    {
     "data": {
      "text/plain": [
       "'/mnt_03/ds-dnumrisk/sourcedata/experiment_risk/logs/sub-01/ses-1/sub-1_ses-1_task-risk_non-symbolic.edf'"
      ]
     },
     "execution_count": 9,
     "metadata": {},
     "output_type": "execute_result"
    }
   ],
   "source": [
    "# from experiment_risk folder\n",
    "pati = '/mnt_03/ds-dnumrisk/sourcedata/experiment_risk/logs' # tryouts'\n",
    "file = 'sub-01/ses-1/sub-1_ses-1_task-risk_non-symbolic'\n",
    "\n",
    "pati = '/mnt_03/ds-dnumrisk/sourcedata/' # tryouts'\n",
    "file = 'ex-file-gilles_sub-02_ses-3t2_task-task_run-1'\n",
    "\n",
    "fn = op.join(pati, f'{file}.edf')\n",
    "fn"
   ]
  },
  {
   "cell_type": "code",
   "execution_count": 33,
   "metadata": {},
   "outputs": [
    {
     "name": "stdout",
     "output_type": "stream",
     "text": [
      "\n",
      "EDF2ASC: EyeLink EDF file -> ASCII (text) file translator\n",
      "EDF2ASC version 3.0 Linux Dec  1 2008 \n",
      "(c)1995-2007 by SR Research, last modified Dec  1 2008\n",
      "\n",
      "processing file /mnt_03/ds-dnumrisk/sourcedata/ex-file-gilles_sub-02_ses-3t2_task-task_run-1.edf \n",
      "Preamble of file /mnt_03/ds-dnumrisk/sourcedata/ex-file-gilles_sub-02_ses-3t2_task-task_run-1.edf\n",
      "| DATE: Tue Nov 24 14:35:53 2020                                              |\n",
      "| TYPE: EDF_FILE BINARY EVENT SAMPLE TAGGED                                   |\n",
      "| VERSION: EYELINK II 1                                                       |\n",
      "| SOURCE: EYELINK CL                                                          |\n",
      "| EYELINK II CL v4.51 Mar 13 2010                                             |\n",
      "| CAMERA: EyeLink CL-OL HEAD Version 1.0 Sensor=BI8                           |\n",
      "| SERIAL NUMBER: CLO-ZAA36                                                    |\n",
      "| CAMERA_CONFIG: ZAA36140.SCD                                                 |\n",
      "===============================================================================\n",
      "\n",
      "Converted successfully: 0 events, 224925 samples, 1 blocks.\n",
      "\n",
      "EDF2ASC: EyeLink EDF file -> ASCII (text) file translator\n",
      "EDF2ASC version 3.0 Linux Dec  1 2008 \n",
      "(c)1995-2007 by SR Research, last modified Dec  1 2008\n",
      "\n",
      "processing file /mnt_03/ds-dnumrisk/sourcedata/ex-file-gilles_sub-02_ses-3t2_task-task_run-1.edf \n",
      "Preamble of file /mnt_03/ds-dnumrisk/sourcedata/ex-file-gilles_sub-02_ses-3t2_task-task_run-1.edf\n",
      "| DATE: Tue Nov 24 14:35:53 2020                                              |\n",
      "| TYPE: EDF_FILE BINARY EVENT SAMPLE TAGGED                                   |\n",
      "| VERSION: EYELINK II 1                                                       |\n",
      "| SOURCE: EYELINK CL                                                          |\n",
      "| EYELINK II CL v4.51 Mar 13 2010                                             |\n",
      "| CAMERA: EyeLink CL-OL HEAD Version 1.0 Sensor=BI8                           |\n",
      "| SERIAL NUMBER: CLO-ZAA36                                                    |\n",
      "| CAMERA_CONFIG: ZAA36140.SCD                                                 |\n",
      "===============================================================================\n",
      "\n",
      "start time miss match SAC 1484153 1484177 24\n",
      "start time miss match SAC 1502569 1502607 38\n",
      "start time miss match SAC 1509083 1509101 18\n",
      "start time miss match SAC 1842509 1842527 18\n",
      "Converted successfully: 5756 events, 0 samples, 1 blocks.\n"
     ]
    }
   ],
   "source": [
    "# extract_data\n",
    "\n",
    "asc_fn = fn.replace('.edf', '.asc')\n",
    "gaze_target_fn = fn.replace('.edf', '.gaz.gz')\n",
    "\n",
    "edf2acs_cmd = '/home/ubuntu/git/riskeye/edf2asc'\n",
    "\n",
    "# get gaze\n",
    "cmd = f'{edf2acs_cmd}  -t -y -z -v -s -vel {fn}'\n",
    "\n",
    "subprocess.run(cmd, shell=True)\n",
    "\n",
    "with open(asc_fn, 'rb') as asc_file, gzip.open(gaze_target_fn, 'wb') as target_file:\n",
    "        target_file.writelines(asc_file)\n",
    "os.remove(asc_fn)\n",
    "\n",
    "# get messages\n",
    "cmd = f'{edf2acs_cmd}   -t -y -z -v -e {fn}'\n",
    "msg_target_fn = fn.replace('.edf', '.msg.gz')\n",
    "\n",
    "subprocess.run(cmd, shell=True)\n",
    "\n",
    "with open(asc_fn, 'rb') as asc_file, gzip.open(msg_target_fn, 'wb') as target_file:\n",
    "        target_file.writelines(asc_file)\n",
    "os.remove(asc_fn)"
   ]
  },
  {
   "cell_type": "markdown",
   "metadata": {},
   "source": [
    "## get_experimental_messages"
   ]
  },
  {
   "cell_type": "code",
   "execution_count": null,
   "metadata": {},
   "outputs": [],
   "source": [
    "#def get_experimental_messages(subject, root_folder='/data'):\n",
    "\n",
    "msg_fn=op.join(pati, f'{file}.msg.gz')   # op.join(pati, f'{file}.edf')\n",
    "\n",
    "with gzip.open(msg_fn, 'rt') as mfd:\n",
    "    message_string = mfd.read()\n",
    "\n",
    "pattern = re.compile(r'MSG\\t(?P<timestamp>[0-9]+)\\tstart_type-(?P<start_type>.+?)_phase-(?P<phase>[0-9]+)(?:_key-(?P<key>[a-zA-Z]+))?(?:_time-(?P<time>[0-9.]+))?')\n",
    "# re.compile('MSG\\t(?P<timestamp>[0-9.]+)\\t(?P<message>[0-9]+_.+)')\n",
    "message_strings = re.findall(pattern, message_string)\n",
    "r = re.compile('([0-9]+)_(.+)')\n",
    "\n",
    "tmp = pd.DataFrame(message_strings, columns=['timestamp', 'message',]).astype({'timestamp':int})#.set_index('timestamp').head(10)\n",
    "tmp['trial'] = tmp['message'].map(lambda x: r.match(x).group(1)).astype(int)\n",
    "tmp['type'] = tmp['message'].map(lambda x: r.match(x).group(2)).map(lambda x: 'response' if x.startswith('R') else x)\n",
    "tmp.head()\n"
   ]
  },
  {
   "cell_type": "code",
   "execution_count": null,
   "metadata": {},
   "outputs": [],
   "source": [
    "# Compile the regex pattern\n",
    "pattern = re.compile(r'MSG\\t(?P<timestamp>[0-9]+)\\tstart_type-(?P<start_type>.+?)_phase-(?P<phase>[0-9]+)(?:_key-(?P<key>[a-zA-Z]+))?(?:_time-(?P<time>[0-9.]+))?')\n",
    "\n",
    "# Find all matches using the regex\n",
    "message_strings = pattern.findall(message_string)\n",
    "\n",
    "# Create a DataFrame with the extracted fields\n",
    "tmp = pd.DataFrame(message_strings, columns=['timestamp', 'message', 'phase', 'key', 'time']).astype({'timestamp': int, 'phase': int})\n",
    "\n",
    "# Extract the trial (e.g., 'stim_trial' or 'response_trial') and type information\n",
    "tmp['trial'] = tmp['message'].map(lambda x: re.match(r'(.+)_trial', x).group(1))\n",
    "tmp['type'] = tmp['message'].map(lambda x: 'response' if 'response' in x else 'stim')\n",
    "\n",
    "# Display the first 10 rows\n",
    "#print(tmp.head(10))"
   ]
  },
  {
   "cell_type": "code",
   "execution_count": null,
   "metadata": {},
   "outputs": [],
   "source": [
    "block = 0\n",
    "for ix, row in tmp.iterrows():\n",
    "    if (row.trial == 1) & (row.type == 'rfx'):\n",
    "        block += 1\n",
    "    tmp.at[ix, 'block'] = int(block)\n",
    "\n",
    "\n",
    "tmp['block'] = tmp['block'].astype(int)\n",
    "\n",
    "tmp = tmp.set_index(['block', 'trial', 'type'], drop=True)"
   ]
  },
  {
   "cell_type": "markdown",
   "metadata": {},
   "source": [
    "# get_saccades\n"
   ]
  },
  {
   "cell_type": "code",
   "execution_count": 29,
   "metadata": {},
   "outputs": [],
   "source": [
    "\n",
    "msg_fn=op.join(pati, f'{file}.msg.gz')   #op.join(dir, f'Rs{subject:02d}rn{run:02d}.msg.gz')\n",
    "\n",
    "with gzip.open(msg_fn, 'rt') as mfd:\n",
    "    message_string = mfd.read()\n",
    "message_string"
   ]
  },
  {
   "cell_type": "code",
   "execution_count": 30,
   "metadata": {},
   "outputs": [],
   "source": [
    "message_strings = re.findall(re.compile('ESACC\\t(?P<info>.+)'), message_string)\n",
    "\n",
    "csvString = ('\\n'.join(message_strings))\n",
    "\n",
    "s = pd.read_csv(StringIO(csvString), sep='\\t', names=['eye', 'start_timestamp', 'end_timestamp', 'duration', 'start_x', 'start_y', 'end_x', 'end_y', 'amp', 'peak_velocity'], na_values=['.', '   .'],)\n",
    "                    #    dtype={'start_y':float})\n",
    "\n",
    "s.index.name = 'n'\n",
    "s.head()\n",
    "\n"
   ]
  },
  {
   "cell_type": "markdown",
   "metadata": {},
   "source": [
    "## try functions in prep_eyetrack_data"
   ]
  },
  {
   "cell_type": "code",
   "execution_count": 9,
   "metadata": {},
   "outputs": [],
   "source": [
    "bids_folder='/mnt_03/ds-dnumrisk'\n",
    "subject = 1\n",
    "\n",
    "from prep_eyetrack_data import get_experimental_messages\n",
    "tmp = get_experimental_messages(subject=subject, bids_folder=bids_folder)"
   ]
  },
  {
   "cell_type": "code",
   "execution_count": 4,
   "metadata": {},
   "outputs": [
    {
     "name": "stdout",
     "output_type": "stream",
     "text": [
      "it runs ok\n"
     ]
    },
    {
     "data": {
      "text/html": [
       "<div>\n",
       "<style scoped>\n",
       "    .dataframe tbody tr th:only-of-type {\n",
       "        vertical-align: middle;\n",
       "    }\n",
       "\n",
       "    .dataframe tbody tr th {\n",
       "        vertical-align: top;\n",
       "    }\n",
       "\n",
       "    .dataframe thead th {\n",
       "        text-align: right;\n",
       "    }\n",
       "</style>\n",
       "<table border=\"1\" class=\"dataframe\">\n",
       "  <thead>\n",
       "    <tr style=\"text-align: right;\">\n",
       "      <th></th>\n",
       "      <th>eye</th>\n",
       "      <th>start_timestamp</th>\n",
       "      <th>end_timestamp</th>\n",
       "      <th>duration</th>\n",
       "      <th>start_x</th>\n",
       "      <th>start_y</th>\n",
       "      <th>end_x</th>\n",
       "      <th>end_y</th>\n",
       "      <th>amp</th>\n",
       "      <th>peak_velocity</th>\n",
       "    </tr>\n",
       "    <tr>\n",
       "      <th>n</th>\n",
       "      <th></th>\n",
       "      <th></th>\n",
       "      <th></th>\n",
       "      <th></th>\n",
       "      <th></th>\n",
       "      <th></th>\n",
       "      <th></th>\n",
       "      <th></th>\n",
       "      <th></th>\n",
       "      <th></th>\n",
       "    </tr>\n",
       "  </thead>\n",
       "  <tbody>\n",
       "    <tr>\n",
       "      <th>0</th>\n",
       "      <td>R</td>\n",
       "      <td>8917630</td>\n",
       "      <td>8917674</td>\n",
       "      <td>46</td>\n",
       "      <td>902.3</td>\n",
       "      <td>438.3</td>\n",
       "      <td>853.8</td>\n",
       "      <td>164.0</td>\n",
       "      <td>5.10</td>\n",
       "      <td>241</td>\n",
       "    </tr>\n",
       "    <tr>\n",
       "      <th>1</th>\n",
       "      <td>R</td>\n",
       "      <td>8917838</td>\n",
       "      <td>8917870</td>\n",
       "      <td>34</td>\n",
       "      <td>858.5</td>\n",
       "      <td>159.0</td>\n",
       "      <td>701.4</td>\n",
       "      <td>156.9</td>\n",
       "      <td>3.00</td>\n",
       "      <td>204</td>\n",
       "    </tr>\n",
       "    <tr>\n",
       "      <th>2</th>\n",
       "      <td>R</td>\n",
       "      <td>8918232</td>\n",
       "      <td>8918262</td>\n",
       "      <td>32</td>\n",
       "      <td>702.8</td>\n",
       "      <td>154.2</td>\n",
       "      <td>819.1</td>\n",
       "      <td>148.2</td>\n",
       "      <td>2.22</td>\n",
       "      <td>153</td>\n",
       "    </tr>\n",
       "    <tr>\n",
       "      <th>3</th>\n",
       "      <td>R</td>\n",
       "      <td>8918400</td>\n",
       "      <td>8918430</td>\n",
       "      <td>32</td>\n",
       "      <td>817.2</td>\n",
       "      <td>144.7</td>\n",
       "      <td>930.9</td>\n",
       "      <td>150.5</td>\n",
       "      <td>2.18</td>\n",
       "      <td>150</td>\n",
       "    </tr>\n",
       "    <tr>\n",
       "      <th>4</th>\n",
       "      <td>R</td>\n",
       "      <td>8918692</td>\n",
       "      <td>8918718</td>\n",
       "      <td>28</td>\n",
       "      <td>927.9</td>\n",
       "      <td>150.2</td>\n",
       "      <td>1008.2</td>\n",
       "      <td>147.7</td>\n",
       "      <td>1.54</td>\n",
       "      <td>109</td>\n",
       "    </tr>\n",
       "  </tbody>\n",
       "</table>\n",
       "</div>"
      ],
      "text/plain": [
       "  eye  start_timestamp  end_timestamp  duration  start_x  start_y   end_x  \\\n",
       "n                                                                           \n",
       "0   R          8917630        8917674        46    902.3    438.3   853.8   \n",
       "1   R          8917838        8917870        34    858.5    159.0   701.4   \n",
       "2   R          8918232        8918262        32    702.8    154.2   819.1   \n",
       "3   R          8918400        8918430        32    817.2    144.7   930.9   \n",
       "4   R          8918692        8918718        28    927.9    150.2  1008.2   \n",
       "\n",
       "   end_y   amp  peak_velocity  \n",
       "n                              \n",
       "0  164.0  5.10            241  \n",
       "1  156.9  3.00            204  \n",
       "2  148.2  2.22            153  \n",
       "3  150.5  2.18            150  \n",
       "4  147.7  1.54            109  "
      ]
     },
     "execution_count": 4,
     "metadata": {},
     "output_type": "execute_result"
    }
   ],
   "source": [
    "from prep_eyetrack_data import get_saccades\n",
    "tmp = get_saccades(subject, bids_folder)\n",
    "tmp.head()"
   ]
  },
  {
   "cell_type": "code",
   "execution_count": 7,
   "metadata": {},
   "outputs": [
    {
     "data": {
      "text/plain": [
       "1"
      ]
     },
     "execution_count": 7,
     "metadata": {},
     "output_type": "execute_result"
    }
   ],
   "source": [
    "subject"
   ]
  },
  {
   "cell_type": "code",
   "execution_count": 10,
   "metadata": {},
   "outputs": [],
   "source": [
    "import os.path as op\n",
    "\n",
    "dir = op.join(bids_folder, 'sourcedata/eyetracking_risk_renamed')\n",
    "fn = op.join(dir, f'sub-{subject:02d}.edf')\n"
   ]
  },
  {
   "cell_type": "code",
   "execution_count": null,
   "metadata": {},
   "outputs": [],
   "source": []
  },
  {
   "cell_type": "code",
   "execution_count": null,
   "metadata": {},
   "outputs": [],
   "source": [
    "# old code for debugging get_experiment part\n",
    "\n",
    "for line in message_string.splitlines()[100:110]:  # Print first 10 lines\n",
    "    print(repr(line))"
   ]
  }
 ],
 "metadata": {
  "kernelspec": {
   "display_name": "numrefields",
   "language": "python",
   "name": "python3"
  },
  "language_info": {
   "codemirror_mode": {
    "name": "ipython",
    "version": 3
   },
   "file_extension": ".py",
   "mimetype": "text/x-python",
   "name": "python",
   "nbconvert_exporter": "python",
   "pygments_lexer": "ipython3",
   "version": "3.10.11"
  }
 },
 "nbformat": 4,
 "nbformat_minor": 2
}
