{
 "cells": [
  {
   "cell_type": "markdown",
   "metadata": {},
   "source": [
    "## basic analysis of mag-comp bauer model\n",
    "\n",
    "* ....\n",
    "* model comparison"
   ]
  },
  {
   "cell_type": "code",
   "execution_count": 1,
   "metadata": {},
   "outputs": [],
   "source": [
    "import pandas as pd\n",
    "import seaborn as sns\n",
    "import matplotlib.pyplot as plt\n",
    "import numpy as np\n",
    "import os.path as op\n",
    "import os\n",
    "import arviz as az\n",
    "\n",
    "bids_folder = '/Users/mrenke/data/ds-dnumrisk'\n",
    "target_folder = op.join(bids_folder, f'derivatives/cogmodels_magjudge')\n",
    "params_folder = op.join(bids_folder,'derivatives/phenotype')\n",
    "\n",
    "sns.set_context('talk')\n"
   ]
  },
  {
   "cell_type": "code",
   "execution_count": 2,
   "metadata": {},
   "outputs": [
    {
     "name": "stdout",
     "output_type": "stream",
     "text": [
      "number of subjects found: 66\n",
      "number of subjects in dataframe: 66\n",
      "Int64Index([ 1,  2,  3,  4,  5,  6,  7,  8,  9, 10, 11, 12, 13, 14, 15, 16, 17,\n",
      "            18, 19, 20, 21, 22, 23, 24, 25, 26, 27, 28, 29, 30, 31, 32, 33, 34,\n",
      "            35, 36, 37, 38, 39, 40, 41, 42, 43, 44, 45, 46, 47, 48, 49, 50, 51,\n",
      "            52, 53, 54, 55, 56, 57, 58, 59, 60, 61, 62, 63, 64, 65, 66],\n",
      "           dtype='int64', name='subject')\n"
     ]
    }
   ],
   "source": [
    "from utils import get_data\n",
    "\n",
    "df = get_data(bids_folder)\n",
    "group_list = df.reset_index().drop_duplicates(subset=['subject', 'group'])[['subject', 'group']].set_index('subject')\n"
   ]
  },
  {
   "cell_type": "markdown",
   "metadata": {},
   "source": [
    "## Model Comparison"
   ]
  },
  {
   "cell_type": "code",
   "execution_count": 3,
   "metadata": {},
   "outputs": [],
   "source": [
    "target_folder = op.join(bids_folder, f'derivatives/cogmodels_magjudge')\n",
    "\n",
    "model_1 =  az.from_netcdf(op.join(target_folder, f'model-1_trace.netcdf'))\n",
    "#model_2 =  az.from_netcdf(op.join(target_folder, f'model-2_trace.netcdf'))\n",
    "model_3 =  az.from_netcdf(op.join(target_folder, f'model-3_trace.netcdf'))\n",
    "model_4 =  az.from_netcdf(op.join(target_folder, f'model-4_trace.netcdf'))\n",
    "model_5 =  az.from_netcdf(op.join(target_folder, f'model-5_trace.netcdf'))\n",
    "model_6 =  az.from_netcdf(op.join(target_folder, f'model-6_trace.netcdf'))\n",
    "model_flexNoiseReg1 =  az.from_netcdf(op.join(target_folder, f'model-flexNoiseReg1_trace.netcdf'))\n",
    "model_flexNoiseReg2 =  az.from_netcdf(op.join(target_folder, f'model-flexNoiseReg2_trace.netcdf'))\n"
   ]
  },
  {
   "cell_type": "code",
   "execution_count": 6,
   "metadata": {},
   "outputs": [
    {
     "name": "stderr",
     "output_type": "stream",
     "text": [
      "/Users/mrenke/mambaforge/envs/behav_fit/lib/python3.10/site-packages/arviz/stats/stats.py:803: UserWarning: Estimated shape parameter of Pareto distribution is greater than 0.7 for one or more samples. You should consider using a more robust model, this is because importance sampling is less likely to work well if the marginal posterior and LOO posterior are very different. This is more likely to happen with a non-robust model and highly influential observations.\n",
      "  warnings.warn(\n",
      "/Users/mrenke/mambaforge/envs/behav_fit/lib/python3.10/site-packages/arviz/stats/stats.py:803: UserWarning: Estimated shape parameter of Pareto distribution is greater than 0.7 for one or more samples. You should consider using a more robust model, this is because importance sampling is less likely to work well if the marginal posterior and LOO posterior are very different. This is more likely to happen with a non-robust model and highly influential observations.\n",
      "  warnings.warn(\n",
      "/Users/mrenke/mambaforge/envs/behav_fit/lib/python3.10/site-packages/arviz/stats/stats.py:803: UserWarning: Estimated shape parameter of Pareto distribution is greater than 0.7 for one or more samples. You should consider using a more robust model, this is because importance sampling is less likely to work well if the marginal posterior and LOO posterior are very different. This is more likely to happen with a non-robust model and highly influential observations.\n",
      "  warnings.warn(\n",
      "/Users/mrenke/mambaforge/envs/behav_fit/lib/python3.10/site-packages/arviz/stats/stats.py:803: UserWarning: Estimated shape parameter of Pareto distribution is greater than 0.7 for one or more samples. You should consider using a more robust model, this is because importance sampling is less likely to work well if the marginal posterior and LOO posterior are very different. This is more likely to happen with a non-robust model and highly influential observations.\n",
      "  warnings.warn(\n",
      "/Users/mrenke/mambaforge/envs/behav_fit/lib/python3.10/site-packages/arviz/stats/stats.py:803: UserWarning: Estimated shape parameter of Pareto distribution is greater than 0.7 for one or more samples. You should consider using a more robust model, this is because importance sampling is less likely to work well if the marginal posterior and LOO posterior are very different. This is more likely to happen with a non-robust model and highly influential observations.\n",
      "  warnings.warn(\n"
     ]
    },
    {
     "data": {
      "text/html": [
       "<div>\n",
       "<style scoped>\n",
       "    .dataframe tbody tr th:only-of-type {\n",
       "        vertical-align: middle;\n",
       "    }\n",
       "\n",
       "    .dataframe tbody tr th {\n",
       "        vertical-align: top;\n",
       "    }\n",
       "\n",
       "    .dataframe thead th {\n",
       "        text-align: right;\n",
       "    }\n",
       "</style>\n",
       "<table border=\"1\" class=\"dataframe\">\n",
       "  <thead>\n",
       "    <tr style=\"text-align: right;\">\n",
       "      <th></th>\n",
       "      <th>rank</th>\n",
       "      <th>elpd_loo</th>\n",
       "      <th>p_loo</th>\n",
       "      <th>elpd_diff</th>\n",
       "      <th>weight</th>\n",
       "      <th>se</th>\n",
       "      <th>dse</th>\n",
       "      <th>warning</th>\n",
       "      <th>scale</th>\n",
       "    </tr>\n",
       "  </thead>\n",
       "  <tbody>\n",
       "    <tr>\n",
       "      <th>per/mem noise, fit prior, only prior_sd group reg</th>\n",
       "      <td>0</td>\n",
       "      <td>-3822.209837</td>\n",
       "      <td>135.663703</td>\n",
       "      <td>0.000000</td>\n",
       "      <td>8.956312e-01</td>\n",
       "      <td>64.773104</td>\n",
       "      <td>0.000000</td>\n",
       "      <td>True</td>\n",
       "      <td>log</td>\n",
       "    </tr>\n",
       "    <tr>\n",
       "      <th>per/mem noise, fit prior</th>\n",
       "      <td>1</td>\n",
       "      <td>-3823.052213</td>\n",
       "      <td>136.891497</td>\n",
       "      <td>0.842376</td>\n",
       "      <td>0.000000e+00</td>\n",
       "      <td>64.844956</td>\n",
       "      <td>0.933489</td>\n",
       "      <td>True</td>\n",
       "      <td>log</td>\n",
       "    </tr>\n",
       "    <tr>\n",
       "      <th>n1/n2, fit prior, only prior_sd group reg</th>\n",
       "      <td>2</td>\n",
       "      <td>-3826.553401</td>\n",
       "      <td>140.696220</td>\n",
       "      <td>4.343564</td>\n",
       "      <td>7.040513e-02</td>\n",
       "      <td>64.679658</td>\n",
       "      <td>3.374291</td>\n",
       "      <td>True</td>\n",
       "      <td>log</td>\n",
       "    </tr>\n",
       "    <tr>\n",
       "      <th>n1/n2, no fit prior</th>\n",
       "      <td>3</td>\n",
       "      <td>-3898.896539</td>\n",
       "      <td>85.261423</td>\n",
       "      <td>76.686702</td>\n",
       "      <td>3.396371e-02</td>\n",
       "      <td>64.086731</td>\n",
       "      <td>12.476358</td>\n",
       "      <td>True</td>\n",
       "      <td>log</td>\n",
       "    </tr>\n",
       "    <tr>\n",
       "      <th>per/mem noise, no fit prior</th>\n",
       "      <td>4</td>\n",
       "      <td>-3905.832681</td>\n",
       "      <td>71.048953</td>\n",
       "      <td>83.622843</td>\n",
       "      <td>2.089440e-13</td>\n",
       "      <td>64.659052</td>\n",
       "      <td>12.493144</td>\n",
       "      <td>True</td>\n",
       "      <td>log</td>\n",
       "    </tr>\n",
       "  </tbody>\n",
       "</table>\n",
       "</div>"
      ],
      "text/plain": [
       "                                                   rank     elpd_loo  \\\n",
       "per/mem noise, fit prior, only prior_sd group reg     0 -3822.209837   \n",
       "per/mem noise, fit prior                              1 -3823.052213   \n",
       "n1/n2, fit prior, only prior_sd group reg             2 -3826.553401   \n",
       "n1/n2, no fit prior                                   3 -3898.896539   \n",
       "per/mem noise, no fit prior                           4 -3905.832681   \n",
       "\n",
       "                                                        p_loo  elpd_diff  \\\n",
       "per/mem noise, fit prior, only prior_sd group reg  135.663703   0.000000   \n",
       "per/mem noise, fit prior                           136.891497   0.842376   \n",
       "n1/n2, fit prior, only prior_sd group reg          140.696220   4.343564   \n",
       "n1/n2, no fit prior                                 85.261423  76.686702   \n",
       "per/mem noise, no fit prior                         71.048953  83.622843   \n",
       "\n",
       "                                                         weight         se  \\\n",
       "per/mem noise, fit prior, only prior_sd group reg  8.956312e-01  64.773104   \n",
       "per/mem noise, fit prior                           0.000000e+00  64.844956   \n",
       "n1/n2, fit prior, only prior_sd group reg          7.040513e-02  64.679658   \n",
       "n1/n2, no fit prior                                3.396371e-02  64.086731   \n",
       "per/mem noise, no fit prior                        2.089440e-13  64.659052   \n",
       "\n",
       "                                                         dse  warning scale  \n",
       "per/mem noise, fit prior, only prior_sd group reg   0.000000     True   log  \n",
       "per/mem noise, fit prior                            0.933489     True   log  \n",
       "n1/n2, fit prior, only prior_sd group reg           3.374291     True   log  \n",
       "n1/n2, no fit prior                                12.476358     True   log  \n",
       "per/mem noise, no fit prior                        12.493144     True   log  "
      ]
     },
     "execution_count": 6,
     "metadata": {},
     "output_type": "execute_result"
    }
   ],
   "source": [
    "#compare_dict = {\"model 1\": model_1, \"model 3\": model_3, \"model 4\": model_4} # \"model 2\": model_2,\n",
    "compare_dict = {\"n1/n2, no fit prior\": model_1,\n",
    "                 #\"n1/n2, fit prio, all regs\": model_2,\n",
    "                \"per/mem noise, no fit prior\": model_3, \n",
    "                \"per/mem noise, fit prior\": model_4, \n",
    "                \"per/mem noise, fit prior, only prior_sd group reg\": model_5,\n",
    "                \"n1/n2, fit prior, only prior_sd group reg\": model_6,\n",
    "                #\"flexNoise n1/n2\": model_flexNoiseReg1,\n",
    "                #\"flexNoise same noises\": model_flexNoiseReg2 # TypeError: Encountered error in ELPD computation of compare.\n",
    "                }\n",
    "\n",
    "az.compare(compare_dict)"
   ]
  },
  {
   "cell_type": "markdown",
   "metadata": {},
   "source": [
    "### "
   ]
  },
  {
   "cell_type": "markdown",
   "metadata": {},
   "source": [
    "### Get subwise estimates\n",
    "\n"
   ]
  },
  {
   "cell_type": "code",
   "execution_count": 3,
   "metadata": {},
   "outputs": [],
   "source": [
    "from utils_02 import get_subwise_params\n",
    "\n",
    "model_label = 1\n",
    "idata =  az.from_netcdf(op.join(target_folder, f'model-{model_label}_trace.netcdf'))\n",
    "\n",
    "sd_mem = get_subwise_params(idata, 'n1_evidence_sd',group_list=group_list)\n",
    "sd_per = get_subwise_params(idata, 'n2_evidence_sd',group_list=group_list)\n",
    "\n",
    "sds = pd.concat([sd_mem, sd_per], axis=1)\n",
    "sds = sds.join(group_list)\n",
    "\n",
    "#sds.to_csv(op.join(params_folder, f'magjudge_bauer-{model_label}_sds.csv'))"
   ]
  },
  {
   "cell_type": "code",
   "execution_count": null,
   "metadata": {},
   "outputs": [],
   "source": [
    "model_label = 3\n",
    "idata =  az.from_netcdf(op.join(target_folder, f'model-{model_label}_trace.netcdf'))\n",
    "\n",
    "sd_mem = get_subwise_params(idata, 'memory_noise_sd',group_list=group_list)\n",
    "sd_per = get_subwise_params(idata, 'perceptual_noise_sd',group_list=group_list)\n",
    "\n",
    "sds = pd.concat([sd_mem, sd_per], axis=1)\n",
    "sds = sds.join(group_list)\n",
    "\n",
    "#sds.to_csv(op.join(params_folder, f'magjudge_bauer-{model_label}_sds.csv'))"
   ]
  },
  {
   "cell_type": "code",
   "execution_count": 5,
   "metadata": {},
   "outputs": [
    {
     "name": "stderr",
     "output_type": "stream",
     "text": [
      "/Users/mrenke/mambaforge/envs/behav_fit/lib/python3.10/site-packages/seaborn/categorical.py:3370: UserWarning: 6.1% of the points cannot be placed; you may want to decrease the size of the markers or use stripplot.\n",
      "  warnings.warn(msg, UserWarning)\n",
      "/Users/mrenke/mambaforge/envs/behav_fit/lib/python3.10/site-packages/seaborn/categorical.py:3370: UserWarning: 51.5% of the points cannot be placed; you may want to decrease the size of the markers or use stripplot.\n",
      "  warnings.warn(msg, UserWarning)\n",
      "/Users/mrenke/mambaforge/envs/behav_fit/lib/python3.10/site-packages/seaborn/categorical.py:3370: UserWarning: 6.1% of the points cannot be placed; you may want to decrease the size of the markers or use stripplot.\n",
      "  warnings.warn(msg, UserWarning)\n",
      "/Users/mrenke/mambaforge/envs/behav_fit/lib/python3.10/site-packages/seaborn/categorical.py:3370: UserWarning: 51.5% of the points cannot be placed; you may want to decrease the size of the markers or use stripplot.\n",
      "  warnings.warn(msg, UserWarning)\n"
     ]
    },
    {
     "data": {
      "image/png": "[encoded data removed]",
      "text/plain": [
       "<Figure size 600x200 with 2 Axes>"
      ]
     },
     "metadata": {},
     "output_type": "display_data"
    }
   ],
   "source": [
    "import pingouin as pg\n",
    "\n",
    "df_param = sds\n",
    "df_param = df_param.set_index('group', append=True)\n",
    "\n",
    "fig, ax = plt.subplots(1,2, figsize=(6,2))\n",
    "for i,y_var in enumerate(df_param.columns): \n",
    "    sns.barplot(ax=ax[i],data=df_param.reset_index(), x='group', y=y_var, hue='group',alpha=0.5)\n",
    "    sns.swarmplot(ax=ax[i], data=df_param.reset_index(), x='group', y=y_var,  hue='group',size=5)\n",
    "    an = pg.anova(data=df_param.reset_index(), dv=y_var, between='group')\n",
    "    p_val = np.round(an['p-unc'][0],3)\n",
    "\n",
    "    ax[i].set(title=f'p={p_val}') # ylim=(0.,0.4),\n",
    "    ax[i].legend().remove()\n",
    "    sns.despine()\n",
    "plt.subplots_adjust(wspace=0.5)\n"
   ]
  },
  {
   "cell_type": "code",
   "execution_count": 63,
   "metadata": {},
   "outputs": [],
   "source": [
    "df_param.to_csv(op.join(params_folder, f'magjudge_bauer-{model_label}_sds.csv'))"
   ]
  },
  {
   "cell_type": "code",
   "execution_count": 64,
   "metadata": {},
   "outputs": [
    {
     "data": {
      "text/html": [
       "<div>\n",
       "<style scoped>\n",
       "    .dataframe tbody tr th:only-of-type {\n",
       "        vertical-align: middle;\n",
       "    }\n",
       "\n",
       "    .dataframe tbody tr th {\n",
       "        vertical-align: top;\n",
       "    }\n",
       "\n",
       "    .dataframe thead th {\n",
       "        text-align: right;\n",
       "    }\n",
       "</style>\n",
       "<table border=\"1\" class=\"dataframe\">\n",
       "  <thead>\n",
       "    <tr style=\"text-align: right;\">\n",
       "      <th></th>\n",
       "      <th>n1_evidence_sd</th>\n",
       "      <th>n2_evidence_sd</th>\n",
       "      <th>group</th>\n",
       "    </tr>\n",
       "    <tr>\n",
       "      <th>subject</th>\n",
       "      <th></th>\n",
       "      <th></th>\n",
       "      <th></th>\n",
       "    </tr>\n",
       "  </thead>\n",
       "  <tbody>\n",
       "    <tr>\n",
       "      <th>1</th>\n",
       "      <td>0.199131</td>\n",
       "      <td>0.082536</td>\n",
       "      <td>0</td>\n",
       "    </tr>\n",
       "    <tr>\n",
       "      <th>2</th>\n",
       "      <td>0.294919</td>\n",
       "      <td>0.035016</td>\n",
       "      <td>1</td>\n",
       "    </tr>\n",
       "    <tr>\n",
       "      <th>3</th>\n",
       "      <td>0.300479</td>\n",
       "      <td>0.115566</td>\n",
       "      <td>0</td>\n",
       "    </tr>\n",
       "    <tr>\n",
       "      <th>4</th>\n",
       "      <td>0.200174</td>\n",
       "      <td>0.030707</td>\n",
       "      <td>1</td>\n",
       "    </tr>\n",
       "    <tr>\n",
       "      <th>5</th>\n",
       "      <td>0.223037</td>\n",
       "      <td>0.159042</td>\n",
       "      <td>0</td>\n",
       "    </tr>\n",
       "    <tr>\n",
       "      <th>...</th>\n",
       "      <td>...</td>\n",
       "      <td>...</td>\n",
       "      <td>...</td>\n",
       "    </tr>\n",
       "    <tr>\n",
       "      <th>62</th>\n",
       "      <td>0.175875</td>\n",
       "      <td>0.052763</td>\n",
       "      <td>0</td>\n",
       "    </tr>\n",
       "    <tr>\n",
       "      <th>63</th>\n",
       "      <td>0.206875</td>\n",
       "      <td>0.181617</td>\n",
       "      <td>0</td>\n",
       "    </tr>\n",
       "    <tr>\n",
       "      <th>64</th>\n",
       "      <td>0.219300</td>\n",
       "      <td>0.087886</td>\n",
       "      <td>0</td>\n",
       "    </tr>\n",
       "    <tr>\n",
       "      <th>65</th>\n",
       "      <td>0.210878</td>\n",
       "      <td>0.077379</td>\n",
       "      <td>0</td>\n",
       "    </tr>\n",
       "    <tr>\n",
       "      <th>66</th>\n",
       "      <td>0.187512</td>\n",
       "      <td>0.046585</td>\n",
       "      <td>0</td>\n",
       "    </tr>\n",
       "  </tbody>\n",
       "</table>\n",
       "<p>66 rows × 3 columns</p>\n",
       "</div>"
      ],
      "text/plain": [
       "         n1_evidence_sd  n2_evidence_sd  group\n",
       "subject                                       \n",
       "1              0.199131        0.082536      0\n",
       "2              0.294919        0.035016      1\n",
       "3              0.300479        0.115566      0\n",
       "4              0.200174        0.030707      1\n",
       "5              0.223037        0.159042      0\n",
       "...                 ...             ...    ...\n",
       "62             0.175875        0.052763      0\n",
       "63             0.206875        0.181617      0\n",
       "64             0.219300        0.087886      0\n",
       "65             0.210878        0.077379      0\n",
       "66             0.187512        0.046585      0\n",
       "\n",
       "[66 rows x 3 columns]"
      ]
     },
     "execution_count": 64,
     "metadata": {},
     "output_type": "execute_result"
    }
   ],
   "source": [
    "df_param"
   ]
  },
  {
   "cell_type": "markdown",
   "metadata": {},
   "source": [
    "### ppcs"
   ]
  },
  {
   "cell_type": "code",
   "execution_count": 32,
   "metadata": {},
   "outputs": [
    {
     "data": {
      "text/plain": [
       "{'n1_evidence_sd': {'mu_intercept': -1.0, 'transform': 'softplus'},\n",
       " 'n2_evidence_sd': {'mu_intercept': -1.0, 'transform': 'softplus'}}"
      ]
     },
     "execution_count": 32,
     "metadata": {},
     "output_type": "execute_result"
    }
   ],
   "source": [
    "model.free_parameters"
   ]
  },
  {
   "cell_type": "code",
   "execution_count": 23,
   "metadata": {},
   "outputs": [
    {
     "data": {
      "text/plain": [
       "['n1_evidence_sd_mu',\n",
       " 'n1_evidence_sd_offset',\n",
       " 'n2_evidence_sd_mu',\n",
       " 'n2_evidence_sd_offset',\n",
       " 'n1_evidence_sd_sd',\n",
       " 'n2_evidence_sd_sd',\n",
       " 'n1_evidence_sd',\n",
       " 'n2_evidence_sd']"
      ]
     },
     "execution_count": 23,
     "metadata": {},
     "output_type": "execute_result"
    }
   ],
   "source": [
    "variable_names = list(idata.posterior.data_vars.keys())\n",
    "variable_names"
   ]
  },
  {
   "cell_type": "code",
   "execution_count": 31,
   "metadata": {},
   "outputs": [
    {
     "data": {
      "text/html": [
       "<div>\n",
       "<style scoped>\n",
       "    .dataframe tbody tr th:only-of-type {\n",
       "        vertical-align: middle;\n",
       "    }\n",
       "\n",
       "    .dataframe tbody tr th {\n",
       "        vertical-align: top;\n",
       "    }\n",
       "\n",
       "    .dataframe thead th {\n",
       "        text-align: right;\n",
       "    }\n",
       "</style>\n",
       "<table border=\"1\" class=\"dataframe\">\n",
       "  <thead>\n",
       "    <tr style=\"text-align: right;\">\n",
       "      <th></th>\n",
       "      <th></th>\n",
       "      <th>regressor</th>\n",
       "      <th>n1_evidence_sd_mu</th>\n",
       "    </tr>\n",
       "    <tr>\n",
       "      <th>chain</th>\n",
       "      <th>draw</th>\n",
       "      <th></th>\n",
       "      <th></th>\n",
       "    </tr>\n",
       "  </thead>\n",
       "  <tbody>\n",
       "    <tr>\n",
       "      <th rowspan=\"5\" valign=\"top\">0</th>\n",
       "      <th>0</th>\n",
       "      <td>Intercept</td>\n",
       "      <td>0.227168</td>\n",
       "    </tr>\n",
       "    <tr>\n",
       "      <th>0</th>\n",
       "      <td>group</td>\n",
       "      <td>0.864315</td>\n",
       "    </tr>\n",
       "    <tr>\n",
       "      <th>1</th>\n",
       "      <td>Intercept</td>\n",
       "      <td>0.223017</td>\n",
       "    </tr>\n",
       "    <tr>\n",
       "      <th>1</th>\n",
       "      <td>group</td>\n",
       "      <td>0.746213</td>\n",
       "    </tr>\n",
       "    <tr>\n",
       "      <th>2</th>\n",
       "      <td>Intercept</td>\n",
       "      <td>0.236774</td>\n",
       "    </tr>\n",
       "  </tbody>\n",
       "</table>\n",
       "</div>"
      ],
      "text/plain": [
       "            regressor  n1_evidence_sd_mu\n",
       "chain draw                              \n",
       "0     0     Intercept           0.227168\n",
       "      0         group           0.864315\n",
       "      1     Intercept           0.223017\n",
       "      1         group           0.746213\n",
       "      2     Intercept           0.236774"
      ]
     },
     "execution_count": 31,
     "metadata": {},
     "output_type": "execute_result"
    }
   ],
   "source": [
    "n1 = softplus(idata['posterior']['n1_evidence_sd_mu']).to_dataframe().reset_index('n1_evidence_sd_regressors').rename(mapper={'n1_evidence_sd_regressors':'regressor'}, axis=1)\n",
    "n1.head()"
   ]
  }
 ],
 "metadata": {
  "kernelspec": {
   "display_name": "behav_fit",
   "language": "python",
   "name": "python3"
  },
  "language_info": {
   "codemirror_mode": {
    "name": "ipython",
    "version": 3
   },
   "file_extension": ".py",
   "mimetype": "text/x-python",
   "name": "python",
   "nbconvert_exporter": "python",
   "pygments_lexer": "ipython3",
   "version": "3.10.6"
  }
 },
 "nbformat": 4,
 "nbformat_minor": 2
}
