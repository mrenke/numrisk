{
 "cells": [
  {
   "cell_type": "markdown",
   "metadata": {},
   "source": [
    "## basic analysis of mag-comp bauer model\n",
    "\n",
    "* ....\n",
    "* model comparison"
   ]
  },
  {
   "cell_type": "code",
   "execution_count": 4,
   "metadata": {},
   "outputs": [],
   "source": [
    "import pandas as pd\n",
    "import seaborn as sns\n",
    "import matplotlib.pyplot as plt\n",
    "import numpy as np\n",
    "import os.path as op\n",
    "import os\n",
    "import arviz as az\n",
    "\n",
    "bids_folder = '/Users/mrenke/data/ds-dnumrisk'\n",
    "target_folder = op.join(bids_folder, f'derivatives/cogmodels_magjudge')\n",
    "\n",
    "sns.set_context('talk')\n"
   ]
  },
  {
   "cell_type": "code",
   "execution_count": 5,
   "metadata": {},
   "outputs": [
    {
     "name": "stdout",
     "output_type": "stream",
     "text": [
      "number of subjects found: 64\n"
     ]
    }
   ],
   "source": [
    "from utils import get_data\n",
    "\n",
    "df = get_data(bids_folder)"
   ]
  },
  {
   "cell_type": "markdown",
   "metadata": {},
   "source": [
    "## Model Comparison"
   ]
  },
  {
   "cell_type": "code",
   "execution_count": 3,
   "metadata": {},
   "outputs": [],
   "source": [
    "target_folder = op.join(bids_folder, f'derivatives/cogmodels_magjudge')\n",
    "\n",
    "model_1 =  az.from_netcdf(op.join(target_folder, f'model-1_trace.netcdf'))\n",
    "model_2 =  az.from_netcdf(op.join(target_folder, f'model-2_trace.netcdf'))\n",
    "model_3 =  az.from_netcdf(op.join(target_folder, f'model-3_trace.netcdf'))\n",
    "model_4 =  az.from_netcdf(op.join(target_folder, f'model-4_trace.netcdf'))\n",
    "model_5 =  az.from_netcdf(op.join(target_folder, f'model-5_trace.netcdf'))\n"
   ]
  },
  {
   "cell_type": "code",
   "execution_count": 4,
   "metadata": {},
   "outputs": [
    {
     "name": "stderr",
     "output_type": "stream",
     "text": [
      "/Users/mrenke/mambaforge/envs/behav_fit/lib/python3.10/site-packages/arviz/stats/stats.py:803: UserWarning: Estimated shape parameter of Pareto distribution is greater than 0.7 for one or more samples. You should consider using a more robust model, this is because importance sampling is less likely to work well if the marginal posterior and LOO posterior are very different. This is more likely to happen with a non-robust model and highly influential observations.\n",
      "  warnings.warn(\n",
      "/Users/mrenke/mambaforge/envs/behav_fit/lib/python3.10/site-packages/arviz/stats/stats.py:803: UserWarning: Estimated shape parameter of Pareto distribution is greater than 0.7 for one or more samples. You should consider using a more robust model, this is because importance sampling is less likely to work well if the marginal posterior and LOO posterior are very different. This is more likely to happen with a non-robust model and highly influential observations.\n",
      "  warnings.warn(\n",
      "/Users/mrenke/mambaforge/envs/behav_fit/lib/python3.10/site-packages/arviz/stats/stats.py:803: UserWarning: Estimated shape parameter of Pareto distribution is greater than 0.7 for one or more samples. You should consider using a more robust model, this is because importance sampling is less likely to work well if the marginal posterior and LOO posterior are very different. This is more likely to happen with a non-robust model and highly influential observations.\n",
      "  warnings.warn(\n",
      "/Users/mrenke/mambaforge/envs/behav_fit/lib/python3.10/site-packages/arviz/stats/stats.py:803: UserWarning: Estimated shape parameter of Pareto distribution is greater than 0.7 for one or more samples. You should consider using a more robust model, this is because importance sampling is less likely to work well if the marginal posterior and LOO posterior are very different. This is more likely to happen with a non-robust model and highly influential observations.\n",
      "  warnings.warn(\n",
      "/Users/mrenke/mambaforge/envs/behav_fit/lib/python3.10/site-packages/arviz/stats/stats.py:803: UserWarning: Estimated shape parameter of Pareto distribution is greater than 0.7 for one or more samples. You should consider using a more robust model, this is because importance sampling is less likely to work well if the marginal posterior and LOO posterior are very different. This is more likely to happen with a non-robust model and highly influential observations.\n",
      "  warnings.warn(\n"
     ]
    },
    {
     "data": {
      "text/html": [
       "<div>\n",
       "<style scoped>\n",
       "    .dataframe tbody tr th:only-of-type {\n",
       "        vertical-align: middle;\n",
       "    }\n",
       "\n",
       "    .dataframe tbody tr th {\n",
       "        vertical-align: top;\n",
       "    }\n",
       "\n",
       "    .dataframe thead th {\n",
       "        text-align: right;\n",
       "    }\n",
       "</style>\n",
       "<table border=\"1\" class=\"dataframe\">\n",
       "  <thead>\n",
       "    <tr style=\"text-align: right;\">\n",
       "      <th></th>\n",
       "      <th>rank</th>\n",
       "      <th>elpd_loo</th>\n",
       "      <th>p_loo</th>\n",
       "      <th>elpd_diff</th>\n",
       "      <th>weight</th>\n",
       "      <th>se</th>\n",
       "      <th>dse</th>\n",
       "      <th>warning</th>\n",
       "      <th>scale</th>\n",
       "    </tr>\n",
       "  </thead>\n",
       "  <tbody>\n",
       "    <tr>\n",
       "      <th>per/mem noise, fit prior, only prior_sd group reg</th>\n",
       "      <td>0</td>\n",
       "      <td>-3729.604808</td>\n",
       "      <td>131.117813</td>\n",
       "      <td>0.000000</td>\n",
       "      <td>7.319256e-01</td>\n",
       "      <td>63.769682</td>\n",
       "      <td>0.000000</td>\n",
       "      <td>True</td>\n",
       "      <td>log</td>\n",
       "    </tr>\n",
       "    <tr>\n",
       "      <th>per/mem noise, fit prior</th>\n",
       "      <td>1</td>\n",
       "      <td>-3730.087301</td>\n",
       "      <td>131.803883</td>\n",
       "      <td>0.482493</td>\n",
       "      <td>0.000000e+00</td>\n",
       "      <td>63.797268</td>\n",
       "      <td>0.813595</td>\n",
       "      <td>True</td>\n",
       "      <td>log</td>\n",
       "    </tr>\n",
       "    <tr>\n",
       "      <th>n1/n2, fit prior</th>\n",
       "      <td>2</td>\n",
       "      <td>-3733.050611</td>\n",
       "      <td>134.136775</td>\n",
       "      <td>3.445803</td>\n",
       "      <td>2.244487e-01</td>\n",
       "      <td>63.652330</td>\n",
       "      <td>3.938976</td>\n",
       "      <td>True</td>\n",
       "      <td>log</td>\n",
       "    </tr>\n",
       "    <tr>\n",
       "      <th>n1/n2, no fit prior</th>\n",
       "      <td>3</td>\n",
       "      <td>-3797.628828</td>\n",
       "      <td>89.875935</td>\n",
       "      <td>68.024020</td>\n",
       "      <td>4.362577e-02</td>\n",
       "      <td>63.361328</td>\n",
       "      <td>12.139295</td>\n",
       "      <td>True</td>\n",
       "      <td>log</td>\n",
       "    </tr>\n",
       "    <tr>\n",
       "      <th>per/mem noise, no fit prior</th>\n",
       "      <td>4</td>\n",
       "      <td>-3804.242526</td>\n",
       "      <td>75.191898</td>\n",
       "      <td>74.637718</td>\n",
       "      <td>7.793766e-14</td>\n",
       "      <td>63.557526</td>\n",
       "      <td>12.000286</td>\n",
       "      <td>True</td>\n",
       "      <td>log</td>\n",
       "    </tr>\n",
       "  </tbody>\n",
       "</table>\n",
       "</div>"
      ],
      "text/plain": [
       "                                                   rank     elpd_loo  \\\n",
       "per/mem noise, fit prior, only prior_sd group reg     0 -3729.604808   \n",
       "per/mem noise, fit prior                              1 -3730.087301   \n",
       "n1/n2, fit prior                                      2 -3733.050611   \n",
       "n1/n2, no fit prior                                   3 -3797.628828   \n",
       "per/mem noise, no fit prior                           4 -3804.242526   \n",
       "\n",
       "                                                        p_loo  elpd_diff  \\\n",
       "per/mem noise, fit prior, only prior_sd group reg  131.117813   0.000000   \n",
       "per/mem noise, fit prior                           131.803883   0.482493   \n",
       "n1/n2, fit prior                                   134.136775   3.445803   \n",
       "n1/n2, no fit prior                                 89.875935  68.024020   \n",
       "per/mem noise, no fit prior                         75.191898  74.637718   \n",
       "\n",
       "                                                         weight         se  \\\n",
       "per/mem noise, fit prior, only prior_sd group reg  7.319256e-01  63.769682   \n",
       "per/mem noise, fit prior                           0.000000e+00  63.797268   \n",
       "n1/n2, fit prior                                   2.244487e-01  63.652330   \n",
       "n1/n2, no fit prior                                4.362577e-02  63.361328   \n",
       "per/mem noise, no fit prior                        7.793766e-14  63.557526   \n",
       "\n",
       "                                                         dse  warning scale  \n",
       "per/mem noise, fit prior, only prior_sd group reg   0.000000     True   log  \n",
       "per/mem noise, fit prior                            0.813595     True   log  \n",
       "n1/n2, fit prior                                    3.938976     True   log  \n",
       "n1/n2, no fit prior                                12.139295     True   log  \n",
       "per/mem noise, no fit prior                        12.000286     True   log  "
      ]
     },
     "execution_count": 4,
     "metadata": {},
     "output_type": "execute_result"
    }
   ],
   "source": [
    "compare_dict = {\"model 1\": model_1, \"model 2\": model_2,\"model 3\": model_3, \"model 4\": model_4}\n",
    "compare_dict = {\"n1/n2, no fit prior\": model_1, \"n1/n2, fit prior\": model_2,\n",
    "                \"per/mem noise, no fit prior\": model_3, \"per/mem noise, fit prior\": model_4, \n",
    "                 \"per/mem noise, fit prior, only prior_sd group reg\": model_5}\n",
    "\n",
    "az.compare(compare_dict)"
   ]
  },
  {
   "cell_type": "markdown",
   "metadata": {},
   "source": [
    "### "
   ]
  },
  {
   "cell_type": "markdown",
   "metadata": {},
   "source": [
    "### Get subwise estimates\n",
    "\n"
   ]
  },
  {
   "cell_type": "code",
   "execution_count": 6,
   "metadata": {},
   "outputs": [],
   "source": [
    "from utils_02 import get_subwise_params\n",
    "\n",
    "idata =  az.from_netcdf(op.join(target_folder, f'model-5_trace.netcdf'))\n",
    "\n",
    "sd_mem = get_subwise_params(idata, 'memory_noise_sd')\n",
    "sd_per = get_subwise_params(idata, 'perceptual_noise_sd')\n"
   ]
  },
  {
   "cell_type": "code",
   "execution_count": 13,
   "metadata": {},
   "outputs": [
    {
     "data": {
      "text/html": [
       "<div>\n",
       "<style scoped>\n",
       "    .dataframe tbody tr th:only-of-type {\n",
       "        vertical-align: middle;\n",
       "    }\n",
       "\n",
       "    .dataframe tbody tr th {\n",
       "        vertical-align: top;\n",
       "    }\n",
       "\n",
       "    .dataframe thead th {\n",
       "        text-align: right;\n",
       "    }\n",
       "</style>\n",
       "<table border=\"1\" class=\"dataframe\">\n",
       "  <thead>\n",
       "    <tr style=\"text-align: right;\">\n",
       "      <th></th>\n",
       "      <th>memory_noise_sd</th>\n",
       "      <th>perceptual_noise_sd</th>\n",
       "    </tr>\n",
       "    <tr>\n",
       "      <th>subject</th>\n",
       "      <th></th>\n",
       "      <th></th>\n",
       "    </tr>\n",
       "  </thead>\n",
       "  <tbody>\n",
       "    <tr>\n",
       "      <th>1</th>\n",
       "      <td>0.142121</td>\n",
       "      <td>0.061360</td>\n",
       "    </tr>\n",
       "    <tr>\n",
       "      <th>2</th>\n",
       "      <td>0.149180</td>\n",
       "      <td>0.124042</td>\n",
       "    </tr>\n",
       "    <tr>\n",
       "      <th>3</th>\n",
       "      <td>0.151162</td>\n",
       "      <td>0.165790</td>\n",
       "    </tr>\n",
       "    <tr>\n",
       "      <th>4</th>\n",
       "      <td>0.138716</td>\n",
       "      <td>0.052851</td>\n",
       "    </tr>\n",
       "    <tr>\n",
       "      <th>5</th>\n",
       "      <td>0.147155</td>\n",
       "      <td>0.115497</td>\n",
       "    </tr>\n",
       "  </tbody>\n",
       "</table>\n",
       "</div>"
      ],
      "text/plain": [
       "         memory_noise_sd  perceptual_noise_sd\n",
       "subject                                      \n",
       "1               0.142121             0.061360\n",
       "2               0.149180             0.124042\n",
       "3               0.151162             0.165790\n",
       "4               0.138716             0.052851\n",
       "5               0.147155             0.115497"
      ]
     },
     "execution_count": 13,
     "metadata": {},
     "output_type": "execute_result"
    }
   ],
   "source": [
    "from bauer.utils.bayes import softplus\n",
    "\n",
    "df_params = sd_mem.join(sd_per, on='subject')\n",
    "\n",
    "for col in df_params.columns:\n",
    "    df_params[col] = softplus(df_params[col])\n",
    "df_params.head()"
   ]
  },
  {
   "cell_type": "code",
   "execution_count": 11,
   "metadata": {},
   "outputs": [],
   "source": []
  },
  {
   "cell_type": "code",
   "execution_count": 12,
   "metadata": {},
   "outputs": [
    {
     "data": {
      "text/html": [
       "<div>\n",
       "<style scoped>\n",
       "    .dataframe tbody tr th:only-of-type {\n",
       "        vertical-align: middle;\n",
       "    }\n",
       "\n",
       "    .dataframe tbody tr th {\n",
       "        vertical-align: top;\n",
       "    }\n",
       "\n",
       "    .dataframe thead th {\n",
       "        text-align: right;\n",
       "    }\n",
       "</style>\n",
       "<table border=\"1\" class=\"dataframe\">\n",
       "  <thead>\n",
       "    <tr style=\"text-align: right;\">\n",
       "      <th></th>\n",
       "      <th>memory_noise_sd</th>\n",
       "      <th>perceptual_noise_sd</th>\n",
       "    </tr>\n",
       "    <tr>\n",
       "      <th>subject</th>\n",
       "      <th></th>\n",
       "      <th></th>\n",
       "    </tr>\n",
       "  </thead>\n",
       "  <tbody>\n",
       "    <tr>\n",
       "      <th>1</th>\n",
       "      <td>0.142121</td>\n",
       "      <td>0.061360</td>\n",
       "    </tr>\n",
       "    <tr>\n",
       "      <th>2</th>\n",
       "      <td>0.149180</td>\n",
       "      <td>0.124042</td>\n",
       "    </tr>\n",
       "    <tr>\n",
       "      <th>3</th>\n",
       "      <td>0.151162</td>\n",
       "      <td>0.165790</td>\n",
       "    </tr>\n",
       "    <tr>\n",
       "      <th>4</th>\n",
       "      <td>0.138716</td>\n",
       "      <td>0.052851</td>\n",
       "    </tr>\n",
       "    <tr>\n",
       "      <th>5</th>\n",
       "      <td>0.147155</td>\n",
       "      <td>0.115497</td>\n",
       "    </tr>\n",
       "    <tr>\n",
       "      <th>...</th>\n",
       "      <td>...</td>\n",
       "      <td>...</td>\n",
       "    </tr>\n",
       "    <tr>\n",
       "      <th>60</th>\n",
       "      <td>0.137687</td>\n",
       "      <td>0.037885</td>\n",
       "    </tr>\n",
       "    <tr>\n",
       "      <th>61</th>\n",
       "      <td>0.148456</td>\n",
       "      <td>0.083093</td>\n",
       "    </tr>\n",
       "    <tr>\n",
       "      <th>62</th>\n",
       "      <td>0.136425</td>\n",
       "      <td>0.040149</td>\n",
       "    </tr>\n",
       "    <tr>\n",
       "      <th>63</th>\n",
       "      <td>0.144391</td>\n",
       "      <td>0.119282</td>\n",
       "    </tr>\n",
       "    <tr>\n",
       "      <th>64</th>\n",
       "      <td>0.144504</td>\n",
       "      <td>0.078650</td>\n",
       "    </tr>\n",
       "  </tbody>\n",
       "</table>\n",
       "<p>64 rows × 2 columns</p>\n",
       "</div>"
      ],
      "text/plain": [
       "         memory_noise_sd  perceptual_noise_sd\n",
       "subject                                      \n",
       "1               0.142121             0.061360\n",
       "2               0.149180             0.124042\n",
       "3               0.151162             0.165790\n",
       "4               0.138716             0.052851\n",
       "5               0.147155             0.115497\n",
       "...                  ...                  ...\n",
       "60              0.137687             0.037885\n",
       "61              0.148456             0.083093\n",
       "62              0.136425             0.040149\n",
       "63              0.144391             0.119282\n",
       "64              0.144504             0.078650\n",
       "\n",
       "[64 rows x 2 columns]"
      ]
     },
     "execution_count": 12,
     "metadata": {},
     "output_type": "execute_result"
    }
   ],
   "source": [
    "df_params"
   ]
  },
  {
   "cell_type": "markdown",
   "metadata": {},
   "source": [
    "### ppcs"
   ]
  },
  {
   "cell_type": "code",
   "execution_count": 15,
   "metadata": {},
   "outputs": [
    {
     "name": "stderr",
     "output_type": "stream",
     "text": [
      "Sampling: [ll_bernoulli]\n"
     ]
    },
    {
     "data": {
      "text/html": [
       "\n",
       "    <div>\n",
       "        <style>\n",
       "            /* Turns off some styling */\n",
       "            progress {\n",
       "                /* gets rid of default border in Firefox and Opera. */\n",
       "                border: none;\n",
       "                /* Needs to be in here for Safari polyfill so background images work as expected. */\n",
       "                background-size: auto;\n",
       "            }\n",
       "            .progress-bar-interrupted, .progress-bar-interrupted::-webkit-progress-bar {\n",
       "                background: #F44336;\n",
       "            }\n",
       "        </style>\n",
       "      <progress value='4000' class='' max='4000' style='width:300px; height:20px; vertical-align: middle;'></progress>\n",
       "      100.00% [4000/4000 00:05<00:00]\n",
       "    </div>\n",
       "    "
      ],
      "text/plain": [
       "<IPython.core.display.HTML object>"
      ]
     },
     "metadata": {},
     "output_type": "display_data"
    }
   ],
   "source": [
    "ppc = model.ppc(paradigm=df, idata=idata, )"
   ]
  },
  {
   "cell_type": "code",
   "execution_count": 20,
   "metadata": {},
   "outputs": [
    {
     "name": "stderr",
     "output_type": "stream",
     "text": [
      "/Users/mrenke/git/bauer/bauer/utils/bayes.py:38: FutureWarning: hdi currently interprets 2d data as (draw, shape) but this will change in a future release to (chain, draw) for coherence with other functions\n",
      "  hdi = pd.DataFrame(az.hdi(ppc.T.values), index=ppc.index,\n"
     ]
    },
    {
     "data": {
      "text/plain": [
       "<seaborn.axisgrid.FacetGrid at 0x3261c3df0>"
      ]
     },
     "execution_count": 20,
     "metadata": {},
     "output_type": "execute_result"
    },
    {
     "data": {
      "image/png": "[encoded data removed]",
      "text/plain": [
       "<Figure size 433.5x300 with 1 Axes>"
      ]
     },
     "metadata": {},
     "output_type": "display_data"
    }
   ],
   "source": [
    "from bauer.utils.plotting import plot_ppc\n",
    "\n",
    "plot_ppc(df, ppc, level='group', plot_type=1, var_name='ll_bernoulli')"
   ]
  },
  {
   "cell_type": "code",
   "execution_count": 32,
   "metadata": {},
   "outputs": [
    {
     "data": {
      "text/plain": [
       "{'n1_evidence_sd': {'mu_intercept': -1.0, 'transform': 'softplus'},\n",
       " 'n2_evidence_sd': {'mu_intercept': -1.0, 'transform': 'softplus'}}"
      ]
     },
     "execution_count": 32,
     "metadata": {},
     "output_type": "execute_result"
    }
   ],
   "source": [
    "model.free_parameters"
   ]
  },
  {
   "cell_type": "code",
   "execution_count": 23,
   "metadata": {},
   "outputs": [
    {
     "data": {
      "text/plain": [
       "['n1_evidence_sd_mu',\n",
       " 'n1_evidence_sd_offset',\n",
       " 'n2_evidence_sd_mu',\n",
       " 'n2_evidence_sd_offset',\n",
       " 'n1_evidence_sd_sd',\n",
       " 'n2_evidence_sd_sd',\n",
       " 'n1_evidence_sd',\n",
       " 'n2_evidence_sd']"
      ]
     },
     "execution_count": 23,
     "metadata": {},
     "output_type": "execute_result"
    }
   ],
   "source": [
    "variable_names = list(idata.posterior.data_vars.keys())\n",
    "variable_names"
   ]
  },
  {
   "cell_type": "code",
   "execution_count": 31,
   "metadata": {},
   "outputs": [
    {
     "data": {
      "text/html": [
       "<div>\n",
       "<style scoped>\n",
       "    .dataframe tbody tr th:only-of-type {\n",
       "        vertical-align: middle;\n",
       "    }\n",
       "\n",
       "    .dataframe tbody tr th {\n",
       "        vertical-align: top;\n",
       "    }\n",
       "\n",
       "    .dataframe thead th {\n",
       "        text-align: right;\n",
       "    }\n",
       "</style>\n",
       "<table border=\"1\" class=\"dataframe\">\n",
       "  <thead>\n",
       "    <tr style=\"text-align: right;\">\n",
       "      <th></th>\n",
       "      <th></th>\n",
       "      <th>regressor</th>\n",
       "      <th>n1_evidence_sd_mu</th>\n",
       "    </tr>\n",
       "    <tr>\n",
       "      <th>chain</th>\n",
       "      <th>draw</th>\n",
       "      <th></th>\n",
       "      <th></th>\n",
       "    </tr>\n",
       "  </thead>\n",
       "  <tbody>\n",
       "    <tr>\n",
       "      <th rowspan=\"5\" valign=\"top\">0</th>\n",
       "      <th>0</th>\n",
       "      <td>Intercept</td>\n",
       "      <td>0.227168</td>\n",
       "    </tr>\n",
       "    <tr>\n",
       "      <th>0</th>\n",
       "      <td>group</td>\n",
       "      <td>0.864315</td>\n",
       "    </tr>\n",
       "    <tr>\n",
       "      <th>1</th>\n",
       "      <td>Intercept</td>\n",
       "      <td>0.223017</td>\n",
       "    </tr>\n",
       "    <tr>\n",
       "      <th>1</th>\n",
       "      <td>group</td>\n",
       "      <td>0.746213</td>\n",
       "    </tr>\n",
       "    <tr>\n",
       "      <th>2</th>\n",
       "      <td>Intercept</td>\n",
       "      <td>0.236774</td>\n",
       "    </tr>\n",
       "  </tbody>\n",
       "</table>\n",
       "</div>"
      ],
      "text/plain": [
       "            regressor  n1_evidence_sd_mu\n",
       "chain draw                              \n",
       "0     0     Intercept           0.227168\n",
       "      0         group           0.864315\n",
       "      1     Intercept           0.223017\n",
       "      1         group           0.746213\n",
       "      2     Intercept           0.236774"
      ]
     },
     "execution_count": 31,
     "metadata": {},
     "output_type": "execute_result"
    }
   ],
   "source": [
    "n1 = softplus(idata['posterior']['n1_evidence_sd_mu']).to_dataframe().reset_index('n1_evidence_sd_regressors').rename(mapper={'n1_evidence_sd_regressors':'regressor'}, axis=1)\n",
    "n1.head()"
   ]
  },
  {
   "cell_type": "code",
   "execution_count": null,
   "metadata": {},
   "outputs": [],
   "source": [
    "# add log likelihoods to the model\n",
    "import arviz as az\n",
    "from utils_02 import build_model\n",
    "\n",
    "model_label = '4'\n",
    "model = build_model(model_label, df)\n",
    "model.build_estimation_model()\n",
    "\n",
    "idata = az.from_netcdf(op.join(bids_folder, f'derivatives/cogmodels_magjudge/model-{model_label}_trace.netcdf'))\n"
   ]
  },
  {
   "cell_type": "code",
   "execution_count": null,
   "metadata": {},
   "outputs": [],
   "source": [
    "import pymc as pm\n",
    "\n",
    "model.build_estimation_model(df, hierarchical=True)\n",
    "with model.estimation_model:\n",
    "    pm.compute_log_likelihood(idata)\n",
    "\n",
    "az.to_netcdf(idata,op.join(target_folder, f'model-{model_label}_trace-ll.netcdf'))"
   ]
  }
 ],
 "metadata": {
  "kernelspec": {
   "display_name": "behav_fit",
   "language": "python",
   "name": "python3"
  },
  "language_info": {
   "codemirror_mode": {
    "name": "ipython",
    "version": 3
   },
   "file_extension": ".py",
   "mimetype": "text/x-python",
   "name": "python",
   "nbconvert_exporter": "python",
   "pygments_lexer": "ipython3",
   "version": "3.10.6"
  }
 },
 "nbformat": 4,
 "nbformat_minor": 2
}
