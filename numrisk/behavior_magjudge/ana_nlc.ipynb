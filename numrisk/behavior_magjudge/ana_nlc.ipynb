{
 "cells": [
  {
   "cell_type": "markdown",
   "metadata": {},
   "source": [
    "## basic analysis of mag-comp bauer model\n",
    "\n",
    "* ....\n",
    "* model comparison"
   ]
  },
  {
   "cell_type": "code",
   "execution_count": 13,
   "metadata": {},
   "outputs": [],
   "source": [
    "import pandas as pd\n",
    "import seaborn as sns\n",
    "import matplotlib.pyplot as plt\n",
    "import numpy as np\n",
    "import os.path as op\n",
    "import os\n",
    "import arviz as az\n",
    "\n",
    "bids_folder = '/Users/mrenke/data/ds-dnumrisk'\n",
    "target_folder = op.join(bids_folder, f'derivatives/cogmodels_magjudge')\n",
    "\n",
    "sns.set_context('talk')\n"
   ]
  },
  {
   "cell_type": "code",
   "execution_count": 14,
   "metadata": {},
   "outputs": [
    {
     "name": "stdout",
     "output_type": "stream",
     "text": [
      "number of subjects found: 66\n",
      "number of subjects in dataframe: 66\n",
      "Int64Index([ 1,  2,  3,  4,  5,  6,  7,  8,  9, 10, 11, 12, 13, 14, 15, 16, 17,\n",
      "            18, 19, 20, 21, 22, 23, 24, 25, 26, 27, 28, 29, 30, 31, 32, 33, 34,\n",
      "            35, 36, 37, 38, 39, 40, 41, 42, 43, 44, 45, 46, 47, 48, 49, 50, 51,\n",
      "            52, 53, 54, 55, 56, 57, 58, 59, 60, 61, 62, 63, 64, 65, 66],\n",
      "           dtype='int64', name='subject')\n"
     ]
    }
   ],
   "source": [
    "from utils import get_data\n",
    "\n",
    "df = get_data(bids_folder)"
   ]
  },
  {
   "cell_type": "markdown",
   "metadata": {},
   "source": [
    "## Model Comparison"
   ]
  },
  {
   "cell_type": "code",
   "execution_count": 3,
   "metadata": {},
   "outputs": [],
   "source": [
    "target_folder = op.join(bids_folder, f'derivatives/cogmodels_magjudge')\n",
    "\n",
    "model_1 =  az.from_netcdf(op.join(target_folder, f'model-1_trace.netcdf'))\n",
    "model_2 =  az.from_netcdf(op.join(target_folder, f'model-2_trace.netcdf'))\n",
    "model_3 =  az.from_netcdf(op.join(target_folder, f'model-3_trace.netcdf'))\n",
    "model_4 =  az.from_netcdf(op.join(target_folder, f'model-4_trace.netcdf'))\n",
    "model_5 =  az.from_netcdf(op.join(target_folder, f'model-5_trace.netcdf'))\n"
   ]
  },
  {
   "cell_type": "code",
   "execution_count": 4,
   "metadata": {},
   "outputs": [
    {
     "name": "stderr",
     "output_type": "stream",
     "text": [
      "/Users/mrenke/mambaforge/envs/behav_fit/lib/python3.10/site-packages/arviz/stats/stats.py:803: UserWarning: Estimated shape parameter of Pareto distribution is greater than 0.7 for one or more samples. You should consider using a more robust model, this is because importance sampling is less likely to work well if the marginal posterior and LOO posterior are very different. This is more likely to happen with a non-robust model and highly influential observations.\n",
      "  warnings.warn(\n",
      "/Users/mrenke/mambaforge/envs/behav_fit/lib/python3.10/site-packages/arviz/stats/stats.py:803: UserWarning: Estimated shape parameter of Pareto distribution is greater than 0.7 for one or more samples. You should consider using a more robust model, this is because importance sampling is less likely to work well if the marginal posterior and LOO posterior are very different. This is more likely to happen with a non-robust model and highly influential observations.\n",
      "  warnings.warn(\n",
      "/Users/mrenke/mambaforge/envs/behav_fit/lib/python3.10/site-packages/arviz/stats/stats.py:803: UserWarning: Estimated shape parameter of Pareto distribution is greater than 0.7 for one or more samples. You should consider using a more robust model, this is because importance sampling is less likely to work well if the marginal posterior and LOO posterior are very different. This is more likely to happen with a non-robust model and highly influential observations.\n",
      "  warnings.warn(\n",
      "/Users/mrenke/mambaforge/envs/behav_fit/lib/python3.10/site-packages/arviz/stats/stats.py:803: UserWarning: Estimated shape parameter of Pareto distribution is greater than 0.7 for one or more samples. You should consider using a more robust model, this is because importance sampling is less likely to work well if the marginal posterior and LOO posterior are very different. This is more likely to happen with a non-robust model and highly influential observations.\n",
      "  warnings.warn(\n",
      "/Users/mrenke/mambaforge/envs/behav_fit/lib/python3.10/site-packages/arviz/stats/stats.py:803: UserWarning: Estimated shape parameter of Pareto distribution is greater than 0.7 for one or more samples. You should consider using a more robust model, this is because importance sampling is less likely to work well if the marginal posterior and LOO posterior are very different. This is more likely to happen with a non-robust model and highly influential observations.\n",
      "  warnings.warn(\n"
     ]
    },
    {
     "data": {
      "text/html": [
       "<div>\n",
       "<style scoped>\n",
       "    .dataframe tbody tr th:only-of-type {\n",
       "        vertical-align: middle;\n",
       "    }\n",
       "\n",
       "    .dataframe tbody tr th {\n",
       "        vertical-align: top;\n",
       "    }\n",
       "\n",
       "    .dataframe thead th {\n",
       "        text-align: right;\n",
       "    }\n",
       "</style>\n",
       "<table border=\"1\" class=\"dataframe\">\n",
       "  <thead>\n",
       "    <tr style=\"text-align: right;\">\n",
       "      <th></th>\n",
       "      <th>rank</th>\n",
       "      <th>elpd_loo</th>\n",
       "      <th>p_loo</th>\n",
       "      <th>elpd_diff</th>\n",
       "      <th>weight</th>\n",
       "      <th>se</th>\n",
       "      <th>dse</th>\n",
       "      <th>warning</th>\n",
       "      <th>scale</th>\n",
       "    </tr>\n",
       "  </thead>\n",
       "  <tbody>\n",
       "    <tr>\n",
       "      <th>per/mem noise, fit prior, only prior_sd group reg</th>\n",
       "      <td>0</td>\n",
       "      <td>-3729.604808</td>\n",
       "      <td>131.117813</td>\n",
       "      <td>0.000000</td>\n",
       "      <td>7.319256e-01</td>\n",
       "      <td>63.769682</td>\n",
       "      <td>0.000000</td>\n",
       "      <td>True</td>\n",
       "      <td>log</td>\n",
       "    </tr>\n",
       "    <tr>\n",
       "      <th>per/mem noise, fit prior</th>\n",
       "      <td>1</td>\n",
       "      <td>-3730.087301</td>\n",
       "      <td>131.803883</td>\n",
       "      <td>0.482493</td>\n",
       "      <td>0.000000e+00</td>\n",
       "      <td>63.797268</td>\n",
       "      <td>0.813595</td>\n",
       "      <td>True</td>\n",
       "      <td>log</td>\n",
       "    </tr>\n",
       "    <tr>\n",
       "      <th>n1/n2, fit prior</th>\n",
       "      <td>2</td>\n",
       "      <td>-3733.050611</td>\n",
       "      <td>134.136775</td>\n",
       "      <td>3.445803</td>\n",
       "      <td>2.244487e-01</td>\n",
       "      <td>63.652330</td>\n",
       "      <td>3.938976</td>\n",
       "      <td>True</td>\n",
       "      <td>log</td>\n",
       "    </tr>\n",
       "    <tr>\n",
       "      <th>n1/n2, no fit prior</th>\n",
       "      <td>3</td>\n",
       "      <td>-3797.628828</td>\n",
       "      <td>89.875935</td>\n",
       "      <td>68.024020</td>\n",
       "      <td>4.362577e-02</td>\n",
       "      <td>63.361328</td>\n",
       "      <td>12.139295</td>\n",
       "      <td>True</td>\n",
       "      <td>log</td>\n",
       "    </tr>\n",
       "    <tr>\n",
       "      <th>per/mem noise, no fit prior</th>\n",
       "      <td>4</td>\n",
       "      <td>-3804.242526</td>\n",
       "      <td>75.191898</td>\n",
       "      <td>74.637718</td>\n",
       "      <td>7.793766e-14</td>\n",
       "      <td>63.557526</td>\n",
       "      <td>12.000286</td>\n",
       "      <td>True</td>\n",
       "      <td>log</td>\n",
       "    </tr>\n",
       "  </tbody>\n",
       "</table>\n",
       "</div>"
      ],
      "text/plain": [
       "                                                   rank     elpd_loo  \\\n",
       "per/mem noise, fit prior, only prior_sd group reg     0 -3729.604808   \n",
       "per/mem noise, fit prior                              1 -3730.087301   \n",
       "n1/n2, fit prior                                      2 -3733.050611   \n",
       "n1/n2, no fit prior                                   3 -3797.628828   \n",
       "per/mem noise, no fit prior                           4 -3804.242526   \n",
       "\n",
       "                                                        p_loo  elpd_diff  \\\n",
       "per/mem noise, fit prior, only prior_sd group reg  131.117813   0.000000   \n",
       "per/mem noise, fit prior                           131.803883   0.482493   \n",
       "n1/n2, fit prior                                   134.136775   3.445803   \n",
       "n1/n2, no fit prior                                 89.875935  68.024020   \n",
       "per/mem noise, no fit prior                         75.191898  74.637718   \n",
       "\n",
       "                                                         weight         se  \\\n",
       "per/mem noise, fit prior, only prior_sd group reg  7.319256e-01  63.769682   \n",
       "per/mem noise, fit prior                           0.000000e+00  63.797268   \n",
       "n1/n2, fit prior                                   2.244487e-01  63.652330   \n",
       "n1/n2, no fit prior                                4.362577e-02  63.361328   \n",
       "per/mem noise, no fit prior                        7.793766e-14  63.557526   \n",
       "\n",
       "                                                         dse  warning scale  \n",
       "per/mem noise, fit prior, only prior_sd group reg   0.000000     True   log  \n",
       "per/mem noise, fit prior                            0.813595     True   log  \n",
       "n1/n2, fit prior                                    3.938976     True   log  \n",
       "n1/n2, no fit prior                                12.139295     True   log  \n",
       "per/mem noise, no fit prior                        12.000286     True   log  "
      ]
     },
     "execution_count": 4,
     "metadata": {},
     "output_type": "execute_result"
    }
   ],
   "source": [
    "compare_dict = {\"model 1\": model_1, \"model 2\": model_2,\"model 3\": model_3, \"model 4\": model_4}\n",
    "compare_dict = {\"n1/n2, no fit prior\": model_1, \"n1/n2, fit prior\": model_2,\n",
    "                \"per/mem noise, no fit prior\": model_3, \"per/mem noise, fit prior\": model_4, \n",
    "                 \"per/mem noise, fit prior, only prior_sd group reg\": model_5}\n",
    "\n",
    "az.compare(compare_dict)"
   ]
  },
  {
   "cell_type": "markdown",
   "metadata": {},
   "source": [
    "### "
   ]
  },
  {
   "cell_type": "markdown",
   "metadata": {},
   "source": [
    "### Get subwise estimates\n",
    "\n"
   ]
  },
  {
   "cell_type": "code",
   "execution_count": 4,
   "metadata": {},
   "outputs": [],
   "source": [
    "from utils_02 import get_subwise_params\n",
    "\n",
    "idata =  az.from_netcdf(op.join(target_folder, f'model-5_trace.netcdf'))\n",
    "\n",
    "sd_mem = get_subwise_params(idata, 'memory_noise_sd')\n",
    "sd_per = get_subwise_params(idata, 'perceptual_noise_sd')\n"
   ]
  },
  {
   "cell_type": "code",
   "execution_count": 9,
   "metadata": {},
   "outputs": [
    {
     "ename": "",
     "evalue": "",
     "output_type": "error",
     "traceback": [
      "\u001b[1;31mThe Kernel crashed while executing code in the current cell or a previous cell. \n",
      "\u001b[1;31mPlease review the code in the cell(s) to identify a possible cause of the failure. \n",
      "\u001b[1;31mClick <a href='https://aka.ms/vscodeJupyterKernelCrash'>here</a> for more info. \n",
      "\u001b[1;31mView Jupyter <a href='command:jupyter.viewOutput'>log</a> for further details."
     ]
    }
   ],
   "source": [
    "from utils_02 import build_model\n",
    "model = build_model('5',df=df)\n",
    "model.build_estimation_model()\n",
    "\n",
    "model_5_idata =  az.from_netcdf(op.join(target_folder, f'model-5_trace.netcdf'))\n",
    "\n",
    "sd_per = model.get_subjectwise_parameter_estimates(idata=model_5_idata, parameters='memory_noise_sd')"
   ]
  },
  {
   "cell_type": "code",
   "execution_count": null,
   "metadata": {},
   "outputs": [],
   "source": []
  },
  {
   "cell_type": "code",
   "execution_count": null,
   "metadata": {},
   "outputs": [],
   "source": []
  },
  {
   "cell_type": "code",
   "execution_count": 4,
   "metadata": {},
   "outputs": [
    {
     "ename": "NameError",
     "evalue": "name 'sd_mem' is not defined",
     "output_type": "error",
     "traceback": [
      "\u001b[0;31m---------------------------------------------------------------------------\u001b[0m",
      "\u001b[0;31mNameError\u001b[0m                                 Traceback (most recent call last)",
      "Cell \u001b[0;32mIn[4], line 3\u001b[0m\n\u001b[1;32m      1\u001b[0m \u001b[38;5;28;01mfrom\u001b[39;00m \u001b[38;5;21;01mbauer\u001b[39;00m\u001b[38;5;21;01m.\u001b[39;00m\u001b[38;5;21;01mutils\u001b[39;00m\u001b[38;5;21;01m.\u001b[39;00m\u001b[38;5;21;01mbayes\u001b[39;00m \u001b[38;5;28;01mimport\u001b[39;00m softplus\n\u001b[0;32m----> 3\u001b[0m df_params \u001b[38;5;241m=\u001b[39m \u001b[43msd_mem\u001b[49m\u001b[38;5;241m.\u001b[39mjoin(sd_per, on\u001b[38;5;241m=\u001b[39m\u001b[38;5;124m'\u001b[39m\u001b[38;5;124msubject\u001b[39m\u001b[38;5;124m'\u001b[39m)\n\u001b[1;32m      5\u001b[0m \u001b[38;5;28;01mfor\u001b[39;00m col \u001b[38;5;129;01min\u001b[39;00m df_params\u001b[38;5;241m.\u001b[39mcolumns:\n\u001b[1;32m      6\u001b[0m     df_params[col] \u001b[38;5;241m=\u001b[39m softplus(df_params[col])\n",
      "\u001b[0;31mNameError\u001b[0m: name 'sd_mem' is not defined"
     ]
    }
   ],
   "source": [
    "from bauer.utils.bayes import softplus\n",
    "\n",
    "df_params = sd_mem.join(sd_per, on='subject')\n",
    "\n",
    "for col in df_params.columns:\n",
    "    df_params[col] = softplus(df_params[col])\n",
    "df_params.head()"
   ]
  },
  {
   "cell_type": "code",
   "execution_count": 8,
   "metadata": {},
   "outputs": [
    {
     "data": {
      "text/plain": [
       "2.2629271978496392"
      ]
     },
     "execution_count": 8,
     "metadata": {},
     "output_type": "execute_result"
    }
   ],
   "source": [
    "((np.log(df.n1).mean()+np.log(df.n2).mean()) / 2)\n",
    "\n"
   ]
  },
  {
   "cell_type": "code",
   "execution_count": 12,
   "metadata": {},
   "outputs": [
    {
     "data": {
      "text/plain": [
       "2.2262752634515124"
      ]
     },
     "execution_count": 12,
     "metadata": {},
     "output_type": "execute_result"
    }
   ],
   "source": [
    "np.log(df.n2).mean()"
   ]
  },
  {
   "cell_type": "code",
   "execution_count": 7,
   "metadata": {},
   "outputs": [
    {
     "data": {
      "text/plain": [
       "2.4332434044372904"
      ]
     },
     "execution_count": 7,
     "metadata": {},
     "output_type": "execute_result"
    }
   ],
   "source": [
    "np.log((df.n1.mean()+df.n2.mean()) / 2)\n"
   ]
  },
  {
   "cell_type": "markdown",
   "metadata": {},
   "source": [
    "### ppcs"
   ]
  },
  {
   "cell_type": "code",
   "execution_count": 32,
   "metadata": {},
   "outputs": [
    {
     "data": {
      "text/plain": [
       "{'n1_evidence_sd': {'mu_intercept': -1.0, 'transform': 'softplus'},\n",
       " 'n2_evidence_sd': {'mu_intercept': -1.0, 'transform': 'softplus'}}"
      ]
     },
     "execution_count": 32,
     "metadata": {},
     "output_type": "execute_result"
    }
   ],
   "source": [
    "model.free_parameters"
   ]
  },
  {
   "cell_type": "code",
   "execution_count": 23,
   "metadata": {},
   "outputs": [
    {
     "data": {
      "text/plain": [
       "['n1_evidence_sd_mu',\n",
       " 'n1_evidence_sd_offset',\n",
       " 'n2_evidence_sd_mu',\n",
       " 'n2_evidence_sd_offset',\n",
       " 'n1_evidence_sd_sd',\n",
       " 'n2_evidence_sd_sd',\n",
       " 'n1_evidence_sd',\n",
       " 'n2_evidence_sd']"
      ]
     },
     "execution_count": 23,
     "metadata": {},
     "output_type": "execute_result"
    }
   ],
   "source": [
    "variable_names = list(idata.posterior.data_vars.keys())\n",
    "variable_names"
   ]
  },
  {
   "cell_type": "code",
   "execution_count": 31,
   "metadata": {},
   "outputs": [
    {
     "data": {
      "text/html": [
       "<div>\n",
       "<style scoped>\n",
       "    .dataframe tbody tr th:only-of-type {\n",
       "        vertical-align: middle;\n",
       "    }\n",
       "\n",
       "    .dataframe tbody tr th {\n",
       "        vertical-align: top;\n",
       "    }\n",
       "\n",
       "    .dataframe thead th {\n",
       "        text-align: right;\n",
       "    }\n",
       "</style>\n",
       "<table border=\"1\" class=\"dataframe\">\n",
       "  <thead>\n",
       "    <tr style=\"text-align: right;\">\n",
       "      <th></th>\n",
       "      <th></th>\n",
       "      <th>regressor</th>\n",
       "      <th>n1_evidence_sd_mu</th>\n",
       "    </tr>\n",
       "    <tr>\n",
       "      <th>chain</th>\n",
       "      <th>draw</th>\n",
       "      <th></th>\n",
       "      <th></th>\n",
       "    </tr>\n",
       "  </thead>\n",
       "  <tbody>\n",
       "    <tr>\n",
       "      <th rowspan=\"5\" valign=\"top\">0</th>\n",
       "      <th>0</th>\n",
       "      <td>Intercept</td>\n",
       "      <td>0.227168</td>\n",
       "    </tr>\n",
       "    <tr>\n",
       "      <th>0</th>\n",
       "      <td>group</td>\n",
       "      <td>0.864315</td>\n",
       "    </tr>\n",
       "    <tr>\n",
       "      <th>1</th>\n",
       "      <td>Intercept</td>\n",
       "      <td>0.223017</td>\n",
       "    </tr>\n",
       "    <tr>\n",
       "      <th>1</th>\n",
       "      <td>group</td>\n",
       "      <td>0.746213</td>\n",
       "    </tr>\n",
       "    <tr>\n",
       "      <th>2</th>\n",
       "      <td>Intercept</td>\n",
       "      <td>0.236774</td>\n",
       "    </tr>\n",
       "  </tbody>\n",
       "</table>\n",
       "</div>"
      ],
      "text/plain": [
       "            regressor  n1_evidence_sd_mu\n",
       "chain draw                              \n",
       "0     0     Intercept           0.227168\n",
       "      0         group           0.864315\n",
       "      1     Intercept           0.223017\n",
       "      1         group           0.746213\n",
       "      2     Intercept           0.236774"
      ]
     },
     "execution_count": 31,
     "metadata": {},
     "output_type": "execute_result"
    }
   ],
   "source": [
    "n1 = softplus(idata['posterior']['n1_evidence_sd_mu']).to_dataframe().reset_index('n1_evidence_sd_regressors').rename(mapper={'n1_evidence_sd_regressors':'regressor'}, axis=1)\n",
    "n1.head()"
   ]
  }
 ],
 "metadata": {
  "kernelspec": {
   "display_name": "behav_fit",
   "language": "python",
   "name": "python3"
  },
  "language_info": {
   "codemirror_mode": {
    "name": "ipython",
    "version": 3
   },
   "file_extension": ".py",
   "mimetype": "text/x-python",
   "name": "python",
   "nbconvert_exporter": "python",
   "pygments_lexer": "ipython3",
   "version": "3.1.undefined"
  }
 },
 "nbformat": 4,
 "nbformat_minor": 2
}
