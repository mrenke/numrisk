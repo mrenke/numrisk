{
 "cells": [
  {
   "cell_type": "code",
   "execution_count": 18,
   "metadata": {},
   "outputs": [
    {
     "data": {
      "text/plain": [
       "'/Users/mrenke/data/ds-dnumrisk/derivatives/phenotype'"
      ]
     },
     "execution_count": 18,
     "metadata": {},
     "output_type": "execute_result"
    }
   ],
   "source": [
    "import pandas as pd\n",
    "import numpy as np\n",
    "import os.path as op\n",
    "\n",
    "\n",
    "bids_folder = '/Users/mrenke/data/ds-dnumrisk'\n",
    "target_folder = op.join(bids_folder, 'derivatives','phenotype')\n",
    "target_folder"
   ]
  },
  {
   "cell_type": "code",
   "execution_count": 10,
   "metadata": {},
   "outputs": [],
   "source": [
    "tab_1 = pd.read_excel(op.join(bids_folder,'add_tables','add_measure_1.xlsx'), sheet_name='Corsi-Block-Tapping')\n",
    "tab_1 = tab_1.dropna(how='all').dropna(how='all',axis=1).drop(2) # .loc[range(1,33),:]\n",
    "tab_1 = tab_1.rename(mapper={1:'subject'}).rename(columns={'Unnamed: 1':'item_level','Unnamed: 2':'sequence' })\n",
    "tab_1['item_level'] = tab_1.apply(lambda x: len(x['sequence'].split()) if isinstance(x['sequence'], str) else 0, axis=1)\n",
    "#tab_1.head()"
   ]
  },
  {
   "cell_type": "code",
   "execution_count": 11,
   "metadata": {},
   "outputs": [],
   "source": [
    "tab_2 = pd.read_excel(op.join(bids_folder,'add_tables','add_measure_2.xlsx'), sheet_name='Corsi-Block-Tapping')\n",
    "tab_2 = tab_2.dropna(how='all').dropna(how='all',axis=1)\n",
    "tab_2 = tab_2.rename(mapper={2:'subject'}).rename(columns={'Unnamed: 1':'item_level','Unnamed: 2':'sequence' })\n",
    "tab_2['item_level'] = tab_2.apply(lambda x: len(x['sequence'].split()) if isinstance(x['sequence'], str) else 0, axis=1)\n",
    "#tab_2.head()"
   ]
  },
  {
   "cell_type": "code",
   "execution_count": 12,
   "metadata": {},
   "outputs": [],
   "source": [
    "tab_3 = pd.read_excel(op.join(bids_folder,'add_tables','add_measure_3.xlsx'), sheet_name='Corsi-Block-Tapping')\n",
    "tab_3 = tab_3.dropna(how='all').dropna(how='all',axis=1)\n",
    "tab_3 = tab_3.rename(mapper={2:'subject'}).rename(columns={'Unnamed: 1':'item_level','Unnamed: 2':'sequence' })\n",
    "tab_3['item_level'] = tab_3.apply(lambda x: len(x['sequence'].split()) if isinstance(x['sequence'], str) else 0, axis=1)\n",
    "#tab_3.head()"
   ]
  },
  {
   "cell_type": "code",
   "execution_count": 20,
   "metadata": {},
   "outputs": [],
   "source": [
    "def cleanup_corsi_table(tab):\n",
    "    # needs first two columns item_level & sequence, subjects in first row (starting at 3rd column)\n",
    "\n",
    "    new_columns = tab.loc['subject'].values # put subjects into columns\n",
    "    column_mapping = {old: new for old, new in zip(tab.columns[2:], new_columns[2:])}\n",
    "\n",
    "    tab = tab.rename(columns=column_mapping).drop('subject')\n",
    "    tab = tab.set_index(['item_level','sequence'])\n",
    "\n",
    "    t = tab.T.fillna(0)\n",
    "\n",
    "    #overall score\n",
    "    overall_score =  t.sum(axis=1)\n",
    "\n",
    "    # Erfassungsspanne\n",
    "    highest_non_zero_item_level = t.apply(lambda row: max((item_level[0] for item_level, value in row.items() if value != 0), default=0), axis=1)\n",
    "\n",
    "    # basisscore\n",
    "    first_zero_indices = (tab == 0).idxmax().values\n",
    "    highest_all_one_item_level = [item[0]-1 for item in first_zero_indices]\n",
    "    highest_all_one_item_level = pd.DataFrame(highest_all_one_item_level,index = highest_non_zero_item_level.index)\n",
    "\n",
    "    # names columns\n",
    "    highest_all_one_item_level.columns = ['basisscore']\n",
    "    overall_score = overall_score.to_frame(name='overall_score')\n",
    "    highest_non_zero_item_level = highest_non_zero_item_level.to_frame(name='erfassungsspanne')\n",
    "\n",
    "    df_comb = highest_all_one_item_level.join(overall_score).join(highest_non_zero_item_level)\n",
    "    df_comb.index = df_comb.index.astype(int)\n",
    "    df_comb.index.name = 'subject'\n",
    "\n",
    "    return df_comb"
   ]
  },
  {
   "cell_type": "code",
   "execution_count": 21,
   "metadata": {},
   "outputs": [
    {
     "name": "stderr",
     "output_type": "stream",
     "text": [
      "/var/folders/3k/8g0xv78x051fznwyh_m5xcn8f91w3q/T/ipykernel_31828/1377248439.py:13: FutureWarning: Dropping of nuisance columns in DataFrame reductions (with 'numeric_only=None') is deprecated; in a future version this will raise TypeError.  Select only valid columns before calling the reduction.\n",
      "  overall_score =  t.sum(axis=1)\n",
      "/var/folders/3k/8g0xv78x051fznwyh_m5xcn8f91w3q/T/ipykernel_31828/1377248439.py:13: FutureWarning: Dropping of nuisance columns in DataFrame reductions (with 'numeric_only=None') is deprecated; in a future version this will raise TypeError.  Select only valid columns before calling the reduction.\n",
      "  overall_score =  t.sum(axis=1)\n"
     ]
    }
   ],
   "source": [
    "tab_1_clean = cleanup_corsi_table(tab_1)\n",
    "tab_2_clean = cleanup_corsi_table(tab_2)\n",
    "tab_3_clean = cleanup_corsi_table(tab_3)\n",
    "\n",
    "tab_comb = pd.concat([tab_1_clean, tab_2_clean, tab_3_clean], axis=0)\n",
    "tab_comb.to_csv(op.join(target_folder, 'visio-spatial-WM_CBTtask-params.csv'))"
   ]
  },
  {
   "cell_type": "code",
   "execution_count": 204,
   "metadata": {},
   "outputs": [],
   "source": []
  },
  {
   "cell_type": "code",
   "execution_count": null,
   "metadata": {},
   "outputs": [],
   "source": []
  }
 ],
 "metadata": {
  "kernelspec": {
   "display_name": "behav_fit",
   "language": "python",
   "name": "python3"
  },
  "language_info": {
   "codemirror_mode": {
    "name": "ipython",
    "version": 3
   },
   "file_extension": ".py",
   "mimetype": "text/x-python",
   "name": "python",
   "nbconvert_exporter": "python",
   "pygments_lexer": "ipython3",
   "version": "3.10.6"
  }
 },
 "nbformat": 4,
 "nbformat_minor": 2
}
