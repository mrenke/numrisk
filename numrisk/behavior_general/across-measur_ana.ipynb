{
 "cells": [
  {
   "cell_type": "code",
   "execution_count": 1,
   "metadata": {},
   "outputs": [],
   "source": [
    "import pandas as pd\n",
    "import numpy as np\n",
    "import os.path as op\n",
    "\n",
    "\n",
    "source_folder = '/Users/mrenke/data/ds-dnumrisk/derivatives/phenotype'"
   ]
  },
  {
   "cell_type": "code",
   "execution_count": 57,
   "metadata": {},
   "outputs": [],
   "source": [
    "rnps = pd.read_csv(op.join(source_folder, 'rnp_sub-format-wise.csv'))\n",
    "df_rnp = rnps.set_index(['subject', 'format']).unstack('format')\n",
    "df_rnp = df_rnp.droplevel(0, axis=1, ).rename(columns={'non-symbolic': 'rnp_nonsymb','symbolic': 'rnp_symb'})\n",
    "\n",
    "math_stuff = pd.read_csv(op.join(source_folder, 'math_skill&confidence&anxiety-means.csv')).set_index('subject')\n",
    "decode = pd.read_csv(op.join(source_folder, 'decoding_r.csv')).set_index('subject')"
   ]
  },
  {
   "cell_type": "code",
   "execution_count": 70,
   "metadata": {},
   "outputs": [
    {
     "data": {
      "text/plain": [
       "Index(['Subject ID', 'Test End Date Time', 'Results File Name',\n",
       "       'Number of Trials', 'Number of Correct Trials', 'Weber Fraction',\n",
       "       'Percent Correct', 'Average RT', 'Variance RT', 'Average Correct RT',\n",
       "       'Variance Correct RT', 'Number of Non-RT-Outlier Trials',\n",
       "       'Number of Correct Non-RT-Outlier Trials',\n",
       "       'Non-RT-Outlier Weber Fraction', 'Non-RT-Outlier Percent Correct',\n",
       "       'Average Non-RT-Outlier RT', 'Variance Non-RT-Outlier RT',\n",
       "       'Average Correct Non-RT-Outlier RT',\n",
       "       'Variance Correct Non-RT-Outlier RT',\n",
       "       'Number of Non-RT-Outlier Correct Trials',\n",
       "       'Average Non-RT-Outlier Correct RT',\n",
       "       'Variance Non-RT-Outlier Correct RT', 'Unnamed: 22'],\n",
       "      dtype='object')"
      ]
     },
     "execution_count": 70,
     "metadata": {},
     "output_type": "execute_result"
    }
   ],
   "source": [
    "panamath_scores = pd.read_csv('/Users/mrenke/data/ds-dnumrisk/add_tables/panamath_AllRunsSummary.csv')\n",
    "panamath_scores.columns\n"
   ]
  },
  {
   "cell_type": "code",
   "execution_count": 84,
   "metadata": {},
   "outputs": [
    {
     "data": {
      "text/html": [
       "<div>\n",
       "<style scoped>\n",
       "    .dataframe tbody tr th:only-of-type {\n",
       "        vertical-align: middle;\n",
       "    }\n",
       "\n",
       "    .dataframe tbody tr th {\n",
       "        vertical-align: top;\n",
       "    }\n",
       "\n",
       "    .dataframe thead th {\n",
       "        text-align: right;\n",
       "    }\n",
       "</style>\n",
       "<table border=\"1\" class=\"dataframe\">\n",
       "  <thead>\n",
       "    <tr style=\"text-align: right;\">\n",
       "      <th></th>\n",
       "      <th>Number of Trials</th>\n",
       "      <th>weber_frac</th>\n",
       "      <th>Percent Correct</th>\n",
       "      <th>Number of Non-RT-Outlier Trials</th>\n",
       "    </tr>\n",
       "    <tr>\n",
       "      <th>subject</th>\n",
       "      <th></th>\n",
       "      <th></th>\n",
       "      <th></th>\n",
       "      <th></th>\n",
       "    </tr>\n",
       "  </thead>\n",
       "  <tbody>\n",
       "    <tr>\n",
       "      <th>1</th>\n",
       "      <td>264</td>\n",
       "      <td>0.143232</td>\n",
       "      <td>85.984848</td>\n",
       "      <td>263</td>\n",
       "    </tr>\n",
       "    <tr>\n",
       "      <th>2</th>\n",
       "      <td>264</td>\n",
       "      <td>0.119873</td>\n",
       "      <td>88.257576</td>\n",
       "      <td>259</td>\n",
       "    </tr>\n",
       "    <tr>\n",
       "      <th>3</th>\n",
       "      <td>264</td>\n",
       "      <td>0.349204</td>\n",
       "      <td>72.348485</td>\n",
       "      <td>257</td>\n",
       "    </tr>\n",
       "    <tr>\n",
       "      <th>4</th>\n",
       "      <td>264</td>\n",
       "      <td>0.183717</td>\n",
       "      <td>82.196970</td>\n",
       "      <td>257</td>\n",
       "    </tr>\n",
       "    <tr>\n",
       "      <th>5</th>\n",
       "      <td>264</td>\n",
       "      <td>0.154192</td>\n",
       "      <td>84.469697</td>\n",
       "      <td>255</td>\n",
       "    </tr>\n",
       "  </tbody>\n",
       "</table>\n",
       "</div>"
      ],
      "text/plain": [
       "         Number of Trials  weber_frac  Percent Correct  \\\n",
       "subject                                                  \n",
       "1                     264    0.143232        85.984848   \n",
       "2                     264    0.119873        88.257576   \n",
       "3                     264    0.349204        72.348485   \n",
       "4                     264    0.183717        82.196970   \n",
       "5                     264    0.154192        84.469697   \n",
       "\n",
       "         Number of Non-RT-Outlier Trials  \n",
       "subject                                   \n",
       "1                                    263  \n",
       "2                                    259  \n",
       "3                                    257  \n",
       "4                                    257  \n",
       "5                                    255  "
      ]
     },
     "execution_count": 84,
     "metadata": {},
     "output_type": "execute_result"
    }
   ],
   "source": [
    "df_pana = panamath_scores.rename(mapper={'Subject ID': 'subject'}, axis=1).set_index('subject')[['Number of Trials','Weber Fraction', 'Percent Correct', 'Number of Non-RT-Outlier Trials']]\n",
    "df_pana.rename(mapper={'Weber Fraction': 'weber_frac'}, inplace=True, axis=1)\n",
    "df_pana.drop(999, axis=0, inplace=True)\n",
    "df_pana.sort_index(inplace=True)\n",
    "df_pana.head() # len(df_pana)   = 64\n",
    " "
   ]
  },
  {
   "cell_type": "code",
   "execution_count": 85,
   "metadata": {},
   "outputs": [
    {
     "data": {
      "text/html": [
       "<div>\n",
       "<style scoped>\n",
       "    .dataframe tbody tr th:only-of-type {\n",
       "        vertical-align: middle;\n",
       "    }\n",
       "\n",
       "    .dataframe tbody tr th {\n",
       "        vertical-align: top;\n",
       "    }\n",
       "\n",
       "    .dataframe thead th {\n",
       "        text-align: right;\n",
       "    }\n",
       "</style>\n",
       "<table border=\"1\" class=\"dataframe\">\n",
       "  <thead>\n",
       "    <tr style=\"text-align: right;\">\n",
       "      <th></th>\n",
       "      <th>rnp_nonsymb</th>\n",
       "      <th>rnp_symb</th>\n",
       "      <th>skill_score</th>\n",
       "      <th>anx_mean</th>\n",
       "      <th>conf_mean</th>\n",
       "      <th>r</th>\n",
       "      <th>weber_frac</th>\n",
       "      <th>rnp_symb_dif</th>\n",
       "      <th>rnp_nonsymb_dif</th>\n",
       "    </tr>\n",
       "    <tr>\n",
       "      <th>subject</th>\n",
       "      <th></th>\n",
       "      <th></th>\n",
       "      <th></th>\n",
       "      <th></th>\n",
       "      <th></th>\n",
       "      <th></th>\n",
       "      <th></th>\n",
       "      <th></th>\n",
       "      <th></th>\n",
       "    </tr>\n",
       "  </thead>\n",
       "  <tbody>\n",
       "    <tr>\n",
       "      <th>1</th>\n",
       "      <td>0.279281</td>\n",
       "      <td>0.363823</td>\n",
       "      <td>36.0</td>\n",
       "      <td>1.333333</td>\n",
       "      <td>2.666667</td>\n",
       "      <td>-0.058083</td>\n",
       "      <td>0.143232</td>\n",
       "      <td>0.186177</td>\n",
       "      <td>0.270719</td>\n",
       "    </tr>\n",
       "    <tr>\n",
       "      <th>2</th>\n",
       "      <td>0.279444</td>\n",
       "      <td>0.295677</td>\n",
       "      <td>6.0</td>\n",
       "      <td>2.666667</td>\n",
       "      <td>0.666667</td>\n",
       "      <td>0.206071</td>\n",
       "      <td>0.119873</td>\n",
       "      <td>0.254323</td>\n",
       "      <td>0.270556</td>\n",
       "    </tr>\n",
       "    <tr>\n",
       "      <th>3</th>\n",
       "      <td>0.215662</td>\n",
       "      <td>0.171333</td>\n",
       "      <td>29.0</td>\n",
       "      <td>1.666667</td>\n",
       "      <td>3.333333</td>\n",
       "      <td>NaN</td>\n",
       "      <td>0.349204</td>\n",
       "      <td>0.378667</td>\n",
       "      <td>0.334338</td>\n",
       "    </tr>\n",
       "    <tr>\n",
       "      <th>4</th>\n",
       "      <td>0.356996</td>\n",
       "      <td>0.313972</td>\n",
       "      <td>34.0</td>\n",
       "      <td>4.000000</td>\n",
       "      <td>1.666667</td>\n",
       "      <td>-0.089840</td>\n",
       "      <td>0.183717</td>\n",
       "      <td>0.236028</td>\n",
       "      <td>0.193004</td>\n",
       "    </tr>\n",
       "    <tr>\n",
       "      <th>5</th>\n",
       "      <td>0.379446</td>\n",
       "      <td>0.387491</td>\n",
       "      <td>30.0</td>\n",
       "      <td>2.000000</td>\n",
       "      <td>2.333333</td>\n",
       "      <td>-0.023735</td>\n",
       "      <td>0.154192</td>\n",
       "      <td>0.162509</td>\n",
       "      <td>0.170554</td>\n",
       "    </tr>\n",
       "  </tbody>\n",
       "</table>\n",
       "</div>"
      ],
      "text/plain": [
       "         rnp_nonsymb  rnp_symb  skill_score  anx_mean  conf_mean         r  \\\n",
       "subject                                                                      \n",
       "1           0.279281  0.363823         36.0  1.333333   2.666667 -0.058083   \n",
       "2           0.279444  0.295677          6.0  2.666667   0.666667  0.206071   \n",
       "3           0.215662  0.171333         29.0  1.666667   3.333333       NaN   \n",
       "4           0.356996  0.313972         34.0  4.000000   1.666667 -0.089840   \n",
       "5           0.379446  0.387491         30.0  2.000000   2.333333 -0.023735   \n",
       "\n",
       "         weber_frac  rnp_symb_dif  rnp_nonsymb_dif  \n",
       "subject                                             \n",
       "1          0.143232      0.186177         0.270719  \n",
       "2          0.119873      0.254323         0.270556  \n",
       "3          0.349204      0.378667         0.334338  \n",
       "4          0.183717      0.236028         0.193004  \n",
       "5          0.154192      0.162509         0.170554  "
      ]
     },
     "execution_count": 85,
     "metadata": {},
     "output_type": "execute_result"
    }
   ],
   "source": [
    "df_comb = df_rnp.join(math_stuff).join(decode).join(df_pana['weber_frac'])\n",
    "df_comb['rnp_symb_dif'] = np.abs(df_comb['rnp_symb'] - 0.55)\n",
    "df_comb['rnp_nonsymb_dif'] = np.abs(df_comb['rnp_nonsymb'] - 0.55)\n",
    "\n",
    "df_comb.head()"
   ]
  },
  {
   "cell_type": "code",
   "execution_count": 86,
   "metadata": {},
   "outputs": [
    {
     "data": {
      "text/plain": [
       "<seaborn.axisgrid.FacetGrid at 0x168827d60>"
      ]
     },
     "execution_count": 86,
     "metadata": {},
     "output_type": "execute_result"
    },
    {
     "data": {
      "image/png": "[encoded data removed]",
      "text/plain": [
       "<Figure size 500x500 with 1 Axes>"
      ]
     },
     "metadata": {},
     "output_type": "display_data"
    }
   ],
   "source": [
    "import seaborn as sns\n",
    "import pingouin\n",
    "\n",
    "y_var = 'weber_frac' # '4c' # 4b' #\n",
    "x_var = 'r' # 'conf_mean'\n",
    "cor = pingouin.corr(df_comb[y_var], df_comb[x_var])\n",
    "r_ = np.round(cor['r'][0], 2)\n",
    "p = np.round(cor['p-val'][0], 5)\n",
    "\n",
    "fig = sns.lmplot(x=x_var, y=y_var, data=df_comb) #, hue='group'\n",
    "fig.set(title=f' r={r_}, p= {p}')   #ylabel='Anxiety', xlabel='Skill', "
   ]
  },
  {
   "cell_type": "code",
   "execution_count": null,
   "metadata": {},
   "outputs": [],
   "source": []
  }
 ],
 "metadata": {
  "kernelspec": {
   "display_name": "behav_fit",
   "language": "python",
   "name": "python3"
  },
  "language_info": {
   "codemirror_mode": {
    "name": "ipython",
    "version": 3
   },
   "file_extension": ".py",
   "mimetype": "text/x-python",
   "name": "python",
   "nbconvert_exporter": "python",
   "pygments_lexer": "ipython3",
   "version": "3.10.6"
  }
 },
 "nbformat": 4,
 "nbformat_minor": 2
}
