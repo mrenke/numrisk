{
 "cells": [
  {
   "cell_type": "markdown",
   "metadata": {},
   "source": [
    "# nPRFs & GMs ?\n",
    "loops over gradient_n and performs correlation with nPRF-R2 map while controlling for spatial autocorrelation (spin-permutation test) \n",
    "--> randomizes (rotates) over gradient map, nPRF stays\n",
    "\n",
    "1. MagJudge task gradients with nPRFs (fsaverage5)\n",
    "2. Margulies resting state gradients with nPRFs (fsLR)\n",
    "\n",
    "\n",
    "### Add: Data prep\n",
    "* surface transformations (fsav to fsav5)\n",
    "* fsavTofsLR (nPRF param)"
   ]
  },
  {
   "cell_type": "code",
   "execution_count": null,
   "metadata": {},
   "outputs": [],
   "source": [
    "import numpy as np\n",
    "import nibabel as nib\n",
    "from nilearn import datasets\n",
    "import os.path as op\n",
    "import os\n",
    "import pandas as pd\n",
    "import seaborn as sns\n",
    "\n",
    "bids_folder = '/mnt_03/ds-dnumrisk' \n",
    "key = 'encoding_model.denoise'\n",
    "nPRF_dir = op.join(bids_folder,'derivatives',key,'averages')\n",
    "\n",
    "group = 'all'\n",
    "par = 'r2'\n"
   ]
  },
  {
   "cell_type": "markdown",
   "metadata": {},
   "source": [
    "## 1.  MagJudge task gradients, fsaverage space"
   ]
  },
  {
   "cell_type": "code",
   "execution_count": null,
   "metadata": {},
   "outputs": [
    {
     "data": {
      "text/plain": [
       "(10242,)"
      ]
     },
     "execution_count": 11,
     "metadata": {},
     "output_type": "execute_result"
    }
   ],
   "source": [
    "space = 'fsaverage5'\n",
    "nPRF_fn =  op.join(nPRF_dir, f'group-{group}_desc-{par}.optim.nilearn_space-{space}_hemi-L.func.gii')\n",
    "nprf_r2_L = nib.load(nPRF_fn).agg_data()\n",
    "nPRF_fn =  op.join(nPRF_dir, f'group-{group}_desc-{par}.optim.nilearn_space-{space}_hemi-R.func.gii')\n",
    "nprf_r2_R = nib.load(nPRF_fn).agg_data()\n",
    "\n",
    "nprf_r2 = np.concatenate((nprf_r2_L, nprf_r2_R))\n",
    "#np.shape(nprf_r2_R)"
   ]
  },
  {
   "cell_type": "code",
   "execution_count": 12,
   "metadata": {},
   "outputs": [],
   "source": [
    "from  nilearn.datasets import fetch_surf_fsaverage\n",
    "\n",
    "fsaverage = fetch_surf_fsaverage(space) \n",
    "\n",
    "surf_lh, surf_rh = fsaverage.pial_left , fsaverage.pial_right # load_conte69() = surf : tuple of BSPolyData or BSPolyData\n",
    "sphere_lh, sphere_rh = fsaverage.sphere_left , fsaverage.sphere_right\n",
    "\n",
    "#pati = '/mnt_03/ds-dnumrisk/derivatives/freesurfer/fsaverage5/surf/' ; import nilearn.plotting as nplt\n"
   ]
  },
  {
   "cell_type": "code",
   "execution_count": 13,
   "metadata": {},
   "outputs": [],
   "source": [
    "from brainspace.mesh.mesh_io import read_surface\n",
    "\n",
    "surf_lh = read_surface(surf_lh)\n",
    "surf_rh = read_surface(surf_rh)\n",
    "\n",
    "sphere_lh = read_surface(sphere_lh)\n",
    "sphere_rh = read_surface(sphere_rh)\n"
   ]
  },
  {
   "cell_type": "code",
   "execution_count": 14,
   "metadata": {},
   "outputs": [
    {
     "data": {
      "text/html": [
       "<style>#sk-container-id-2 {color: black;background-color: white;}#sk-container-id-2 pre{padding: 0;}#sk-container-id-2 div.sk-toggleable {background-color: white;}#sk-container-id-2 label.sk-toggleable__label {cursor: pointer;display: block;width: 100%;margin-bottom: 0;padding: 0.3em;box-sizing: border-box;text-align: center;}#sk-container-id-2 label.sk-toggleable__label-arrow:before {content: \"▸\";float: left;margin-right: 0.25em;color: #696969;}#sk-container-id-2 label.sk-toggleable__label-arrow:hover:before {color: black;}#sk-container-id-2 div.sk-estimator:hover label.sk-toggleable__label-arrow:before {color: black;}#sk-container-id-2 div.sk-toggleable__content {max-height: 0;max-width: 0;overflow: hidden;text-align: left;background-color: #f0f8ff;}#sk-container-id-2 div.sk-toggleable__content pre {margin: 0.2em;color: black;border-radius: 0.25em;background-color: #f0f8ff;}#sk-container-id-2 input.sk-toggleable__control:checked~div.sk-toggleable__content {max-height: 200px;max-width: 100%;overflow: auto;}#sk-container-id-2 input.sk-toggleable__control:checked~label.sk-toggleable__label-arrow:before {content: \"▾\";}#sk-container-id-2 div.sk-estimator input.sk-toggleable__control:checked~label.sk-toggleable__label {background-color: #d4ebff;}#sk-container-id-2 div.sk-label input.sk-toggleable__control:checked~label.sk-toggleable__label {background-color: #d4ebff;}#sk-container-id-2 input.sk-hidden--visually {border: 0;clip: rect(1px 1px 1px 1px);clip: rect(1px, 1px, 1px, 1px);height: 1px;margin: -1px;overflow: hidden;padding: 0;position: absolute;width: 1px;}#sk-container-id-2 div.sk-estimator {font-family: monospace;background-color: #f0f8ff;border: 1px dotted black;border-radius: 0.25em;box-sizing: border-box;margin-bottom: 0.5em;}#sk-container-id-2 div.sk-estimator:hover {background-color: #d4ebff;}#sk-container-id-2 div.sk-parallel-item::after {content: \"\";width: 100%;border-bottom: 1px solid gray;flex-grow: 1;}#sk-container-id-2 div.sk-label:hover label.sk-toggleable__label {background-color: #d4ebff;}#sk-container-id-2 div.sk-serial::before {content: \"\";position: absolute;border-left: 1px solid gray;box-sizing: border-box;top: 0;bottom: 0;left: 50%;z-index: 0;}#sk-container-id-2 div.sk-serial {display: flex;flex-direction: column;align-items: center;background-color: white;padding-right: 0.2em;padding-left: 0.2em;position: relative;}#sk-container-id-2 div.sk-item {position: relative;z-index: 1;}#sk-container-id-2 div.sk-parallel {display: flex;align-items: stretch;justify-content: center;background-color: white;position: relative;}#sk-container-id-2 div.sk-item::before, #sk-container-id-2 div.sk-parallel-item::before {content: \"\";position: absolute;border-left: 1px solid gray;box-sizing: border-box;top: 0;bottom: 0;left: 50%;z-index: -1;}#sk-container-id-2 div.sk-parallel-item {display: flex;flex-direction: column;z-index: 1;position: relative;background-color: white;}#sk-container-id-2 div.sk-parallel-item:first-child::after {align-self: flex-end;width: 50%;}#sk-container-id-2 div.sk-parallel-item:last-child::after {align-self: flex-start;width: 50%;}#sk-container-id-2 div.sk-parallel-item:only-child::after {width: 0;}#sk-container-id-2 div.sk-dashed-wrapped {border: 1px dashed gray;margin: 0 0.4em 0.5em 0.4em;box-sizing: border-box;padding-bottom: 0.4em;background-color: white;}#sk-container-id-2 div.sk-label label {font-family: monospace;font-weight: bold;display: inline-block;line-height: 1.2em;}#sk-container-id-2 div.sk-label-container {text-align: center;}#sk-container-id-2 div.sk-container {/* jupyter's `normalize.less` sets `[hidden] { display: none; }` but bootstrap.min.css set `[hidden] { display: none !important; }` so we also need the `!important` here to be able to override the default hidden behavior on the sphinx rendered scikit-learn.org. See: https://github.com/scikit-learn/scikit-learn/issues/21755 */display: inline-block !important;position: relative;}#sk-container-id-2 div.sk-text-repr-fallback {display: none;}</style><div id=\"sk-container-id-2\" class=\"sk-top-container\"><div class=\"sk-text-repr-fallback\"><pre>SpinPermutations(n_rep=1000, random_state=0)</pre><b>In a Jupyter environment, please rerun this cell to show the HTML representation or trust the notebook. <br />On GitHub, the HTML representation is unable to render, please try loading this page with nbviewer.org.</b></div><div class=\"sk-container\" hidden><div class=\"sk-item\"><div class=\"sk-estimator sk-toggleable\"><input class=\"sk-toggleable__control sk-hidden--visually\" id=\"sk-estimator-id-2\" type=\"checkbox\" checked><label for=\"sk-estimator-id-2\" class=\"sk-toggleable__label sk-toggleable__label-arrow\">SpinPermutations</label><div class=\"sk-toggleable__content\"><pre>SpinPermutations(n_rep=1000, random_state=0)</pre></div></div></div></div></div>"
      ],
      "text/plain": [
       "SpinPermutations(n_rep=1000, random_state=0)"
      ]
     },
     "execution_count": 14,
     "metadata": {},
     "output_type": "execute_result"
    }
   ],
   "source": [
    "from brainspace.null_models import SpinPermutations\n",
    "\n",
    "n_rand = 1000\n",
    "sp = SpinPermutations(n_rep=n_rand, random_state=0)\n",
    "sp.fit(sphere_lh, points_rh=sphere_rh)\n",
    "\n",
    "#nPRF_rotated = np.hstack(sp.randomize(nprf_r2_L, nprf_r2_R))\n"
   ]
  },
  {
   "cell_type": "code",
   "execution_count": null,
   "metadata": {},
   "outputs": [],
   "source": [
    "# this makes the kernel crash!\n",
    "#from brainspace.plotting import plot_hemispheres\n",
    "\n",
    "plot_hemispheres(surf_lh, surf_rh, array_name=nPRF_rotated[:3], size=(1200, 600),\n",
    "                 cmap='viridis', nan_color=(0.5, 0.5, 0.5, 1), color_bar=True,\n",
    "                 zoom=1.55, label_text=['Rot0', 'Rot1', 'Rot2'])"
   ]
  },
  {
   "cell_type": "code",
   "execution_count": null,
   "metadata": {},
   "outputs": [],
   "source": [
    "# \n",
    "sub='All'\n",
    "n_comp = 10\n",
    "grad_folder = 'derivatives/gradients'\n",
    "fn = op.join(bids_folder,grad_folder,f'sub-{sub}',f'sub-{sub}_gradients_N-{n_comp}.npy')\n",
    "grad = np.load(fn)\n",
    "\n",
    "feats = {}\n",
    "rotated = {}\n",
    "for n_grad in range(5,10):\n",
    "    gm = np.split(grad[n_grad],2) \n",
    "    gradients = np.concatenate((gm[0], gm[1]))\n",
    "    gm_rotated = np.hstack(sp.randomize(gm[0], gm[1]))\n",
    "\n",
    "    feats[f'grad{n_grad+1}'] = gradients\n",
    "    rotated[f'grad{n_grad+1}'] = gm_rotated\n"
   ]
  },
  {
   "cell_type": "code",
   "execution_count": null,
   "metadata": {},
   "outputs": [
    {
     "data": {
      "image/png": "[encoded data removed]",
      "text/plain": [
       "<Figure size 1000x200 with 5 Axes>"
      ]
     },
     "metadata": {},
     "output_type": "display_data"
    }
   ],
   "source": [
    "import seaborn as sns\n",
    "from scipy.stats import spearmanr\n",
    "from matplotlib import pyplot as plt\n",
    "\n",
    "fig, axs = plt.subplots(1, len(feats), figsize=(len(feats)*2, 2))\n",
    "\n",
    "r_spin = np.empty(n_rand)\n",
    "mask = ~np.isnan(gradients)\n",
    "\n",
    "for k, (fn, feat) in enumerate(feats.items()):\n",
    "    r_obs, pv_obs = spearmanr(feat[mask], nprf_r2[mask])\n",
    "\n",
    "    # Compute perm pval\n",
    "    for i, perm in enumerate(rotated[fn]):\n",
    "        mask_rot = mask & ~np.isnan(perm)  # Remove midline\n",
    "        r_spin[i] = spearmanr(perm[mask_rot], nprf_r2[mask_rot])[0]\n",
    "    pv_spin = np.mean(np.abs(r_spin) >= np.abs(r_obs))\n",
    "\n",
    "    # Plot null dist\n",
    "    axs[k].hist(r_spin, bins=25, density=True, alpha=0.5, color=(.8, .8, .8))\n",
    "    axs[k].axvline(r_obs, lw=2, ls='--', color='k')\n",
    "    axs[k].set_xlabel(f'Correlation with {fn}')\n",
    "    axs[k].set_title(f'Obs : {pv_obs:.2e}\\n Spin: {pv_spin:.2e}')\n",
    "    if k == 0:\n",
    "        axs[k].set_ylabel('Density')\n",
    "    #print(f'{fn.capitalize()}:\\n Obs : {pv_obs:.5e}\\n Spin: {pv_spin:.5e}\\n')\n",
    "\n",
    "fig.tight_layout()\n",
    "sns.despine()\n",
    "plt.show()\n",
    "\n"
   ]
  },
  {
   "cell_type": "markdown",
   "metadata": {},
   "source": [
    "## 2. Margulies16 resting state Gradients"
   ]
  },
  {
   "cell_type": "code",
   "execution_count": 20,
   "metadata": {},
   "outputs": [],
   "source": [
    "# load nPRF-r2 in fsLR space\n",
    "space = 'fsLR_den-32k'\n",
    "\n",
    "nPRF_L = nib.load(op.join(nPRF_dir, f'group-{group}_desc-{par}.optim.nilearn_space-{space}_hemi-L.func.gii')).agg_data()\n",
    "nPRF_R = nib.load(op.join(nPRF_dir, f'group-{group}_desc-{par}.optim.nilearn_space-{space}_hemi-R.func.gii')).agg_data()\n",
    "\n",
    "nPRF = np.concatenate((nPRF_L, nPRF_R))"
   ]
  },
  {
   "cell_type": "code",
   "execution_count": 21,
   "metadata": {},
   "outputs": [],
   "source": [
    "from neuromaps.datasets import fetch_atlas\n",
    "\n",
    "fsLR = fetch_atlas('fsLR', '32k')\n",
    "fsLR['sphere'][0]\n",
    "\n",
    "from brainspace.mesh.mesh_io import read_surface\n",
    "\n",
    "surf_lh = read_surface(str(fsLR['midthickness'][0]))\n",
    "surf_rh = read_surface(str(fsLR['midthickness'][1]))\n",
    "\n",
    "sphere_lh = read_surface(str(fsLR['sphere'][0]))\n",
    "sphere_rh = read_surface(str(fsLR['sphere'][1]))"
   ]
  },
  {
   "cell_type": "code",
   "execution_count": 22,
   "metadata": {},
   "outputs": [
    {
     "data": {
      "text/html": [
       "<style>#sk-container-id-3 {color: black;background-color: white;}#sk-container-id-3 pre{padding: 0;}#sk-container-id-3 div.sk-toggleable {background-color: white;}#sk-container-id-3 label.sk-toggleable__label {cursor: pointer;display: block;width: 100%;margin-bottom: 0;padding: 0.3em;box-sizing: border-box;text-align: center;}#sk-container-id-3 label.sk-toggleable__label-arrow:before {content: \"▸\";float: left;margin-right: 0.25em;color: #696969;}#sk-container-id-3 label.sk-toggleable__label-arrow:hover:before {color: black;}#sk-container-id-3 div.sk-estimator:hover label.sk-toggleable__label-arrow:before {color: black;}#sk-container-id-3 div.sk-toggleable__content {max-height: 0;max-width: 0;overflow: hidden;text-align: left;background-color: #f0f8ff;}#sk-container-id-3 div.sk-toggleable__content pre {margin: 0.2em;color: black;border-radius: 0.25em;background-color: #f0f8ff;}#sk-container-id-3 input.sk-toggleable__control:checked~div.sk-toggleable__content {max-height: 200px;max-width: 100%;overflow: auto;}#sk-container-id-3 input.sk-toggleable__control:checked~label.sk-toggleable__label-arrow:before {content: \"▾\";}#sk-container-id-3 div.sk-estimator input.sk-toggleable__control:checked~label.sk-toggleable__label {background-color: #d4ebff;}#sk-container-id-3 div.sk-label input.sk-toggleable__control:checked~label.sk-toggleable__label {background-color: #d4ebff;}#sk-container-id-3 input.sk-hidden--visually {border: 0;clip: rect(1px 1px 1px 1px);clip: rect(1px, 1px, 1px, 1px);height: 1px;margin: -1px;overflow: hidden;padding: 0;position: absolute;width: 1px;}#sk-container-id-3 div.sk-estimator {font-family: monospace;background-color: #f0f8ff;border: 1px dotted black;border-radius: 0.25em;box-sizing: border-box;margin-bottom: 0.5em;}#sk-container-id-3 div.sk-estimator:hover {background-color: #d4ebff;}#sk-container-id-3 div.sk-parallel-item::after {content: \"\";width: 100%;border-bottom: 1px solid gray;flex-grow: 1;}#sk-container-id-3 div.sk-label:hover label.sk-toggleable__label {background-color: #d4ebff;}#sk-container-id-3 div.sk-serial::before {content: \"\";position: absolute;border-left: 1px solid gray;box-sizing: border-box;top: 0;bottom: 0;left: 50%;z-index: 0;}#sk-container-id-3 div.sk-serial {display: flex;flex-direction: column;align-items: center;background-color: white;padding-right: 0.2em;padding-left: 0.2em;position: relative;}#sk-container-id-3 div.sk-item {position: relative;z-index: 1;}#sk-container-id-3 div.sk-parallel {display: flex;align-items: stretch;justify-content: center;background-color: white;position: relative;}#sk-container-id-3 div.sk-item::before, #sk-container-id-3 div.sk-parallel-item::before {content: \"\";position: absolute;border-left: 1px solid gray;box-sizing: border-box;top: 0;bottom: 0;left: 50%;z-index: -1;}#sk-container-id-3 div.sk-parallel-item {display: flex;flex-direction: column;z-index: 1;position: relative;background-color: white;}#sk-container-id-3 div.sk-parallel-item:first-child::after {align-self: flex-end;width: 50%;}#sk-container-id-3 div.sk-parallel-item:last-child::after {align-self: flex-start;width: 50%;}#sk-container-id-3 div.sk-parallel-item:only-child::after {width: 0;}#sk-container-id-3 div.sk-dashed-wrapped {border: 1px dashed gray;margin: 0 0.4em 0.5em 0.4em;box-sizing: border-box;padding-bottom: 0.4em;background-color: white;}#sk-container-id-3 div.sk-label label {font-family: monospace;font-weight: bold;display: inline-block;line-height: 1.2em;}#sk-container-id-3 div.sk-label-container {text-align: center;}#sk-container-id-3 div.sk-container {/* jupyter's `normalize.less` sets `[hidden] { display: none; }` but bootstrap.min.css set `[hidden] { display: none !important; }` so we also need the `!important` here to be able to override the default hidden behavior on the sphinx rendered scikit-learn.org. See: https://github.com/scikit-learn/scikit-learn/issues/21755 */display: inline-block !important;position: relative;}#sk-container-id-3 div.sk-text-repr-fallback {display: none;}</style><div id=\"sk-container-id-3\" class=\"sk-top-container\"><div class=\"sk-text-repr-fallback\"><pre>SpinPermutations(n_rep=1000, random_state=0)</pre><b>In a Jupyter environment, please rerun this cell to show the HTML representation or trust the notebook. <br />On GitHub, the HTML representation is unable to render, please try loading this page with nbviewer.org.</b></div><div class=\"sk-container\" hidden><div class=\"sk-item\"><div class=\"sk-estimator sk-toggleable\"><input class=\"sk-toggleable__control sk-hidden--visually\" id=\"sk-estimator-id-3\" type=\"checkbox\" checked><label for=\"sk-estimator-id-3\" class=\"sk-toggleable__label sk-toggleable__label-arrow\">SpinPermutations</label><div class=\"sk-toggleable__content\"><pre>SpinPermutations(n_rep=1000, random_state=0)</pre></div></div></div></div></div>"
      ],
      "text/plain": [
       "SpinPermutations(n_rep=1000, random_state=0)"
      ]
     },
     "execution_count": 22,
     "metadata": {},
     "output_type": "execute_result"
    }
   ],
   "source": [
    "from brainspace.null_models import SpinPermutations\n",
    "\n",
    "n_rand = 1000\n",
    "sp = SpinPermutations(n_rep=n_rand, random_state=0)\n",
    "sp.fit(sphere_lh, points_rh=sphere_rh)"
   ]
  },
  {
   "cell_type": "code",
   "execution_count": null,
   "metadata": {},
   "outputs": [],
   "source": [
    "from neuromaps.datasets import fetch_annotation\n",
    "\n",
    "margulies2016 = fetch_annotation(source='margulies2016')\n",
    "\n",
    "feats = {}\n",
    "rotated = {}\n",
    "for n_grad in range(5):\n",
    "    margulies_grad_L= nib.load(margulies2016['margulies2016',f'fcgradient0{n_grad+1}','fsLR','32k'][0]).agg_data()\n",
    "    margulies_grad_R= nib.load(margulies2016['margulies2016',f'fcgradient0{n_grad+1}','fsLR','32k'][1]).agg_data()\n",
    "\n",
    "    gradients = np.concatenate((margulies_grad_L,margulies_grad_R))\n",
    "    gm_rotated = np.hstack(sp.randomize(margulies_grad_L, margulies_grad_R))\n",
    "\n",
    "    feats[f'grad{n_grad+1}'] = gradients\n",
    "    rotated[f'grad{n_grad+1}'] = gm_rotated"
   ]
  },
  {
   "cell_type": "code",
   "execution_count": 25,
   "metadata": {},
   "outputs": [
    {
     "data": {
      "image/png": "[encoded data removed]",
      "text/plain": [
       "<Figure size 1000x200 with 5 Axes>"
      ]
     },
     "metadata": {},
     "output_type": "display_data"
    }
   ],
   "source": [
    "import nilearn.plotting as nplt\n",
    "import matplotlib.pyplot as plt\n",
    "from scipy.stats import spearmanr\n",
    "\n",
    "fig, axs = plt.subplots(1, len(feats), figsize=(len(feats)*2, 2))\n",
    "\n",
    "mask = ~np.isnan(gradients)\n",
    "r_spin = np.empty(n_rand)\n",
    "\n",
    "for k, (fn, feat) in enumerate(feats.items()):\n",
    "    r_obs, pv_obs = spearmanr(feat[mask], nPRF[mask])\n",
    "\n",
    "    # Compute perm pval\n",
    "    for i, perm in enumerate(rotated[fn]):\n",
    "        mask_rot = mask & ~np.isnan(perm)  # Remove midline\n",
    "        r_spin[i] = spearmanr(perm[mask_rot], nPRF[mask_rot])[0]\n",
    "    pv_spin = np.mean(np.abs(r_spin) >= np.abs(r_obs))\n",
    "\n",
    "    # Plot null dist\n",
    "    axs[k].hist(r_spin, bins=25, density=True, alpha=0.5, color=(.8, .8, .8))\n",
    "    axs[k].axvline(r_obs, lw=2, ls='--', color='k')\n",
    "    axs[k].set_xlabel(f'Correlation with {fn}')\n",
    "    axs[k].set_title(f'Obs : {pv_obs:.2e}\\n Spin: {pv_spin:.2e}')\n",
    "    if k == 0:\n",
    "        axs[k].set_ylabel('Density')\n",
    "    #print(f'{fn.capitalize()}:\\n Obs : {pv_obs:.5e}\\n Spin: {pv_spin:.5e}\\n')\n",
    "\n",
    "fig.tight_layout()\n",
    "sns.despine()\n",
    "plt.show()"
   ]
  },
  {
   "cell_type": "code",
   "execution_count": null,
   "metadata": {},
   "outputs": [],
   "source": []
  },
  {
   "cell_type": "code",
   "execution_count": null,
   "metadata": {},
   "outputs": [],
   "source": []
  },
  {
   "cell_type": "markdown",
   "metadata": {},
   "source": [
    "# addtional stuff"
   ]
  },
  {
   "cell_type": "code",
   "execution_count": null,
   "metadata": {},
   "outputs": [],
   "source": [
    "from nipype.interfaces.freesurfer import SurfaceTransform # needs the fsaverage & fsaverage5 in ..derivatives/freesurfer folder!\n",
    "source_space = 'fsaverage'\n",
    "target_space = 'fsaverage5'\n",
    "\n",
    "for hemi in ['L', 'R']:\n",
    "    sxfm = SurfaceTransform(subjects_dir=op.join(bids_folder,'derivatives','freesurfer'))\n",
    "\n",
    "    sxfm.inputs.source_file = op.join(nPRF_dir, f'group-{group}_desc-{par}.optim.nilearn_space-{source_space}_hemi-{hemi}.func.gii')\n",
    "    sxfm.inputs.out_file = op.join(nPRF_dir, f'group-{group}_desc-{par}.optim.nilearn_space-{target_space}_hemi-{hemi}.func.gii')\n",
    "    sxfm.inputs.source_subject = source_space \n",
    "    sxfm.inputs.target_subject = target_space \n",
    "    sxfm.inputs.hemi = 'lh' if hemi == 'L' else 'rh'\n",
    "\n",
    "    r = sxfm.run()"
   ]
  },
  {
   "cell_type": "code",
   "execution_count": null,
   "metadata": {},
   "outputs": [],
   "source": [
    "# transform to fsLR to compare to MarguliesFCgradients\n",
    "\n",
    "from utils import fsavTofsLR\n",
    "space = 'fsaverage5'\n",
    "\n",
    "for hemi in ['L','R']:\n",
    "        fsavTofsLR(nPRF_dir, f'group-{group}_desc-{par}.optim.nilearn_space-{space}_hemi-{hemi}.func.gii',hemi)"
   ]
  }
 ],
 "metadata": {
  "kernelspec": {
   "display_name": "numrefields",
   "language": "python",
   "name": "python3"
  },
  "language_info": {
   "codemirror_mode": {
    "name": "ipython",
    "version": 3
   },
   "file_extension": ".py",
   "mimetype": "text/x-python",
   "name": "python",
   "nbconvert_exporter": "python",
   "pygments_lexer": "ipython3",
   "version": "3.10.11"
  }
 },
 "nbformat": 4,
 "nbformat_minor": 2
}
