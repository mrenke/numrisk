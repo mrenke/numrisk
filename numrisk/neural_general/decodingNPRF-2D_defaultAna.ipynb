{
 "cells": [
  {
   "cell_type": "markdown",
   "metadata": {},
   "source": [
    "## Decodability of 2D nPRF (same-rfs) ?\n",
    "\n",
    "first try (21.11.2024) --> does not work (no correlation between predicted and true number, neither for n1 or n2)"
   ]
  },
  {
   "cell_type": "code",
   "execution_count": 1,
   "metadata": {},
   "outputs": [
    {
     "name": "stdout",
     "output_type": "stream",
     "text": [
      "number of subjects found: 66\n"
     ]
    }
   ],
   "source": [
    "import os.path as op\n",
    "import os\n",
    "import numpy as np\n",
    "import pandas as pd\n",
    "\n",
    "import matplotlib.pyplot as plt\n",
    "import seaborn as sns\n",
    "\n",
    "bids_folder = '/mnt_03/ds-dnumrisk' #'/Users/mrenke/data/ds-dnumrisk'\n",
    "subjects = [int(f[4:]) for f in os.listdir(bids_folder) if f[0:3] == 'sub' and len(f) == 6]\n",
    "base = 'decoding.2d.mixture.same_rfs'\n",
    "\n",
    "target_folder = op.join(bids_folder, 'derivatives/phenotype')\n",
    "\n",
    "from numrisk.utils.data import get_data_magjduge\n",
    "df = get_data_magjduge(bids_folder=bids_folder)\n",
    "df['log(n2)'] = np.log(df['n2'])"
   ]
  },
  {
   "cell_type": "code",
   "execution_count": 2,
   "metadata": {},
   "outputs": [
    {
     "name": "stdout",
     "output_type": "stream",
     "text": [
      "problems: sub-21\n",
      "problems: sub-3\n"
     ]
    }
   ],
   "source": [
    "from utils import get_decoding2D_info\n",
    "\n",
    "pred = []\n",
    "for sub in subjects:\n",
    "    try: \n",
    "        Es = get_decoding2D_info(sub,bids_folder=bids_folder, key = base)\n",
    "        pred.append(Es)\n",
    "    except:\n",
    "        print('problems: sub-'+ str(sub))\n",
    "        \n",
    "pred = pd.concat(pred).join(df, how='inner') \n"
   ]
  },
  {
   "cell_type": "code",
   "execution_count": 3,
   "metadata": {},
   "outputs": [
    {
     "data": {
      "application/vnd.microsoft.datawrangler.viewer.v0+json": {
       "columns": [
        {
         "name": "('subject', 'run', 'trial_nr')",
         "rawType": "object",
         "type": "unknown"
        },
        {
         "name": "E_n1",
         "rawType": "float64",
         "type": "float"
        },
        {
         "name": "E_n2",
         "rawType": "float64",
         "type": "float"
        },
        {
         "name": "rt",
         "rawType": "float64",
         "type": "float"
        },
        {
         "name": "n1",
         "rawType": "float64",
         "type": "float"
        },
        {
         "name": "n2",
         "rawType": "float64",
         "type": "float"
        },
        {
         "name": "choice",
         "rawType": "bool",
         "type": "boolean"
        },
        {
         "name": "chose_n2",
         "rawType": "bool",
         "type": "boolean"
        },
        {
         "name": "frac",
         "rawType": "float64",
         "type": "float"
        },
        {
         "name": "log(n2/n1)",
         "rawType": "float64",
         "type": "float"
        },
        {
         "name": "log(n1)",
         "rawType": "float64",
         "type": "float"
        },
        {
         "name": "group",
         "rawType": "int64",
         "type": "integer"
        },
        {
         "name": "log(n2)",
         "rawType": "float64",
         "type": "float"
        }
       ],
       "conversionMethod": "pd.DataFrame",
       "ref": "dc2a9344-f890-4cb9-82ee-709c6baf8c35",
       "rows": [
        [
         "(59, 1, 1)",
         "3.1169578203714328",
         "3.1952115656199966",
         "2.6572387000001214",
         "14.0",
         "21.0",
         "True",
         "True",
         "1.5",
         "0.4054651081081644",
         "2.6390573296152584",
         "0",
         "3.044522437723423"
        ],
        [
         "(59, 1, 2)",
         "3.2805743621447534",
         "3.3332904923553945",
         "3.2239386999999624",
         "7.0",
         "6.0",
         "False",
         "False",
         "0.8571428571428571",
         "-0.15415067982725836",
         "1.9459101490553132",
         "0",
         "1.791759469228055"
        ],
        [
         "(59, 1, 3)",
         "3.4017900920903994",
         "3.452518383440265",
         "1.5549999000000057",
         "14.0",
         "9.0",
         "False",
         "False",
         "0.6428571428571429",
         "-0.4418327522790392",
         "2.6390573296152584",
         "0",
         "2.1972245773362196"
        ],
        [
         "(59, 1, 4)",
         "2.4777780446624655",
         "2.716397814606989",
         "1.2380315000000266",
         "10.0",
         "7.0",
         "False",
         "False",
         "0.7",
         "-0.35667494393873245",
         "2.302585092994046",
         "0",
         "1.9459101490553132"
        ],
        [
         "(59, 1, 5)",
         "2.8202946370470348",
         "3.0552663941682825",
         "1.1714845999999852",
         "10.0",
         "5.0",
         "False",
         "False",
         "0.5",
         "-0.6931471805599453",
         "2.302585092994046",
         "0",
         "1.6094379124341003"
        ]
       ],
       "shape": {
        "columns": 12,
        "rows": 5
       }
      },
      "text/html": [
       "<div>\n",
       "<style scoped>\n",
       "    .dataframe tbody tr th:only-of-type {\n",
       "        vertical-align: middle;\n",
       "    }\n",
       "\n",
       "    .dataframe tbody tr th {\n",
       "        vertical-align: top;\n",
       "    }\n",
       "\n",
       "    .dataframe thead th {\n",
       "        text-align: right;\n",
       "    }\n",
       "</style>\n",
       "<table border=\"1\" class=\"dataframe\">\n",
       "  <thead>\n",
       "    <tr style=\"text-align: right;\">\n",
       "      <th></th>\n",
       "      <th></th>\n",
       "      <th></th>\n",
       "      <th>E_n1</th>\n",
       "      <th>E_n2</th>\n",
       "      <th>rt</th>\n",
       "      <th>n1</th>\n",
       "      <th>n2</th>\n",
       "      <th>choice</th>\n",
       "      <th>chose_n2</th>\n",
       "      <th>frac</th>\n",
       "      <th>log(n2/n1)</th>\n",
       "      <th>log(n1)</th>\n",
       "      <th>group</th>\n",
       "      <th>log(n2)</th>\n",
       "    </tr>\n",
       "    <tr>\n",
       "      <th>subject</th>\n",
       "      <th>run</th>\n",
       "      <th>trial_nr</th>\n",
       "      <th></th>\n",
       "      <th></th>\n",
       "      <th></th>\n",
       "      <th></th>\n",
       "      <th></th>\n",
       "      <th></th>\n",
       "      <th></th>\n",
       "      <th></th>\n",
       "      <th></th>\n",
       "      <th></th>\n",
       "      <th></th>\n",
       "      <th></th>\n",
       "    </tr>\n",
       "  </thead>\n",
       "  <tbody>\n",
       "    <tr>\n",
       "      <th rowspan=\"5\" valign=\"top\">59</th>\n",
       "      <th rowspan=\"5\" valign=\"top\">1</th>\n",
       "      <th>1</th>\n",
       "      <td>3.116958</td>\n",
       "      <td>3.195212</td>\n",
       "      <td>2.657239</td>\n",
       "      <td>14.0</td>\n",
       "      <td>21.0</td>\n",
       "      <td>True</td>\n",
       "      <td>True</td>\n",
       "      <td>1.500000</td>\n",
       "      <td>0.405465</td>\n",
       "      <td>2.639057</td>\n",
       "      <td>0</td>\n",
       "      <td>3.044522</td>\n",
       "    </tr>\n",
       "    <tr>\n",
       "      <th>2</th>\n",
       "      <td>3.280574</td>\n",
       "      <td>3.333290</td>\n",
       "      <td>3.223939</td>\n",
       "      <td>7.0</td>\n",
       "      <td>6.0</td>\n",
       "      <td>False</td>\n",
       "      <td>False</td>\n",
       "      <td>0.857143</td>\n",
       "      <td>-0.154151</td>\n",
       "      <td>1.945910</td>\n",
       "      <td>0</td>\n",
       "      <td>1.791759</td>\n",
       "    </tr>\n",
       "    <tr>\n",
       "      <th>3</th>\n",
       "      <td>3.401790</td>\n",
       "      <td>3.452518</td>\n",
       "      <td>1.555000</td>\n",
       "      <td>14.0</td>\n",
       "      <td>9.0</td>\n",
       "      <td>False</td>\n",
       "      <td>False</td>\n",
       "      <td>0.642857</td>\n",
       "      <td>-0.441833</td>\n",
       "      <td>2.639057</td>\n",
       "      <td>0</td>\n",
       "      <td>2.197225</td>\n",
       "    </tr>\n",
       "    <tr>\n",
       "      <th>4</th>\n",
       "      <td>2.477778</td>\n",
       "      <td>2.716398</td>\n",
       "      <td>1.238032</td>\n",
       "      <td>10.0</td>\n",
       "      <td>7.0</td>\n",
       "      <td>False</td>\n",
       "      <td>False</td>\n",
       "      <td>0.700000</td>\n",
       "      <td>-0.356675</td>\n",
       "      <td>2.302585</td>\n",
       "      <td>0</td>\n",
       "      <td>1.945910</td>\n",
       "    </tr>\n",
       "    <tr>\n",
       "      <th>5</th>\n",
       "      <td>2.820295</td>\n",
       "      <td>3.055266</td>\n",
       "      <td>1.171485</td>\n",
       "      <td>10.0</td>\n",
       "      <td>5.0</td>\n",
       "      <td>False</td>\n",
       "      <td>False</td>\n",
       "      <td>0.500000</td>\n",
       "      <td>-0.693147</td>\n",
       "      <td>2.302585</td>\n",
       "      <td>0</td>\n",
       "      <td>1.609438</td>\n",
       "    </tr>\n",
       "  </tbody>\n",
       "</table>\n",
       "</div>"
      ],
      "text/plain": [
       "                          E_n1      E_n2        rt    n1    n2  choice  \\\n",
       "subject run trial_nr                                                     \n",
       "59      1   1         3.116958  3.195212  2.657239  14.0  21.0    True   \n",
       "            2         3.280574  3.333290  3.223939   7.0   6.0   False   \n",
       "            3         3.401790  3.452518  1.555000  14.0   9.0   False   \n",
       "            4         2.477778  2.716398  1.238032  10.0   7.0   False   \n",
       "            5         2.820295  3.055266  1.171485  10.0   5.0   False   \n",
       "\n",
       "                      chose_n2      frac  log(n2/n1)   log(n1)  group  \\\n",
       "subject run trial_nr                                                    \n",
       "59      1   1             True  1.500000    0.405465  2.639057      0   \n",
       "            2            False  0.857143   -0.154151  1.945910      0   \n",
       "            3            False  0.642857   -0.441833  2.639057      0   \n",
       "            4            False  0.700000   -0.356675  2.302585      0   \n",
       "            5            False  0.500000   -0.693147  2.302585      0   \n",
       "\n",
       "                       log(n2)  \n",
       "subject run trial_nr            \n",
       "59      1   1         3.044522  \n",
       "            2         1.791759  \n",
       "            3         2.197225  \n",
       "            4         1.945910  \n",
       "            5         1.609438  "
      ]
     },
     "execution_count": 3,
     "metadata": {},
     "output_type": "execute_result"
    }
   ],
   "source": [
    "pred.head()"
   ]
  },
  {
   "cell_type": "code",
   "execution_count": 4,
   "metadata": {},
   "outputs": [
    {
     "name": "stderr",
     "output_type": "stream",
     "text": [
      "/tmp/ipykernel_787065/2648226986.py:3: DeprecationWarning: DataFrameGroupBy.apply operated on the grouping columns. This behavior is deprecated, and in a future version of pandas the grouping columns will be excluded from the operation. Either pass `include_groups=False` to exclude the groupings or explicitly select the grouping columns after groupby to silence this warning.\n",
      "  r_n1 = pred.groupby(['subject', 'group']).apply(lambda d: pg.corr(d['E_n1'], d['log(n1)']))\n",
      "/tmp/ipykernel_787065/2648226986.py:4: DeprecationWarning: DataFrameGroupBy.apply operated on the grouping columns. This behavior is deprecated, and in a future version of pandas the grouping columns will be excluded from the operation. Either pass `include_groups=False` to exclude the groupings or explicitly select the grouping columns after groupby to silence this warning.\n",
      "  r_n2 = pred.groupby(['subject', 'group']).apply(lambda d: pg.corr(d['E_n2'], d['log(n2)']))\n"
     ]
    }
   ],
   "source": [
    "import pingouin as pg\n",
    "\n",
    "r_n1 = pred.groupby(['subject', 'group']).apply(lambda d: pg.corr(d['E_n1'], d['log(n1)']))\n",
    "r_n2 = pred.groupby(['subject', 'group']).apply(lambda d: pg.corr(d['E_n2'], d['log(n2)']))\n"
   ]
  },
  {
   "cell_type": "code",
   "execution_count": 12,
   "metadata": {},
   "outputs": [
    {
     "data": {
      "text/html": [
       "<div>\n",
       "<style scoped>\n",
       "    .dataframe tbody tr th:only-of-type {\n",
       "        vertical-align: middle;\n",
       "    }\n",
       "\n",
       "    .dataframe tbody tr th {\n",
       "        vertical-align: top;\n",
       "    }\n",
       "\n",
       "    .dataframe thead th {\n",
       "        text-align: right;\n",
       "    }\n",
       "</style>\n",
       "<table border=\"1\" class=\"dataframe\">\n",
       "  <thead>\n",
       "    <tr style=\"text-align: right;\">\n",
       "      <th></th>\n",
       "      <th></th>\n",
       "      <th></th>\n",
       "      <th>n</th>\n",
       "      <th>r</th>\n",
       "      <th>CI95%</th>\n",
       "      <th>p-val</th>\n",
       "      <th>BF10</th>\n",
       "      <th>power</th>\n",
       "    </tr>\n",
       "    <tr>\n",
       "      <th>subject</th>\n",
       "      <th>group</th>\n",
       "      <th></th>\n",
       "      <th></th>\n",
       "      <th></th>\n",
       "      <th></th>\n",
       "      <th></th>\n",
       "      <th></th>\n",
       "      <th></th>\n",
       "    </tr>\n",
       "  </thead>\n",
       "  <tbody>\n",
       "    <tr>\n",
       "      <th>1</th>\n",
       "      <th>0</th>\n",
       "      <th>pearson</th>\n",
       "      <td>180</td>\n",
       "      <td>0.022525</td>\n",
       "      <td>[-0.12, 0.17]</td>\n",
       "      <td>0.764073</td>\n",
       "      <td>0.098</td>\n",
       "      <td>0.060312</td>\n",
       "    </tr>\n",
       "    <tr>\n",
       "      <th>2</th>\n",
       "      <th>1</th>\n",
       "      <th>pearson</th>\n",
       "      <td>173</td>\n",
       "      <td>0.032812</td>\n",
       "      <td>[-0.12, 0.18]</td>\n",
       "      <td>0.668239</td>\n",
       "      <td>0.104</td>\n",
       "      <td>0.071243</td>\n",
       "    </tr>\n",
       "    <tr>\n",
       "      <th>4</th>\n",
       "      <th>1</th>\n",
       "      <th>pearson</th>\n",
       "      <td>178</td>\n",
       "      <td>-0.105242</td>\n",
       "      <td>[-0.25, 0.04]</td>\n",
       "      <td>0.162082</td>\n",
       "      <td>0.247</td>\n",
       "      <td>0.288331</td>\n",
       "    </tr>\n",
       "    <tr>\n",
       "      <th>5</th>\n",
       "      <th>0</th>\n",
       "      <th>pearson</th>\n",
       "      <td>179</td>\n",
       "      <td>-0.009486</td>\n",
       "      <td>[-0.16, 0.14]</td>\n",
       "      <td>0.899714</td>\n",
       "      <td>0.094</td>\n",
       "      <td>0.051735</td>\n",
       "    </tr>\n",
       "    <tr>\n",
       "      <th>6</th>\n",
       "      <th>1</th>\n",
       "      <th>pearson</th>\n",
       "      <td>180</td>\n",
       "      <td>-0.014903</td>\n",
       "      <td>[-0.16, 0.13]</td>\n",
       "      <td>0.842603</td>\n",
       "      <td>0.095</td>\n",
       "      <td>0.054448</td>\n",
       "    </tr>\n",
       "    <tr>\n",
       "      <th>...</th>\n",
       "      <th>...</th>\n",
       "      <th>...</th>\n",
       "      <td>...</td>\n",
       "      <td>...</td>\n",
       "      <td>...</td>\n",
       "      <td>...</td>\n",
       "      <td>...</td>\n",
       "      <td>...</td>\n",
       "    </tr>\n",
       "    <tr>\n",
       "      <th>62</th>\n",
       "      <th>0</th>\n",
       "      <th>pearson</th>\n",
       "      <td>179</td>\n",
       "      <td>0.079305</td>\n",
       "      <td>[-0.07, 0.22]</td>\n",
       "      <td>0.291308</td>\n",
       "      <td>0.162</td>\n",
       "      <td>0.184413</td>\n",
       "    </tr>\n",
       "    <tr>\n",
       "      <th>63</th>\n",
       "      <th>0</th>\n",
       "      <th>pearson</th>\n",
       "      <td>178</td>\n",
       "      <td>-0.070746</td>\n",
       "      <td>[-0.22, 0.08]</td>\n",
       "      <td>0.348041</td>\n",
       "      <td>0.145</td>\n",
       "      <td>0.155573</td>\n",
       "    </tr>\n",
       "    <tr>\n",
       "      <th>64</th>\n",
       "      <th>0</th>\n",
       "      <th>pearson</th>\n",
       "      <td>178</td>\n",
       "      <td>0.112561</td>\n",
       "      <td>[-0.04, 0.26]</td>\n",
       "      <td>0.134672</td>\n",
       "      <td>0.285</td>\n",
       "      <td>0.322616</td>\n",
       "    </tr>\n",
       "    <tr>\n",
       "      <th>65</th>\n",
       "      <th>0</th>\n",
       "      <th>pearson</th>\n",
       "      <td>180</td>\n",
       "      <td>-0.067468</td>\n",
       "      <td>[-0.21, 0.08]</td>\n",
       "      <td>0.368174</td>\n",
       "      <td>0.139</td>\n",
       "      <td>0.146847</td>\n",
       "    </tr>\n",
       "    <tr>\n",
       "      <th>66</th>\n",
       "      <th>0</th>\n",
       "      <th>pearson</th>\n",
       "      <td>180</td>\n",
       "      <td>0.085117</td>\n",
       "      <td>[-0.06, 0.23]</td>\n",
       "      <td>0.255925</td>\n",
       "      <td>0.177</td>\n",
       "      <td>0.206394</td>\n",
       "    </tr>\n",
       "  </tbody>\n",
       "</table>\n",
       "<p>64 rows × 6 columns</p>\n",
       "</div>"
      ],
      "text/plain": [
       "                         n         r          CI95%     p-val   BF10     power\n",
       "subject group                                                                 \n",
       "1       0     pearson  180  0.022525  [-0.12, 0.17]  0.764073  0.098  0.060312\n",
       "2       1     pearson  173  0.032812  [-0.12, 0.18]  0.668239  0.104  0.071243\n",
       "4       1     pearson  178 -0.105242  [-0.25, 0.04]  0.162082  0.247  0.288331\n",
       "5       0     pearson  179 -0.009486  [-0.16, 0.14]  0.899714  0.094  0.051735\n",
       "6       1     pearson  180 -0.014903  [-0.16, 0.13]  0.842603  0.095  0.054448\n",
       "...                    ...       ...            ...       ...    ...       ...\n",
       "62      0     pearson  179  0.079305  [-0.07, 0.22]  0.291308  0.162  0.184413\n",
       "63      0     pearson  178 -0.070746  [-0.22, 0.08]  0.348041  0.145  0.155573\n",
       "64      0     pearson  178  0.112561  [-0.04, 0.26]  0.134672  0.285  0.322616\n",
       "65      0     pearson  180 -0.067468  [-0.21, 0.08]  0.368174  0.139  0.146847\n",
       "66      0     pearson  180  0.085117  [-0.06, 0.23]  0.255925  0.177  0.206394\n",
       "\n",
       "[64 rows x 6 columns]"
      ]
     },
     "execution_count": 12,
     "metadata": {},
     "output_type": "execute_result"
    }
   ],
   "source": [
    "r_n1"
   ]
  },
  {
   "cell_type": "code",
   "execution_count": null,
   "metadata": {},
   "outputs": [
    {
     "data": {
      "application/vnd.microsoft.datawrangler.viewer.v0+json": {
       "columns": [
        {
         "name": "('subject', 'group', None)",
         "rawType": "object",
         "type": "unknown"
        },
        {
         "name": "r_stim1",
         "rawType": "float64",
         "type": "float"
        },
        {
         "name": "r_stim2",
         "rawType": "float64",
         "type": "float"
        }
       ],
       "conversionMethod": "pd.DataFrame",
       "ref": "c9bdf607-a2e9-451a-992e-d2415b30156d",
       "rows": [
        [
         "(1, 0, 'pearson')",
         "0.022524937870945328",
         "0.020643647962058656"
        ],
        [
         "(2, 1, 'pearson')",
         "0.032812363238551336",
         "-0.07116727618081888"
        ],
        [
         "(4, 1, 'pearson')",
         "-0.10524241523468594",
         "-0.1251602513580961"
        ],
        [
         "(5, 0, 'pearson')",
         "-0.009485638026323219",
         "-0.05331508665985315"
        ],
        [
         "(6, 1, 'pearson')",
         "-0.014903128295355221",
         "0.001397739764581444"
        ],
        [
         "(7, 0, 'pearson')",
         "0.09231144965462244",
         "-0.03845909381358562"
        ],
        [
         "(8, 1, 'pearson')",
         "0.0528382764678002",
         "0.10808408107598431"
        ],
        [
         "(9, 0, 'pearson')",
         "-0.011880602310200463",
         "-0.07506005242912568"
        ],
        [
         "(10, 0, 'pearson')",
         "0.01450011333166509",
         "0.009923841734684077"
        ],
        [
         "(11, 1, 'pearson')",
         "-0.05445406889158686",
         "-0.07048704852046148"
        ],
        [
         "(12, 0, 'pearson')",
         "0.12511329159762025",
         "0.1048513062762874"
        ],
        [
         "(13, 1, 'pearson')",
         "0.03007381732514955",
         "-0.07065872962399522"
        ],
        [
         "(14, 0, 'pearson')",
         "0.0839564535238901",
         "0.1739413046294763"
        ],
        [
         "(15, 0, 'pearson')",
         "0.014160509878580594",
         "-0.012005857984963163"
        ],
        [
         "(16, 1, 'pearson')",
         "-0.004782475073270704",
         "-0.008946696614057002"
        ],
        [
         "(17, 1, 'pearson')",
         "0.027532343608187463",
         "0.05094285816926713"
        ],
        [
         "(18, 0, 'pearson')",
         "0.024057459115976194",
         "-0.03251566189215896"
        ],
        [
         "(19, 0, 'pearson')",
         "0.12922269307007864",
         "0.030979132243214764"
        ],
        [
         "(20, 0, 'pearson')",
         "-0.02247248399850263",
         "-0.02435242584549814"
        ],
        [
         "(22, 1, 'pearson')",
         "0.07186515253116638",
         "0.052668950727216765"
        ],
        [
         "(23, 1, 'pearson')",
         "0.018306050924077336",
         "0.04221502207452072"
        ],
        [
         "(24, 0, 'pearson')",
         "0.007023020792039619",
         "-0.00761840346318187"
        ],
        [
         "(25, 1, 'pearson')",
         "0.03761006819823231",
         "0.11299083835063815"
        ],
        [
         "(26, 1, 'pearson')",
         "-0.025066875057527433",
         "-0.007465285891497517"
        ],
        [
         "(27, 1, 'pearson')",
         "0.031054990599440075",
         "0.06994299229577118"
        ],
        [
         "(28, 0, 'pearson')",
         "-0.06537983513954725",
         "0.00479012219160872"
        ],
        [
         "(29, 1, 'pearson')",
         "0.1262572757480703",
         "0.17501514371940383"
        ],
        [
         "(30, 0, 'pearson')",
         "-0.06204015634938885",
         "-0.0690036953519387"
        ],
        [
         "(31, 0, 'pearson')",
         "-0.044495201372753146",
         "3.943080680302458e-06"
        ],
        [
         "(32, 1, 'pearson')",
         "0.05887617561385556",
         "0.12047698364287872"
        ],
        [
         "(33, 1, 'pearson')",
         "-0.06616554003965033",
         "-0.044402825307990716"
        ],
        [
         "(34, 1, 'pearson')",
         "-0.009638643225322572",
         "-0.0814310266289735"
        ],
        [
         "(35, 0, 'pearson')",
         "0.06620607954137217",
         "0.1035774961207857"
        ],
        [
         "(36, 0, 'pearson')",
         "0.07364813578960053",
         "0.12326738310574674"
        ],
        [
         "(37, 1, 'pearson')",
         "0.020991140765652304",
         "0.06331889822835768"
        ],
        [
         "(38, 1, 'pearson')",
         "0.07768598318912719",
         "0.03964223731187534"
        ],
        [
         "(39, 1, 'pearson')",
         "-0.11262879930849576",
         "-0.0008854615956721391"
        ],
        [
         "(40, 1, 'pearson')",
         "-0.007897691308509395",
         "-0.042608184334517823"
        ],
        [
         "(41, 1, 'pearson')",
         "0.03023584688793231",
         "0.027769082316228162"
        ],
        [
         "(42, 1, 'pearson')",
         "-0.01943308950635772",
         "-0.024836449039408553"
        ],
        [
         "(43, 1, 'pearson')",
         "0.01590297260242368",
         "-0.01959367578401253"
        ],
        [
         "(44, 1, 'pearson')",
         "-0.013580490548542445",
         "0.00049717824228656"
        ],
        [
         "(45, 1, 'pearson')",
         "0.03302245516164824",
         "0.09064065709071012"
        ],
        [
         "(46, 1, 'pearson')",
         "0.04261285730351621",
         "0.03150379758646292"
        ],
        [
         "(47, 1, 'pearson')",
         "-0.0018496942536496003",
         "0.03707200795976946"
        ],
        [
         "(48, 1, 'pearson')",
         "-0.10012926096419823",
         "-0.1150788495621728"
        ],
        [
         "(49, 1, 'pearson')",
         "0.03833431370159886",
         "0.01292482136831012"
        ],
        [
         "(50, 1, 'pearson')",
         "-0.10740126743378327",
         "-0.04825976783388677"
        ],
        [
         "(51, 1, 'pearson')",
         "0.13748826103803077",
         "0.14061365318076574"
        ],
        [
         "(52, 0, 'pearson')",
         "-0.13039404491147616",
         "-0.08302382876630506"
        ]
       ],
       "shape": {
        "columns": 2,
        "rows": 64
       }
      },
      "text/html": [
       "<div>\n",
       "<style scoped>\n",
       "    .dataframe tbody tr th:only-of-type {\n",
       "        vertical-align: middle;\n",
       "    }\n",
       "\n",
       "    .dataframe tbody tr th {\n",
       "        vertical-align: top;\n",
       "    }\n",
       "\n",
       "    .dataframe thead th {\n",
       "        text-align: right;\n",
       "    }\n",
       "</style>\n",
       "<table border=\"1\" class=\"dataframe\">\n",
       "  <thead>\n",
       "    <tr style=\"text-align: right;\">\n",
       "      <th></th>\n",
       "      <th></th>\n",
       "      <th></th>\n",
       "      <th>r_stim1</th>\n",
       "      <th>r_stim2</th>\n",
       "    </tr>\n",
       "    <tr>\n",
       "      <th>subject</th>\n",
       "      <th>group</th>\n",
       "      <th></th>\n",
       "      <th></th>\n",
       "      <th></th>\n",
       "    </tr>\n",
       "  </thead>\n",
       "  <tbody>\n",
       "    <tr>\n",
       "      <th>1</th>\n",
       "      <th>0</th>\n",
       "      <th>pearson</th>\n",
       "      <td>0.022525</td>\n",
       "      <td>0.020644</td>\n",
       "    </tr>\n",
       "    <tr>\n",
       "      <th>2</th>\n",
       "      <th>1</th>\n",
       "      <th>pearson</th>\n",
       "      <td>0.032812</td>\n",
       "      <td>-0.071167</td>\n",
       "    </tr>\n",
       "    <tr>\n",
       "      <th>4</th>\n",
       "      <th>1</th>\n",
       "      <th>pearson</th>\n",
       "      <td>-0.105242</td>\n",
       "      <td>-0.125160</td>\n",
       "    </tr>\n",
       "    <tr>\n",
       "      <th>5</th>\n",
       "      <th>0</th>\n",
       "      <th>pearson</th>\n",
       "      <td>-0.009486</td>\n",
       "      <td>-0.053315</td>\n",
       "    </tr>\n",
       "    <tr>\n",
       "      <th>6</th>\n",
       "      <th>1</th>\n",
       "      <th>pearson</th>\n",
       "      <td>-0.014903</td>\n",
       "      <td>0.001398</td>\n",
       "    </tr>\n",
       "    <tr>\n",
       "      <th>...</th>\n",
       "      <th>...</th>\n",
       "      <th>...</th>\n",
       "      <td>...</td>\n",
       "      <td>...</td>\n",
       "    </tr>\n",
       "    <tr>\n",
       "      <th>62</th>\n",
       "      <th>0</th>\n",
       "      <th>pearson</th>\n",
       "      <td>0.079305</td>\n",
       "      <td>0.054904</td>\n",
       "    </tr>\n",
       "    <tr>\n",
       "      <th>63</th>\n",
       "      <th>0</th>\n",
       "      <th>pearson</th>\n",
       "      <td>-0.070746</td>\n",
       "      <td>-0.035224</td>\n",
       "    </tr>\n",
       "    <tr>\n",
       "      <th>64</th>\n",
       "      <th>0</th>\n",
       "      <th>pearson</th>\n",
       "      <td>0.112561</td>\n",
       "      <td>0.062826</td>\n",
       "    </tr>\n",
       "    <tr>\n",
       "      <th>65</th>\n",
       "      <th>0</th>\n",
       "      <th>pearson</th>\n",
       "      <td>-0.067468</td>\n",
       "      <td>-0.106791</td>\n",
       "    </tr>\n",
       "    <tr>\n",
       "      <th>66</th>\n",
       "      <th>0</th>\n",
       "      <th>pearson</th>\n",
       "      <td>0.085117</td>\n",
       "      <td>0.100626</td>\n",
       "    </tr>\n",
       "  </tbody>\n",
       "</table>\n",
       "<p>64 rows × 2 columns</p>\n",
       "</div>"
      ],
      "text/plain": [
       "                        r_stim1   r_stim2\n",
       "subject group                            \n",
       "1       0     pearson  0.022525  0.020644\n",
       "2       1     pearson  0.032812 -0.071167\n",
       "4       1     pearson -0.105242 -0.125160\n",
       "5       0     pearson -0.009486 -0.053315\n",
       "6       1     pearson -0.014903  0.001398\n",
       "...                         ...       ...\n",
       "62      0     pearson  0.079305  0.054904\n",
       "63      0     pearson -0.070746 -0.035224\n",
       "64      0     pearson  0.112561  0.062826\n",
       "65      0     pearson -0.067468 -0.106791\n",
       "66      0     pearson  0.085117  0.100626\n",
       "\n",
       "[64 rows x 2 columns]"
      ]
     },
     "execution_count": 11,
     "metadata": {},
     "output_type": "execute_result"
    }
   ],
   "source": [
    "Rs\n"
   ]
  },
  {
   "cell_type": "code",
   "execution_count": 37,
   "metadata": {},
   "outputs": [
    {
     "data": {
      "image/png": "[encoded data removed]",
      "text/plain": [
       "<Figure size 600x300 with 2 Axes>"
      ]
     },
     "metadata": {},
     "output_type": "display_data"
    }
   ],
   "source": [
    "fig, axes = plt.subplots(1, 2, figsize=(6, 3))  # Adjust figsize as needed\n",
    "sns.kdeplot(r_n1, x='r', fill=True, label='n1', ax=axes[0])\n",
    "sns.kdeplot(r_n2, x='r', fill=True, label='n2', color='red', ax=axes[0])\n",
    "axes[0].set_title('r')  # Optional title for first subplot\n",
    "sns.kdeplot(r_n1, x='p-val', fill=True, label='n1', ax=axes[1])\n",
    "sns.kdeplot(r_n2, x='p-val', fill=True, label='n2', color='red', ax=axes[1])\n",
    "axes[1].legend()  # Add legend to the second subplot\n",
    "axes[1].set(title=\"p-val\",ylabel=None)  # Optional title for second subplot\n",
    "plt.tight_layout()\n",
    "sns.despine()\n",
    "fig.suptitle(f'Decodability 2D-nPRF: \\n correlations of true and predicted numbers',fontsize=13, y=1.05)\n",
    "plt.subplots_adjust()\n",
    "plt.show()"
   ]
  },
  {
   "cell_type": "code",
   "execution_count": 18,
   "metadata": {},
   "outputs": [
    {
     "data": {
      "application/vnd.microsoft.datawrangler.viewer.v0+json": {
       "columns": [
        {
         "name": "('subject', 'group', 'stim_order')",
         "rawType": "object",
         "type": "unknown"
        },
        {
         "name": "r",
         "rawType": "float64",
         "type": "float"
        }
       ],
       "conversionMethod": "pd.DataFrame",
       "ref": "1a473694-95f2-4840-8027-ceb89a5755c3",
       "rows": [
        [
         "(1, 0, 'r_stim1')",
         "0.022524937870945328"
        ],
        [
         "(1, 0, 'r_stim2')",
         "0.020643647962058656"
        ],
        [
         "(2, 1, 'r_stim1')",
         "0.032812363238551336"
        ],
        [
         "(2, 1, 'r_stim2')",
         "-0.07116727618081888"
        ],
        [
         "(4, 1, 'r_stim1')",
         "-0.10524241523468594"
        ],
        [
         "(4, 1, 'r_stim2')",
         "-0.1251602513580961"
        ],
        [
         "(5, 0, 'r_stim1')",
         "-0.009485638026323219"
        ],
        [
         "(5, 0, 'r_stim2')",
         "-0.05331508665985315"
        ],
        [
         "(6, 1, 'r_stim1')",
         "-0.014903128295355221"
        ],
        [
         "(6, 1, 'r_stim2')",
         "0.001397739764581444"
        ],
        [
         "(7, 0, 'r_stim1')",
         "0.09231144965462244"
        ],
        [
         "(7, 0, 'r_stim2')",
         "-0.03845909381358562"
        ],
        [
         "(8, 1, 'r_stim1')",
         "0.0528382764678002"
        ],
        [
         "(8, 1, 'r_stim2')",
         "0.10808408107598431"
        ],
        [
         "(9, 0, 'r_stim1')",
         "-0.011880602310200463"
        ],
        [
         "(9, 0, 'r_stim2')",
         "-0.07506005242912568"
        ],
        [
         "(10, 0, 'r_stim1')",
         "0.01450011333166509"
        ],
        [
         "(10, 0, 'r_stim2')",
         "0.009923841734684077"
        ],
        [
         "(11, 1, 'r_stim1')",
         "-0.05445406889158686"
        ],
        [
         "(11, 1, 'r_stim2')",
         "-0.07048704852046148"
        ],
        [
         "(12, 0, 'r_stim1')",
         "0.12511329159762025"
        ],
        [
         "(12, 0, 'r_stim2')",
         "0.1048513062762874"
        ],
        [
         "(13, 1, 'r_stim1')",
         "0.03007381732514955"
        ],
        [
         "(13, 1, 'r_stim2')",
         "-0.07065872962399522"
        ],
        [
         "(14, 0, 'r_stim1')",
         "0.0839564535238901"
        ],
        [
         "(14, 0, 'r_stim2')",
         "0.1739413046294763"
        ],
        [
         "(15, 0, 'r_stim1')",
         "0.014160509878580594"
        ],
        [
         "(15, 0, 'r_stim2')",
         "-0.012005857984963163"
        ],
        [
         "(16, 1, 'r_stim1')",
         "-0.004782475073270704"
        ],
        [
         "(16, 1, 'r_stim2')",
         "-0.008946696614057002"
        ],
        [
         "(17, 1, 'r_stim1')",
         "0.027532343608187463"
        ],
        [
         "(17, 1, 'r_stim2')",
         "0.05094285816926713"
        ],
        [
         "(18, 0, 'r_stim1')",
         "0.024057459115976194"
        ],
        [
         "(18, 0, 'r_stim2')",
         "-0.03251566189215896"
        ],
        [
         "(19, 0, 'r_stim1')",
         "0.12922269307007864"
        ],
        [
         "(19, 0, 'r_stim2')",
         "0.030979132243214764"
        ],
        [
         "(20, 0, 'r_stim1')",
         "-0.02247248399850263"
        ],
        [
         "(20, 0, 'r_stim2')",
         "-0.02435242584549814"
        ],
        [
         "(22, 1, 'r_stim1')",
         "0.07186515253116638"
        ],
        [
         "(22, 1, 'r_stim2')",
         "0.052668950727216765"
        ],
        [
         "(23, 1, 'r_stim1')",
         "0.018306050924077336"
        ],
        [
         "(23, 1, 'r_stim2')",
         "0.04221502207452072"
        ],
        [
         "(24, 0, 'r_stim1')",
         "0.007023020792039619"
        ],
        [
         "(24, 0, 'r_stim2')",
         "-0.00761840346318187"
        ],
        [
         "(25, 1, 'r_stim1')",
         "0.03761006819823231"
        ],
        [
         "(25, 1, 'r_stim2')",
         "0.11299083835063815"
        ],
        [
         "(26, 1, 'r_stim1')",
         "-0.025066875057527433"
        ],
        [
         "(26, 1, 'r_stim2')",
         "-0.007465285891497517"
        ],
        [
         "(27, 1, 'r_stim1')",
         "0.031054990599440075"
        ],
        [
         "(27, 1, 'r_stim2')",
         "0.06994299229577118"
        ]
       ],
       "shape": {
        "columns": 1,
        "rows": 128
       }
      },
      "text/html": [
       "<div>\n",
       "<style scoped>\n",
       "    .dataframe tbody tr th:only-of-type {\n",
       "        vertical-align: middle;\n",
       "    }\n",
       "\n",
       "    .dataframe tbody tr th {\n",
       "        vertical-align: top;\n",
       "    }\n",
       "\n",
       "    .dataframe thead th {\n",
       "        text-align: right;\n",
       "    }\n",
       "</style>\n",
       "<table border=\"1\" class=\"dataframe\">\n",
       "  <thead>\n",
       "    <tr style=\"text-align: right;\">\n",
       "      <th></th>\n",
       "      <th></th>\n",
       "      <th></th>\n",
       "      <th>r</th>\n",
       "    </tr>\n",
       "    <tr>\n",
       "      <th>subject</th>\n",
       "      <th>group</th>\n",
       "      <th>stim_order</th>\n",
       "      <th></th>\n",
       "    </tr>\n",
       "  </thead>\n",
       "  <tbody>\n",
       "    <tr>\n",
       "      <th rowspan=\"2\" valign=\"top\">1</th>\n",
       "      <th rowspan=\"2\" valign=\"top\">0</th>\n",
       "      <th>r_stim1</th>\n",
       "      <td>0.022525</td>\n",
       "    </tr>\n",
       "    <tr>\n",
       "      <th>r_stim2</th>\n",
       "      <td>0.020644</td>\n",
       "    </tr>\n",
       "    <tr>\n",
       "      <th rowspan=\"2\" valign=\"top\">2</th>\n",
       "      <th rowspan=\"2\" valign=\"top\">1</th>\n",
       "      <th>r_stim1</th>\n",
       "      <td>0.032812</td>\n",
       "    </tr>\n",
       "    <tr>\n",
       "      <th>r_stim2</th>\n",
       "      <td>-0.071167</td>\n",
       "    </tr>\n",
       "    <tr>\n",
       "      <th>4</th>\n",
       "      <th>1</th>\n",
       "      <th>r_stim1</th>\n",
       "      <td>-0.105242</td>\n",
       "    </tr>\n",
       "    <tr>\n",
       "      <th>...</th>\n",
       "      <th>...</th>\n",
       "      <th>...</th>\n",
       "      <td>...</td>\n",
       "    </tr>\n",
       "    <tr>\n",
       "      <th>64</th>\n",
       "      <th>0</th>\n",
       "      <th>r_stim2</th>\n",
       "      <td>0.062826</td>\n",
       "    </tr>\n",
       "    <tr>\n",
       "      <th rowspan=\"2\" valign=\"top\">65</th>\n",
       "      <th rowspan=\"2\" valign=\"top\">0</th>\n",
       "      <th>r_stim1</th>\n",
       "      <td>-0.067468</td>\n",
       "    </tr>\n",
       "    <tr>\n",
       "      <th>r_stim2</th>\n",
       "      <td>-0.106791</td>\n",
       "    </tr>\n",
       "    <tr>\n",
       "      <th rowspan=\"2\" valign=\"top\">66</th>\n",
       "      <th rowspan=\"2\" valign=\"top\">0</th>\n",
       "      <th>r_stim1</th>\n",
       "      <td>0.085117</td>\n",
       "    </tr>\n",
       "    <tr>\n",
       "      <th>r_stim2</th>\n",
       "      <td>0.100626</td>\n",
       "    </tr>\n",
       "  </tbody>\n",
       "</table>\n",
       "<p>128 rows × 1 columns</p>\n",
       "</div>"
      ],
      "text/plain": [
       "                                 r\n",
       "subject group stim_order          \n",
       "1       0     r_stim1     0.022525\n",
       "              r_stim2     0.020644\n",
       "2       1     r_stim1     0.032812\n",
       "              r_stim2    -0.071167\n",
       "4       1     r_stim1    -0.105242\n",
       "...                            ...\n",
       "64      0     r_stim2     0.062826\n",
       "65      0     r_stim1    -0.067468\n",
       "              r_stim2    -0.106791\n",
       "66      0     r_stim1     0.085117\n",
       "              r_stim2     0.100626\n",
       "\n",
       "[128 rows x 1 columns]"
      ]
     },
     "execution_count": 18,
     "metadata": {},
     "output_type": "execute_result"
    }
   ],
   "source": [
    "Rs = pd.DataFrame({'r_stim1': r_n1['r'], 'r_stim2':r_n2['r']}).droplevel(level=2) \n",
    "Rs = pd.DataFrame(Rs.stack(),columns=['r']).rename_axis(['subject', 'group', 'stim_order'])\n",
    "\n",
    "Rs"
   ]
  },
  {
   "cell_type": "code",
   "execution_count": 19,
   "metadata": {},
   "outputs": [
    {
     "data": {
      "text/plain": [
       "<seaborn.axisgrid.FacetGrid at 0x7effe9a83100>"
      ]
     },
     "execution_count": 19,
     "metadata": {},
     "output_type": "execute_result"
    },
    {
     "data": {
      "image/png": "[encoded data removed]",
      "text/plain": [
       "<Figure size 308.875x250 with 1 Axes>"
      ]
     },
     "metadata": {},
     "output_type": "display_data"
    }
   ],
   "source": [
    "sns.catplot(x='stim_order', y='r', data=Rs_.reset_index(), hue='group',height=2.5,kind='bar') #"
   ]
  },
  {
   "cell_type": "code",
   "execution_count": 27,
   "metadata": {},
   "outputs": [
    {
     "name": "stderr",
     "output_type": "stream",
     "text": [
      "/home/ubuntu/miniconda3/envs/numrefields/lib/python3.10/site-packages/seaborn/categorical.py:3399: UserWarning: 6.5% of the points cannot be placed; you may want to decrease the size of the markers or use stripplot.\n",
      "  warnings.warn(msg, UserWarning)\n",
      "/home/ubuntu/miniconda3/envs/numrefields/lib/python3.10/site-packages/seaborn/categorical.py:3399: UserWarning: 21.2% of the points cannot be placed; you may want to decrease the size of the markers or use stripplot.\n",
      "  warnings.warn(msg, UserWarning)\n",
      "/home/ubuntu/miniconda3/envs/numrefields/lib/python3.10/site-packages/seaborn/categorical.py:3399: UserWarning: 6.5% of the points cannot be placed; you may want to decrease the size of the markers or use stripplot.\n",
      "  warnings.warn(msg, UserWarning)\n",
      "/home/ubuntu/miniconda3/envs/numrefields/lib/python3.10/site-packages/seaborn/categorical.py:3399: UserWarning: 21.2% of the points cannot be placed; you may want to decrease the size of the markers or use stripplot.\n",
      "  warnings.warn(msg, UserWarning)\n",
      "/home/ubuntu/miniconda3/envs/numrefields/lib/python3.10/site-packages/seaborn/categorical.py:3399: UserWarning: 6.1% of the points cannot be placed; you may want to decrease the size of the markers or use stripplot.\n",
      "  warnings.warn(msg, UserWarning)\n",
      "/home/ubuntu/miniconda3/envs/numrefields/lib/python3.10/site-packages/seaborn/categorical.py:3399: UserWarning: 27.3% of the points cannot be placed; you may want to decrease the size of the markers or use stripplot.\n",
      "  warnings.warn(msg, UserWarning)\n"
     ]
    },
    {
     "data": {
      "image/png": "[encoded data removed]",
      "text/plain": [
       "<Figure size 400x200 with 2 Axes>"
      ]
     },
     "metadata": {},
     "output_type": "display_data"
    }
   ],
   "source": [
    "y_var = 'r'\n",
    "\n",
    "fig, axs = plt.subplots(1,2, figsize=(4,2))\n",
    "for i,stim_n in enumerate([1,2]):\n",
    "    tmp = Rs.xs(f'r_stim{stim_n}', level='stim_order')\n",
    "    an = pg.anova(data=tmp.reset_index(), dv=y_var, between='group')\n",
    "    p_val = np.round(an['p-unc'][0],3)\n",
    "    sns.barplot(ax=axs[i],data=tmp.reset_index(), x='group', y=y_var,  hue='group', alpha=0.5,legend=False)\n",
    "    sns.swarmplot(ax=axs[i], data=tmp.reset_index(), x='group', y=y_var,  hue='group',size=8,legend=False)\n",
    "    axs[i].set(title=f'stim {stim_n} \\n p={p_val}') # ylim=(0.5,1),\n",
    "    axs[i].axhline(0,color='grey')\n",
    "    sns.despine()\n",
    "fig.subplots_adjust(wspace=0.6)"
   ]
  },
  {
   "cell_type": "code",
   "execution_count": null,
   "metadata": {},
   "outputs": [],
   "source": [
    "n = 'n2'\n",
    "temp = r_n2#.groupby(['subject','group']).mean()\n",
    "sns.set_context('talk')\n",
    "\n"
   ]
  }
 ],
 "metadata": {
  "kernelspec": {
   "display_name": "numrefields",
   "language": "python",
   "name": "python3"
  },
  "language_info": {
   "codemirror_mode": {
    "name": "ipython",
    "version": 3
   },
   "file_extension": ".py",
   "mimetype": "text/x-python",
   "name": "python",
   "nbconvert_exporter": "python",
   "pygments_lexer": "ipython3",
   "version": "3.10.11"
  }
 },
 "nbformat": 4,
 "nbformat_minor": 2
}
