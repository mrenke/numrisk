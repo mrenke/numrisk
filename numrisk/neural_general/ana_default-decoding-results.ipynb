{
 "cells": [
  {
   "cell_type": "code",
   "execution_count": 1,
   "metadata": {},
   "outputs": [],
   "source": [
    "import os.path as op\n",
    "import os\n",
    "import numpy as np\n",
    "import pandas as pd\n",
    "\n",
    "import matplotlib.pyplot as plt\n",
    "import seaborn as sns\n",
    "\n",
    "bids_folder = '/Users/mrenke/data/ds-dnumrisk'\n",
    "subjects = [int(f[4:]) for f in os.listdir(bids_folder) if f[0:3] == 'sub' and len(f) == 6]\n",
    "\n",
    "#target_folder = op.join(bids_folder, 'derivatives', 'cogmodels_risk')\n",
    "\n"
   ]
  },
  {
   "cell_type": "code",
   "execution_count": 2,
   "metadata": {},
   "outputs": [
    {
     "name": "stdout",
     "output_type": "stream",
     "text": [
      "number of subjects found: 66\n"
     ]
    }
   ],
   "source": [
    "from numrisk.utils.data import get_data_majduge\n",
    "\n",
    "df = get_data_majduge()"
   ]
  },
  {
   "cell_type": "code",
   "execution_count": 3,
   "metadata": {},
   "outputs": [
    {
     "name": "stdout",
     "output_type": "stream",
     "text": [
      "/Users/mrenke/data/ds-dnumrisk/derivatives/decoded_pdfs.volume.cv_vselect.denoise/sub-03/func/sub-03_ses-1_mask-NPC_R_space-T1w_pars.tsv\n"
     ]
    }
   ],
   "source": [
    "from utils import get_decoding_info\n",
    "\n",
    "pred = []\n",
    "for sub in subjects:\n",
    "    pred.append(get_decoding_info(sub,bids_folder=bids_folder))\n",
    "\n",
    "pred = pd.concat(pred).join(df, how='inner')"
   ]
  },
  {
   "cell_type": "code",
   "execution_count": 4,
   "metadata": {},
   "outputs": [
    {
     "name": "stderr",
     "output_type": "stream",
     "text": [
      "/Users/mrenke/mambaforge/envs/numrefields/lib/python3.10/site-packages/outdated/utils.py:14: OutdatedPackageWarning: The package outdated is out of date. Your version is 0.2.1, the latest is 0.2.2.\n",
      "Set the environment variable OUTDATED_IGNORE=1 to disable these warnings.\n",
      "  return warn(\n",
      "/Users/mrenke/mambaforge/envs/numrefields/lib/python3.10/site-packages/outdated/utils.py:14: OutdatedPackageWarning: The package pingouin is out of date. Your version is 0.5.2, the latest is 0.5.4.\n",
      "Set the environment variable OUTDATED_IGNORE=1 to disable these warnings.\n",
      "  return warn(\n"
     ]
    }
   ],
   "source": [
    "import pingouin as pg\n",
    "\n",
    "r = pred.groupby(['subject', 'group']).apply(lambda d: pg.corr(d['E'], d['log(n1)']))"
   ]
  },
  {
   "cell_type": "code",
   "execution_count": 5,
   "metadata": {},
   "outputs": [
    {
     "data": {
      "image/png": "[encoded data removed]",
      "text/plain": [
       "<Figure size 288x288 with 1 Axes>"
      ]
     },
     "metadata": {
      "needs_background": "light"
     },
     "output_type": "display_data"
    }
   ],
   "source": [
    "temp = r.groupby(['subject','group']).mean()\n",
    "sns.set_context('talk')\n",
    "\n",
    "y_var = 'r'\n",
    "an = pg.anova(data=temp.reset_index(), dv=y_var, between='group')\n",
    "p_val = np.round(an['p-unc'][0],3)\n",
    "\n",
    "fig, ax = plt.subplots(figsize=(4,4))\n",
    "sns.barplot(ax=ax,data=temp.reset_index(), x='group', y=y_var, alpha=0.5)\n",
    "sns.swarmplot(ax=ax, data=temp.reset_index(), x='group', y=y_var,  hue='group',size=8,legend=False)\n",
    "ax.set(title=f'p={p_val}') # ylim=(0.5,1),\n",
    "sns.despine()"
   ]
  },
  {
   "cell_type": "code",
   "execution_count": 6,
   "metadata": {},
   "outputs": [],
   "source": [
    "target_folder = '/Users/mrenke/data/ds-dnumrisk/derivatives/phenotype'\n",
    "\n",
    "r.reset_index(['group', None])[['r']].to_csv(op.join(target_folder,'decoding_r.csv'))"
   ]
  },
  {
   "cell_type": "code",
   "execution_count": 7,
   "metadata": {},
   "outputs": [
    {
     "data": {
      "text/html": [
       "<div>\n",
       "<style scoped>\n",
       "    .dataframe tbody tr th:only-of-type {\n",
       "        vertical-align: middle;\n",
       "    }\n",
       "\n",
       "    .dataframe tbody tr th {\n",
       "        vertical-align: top;\n",
       "    }\n",
       "\n",
       "    .dataframe thead th {\n",
       "        text-align: right;\n",
       "    }\n",
       "</style>\n",
       "<table border=\"1\" class=\"dataframe\">\n",
       "  <thead>\n",
       "    <tr style=\"text-align: right;\">\n",
       "      <th></th>\n",
       "      <th>r</th>\n",
       "      <th>group</th>\n",
       "      <th>gamma</th>\n",
       "      <th>intercept</th>\n",
       "      <th>n1|subject</th>\n",
       "      <th>gamma_symbolic</th>\n",
       "    </tr>\n",
       "    <tr>\n",
       "      <th>subject</th>\n",
       "      <th></th>\n",
       "      <th></th>\n",
       "      <th></th>\n",
       "      <th></th>\n",
       "      <th></th>\n",
       "      <th></th>\n",
       "    </tr>\n",
       "  </thead>\n",
       "  <tbody>\n",
       "    <tr>\n",
       "      <th>1</th>\n",
       "      <td>-0.058083</td>\n",
       "      <td>0</td>\n",
       "      <td>4.583617</td>\n",
       "      <td>-0.177108</td>\n",
       "      <td>-0.009172</td>\n",
       "      <td>4.144728</td>\n",
       "    </tr>\n",
       "    <tr>\n",
       "      <th>2</th>\n",
       "      <td>0.206071</td>\n",
       "      <td>1</td>\n",
       "      <td>3.547053</td>\n",
       "      <td>0.021933</td>\n",
       "      <td>0.000715</td>\n",
       "      <td>0.804526</td>\n",
       "    </tr>\n",
       "    <tr>\n",
       "      <th>4</th>\n",
       "      <td>-0.089840</td>\n",
       "      <td>1</td>\n",
       "      <td>5.052103</td>\n",
       "      <td>-0.160951</td>\n",
       "      <td>-0.009397</td>\n",
       "      <td>1.937536</td>\n",
       "    </tr>\n",
       "    <tr>\n",
       "      <th>5</th>\n",
       "      <td>-0.023735</td>\n",
       "      <td>0</td>\n",
       "      <td>3.478226</td>\n",
       "      <td>-0.255322</td>\n",
       "      <td>-0.012253</td>\n",
       "      <td>2.407660</td>\n",
       "    </tr>\n",
       "    <tr>\n",
       "      <th>6</th>\n",
       "      <td>0.062036</td>\n",
       "      <td>1</td>\n",
       "      <td>4.457349</td>\n",
       "      <td>-0.063814</td>\n",
       "      <td>-0.006156</td>\n",
       "      <td>2.204173</td>\n",
       "    </tr>\n",
       "  </tbody>\n",
       "</table>\n",
       "</div>"
      ],
      "text/plain": [
       "                r  group     gamma  intercept  n1|subject  gamma_symbolic\n",
       "subject                                                                  \n",
       "1       -0.058083      0  4.583617  -0.177108   -0.009172        4.144728\n",
       "2        0.206071      1  3.547053   0.021933    0.000715        0.804526\n",
       "4       -0.089840      1  5.052103  -0.160951   -0.009397        1.937536\n",
       "5       -0.023735      0  3.478226  -0.255322   -0.012253        2.407660\n",
       "6        0.062036      1  4.457349  -0.063814   -0.006156        2.204173"
      ]
     },
     "execution_count": 7,
     "metadata": {},
     "output_type": "execute_result"
    }
   ],
   "source": [
    "source_folder = '/Users/mrenke/data/ds-dnumrisk/derivatives/phenotype'\n",
    "\n",
    "magjudge_probit_params = pd.read_csv(op.join(source_folder,'probit-2_all-subwise-params.csv')).set_index('subject')\n",
    "\n",
    "gammas_symbolic = pd.read_csv(op.join(source_folder, f'probit_model-2_format-symbolic_gammas.csv'))\n",
    "gammas_symbolic = gammas_symbolic.set_index('subject').drop(columns=['Unnamed: 0'])\n",
    "\n",
    "df_comb = r.reset_index(['group', None])[['r', 'group']].join(magjudge_probit_params, how='inner').join(gammas_symbolic, how='inner',rsuffix='_symbolic')\n",
    "df_comb.head()"
   ]
  },
  {
   "cell_type": "code",
   "execution_count": 10,
   "metadata": {},
   "outputs": [
    {
     "data": {
      "text/html": [
       "<div>\n",
       "<style scoped>\n",
       "    .dataframe tbody tr th:only-of-type {\n",
       "        vertical-align: middle;\n",
       "    }\n",
       "\n",
       "    .dataframe tbody tr th {\n",
       "        vertical-align: top;\n",
       "    }\n",
       "\n",
       "    .dataframe thead th {\n",
       "        text-align: right;\n",
       "    }\n",
       "</style>\n",
       "<table border=\"1\" class=\"dataframe\">\n",
       "  <thead>\n",
       "    <tr style=\"text-align: right;\">\n",
       "      <th></th>\n",
       "      <th>r</th>\n",
       "      <th>memory_noise_sd</th>\n",
       "      <th>perceptual_noise_sd</th>\n",
       "      <th>group</th>\n",
       "    </tr>\n",
       "    <tr>\n",
       "      <th>subject</th>\n",
       "      <th></th>\n",
       "      <th></th>\n",
       "      <th></th>\n",
       "      <th></th>\n",
       "    </tr>\n",
       "  </thead>\n",
       "  <tbody>\n",
       "    <tr>\n",
       "      <th>1</th>\n",
       "      <td>-0.058083</td>\n",
       "      <td>0.128094</td>\n",
       "      <td>0.074870</td>\n",
       "      <td>0</td>\n",
       "    </tr>\n",
       "    <tr>\n",
       "      <th>2</th>\n",
       "      <td>0.206071</td>\n",
       "      <td>0.222981</td>\n",
       "      <td>0.052561</td>\n",
       "      <td>1</td>\n",
       "    </tr>\n",
       "    <tr>\n",
       "      <th>4</th>\n",
       "      <td>-0.089840</td>\n",
       "      <td>0.178991</td>\n",
       "      <td>0.021833</td>\n",
       "      <td>1</td>\n",
       "    </tr>\n",
       "    <tr>\n",
       "      <th>5</th>\n",
       "      <td>-0.023735</td>\n",
       "      <td>0.130870</td>\n",
       "      <td>0.126985</td>\n",
       "      <td>0</td>\n",
       "    </tr>\n",
       "    <tr>\n",
       "      <th>6</th>\n",
       "      <td>0.062036</td>\n",
       "      <td>0.194349</td>\n",
       "      <td>0.028768</td>\n",
       "      <td>1</td>\n",
       "    </tr>\n",
       "  </tbody>\n",
       "</table>\n",
       "</div>"
      ],
      "text/plain": [
       "                r  memory_noise_sd  perceptual_noise_sd  group\n",
       "subject                                                       \n",
       "1       -0.058083         0.128094             0.074870      0\n",
       "2        0.206071         0.222981             0.052561      1\n",
       "4       -0.089840         0.178991             0.021833      1\n",
       "5       -0.023735         0.130870             0.126985      0\n",
       "6        0.062036         0.194349             0.028768      1"
      ]
     },
     "execution_count": 10,
     "metadata": {},
     "output_type": "execute_result"
    }
   ],
   "source": [
    "model_label =3 # 1 n1_evidence_sd & n2_evidence_sd, 3 = memory_noise_sd & perceptual_noise_sd\n",
    "magjudge_bauer_params = pd.read_csv(op.join(source_folder,f'magjudge_bauer-{model_label}_sds.csv')).set_index('subject')\n",
    "\n",
    "df_comb = r.reset_index(['group', None])[['r']].join(magjudge_bauer_params, how='inner')\n",
    "df_comb.head()"
   ]
  },
  {
   "cell_type": "code",
   "execution_count": 12,
   "metadata": {},
   "outputs": [
    {
     "data": {
      "text/plain": [
       "<seaborn.axisgrid.FacetGrid at 0x17f0172b0>"
      ]
     },
     "execution_count": 12,
     "metadata": {},
     "output_type": "execute_result"
    },
    {
     "data": {
      "image/png": "[encoded data removed]",
      "text/plain": [
       "<Figure size 429.9x360 with 1 Axes>"
      ]
     },
     "metadata": {
      "needs_background": "light"
     },
     "output_type": "display_data"
    }
   ],
   "source": [
    "import pingouin\n",
    "\n",
    "#df_comb = df_comb[df_comb['group'] == 1]\n",
    "y_var = 'r' \n",
    "x_var = 'memory_noise_sd'#'perceptual_noise_sd'#'n2_evidence_sd'#'gamma'\n",
    "\n",
    "cor = pingouin.corr(df_comb[y_var], df_comb[x_var])\n",
    "r_ = np.round(cor['r'][0], 2)\n",
    "p = np.round(cor['p-val'][0], 3)\n",
    "\n",
    "fig = sns.lmplot(x=x_var, y=y_var, data=df_comb, hue='group') # \n",
    "fig.set(title=f'r={r_}, p= {p}') "
   ]
  }
 ],
 "metadata": {
  "kernelspec": {
   "display_name": "behav_fit",
   "language": "python",
   "name": "python3"
  },
  "language_info": {
   "codemirror_mode": {
    "name": "ipython",
    "version": 3
   },
   "file_extension": ".py",
   "mimetype": "text/x-python",
   "name": "python",
   "nbconvert_exporter": "python",
   "pygments_lexer": "ipython3",
   "version": "3.10.5"
  }
 },
 "nbformat": 4,
 "nbformat_minor": 2
}
