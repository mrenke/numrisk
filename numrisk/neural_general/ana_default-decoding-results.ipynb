{
 "cells": [
  {
   "cell_type": "code",
   "execution_count": 1,
   "metadata": {},
   "outputs": [],
   "source": [
    "import os.path as op\n",
    "import os\n",
    "import numpy as np\n",
    "import pandas as pd\n",
    "\n",
    "import matplotlib.pyplot as plt\n",
    "import seaborn as sns\n",
    "\n",
    "bids_folder = '/Users/mrenke/data/ds-dnumrisk'\n",
    "subjects = [int(f[4:]) for f in os.listdir(bids_folder) if f[0:3] == 'sub' and len(f) == 6]\n",
    "\n",
    "#target_folder = op.join(bids_folder, 'derivatives', 'cogmodels_risk')\n",
    "\n"
   ]
  },
  {
   "cell_type": "code",
   "execution_count": 2,
   "metadata": {},
   "outputs": [
    {
     "name": "stdout",
     "output_type": "stream",
     "text": [
      "number of subjects found: 66\n"
     ]
    }
   ],
   "source": [
    "from numrisk.utils.data import get_data_majduge\n",
    "\n",
    "df = get_data_majduge()"
   ]
  },
  {
   "cell_type": "code",
   "execution_count": 3,
   "metadata": {},
   "outputs": [
    {
     "name": "stdout",
     "output_type": "stream",
     "text": [
      "/Users/mrenke/data/ds-dnumrisk/derivatives/decoded_pdfs.volume.cv_vselect.denoise/sub-65/func/sub-65_ses-1_mask-NPC_R_space-T1w_pars.tsv\n",
      "/Users/mrenke/data/ds-dnumrisk/derivatives/decoded_pdfs.volume.cv_vselect.denoise/sub-03/func/sub-03_ses-1_mask-NPC_R_space-T1w_pars.tsv\n",
      "/Users/mrenke/data/ds-dnumrisk/derivatives/decoded_pdfs.volume.cv_vselect.denoise/sub-66/func/sub-66_ses-1_mask-NPC_R_space-T1w_pars.tsv\n"
     ]
    }
   ],
   "source": [
    "from utils import get_decoding_info\n",
    "\n",
    "pred = []\n",
    "for sub in subjects:\n",
    "    pred.append(get_decoding_info(sub,bids_folder=bids_folder))\n",
    "\n",
    "pred = pd.concat(pred).join(df, how='inner')"
   ]
  },
  {
   "cell_type": "code",
   "execution_count": 5,
   "metadata": {},
   "outputs": [],
   "source": [
    "import pingouin as pg\n",
    "\n",
    "r = pred.groupby(['subject', 'group']).apply(lambda d: pg.corr(d['E'], d['log(n1)']))"
   ]
  },
  {
   "cell_type": "code",
   "execution_count": 14,
   "metadata": {},
   "outputs": [
    {
     "data": {
      "image/png": "[encoded data removed]",
      "text/plain": [
       "<Figure size 288x288 with 1 Axes>"
      ]
     },
     "metadata": {
      "needs_background": "light"
     },
     "output_type": "display_data"
    }
   ],
   "source": [
    "temp = r.groupby(['subject','group']).mean()\n",
    "sns.set_context('talk')\n",
    "\n",
    "y_var = 'r'\n",
    "an = pg.anova(data=temp.reset_index(), dv=y_var, between='group')\n",
    "p_val = np.round(an['p-unc'][0],3)\n",
    "\n",
    "fig, ax = plt.subplots(figsize=(4,4))\n",
    "sns.barplot(ax=ax,data=temp.reset_index(), x='group', y=y_var, hue='group',alpha=0.5)\n",
    "sns.swarmplot(ax=ax, data=temp.reset_index(), x='group', y=y_var,  hue='group',size=8,legend=False)\n",
    "ax.set(title=f'p={p_val}') # ylim=(0.5,1),\n",
    "#sns.move_legend(ax, \"outside\")\n",
    "sns.despine()"
   ]
  },
  {
   "cell_type": "code",
   "execution_count": 21,
   "metadata": {},
   "outputs": [],
   "source": [
    "target_folder = '/Users/mrenke/data/ds-dnumrisk/derivatives/phenotype'\n",
    "\n",
    "r.reset_index(['group', None])[['r']].to_csv(op.join(target_folder,'decoding_r.csv'))"
   ]
  },
  {
   "cell_type": "code",
   "execution_count": 20,
   "metadata": {},
   "outputs": [
    {
     "data": {
      "text/html": [
       "<div>\n",
       "<style scoped>\n",
       "    .dataframe tbody tr th:only-of-type {\n",
       "        vertical-align: middle;\n",
       "    }\n",
       "\n",
       "    .dataframe tbody tr th {\n",
       "        vertical-align: top;\n",
       "    }\n",
       "\n",
       "    .dataframe thead th {\n",
       "        text-align: right;\n",
       "    }\n",
       "</style>\n",
       "<table border=\"1\" class=\"dataframe\">\n",
       "  <thead>\n",
       "    <tr style=\"text-align: right;\">\n",
       "      <th></th>\n",
       "      <th>group</th>\n",
       "      <th>level_2</th>\n",
       "      <th>n</th>\n",
       "      <th>r</th>\n",
       "      <th>CI95%</th>\n",
       "      <th>p-val</th>\n",
       "      <th>BF10</th>\n",
       "      <th>power</th>\n",
       "    </tr>\n",
       "    <tr>\n",
       "      <th>subject</th>\n",
       "      <th></th>\n",
       "      <th></th>\n",
       "      <th></th>\n",
       "      <th></th>\n",
       "      <th></th>\n",
       "      <th></th>\n",
       "      <th></th>\n",
       "      <th></th>\n",
       "    </tr>\n",
       "  </thead>\n",
       "  <tbody>\n",
       "    <tr>\n",
       "      <th>1</th>\n",
       "      <td>0</td>\n",
       "      <td>pearson</td>\n",
       "      <td>180</td>\n",
       "      <td>-0.058083</td>\n",
       "      <td>[-0.2, 0.09]</td>\n",
       "      <td>0.438643</td>\n",
       "      <td>0.126</td>\n",
       "      <td>0.121123</td>\n",
       "    </tr>\n",
       "    <tr>\n",
       "      <th>2</th>\n",
       "      <td>1</td>\n",
       "      <td>pearson</td>\n",
       "      <td>173</td>\n",
       "      <td>0.206071</td>\n",
       "      <td>[0.06, 0.34]</td>\n",
       "      <td>0.006527</td>\n",
       "      <td>3.727</td>\n",
       "      <td>0.780216</td>\n",
       "    </tr>\n",
       "    <tr>\n",
       "      <th>4</th>\n",
       "      <td>1</td>\n",
       "      <td>pearson</td>\n",
       "      <td>178</td>\n",
       "      <td>-0.089840</td>\n",
       "      <td>[-0.23, 0.06]</td>\n",
       "      <td>0.233035</td>\n",
       "      <td>0.19</td>\n",
       "      <td>0.222729</td>\n",
       "    </tr>\n",
       "    <tr>\n",
       "      <th>5</th>\n",
       "      <td>0</td>\n",
       "      <td>pearson</td>\n",
       "      <td>179</td>\n",
       "      <td>-0.023735</td>\n",
       "      <td>[-0.17, 0.12]</td>\n",
       "      <td>0.752483</td>\n",
       "      <td>0.098</td>\n",
       "      <td>0.061401</td>\n",
       "    </tr>\n",
       "    <tr>\n",
       "      <th>6</th>\n",
       "      <td>1</td>\n",
       "      <td>pearson</td>\n",
       "      <td>180</td>\n",
       "      <td>0.062036</td>\n",
       "      <td>[-0.08, 0.21]</td>\n",
       "      <td>0.408064</td>\n",
       "      <td>0.131</td>\n",
       "      <td>0.131454</td>\n",
       "    </tr>\n",
       "    <tr>\n",
       "      <th>...</th>\n",
       "      <td>...</td>\n",
       "      <td>...</td>\n",
       "      <td>...</td>\n",
       "      <td>...</td>\n",
       "      <td>...</td>\n",
       "      <td>...</td>\n",
       "      <td>...</td>\n",
       "      <td>...</td>\n",
       "    </tr>\n",
       "    <tr>\n",
       "      <th>60</th>\n",
       "      <td>0</td>\n",
       "      <td>pearson</td>\n",
       "      <td>180</td>\n",
       "      <td>0.229764</td>\n",
       "      <td>[0.09, 0.36]</td>\n",
       "      <td>0.001917</td>\n",
       "      <td>11.045</td>\n",
       "      <td>0.877014</td>\n",
       "    </tr>\n",
       "    <tr>\n",
       "      <th>61</th>\n",
       "      <td>0</td>\n",
       "      <td>pearson</td>\n",
       "      <td>179</td>\n",
       "      <td>-0.095490</td>\n",
       "      <td>[-0.24, 0.05]</td>\n",
       "      <td>0.203541</td>\n",
       "      <td>0.209</td>\n",
       "      <td>0.246814</td>\n",
       "    </tr>\n",
       "    <tr>\n",
       "      <th>62</th>\n",
       "      <td>0</td>\n",
       "      <td>pearson</td>\n",
       "      <td>179</td>\n",
       "      <td>0.305624</td>\n",
       "      <td>[0.17, 0.43]</td>\n",
       "      <td>0.000032</td>\n",
       "      <td>499.349</td>\n",
       "      <td>0.987423</td>\n",
       "    </tr>\n",
       "    <tr>\n",
       "      <th>63</th>\n",
       "      <td>0</td>\n",
       "      <td>pearson</td>\n",
       "      <td>178</td>\n",
       "      <td>0.165065</td>\n",
       "      <td>[0.02, 0.3]</td>\n",
       "      <td>0.027676</td>\n",
       "      <td>1.038</td>\n",
       "      <td>0.598411</td>\n",
       "    </tr>\n",
       "    <tr>\n",
       "      <th>64</th>\n",
       "      <td>0</td>\n",
       "      <td>pearson</td>\n",
       "      <td>178</td>\n",
       "      <td>0.274937</td>\n",
       "      <td>[0.13, 0.41]</td>\n",
       "      <td>0.000204</td>\n",
       "      <td>87.669</td>\n",
       "      <td>0.962678</td>\n",
       "    </tr>\n",
       "  </tbody>\n",
       "</table>\n",
       "<p>63 rows × 8 columns</p>\n",
       "</div>"
      ],
      "text/plain": [
       "         group  level_2    n         r          CI95%     p-val     BF10  \\\n",
       "subject                                                                    \n",
       "1            0  pearson  180 -0.058083   [-0.2, 0.09]  0.438643    0.126   \n",
       "2            1  pearson  173  0.206071   [0.06, 0.34]  0.006527    3.727   \n",
       "4            1  pearson  178 -0.089840  [-0.23, 0.06]  0.233035     0.19   \n",
       "5            0  pearson  179 -0.023735  [-0.17, 0.12]  0.752483    0.098   \n",
       "6            1  pearson  180  0.062036  [-0.08, 0.21]  0.408064    0.131   \n",
       "...        ...      ...  ...       ...            ...       ...      ...   \n",
       "60           0  pearson  180  0.229764   [0.09, 0.36]  0.001917   11.045   \n",
       "61           0  pearson  179 -0.095490  [-0.24, 0.05]  0.203541    0.209   \n",
       "62           0  pearson  179  0.305624   [0.17, 0.43]  0.000032  499.349   \n",
       "63           0  pearson  178  0.165065    [0.02, 0.3]  0.027676    1.038   \n",
       "64           0  pearson  178  0.274937   [0.13, 0.41]  0.000204   87.669   \n",
       "\n",
       "            power  \n",
       "subject            \n",
       "1        0.121123  \n",
       "2        0.780216  \n",
       "4        0.222729  \n",
       "5        0.061401  \n",
       "6        0.131454  \n",
       "...           ...  \n",
       "60       0.877014  \n",
       "61       0.246814  \n",
       "62       0.987423  \n",
       "63       0.598411  \n",
       "64       0.962678  \n",
       "\n",
       "[63 rows x 8 columns]"
      ]
     },
     "execution_count": 20,
     "metadata": {},
     "output_type": "execute_result"
    }
   ],
   "source": [
    "r.reset_index(['group', None])"
   ]
  },
  {
   "cell_type": "code",
   "execution_count": null,
   "metadata": {},
   "outputs": [],
   "source": []
  }
 ],
 "metadata": {
  "kernelspec": {
   "display_name": "behav_fit",
   "language": "python",
   "name": "python3"
  },
  "language_info": {
   "codemirror_mode": {
    "name": "ipython",
    "version": 3
   },
   "file_extension": ".py",
   "mimetype": "text/x-python",
   "name": "python",
   "nbconvert_exporter": "python",
   "pygments_lexer": "ipython3",
   "version": "3.10.5"
  }
 },
 "nbformat": 4,
 "nbformat_minor": 2
}
