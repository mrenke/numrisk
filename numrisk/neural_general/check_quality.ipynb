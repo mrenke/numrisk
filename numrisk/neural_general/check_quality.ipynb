{
 "cells": [
  {
   "cell_type": "code",
   "execution_count": 5,
   "metadata": {},
   "outputs": [],
   "source": [
    "import os.path as op\n",
    "import os\n",
    "import numpy as np\n",
    "import pandas as pd\n",
    "\n",
    "import matplotlib.pyplot as plt\n",
    "import seaborn as sns\n",
    "\n",
    "bids_folder = '/Volumes/mrenkeED/data/ds-dnumrisk'\n",
    "subjects = [f for f in os.listdir(bids_folder) if f[0:3] == 'sub' and len(f) == 6] # int(f[4:]) "
   ]
  },
  {
   "cell_type": "code",
   "execution_count": null,
   "metadata": {},
   "outputs": [],
   "source": [
    "/Volumes/mrenkeED/data/ds-dnumrisk/derivatives/fmriprep/sub-01/ses-1/func/sub-01_ses-1_task-magjudge_run-1_desc-confounds_timeseries.tsv\n",
    "/Volumes/mrenkeED/data/ds-dnumrisk/derivatives/fmriprep/sub-10/ses-1/func/sub-10_ses-1_task-magjudge_run-1_desc-confounds_timeseries.tsv"
   ]
  },
  {
   "cell_type": "code",
   "execution_count": null,
   "metadata": {},
   "outputs": [],
   "source": [
    "sub = 'sub-10'\n",
    "\n",
    "fd = []                    \n",
    "for run in range(1,7):\n",
    "        fmriprep_confounds_file = op.join(bids_folder,'derivatives', 'fmriprep', sub, f'ses-{ses}', 'func', f'{sub}_ses-{ses}_task-magjudge_run-{run}_desc-confounds_timeseries.tsv')\n",
    "        fmriprep_confounds = pd.read_table(fmriprep_confounds_file)[fmriprep_confounds_include] \n",
    "        fd.append(fmriprep_confounds.mean())"
   ]
  },
  {
   "cell_type": "code",
   "execution_count": 13,
   "metadata": {},
   "outputs": [
    {
     "name": "stdout",
     "output_type": "stream",
     "text": [
      "['sub-10', 'sub-05', 'sub-04', 'sub-11', 'sub-12', 'sub-38', 'sub-47', 'sub-53', 'sub-62', 'sub-65', 'sub-66']\n"
     ]
    }
   ],
   "source": [
    "fmriprep_confounds_include = ['framewise_displacement']\n",
    "ses=1\n",
    "\n",
    "df_fd = []\n",
    "subs = []\n",
    "errors = []     \n",
    "for sub in  subjects:\n",
    "        try:\n",
    "                fd = []                    \n",
    "                for run in range(1,7):\n",
    "                        fmriprep_confounds_file = op.join(bids_folder,'derivatives', 'fmriprep', sub, f'ses-{ses}', 'func', f'{sub}_ses-{ses}_task-magjudge_run-{run}_desc-confounds_timeseries.tsv')\n",
    "                        fmriprep_confounds = pd.read_table(fmriprep_confounds_file)[fmriprep_confounds_include] \n",
    "                        fd.append(fmriprep_confounds.mean())\n",
    "                df_fd.append(np.mean(fd))\n",
    "                subs.append(int(sub[4:]))\n",
    "        except:\n",
    "                errors.append(sub)\n",
    "        \n",
    "print(errors)\n"
   ]
  },
  {
   "cell_type": "code",
   "execution_count": 4,
   "metadata": {},
   "outputs": [
    {
     "data": {
      "text/plain": [
       "10"
      ]
     },
     "execution_count": 4,
     "metadata": {},
     "output_type": "execute_result"
    }
   ],
   "source": [
    "sub"
   ]
  },
  {
   "cell_type": "code",
   "execution_count": null,
   "metadata": {},
   "outputs": [],
   "source": []
  }
 ],
 "metadata": {
  "kernelspec": {
   "display_name": "numrefields",
   "language": "python",
   "name": "python3"
  },
  "language_info": {
   "codemirror_mode": {
    "name": "ipython",
    "version": 3
   },
   "file_extension": ".py",
   "mimetype": "text/x-python",
   "name": "python",
   "nbconvert_exporter": "python",
   "pygments_lexer": "ipython3",
   "version": "3.10.5"
  }
 },
 "nbformat": 4,
 "nbformat_minor": 2
}
