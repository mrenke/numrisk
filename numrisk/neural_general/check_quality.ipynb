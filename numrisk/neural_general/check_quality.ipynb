{
 "cells": [
  {
   "cell_type": "code",
   "execution_count": 1,
   "metadata": {},
   "outputs": [],
   "source": [
    "import os.path as op\n",
    "import os\n",
    "import numpy as np\n",
    "import pandas as pd\n",
    "\n",
    "import matplotlib.pyplot as plt\n",
    "import seaborn as sns\n",
    "\n",
    "bids_folder = '/Volumes/mrenkeED/data/ds-dnumrisk'\n",
    "subjects = [int(f[4:]) for f in os.listdir(bids_folder) if f[0:3] == 'sub' and len(f) == 6]"
   ]
  },
  {
   "cell_type": "code",
   "execution_count": null,
   "metadata": {},
   "outputs": [],
   "source": [
    "fmriprep_confounds_include = ['framewise_displacement']\n",
    "ses=1\n",
    "\n",
    "df_fd = []\n",
    "subs = []\n",
    "for sub in  subjects:\n",
    "    fd = []                    \n",
    "    for run in range(1,7):\n",
    "            fmriprep_confounds_file = op.join(bids_folder,'derivatives', 'fmriprep', sub, f'ses-{ses}', 'func', f'{sub}_ses-{ses}_task-risk_run-{run}_desc-confounds_timeseries.tsv')\n",
    "            fmriprep_confounds = pd.read_table(fmriprep_confounds_file)[fmriprep_confounds_include] \n",
    "            fd.append(fmriprep_confounds.mean())\n",
    "    df_fd.append(np.mean(fd))\n",
    "    subs.append(int(sub[4:]))"
   ]
  }
 ],
 "metadata": {
  "kernelspec": {
   "display_name": "numrefields",
   "language": "python",
   "name": "python3"
  },
  "language_info": {
   "codemirror_mode": {
    "name": "ipython",
    "version": 3
   },
   "file_extension": ".py",
   "mimetype": "text/x-python",
   "name": "python",
   "nbconvert_exporter": "python",
   "pygments_lexer": "ipython3",
   "version": "3.10.5"
  }
 },
 "nbformat": 4,
 "nbformat_minor": 2
}
