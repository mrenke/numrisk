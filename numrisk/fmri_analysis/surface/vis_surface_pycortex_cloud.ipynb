{
 "cells": [
  {
   "cell_type": "markdown",
   "metadata": {},
   "source": [
    "## visualize with pycortex from sciencecloud\n",
    "\n",
    "e.g. sciencecloud command line:\n",
    "-activate pycortex, ipython\n",
    "import cortex\n",
    "cortex.webshow(cortex.Volume.random(\"S1\", \"fullhead\"), port=8000)\n",
    "\n",
    "- ssh -L 8080:localhost:8000 scienccloud\n",
    "- in local webbrowser: http://localhost:8080/mixer.html\n",
    "\n",
    "* before: run `import_fs_sub_pycortex.py sub-ID`"
   ]
  },
  {
   "cell_type": "code",
   "execution_count": 15,
   "metadata": {},
   "outputs": [],
   "source": [
    "import cortex\n",
    "from nilearn import image\n",
    "from nilearn import surface\n",
    "import os.path as op\n",
    "import numpy as np"
   ]
  },
  {
   "cell_type": "code",
   "execution_count": 18,
   "metadata": {},
   "outputs": [],
   "source": [
    "bids_folder = '/mnt_03/ds-dnumrisk'\n",
    "key = 'encoding_model.denoise'\n",
    "parameter_key = 'r2'\n",
    "\n",
    "dataset = 'dnumrisk'\n",
    "subject = 58\n",
    "space = 'fsnative'"
   ]
  },
  {
   "cell_type": "code",
   "execution_count": 19,
   "metadata": {},
   "outputs": [],
   "source": [
    "for hemi in ['L', 'R']:\n",
    "    fn = op.join(bids_folder, 'derivatives', key, f'sub-{subject:02d}', f'ses-1', \n",
    "                        'func', f'sub-{subject:02d}_ses-1_desc-{parameter_key}.optim.nilearn_space-{space}_hemi-{hemi}.func.gii') # .volume\n",
    "    surf_L = surface.load_surf_data(fn)"
   ]
  },
  {
   "cell_type": "code",
   "execution_count": 20,
   "metadata": {},
   "outputs": [
    {
     "data": {
      "text/plain": [
       "(230062,)"
      ]
     },
     "execution_count": 20,
     "metadata": {},
     "output_type": "execute_result"
    }
   ],
   "source": [
    "surf_L = surface.load_surf_data(op.join(bids_folder, 'derivatives', key, f'sub-{subject:02d}', f'ses-1',  'func', f'sub-{subject:02d}_ses-1_desc-{parameter_key}.optim.nilearn_space-{space}_hemi-L.func.gii')) # .volume\n",
    "surf_R = surface.load_surf_data(op.join(bids_folder, 'derivatives', key, f'sub-{subject:02d}', f'ses-1',  'func', f'sub-{subject:02d}_ses-1_desc-{parameter_key}.optim.nilearn_space-{space}_hemi-R.func.gii')) # .volume\n",
    "\n",
    "surf_map_fsnative = np.concatenate([surf_L, surf_R])\n",
    "surf_map_fsnative.shape"
   ]
  },
  {
   "cell_type": "code",
   "execution_count": 36,
   "metadata": {},
   "outputs": [
    {
     "name": "stdout",
     "output_type": "stream",
     "text": [
      "Started server on port 8000\n"
     ]
    },
    {
     "data": {
      "text/plain": [
       "<JS: window.viewer>"
      ]
     },
     "execution_count": 36,
     "metadata": {},
     "output_type": "execute_result"
    }
   ],
   "source": [
    "ds = cortex.Vertex(surf_map_fsnative, pyc_subject)\n",
    "cortex.webshow(ds, port=8000)   "
   ]
  },
  {
   "cell_type": "code",
   "execution_count": null,
   "metadata": {},
   "outputs": [],
   "source": [
    "from cortex.dataset.braindata import VertexData\n",
    "\n",
    "ds = VertexData(data=surf_map_fsnative,subject=pyc_subject) #, xfmname='epi.identity')\n"
   ]
  },
  {
   "cell_type": "code",
   "execution_count": null,
   "metadata": {},
   "outputs": [],
   "source": [
    "# for vo\n",
    "transform = cortex.xfm.Transform(np.identity(4), pars)\n",
    "transform.save(pyc_subject, 'identity.bold')\n",
    "pyc_subject = f'{dataset}.sub-{subject:02d}'\n",
    "xfm = 'identity.bold'\n",
    "\n",
    "map = cortex.Volume(surf_map_fsnative, pyc_subject, xfm)"
   ]
  },
  {
   "cell_type": "code",
   "execution_count": null,
   "metadata": {},
   "outputs": [],
   "source": []
  },
  {
   "cell_type": "code",
   "execution_count": 30,
   "metadata": {},
   "outputs": [
    {
     "ename": "AttributeError",
     "evalue": "module 'cortex.dataset' has no attribute 'BrainData'",
     "output_type": "error",
     "traceback": [
      "\u001b[0;31m---------------------------------------------------------------------------\u001b[0m",
      "\u001b[0;31mAttributeError\u001b[0m                            Traceback (most recent call last)",
      "Cell \u001b[0;32mIn[30], line 3\u001b[0m\n\u001b[1;32m      1\u001b[0m \u001b[38;5;28;01mfrom\u001b[39;00m \u001b[38;5;21;01mcortex\u001b[39;00m \u001b[38;5;28;01mimport\u001b[39;00m dataset\n\u001b[0;32m----> 3\u001b[0m ds \u001b[38;5;241m=\u001b[39m dataset\u001b[38;5;241m.\u001b[39mBrainData(data\u001b[38;5;241m=\u001b[39msurf_map_fsnative,subject\u001b[38;5;241m=\u001b[39mpyc_subject, xfmname\u001b[38;5;241m=\u001b[39m\u001b[38;5;124m'\u001b[39m\u001b[38;5;124mepi.identity\u001b[39m\u001b[38;5;124m'\u001b[39m)\n\u001b[1;32m      5\u001b[0m cortex\u001b[38;5;241m.\u001b[39mwebshow(ds, port\u001b[38;5;241m=\u001b[39m\u001b[38;5;241m8000\u001b[39m)\n",
      "\u001b[0;31mAttributeError\u001b[0m: module 'cortex.dataset' has no attribute 'BrainData'"
     ]
    }
   ],
   "source": [
    "from cortex import dataset\n",
    "\n",
    "ds = dataset.BrainData(data=surf_map_fsnative,subject=pyc_subject, xfmname='epi.identity')\n",
    "\n",
    "cortex.webshow(ds, port=8000)   "
   ]
  },
  {
   "cell_type": "code",
   "execution_count": null,
   "metadata": {},
   "outputs": [
    {
     "ename": "TypeError",
     "evalue": "Cannot directly instantiate VertexData objects",
     "output_type": "error",
     "traceback": [
      "\u001b[0;31m---------------------------------------------------------------------------\u001b[0m",
      "\u001b[0;31mTypeError\u001b[0m                                 Traceback (most recent call last)",
      "Cell \u001b[0;32mIn[32], line 3\u001b[0m\n\u001b[1;32m      1\u001b[0m \u001b[38;5;28;01mfrom\u001b[39;00m \u001b[38;5;21;01mcortex\u001b[39;00m\u001b[38;5;21;01m.\u001b[39;00m\u001b[38;5;21;01mdataset\u001b[39;00m\u001b[38;5;21;01m.\u001b[39;00m\u001b[38;5;21;01mbraindata\u001b[39;00m \u001b[38;5;28;01mimport\u001b[39;00m VertexData\n\u001b[0;32m----> 3\u001b[0m ds \u001b[38;5;241m=\u001b[39m VertexData(data\u001b[38;5;241m=\u001b[39msurf_map_fsnative,subject\u001b[38;5;241m=\u001b[39mpyc_subject)\n",
      "File \u001b[0;32m~/miniconda3/envs/pycortex/lib/python3.12/site-packages/cortex/dataset/braindata.py:361\u001b[0m, in \u001b[0;36mVertexData.__init__\u001b[0;34m(self, data, subject, **kwargs)\u001b[0m\n\u001b[1;32m    359\u001b[0m \u001b[38;5;28;01mdef\u001b[39;00m \u001b[38;5;21m__init__\u001b[39m(\u001b[38;5;28mself\u001b[39m, data, subject, \u001b[38;5;241m*\u001b[39m\u001b[38;5;241m*\u001b[39mkwargs):\n\u001b[1;32m    360\u001b[0m     \u001b[38;5;28;01mif\u001b[39;00m \u001b[38;5;28mself\u001b[39m\u001b[38;5;241m.\u001b[39m\u001b[38;5;18m__class__\u001b[39m \u001b[38;5;241m==\u001b[39m VertexData:\n\u001b[0;32m--> 361\u001b[0m         \u001b[38;5;28;01mraise\u001b[39;00m \u001b[38;5;167;01mTypeError\u001b[39;00m(\u001b[38;5;124m'\u001b[39m\u001b[38;5;124mCannot directly instantiate VertexData objects\u001b[39m\u001b[38;5;124m'\u001b[39m)\n\u001b[1;32m    362\u001b[0m     \u001b[38;5;28msuper\u001b[39m(VertexData, \u001b[38;5;28mself\u001b[39m)\u001b[38;5;241m.\u001b[39m\u001b[38;5;21m__init__\u001b[39m(data, subject, \u001b[38;5;241m*\u001b[39m\u001b[38;5;241m*\u001b[39mkwargs)\n\u001b[1;32m    363\u001b[0m     \u001b[38;5;28;01mtry\u001b[39;00m:\n",
      "\u001b[0;31mTypeError\u001b[0m: Cannot directly instantiate VertexData objects"
     ]
    }
   ],
   "source": []
  },
  {
   "cell_type": "code",
   "execution_count": null,
   "metadata": {},
   "outputs": [],
   "source": [
    "from cortex import webgl \n"
   ]
  }
 ],
 "metadata": {
  "kernelspec": {
   "display_name": "pycortex",
   "language": "python",
   "name": "python3"
  },
  "language_info": {
   "codemirror_mode": {
    "name": "ipython",
    "version": 3
   },
   "file_extension": ".py",
   "mimetype": "text/x-python",
   "name": "python",
   "nbconvert_exporter": "python",
   "pygments_lexer": "ipython3",
   "version": "3.12.9"
  }
 },
 "nbformat": 4,
 "nbformat_minor": 2
}
