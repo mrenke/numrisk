{
 "cells": [
  {
   "cell_type": "markdown",
   "metadata": {},
   "source": [
    "## visualize with pycortex from sciencecloud\n",
    "\n",
    "e.g. sciencecloud command line:\n",
    "-activate pycortex, ipython\n",
    "import cortex\n",
    "cortex.webshow(cortex.Volume.random(\"S1\", \"fullhead\"), port=8000)\n",
    "\n",
    "- ssh -L 8080:localhost:8000 scienccloud (808o = local portID, 8000 = remote portID)\n",
    "- in local webbrowser: http://localhost:8080/mixer.html (change 8000 (what opens as default) to 8080 !)\n",
    "\n",
    "* before: run `import_fs_sub_pycortex.py sub-ID`\n",
    "\n",
    "\n",
    "multiple viewers:\n",
    "ssh -L 8000:localhost:8000 -L 8001:localhost:8001 -L 8002:localhost:8002 sciencecloud\n",
    "(just use same port ID on local and remote to make it easier)"
   ]
  },
  {
   "cell_type": "code",
   "execution_count": 7,
   "metadata": {},
   "outputs": [],
   "source": [
    "import cortex\n",
    "from nilearn import image\n",
    "from nilearn import surface\n",
    "import os.path as op\n",
    "import numpy as np\n",
    "import nibabel as nib"
   ]
  },
  {
   "cell_type": "code",
   "execution_count": 11,
   "metadata": {},
   "outputs": [
    {
     "data": {
      "text/plain": [
       "'/home/ubuntu/miniconda3/envs/pycortex/share/pycortex/db'"
      ]
     },
     "execution_count": 11,
     "metadata": {},
     "output_type": "execute_result"
    }
   ],
   "source": [
    "cortex.database.default_filestore"
   ]
  },
  {
   "cell_type": "code",
   "execution_count": 2,
   "metadata": {},
   "outputs": [],
   "source": [
    "bids_folder = '/mnt_03/ds-dnumrisk'\n",
    "key = 'encoding_model.denoise'\n",
    "parameter_key = 'r2'\n",
    "dataset = 'dnumrisk'\n",
    "space = 'fsnative'"
   ]
  },
  {
   "cell_type": "code",
   "execution_count": null,
   "metadata": {},
   "outputs": [],
   "source": [
    "subject = 58\n",
    "pyc_subject = f'{dataset}.sub-{subject:02d}'\n",
    "surf_L = surface.load_surf_data(op.join(bids_folder, 'derivatives', key, f'sub-{subject:02d}', f'ses-1',  'func', f'sub-{subject:02d}_ses-1_desc-{parameter_key}.optim.nilearn_space-{space}_hemi-L.func.gii')) # .volume\n",
    "surf_R = surface.load_surf_data(op.join(bids_folder, 'derivatives', key, f'sub-{subject:02d}', f'ses-1',  'func', f'sub-{subject:02d}_ses-1_desc-{parameter_key}.optim.nilearn_space-{space}_hemi-R.func.gii')) # .volume\n",
    "\n",
    "surf_map_fsnative = np.concatenate([surf_L, surf_R])\n",
    "print(surf_map_fsnative.shape)\n",
    "ds_1 = cortex.Vertex(surf_map_fsnative, pyc_subject)\n",
    "cortex.webshow(ds_1, port=8000)   \n",
    "\n",
    "# change:  to http://localhost:8080/mixer.html"
   ]
  },
  {
   "cell_type": "code",
   "execution_count": 4,
   "metadata": {},
   "outputs": [
    {
     "name": "stdout",
     "output_type": "stream",
     "text": [
      "(327684,)\n",
      "Started server on port 8001\n"
     ]
    },
    {
     "data": {
      "text/plain": [
       "<JS: window.viewer>"
      ]
     },
     "execution_count": 4,
     "metadata": {},
     "output_type": "execute_result"
    }
   ],
   "source": [
    "subject = 58\n",
    "space = 'fsaverage'\n",
    "pyc_subject = space if space == 'fsaverage' else f'{dataset}.sub-{subject:02d}'\n",
    "surf_L = surface.load_surf_data(op.join(bids_folder, 'derivatives', key, f'sub-{subject:02d}', f'ses-1',  'func', f'sub-{subject:02d}_ses-1_desc-{parameter_key}.optim.nilearn_space-{space}_hemi-L.func.gii')) # .volume\n",
    "surf_R = surface.load_surf_data(op.join(bids_folder, 'derivatives', key, f'sub-{subject:02d}', f'ses-1',  'func', f'sub-{subject:02d}_ses-1_desc-{parameter_key}.optim.nilearn_space-{space}_hemi-R.func.gii')) # .volume\n",
    "\n",
    "surf_map_fsnative = np.concatenate([surf_L, surf_R])\n",
    "print(surf_map_fsnative.shape)\n",
    "ds_1 = cortex.Vertex(surf_map_fsnative, pyc_subject)\n",
    "cortex.webshow(ds_1, port=8001)   \n",
    "\n",
    "# change:  to http://localhost:8080/mixer.html"
   ]
  },
  {
   "cell_type": "code",
   "execution_count": null,
   "metadata": {},
   "outputs": [],
   "source": [
    "# CV stim 1 (port 8001)\n",
    "subject = 17\n",
    "key = 'encoding_model.cv.denoise' # _stim2\n",
    "parameter_key = 'cvr2' #'desc-cvr2.optim_space-T1w_pars.nii.gz'\n",
    "\n",
    "pyc_subject = f'{dataset}.sub-{subject:02d}'\n",
    "surf_L = surface.load_surf_data(op.join(bids_folder, 'derivatives', key, f'sub-{subject:02d}', f'ses-1',  'func', f'sub-{subject:02d}_ses-1_desc-{parameter_key}.optim.nilearn_space-{space}_hemi-L.func.gii')) # .volume\n",
    "surf_R = surface.load_surf_data(op.join(bids_folder, 'derivatives', key, f'sub-{subject:02d}', f'ses-1',  'func', f'sub-{subject:02d}_ses-1_desc-{parameter_key}.optim.nilearn_space-{space}_hemi-R.func.gii')) # .volume\n",
    "\n",
    "surf_map_fsnative = np.concatenate([surf_L, surf_R])\n",
    "surf_map_fsnative = np.array(surf_map_fsnative, dtype=float)\n",
    "\n",
    "print(surf_map_fsnative.shape)\n",
    "ds_2 = cortex.Vertex(surf_map_fsnative, pyc_subject)\n",
    "cortex.webshow(ds_2, port=8001)   \n",
    "# change: http://mr-01:8000/mixer.html to http://localhost:8080/mixer.html"
   ]
  },
  {
   "cell_type": "code",
   "execution_count": 5,
   "metadata": {},
   "outputs": [
    {
     "name": "stdout",
     "output_type": "stream",
     "text": [
      "(256351,)\n",
      "Started server on port 8002\n"
     ]
    },
    {
     "data": {
      "text/plain": [
       "<JS: window.viewer>"
      ]
     },
     "execution_count": 5,
     "metadata": {},
     "output_type": "execute_result"
    }
   ],
   "source": [
    "# CV stim 2 (port 8002)\n",
    "\n",
    "subject = 17\n",
    "key = 'encoding_model_stim2.cv.denoise' # _stim2\n",
    "parameter_key = 'cvr2' #'desc-cvr2.optim_space-T1w_pars.nii.gz'\n",
    "\n",
    "pyc_subject = f'{dataset}.sub-{subject:02d}'\n",
    "surf_L = surface.load_surf_data(op.join(bids_folder, 'derivatives', key, f'sub-{subject:02d}', f'ses-1',  'func', f'sub-{subject:02d}_ses-1_desc-{parameter_key}.optim.nilearn_space-{space}_hemi-L.func.gii')) # .volume\n",
    "surf_R = surface.load_surf_data(op.join(bids_folder, 'derivatives', key, f'sub-{subject:02d}', f'ses-1',  'func', f'sub-{subject:02d}_ses-1_desc-{parameter_key}.optim.nilearn_space-{space}_hemi-R.func.gii')) # .volume\n",
    "\n",
    "surf_map_fsnative = np.concatenate([surf_L, surf_R])\n",
    "surf_map_fsnative = np.array(surf_map_fsnative, dtype=float)\n",
    "\n",
    "print(surf_map_fsnative.shape)\n",
    "ds_2 = cortex.Vertex(surf_map_fsnative, pyc_subject)\n",
    "cortex.webshow(ds_2, port=8002)   \n",
    "# change: http://mr-01:8000/mixer.html to http://localhost:8080/mixer.html"
   ]
  },
  {
   "cell_type": "markdown",
   "metadata": {},
   "source": [
    "### Save GMs to fsnative/fsaverage files"
   ]
  },
  {
   "cell_type": "code",
   "execution_count": null,
   "metadata": {},
   "outputs": [],
   "source": [
    "grad_folder = 'derivatives/gradients'\n",
    "task = 'magjudge'\n",
    "source_space = 'fsaverage5' # "
   ]
  },
  {
   "cell_type": "code",
   "execution_count": null,
   "metadata": {},
   "outputs": [
    {
     "name": "stdout",
     "output_type": "stream",
     "text": [
      "Stopping server\n",
      "Stopping server\n"
     ]
    }
   ],
   "source": [
    "# average GMs\n",
    "sub= 'All' # '0' # \n",
    "n_comp = 10\n",
    "fn = op.join(bids_folder,grad_folder,f'sub-{sub}',f'sub-{sub}_gradients_N-10.npy')\n",
    "\n",
    "GMs = np.load(fn)\n",
    "for n_grad in range(1,3):\n",
    "    gm_both = np.split(GMs[n_grad-1],2) # for i, hemi in enumerate(['L', 'R']): --> left first\n",
    "    for i, hemi in enumerate(['L', 'R']):\n",
    "        gii_im_datar = nib.gifti.gifti.GiftiDataArray(data=gm_both[i].astype(np.float32))\n",
    "        gii_im = nib.gifti.gifti.GiftiImage(darrays= [gii_im_datar])\n",
    "\n",
    "        out_file = op.join(bids_folder,grad_folder,f'sub-{sub}', f'sub-{sub}_ses-1_task-{task}_space-{source_space}_hemi-{hemi}_grad{n_grad}.surf.gii')\n",
    "        gii_im.to_filename(out_file) \n",
    "\n",
    "        transform_surfaces(in_file=out_file, fs_hemi=fs_hemi, bids_folder=bids_folder,\n",
    "                             source_space= 'fsaverage5', target_space='fsaverage')"
   ]
  },
  {
   "cell_type": "code",
   "execution_count": null,
   "metadata": {},
   "outputs": [],
   "source": [
    "#  individual subject gradients aligned\n",
    "sub= '01' \n",
    "fn = op.join(bids_folder,grad_folder,f'sub-{sub}',f'sub-{sub}_g-aligned_space-fsaverag5_n10.npy')\n",
    "GMs = np.load(fn)\n",
    "for n_grad in range(1,3):\n",
    "    gm_both = np.split(GMs[n_grad-1],2) # for i, hemi in enumerate(['L', 'R']): --> left first\n",
    "    for i, hemi in enumerate(['L', 'R']):\n",
    "        gii_im_datar = nib.gifti.gifti.GiftiDataArray(data=gm_both[i].astype(np.float32))\n",
    "        gii_im = nib.gifti.gifti.GiftiImage(darrays= [gii_im_datar])\n",
    "\n",
    "        out_file = op.join(bids_folder,grad_folder,f'sub-{sub}', f'sub-{sub}_ses-1_task-{task}_space-{source_space}_hemi-{hemi}_grad{n_grad}.surf.gii')\n",
    "        gii_im.to_filename(out_file) \n",
    "\n",
    "        fs_hemi = 'lh' if hemi == 'L' else 'rh'\n",
    "        transform_surfaces(in_file=out_file, fs_hemi=fs_hemi, bids_folder=bids_folder,\n",
    "                             source_space= 'fsaverage5', target_space='fsaverage')\n",
    "        transform_surfaces(in_file=out_file, fs_hemi=fs_hemi, bids_folder=bids_folder,\n",
    "                             source_space= 'fsaverage5', target_space=f'sub-{sub}')      # to fsnative!                              "
   ]
  },
  {
   "cell_type": "code",
   "execution_count": 20,
   "metadata": {},
   "outputs": [
    {
     "data": {
      "text/plain": [
       "'/mnt_03/ds-dnumrisk/derivatives/gradients/sub-01/sub-01_ses-1_task-magjudge_space-fsaverage5_hemi-R_grad2.surf.gii'"
      ]
     },
     "execution_count": 20,
     "metadata": {},
     "output_type": "execute_result"
    }
   ],
   "source": [
    "out_file"
   ]
  },
  {
   "cell_type": "code",
   "execution_count": null,
   "metadata": {},
   "outputs": [],
   "source": [
    "n_grad = 2\n",
    "sub = '01'\n",
    "space = 'fsaverage' \n",
    "pyc_subject = space if space == 'fsaverage' else f'{dataset}.sub-{subject:02d}'\n",
    "\n",
    "surf_L = surface.load_surf_data(op.join(bids_folder, grad_folder,f'sub-{sub}', f'sub-{sub}_ses-1_task-{task}_space-{space}_hemi-L_grad{n_grad}.surf.gii'))\n",
    "surf_R = surface.load_surf_data(op.join(bids_folder, grad_folder,f'sub-{sub}', f'sub-{sub}_ses-1_task-{task}_space-{space}_hemi-R_grad{n_grad}.surf.gii'))\n",
    "surf_map_fsnative = np.concatenate([surf_L, surf_R])\n",
    "surf_map_fsnative = np.array(surf_map_fsnative, dtype=float)\n",
    "\n",
    "print(surf_map_fsnative.shape)\n",
    "ds_2 = cortex.Vertex(surf_map_fsnative, pyc_subject)\n",
    "cortex.webshow(ds_2, port=8001)  "
   ]
  },
  {
   "cell_type": "code",
   "execution_count": null,
   "metadata": {},
   "outputs": [],
   "source": [
    "n_grad = 2\n",
    "sub = '01'\n",
    "space = 'fsnative' \n",
    "pyc_subject = space if space == 'fsaverage' else f'{dataset}.sub-{sub}'\n",
    "\n",
    "surf_L = surface.load_surf_data(op.join(bids_folder, grad_folder,f'sub-{sub}', f'sub-{sub}_ses-1_task-{task}_space-{space}_hemi-L_grad{n_grad}.surf.gii'))\n",
    "surf_R = surface.load_surf_data(op.join(bids_folder, grad_folder,f'sub-{sub}', f'sub-{sub}_ses-1_task-{task}_space-{space}_hemi-R_grad{n_grad}.surf.gii'))\n",
    "surf_map_fsnative = np.concatenate([surf_L, surf_R])\n",
    "surf_map_fsnative = np.array(surf_map_fsnative, dtype=float)\n",
    "\n",
    "print(surf_map_fsnative.shape)\n",
    "ds_2 = cortex.Vertex(surf_map_fsnative, pyc_subject)\n",
    "cortex.webshow(ds_2, port=8000)  "
   ]
  },
  {
   "cell_type": "markdown",
   "metadata": {},
   "source": [
    "### transform volume to surface\n",
    "(fro stim2 encoding model params)"
   ]
  },
  {
   "cell_type": "code",
   "execution_count": 8,
   "metadata": {},
   "outputs": [],
   "source": [
    "# transform volume to surface\n",
    "from numrisk.utils.data import Subject\n",
    "\n",
    "subject = 17\n",
    "sub = Subject(subject, bids_folder=bids_folder)\n",
    "\n",
    "surfinfo = sub.get_surf_info_fs()\n",
    "key = 'encoding_model_stim2.cv.denoise' # _stim2\n",
    "par = 'cvr2'\n",
    "parameterKey_filenEnd =  f'{par}.optim_space-T1w_pars.nii.gz'\n",
    "fn = op.join(bids_folder, 'derivatives', key, f'sub-{subject:02d}', f'ses-1',  'func', f'sub-{subject:02d}_ses-1_desc-{parameterKey_filenEnd}')\n",
    "imageVol = image.load_img(fn)\n"
   ]
  },
  {
   "cell_type": "code",
   "execution_count": null,
   "metadata": {},
   "outputs": [],
   "source": [
    "import nibabel as nb\n",
    "from nPRFparams_to_surf import transform_fsaverage\n",
    "\n",
    "target_dir = op.join(bids_folder, 'derivatives', key, f'sub-{subject:02d}', f'ses-1',  'func')\n",
    "\n",
    "for hemi in ['L', 'R']:\n",
    "    samples = surface.vol_to_surf(imageVol, surfinfo[hemi]['outer'], inner_mesh=surfinfo[hemi]['inner'])\n",
    "\n",
    "    fs_hemi = 'lh' if hemi == 'L' else 'rh'\n",
    "    im = nb.gifti.GiftiImage(darrays=[nb.gifti.GiftiDataArray(samples.astype(np.float32))])\n",
    "    target_fn =  op.join(target_dir, f'sub-{subject}_ses-1_desc-{par}.optim.nilearn_space-fsnative_hemi-{hemi}.func.gii')\n",
    "    nb.save(im, target_fn) \n",
    "\n",
    "    transform_fsaverage(target_fn, fs_hemi, f'sub-{subject}', bids_folder)"
   ]
  },
  {
   "cell_type": "code",
   "execution_count": null,
   "metadata": {},
   "outputs": [],
   "source": [
    "subject = 60\n",
    "#key = 'encoding_model_stim2.cv.denoise'\n",
    "parameter_key = 'cvr2' #'desc-cvr2.optim_space-T1w_pars.nii.gz'\n",
    "\n",
    "pyc_subject = f'{dataset}.sub-{subject:02d}'\n",
    "surf_L = surface.load_surf_data(op.join(bids_folder, 'derivatives', key, f'sub-{subject:02d}', f'ses-1',  'func', f'sub-{subject:02d}_ses-1_desc-{parameter_key}.optim.nilearn_space-{space}_hemi-L.func.gii')) # .volume\n",
    "surf_R = surface.load_surf_data(op.join(bids_folder, 'derivatives', key, f'sub-{subject:02d}', f'ses-1',  'func', f'sub-{subject:02d}_ses-1_desc-{parameter_key}.optim.nilearn_space-{space}_hemi-R.func.gii')) # .volume\n",
    "\n",
    "surf_map_fsnative = np.concatenate([surf_L, surf_R])\n",
    "print(surf_map_fsnative.shape)\n",
    "ds_2 = cortex.Vertex(surf_map_fsnative, pyc_subject)\n",
    "cortex.webshow(ds_2, port=8002)   \n",
    "# change: http://mr-01:8000/mixer.html to http://localhost:8080/mixer.html"
   ]
  },
  {
   "cell_type": "code",
   "execution_count": null,
   "metadata": {},
   "outputs": [],
   "source": []
  }
 ],
 "metadata": {
  "kernelspec": {
   "display_name": "pycortex",
   "language": "python",
   "name": "python3"
  },
  "language_info": {
   "codemirror_mode": {
    "name": "ipython",
    "version": 3
   },
   "file_extension": ".py",
   "mimetype": "text/x-python",
   "name": "python",
   "nbconvert_exporter": "python",
   "pygments_lexer": "ipython3",
   "version": "3.12.9"
  }
 },
 "nbformat": 4,
 "nbformat_minor": 2
}
