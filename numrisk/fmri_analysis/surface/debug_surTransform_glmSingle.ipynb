{
 "cells": [
  {
   "cell_type": "code",
   "execution_count": null,
   "metadata": {},
   "outputs": [],
   "source": []
  },
  {
   "cell_type": "code",
   "execution_count": null,
   "metadata": {},
   "outputs": [],
   "source": []
  },
  {
   "cell_type": "code",
   "execution_count": null,
   "metadata": {},
   "outputs": [],
   "source": [
    "in_fn = '/Users/mrenke/data/ds-dnumrisk/derivatives/fmriprep/sub-01/ses-1/func/sub-01_ses-1_task-magjudge_run-1_space-fsnative_hemi-R_bold.func.gii'\n",
    "\n",
    "\n"
   ]
  },
  {
   "cell_type": "code",
   "execution_count": 2,
   "metadata": {},
   "outputs": [],
   "source": [
    "bids_folder = '/Users/mrenke/data/ds-dnumrisk'\n",
    "sub='01'\n",
    "ses='1'\n",
    "task='magjudge'\n",
    "run='1'\n",
    "\n",
    "source_space='fsnative'\n",
    "target_space='fsaverage5'\n",
    "hemi='R'"
   ]
  },
  {
   "cell_type": "code",
   "execution_count": 3,
   "metadata": {},
   "outputs": [
    {
     "ename": "TraitError",
     "evalue": "The 'subjects_dir' trait of a SurfaceTransformInputSpec instance must be a pathlike object or string representing an existing directory, but a value of '/Users/mrenke/data/ds-dnumrisk/derivatives/freesurfer' <class 'str'> was specified.",
     "output_type": "error",
     "traceback": [
      "\u001b[0;31m---------------------------------------------------------------------------\u001b[0m",
      "\u001b[0;31mTraitError\u001b[0m                                Traceback (most recent call last)",
      "Input \u001b[0;32mIn [3]\u001b[0m, in \u001b[0;36m<cell line: 3>\u001b[0;34m()\u001b[0m\n\u001b[1;32m      1\u001b[0m \u001b[38;5;28;01mfrom\u001b[39;00m \u001b[38;5;21;01mnipype\u001b[39;00m\u001b[38;5;21;01m.\u001b[39;00m\u001b[38;5;21;01minterfaces\u001b[39;00m\u001b[38;5;21;01m.\u001b[39;00m\u001b[38;5;21;01mfreesurfer\u001b[39;00m \u001b[38;5;28;01mimport\u001b[39;00m SurfaceTransform \u001b[38;5;66;03m# needs the fsaverage & fsaverage5 in ..derivatives/freesurfer folder!\u001b[39;00m\n\u001b[1;32m      2\u001b[0m \u001b[38;5;28;01mimport\u001b[39;00m \u001b[38;5;21;01mos\u001b[39;00m\u001b[38;5;21;01m.\u001b[39;00m\u001b[38;5;21;01mpath\u001b[39;00m \u001b[38;5;28;01mas\u001b[39;00m \u001b[38;5;21;01mop\u001b[39;00m\n\u001b[0;32m----> 3\u001b[0m sxfm \u001b[38;5;241m=\u001b[39m \u001b[43mSurfaceTransform\u001b[49m\u001b[43m(\u001b[49m\u001b[43msubjects_dir\u001b[49m\u001b[38;5;241;43m=\u001b[39;49m\u001b[43mop\u001b[49m\u001b[38;5;241;43m.\u001b[39;49m\u001b[43mjoin\u001b[49m\u001b[43m(\u001b[49m\u001b[43mbids_folder\u001b[49m\u001b[43m,\u001b[49m\u001b[38;5;124;43m'\u001b[39;49m\u001b[38;5;124;43mderivatives\u001b[39;49m\u001b[38;5;124;43m'\u001b[39;49m\u001b[43m,\u001b[49m\u001b[38;5;124;43m'\u001b[39;49m\u001b[38;5;124;43mfreesurfer\u001b[39;49m\u001b[38;5;124;43m'\u001b[39;49m\u001b[43m)\u001b[49m\u001b[43m)\u001b[49m\n\u001b[1;32m      4\u001b[0m in_file \u001b[38;5;241m=\u001b[39m \u001b[38;5;124mf\u001b[39m\u001b[38;5;124m'\u001b[39m\u001b[38;5;124msub-\u001b[39m\u001b[38;5;132;01m{\u001b[39;00msub\u001b[38;5;132;01m}\u001b[39;00m\u001b[38;5;124m_ses-\u001b[39m\u001b[38;5;132;01m{\u001b[39;00mses\u001b[38;5;132;01m}\u001b[39;00m\u001b[38;5;124m_task-\u001b[39m\u001b[38;5;132;01m{\u001b[39;00mtask\u001b[38;5;132;01m}\u001b[39;00m\u001b[38;5;124m_run-\u001b[39m\u001b[38;5;132;01m{\u001b[39;00mrun\u001b[38;5;132;01m}\u001b[39;00m\u001b[38;5;124m_space-\u001b[39m\u001b[38;5;132;01m{\u001b[39;00msource_space\u001b[38;5;132;01m}\u001b[39;00m\u001b[38;5;124m_hemi-\u001b[39m\u001b[38;5;132;01m{\u001b[39;00mhemi\u001b[38;5;132;01m}\u001b[39;00m\u001b[38;5;124m_bold.func.gii\u001b[39m\u001b[38;5;124m'\u001b[39m\n\u001b[1;32m      5\u001b[0m in_file_path \u001b[38;5;241m=\u001b[39m op\u001b[38;5;241m.\u001b[39mjoin(bids_folder, \u001b[38;5;124m'\u001b[39m\u001b[38;5;124mderivatives\u001b[39m\u001b[38;5;124m'\u001b[39m, \u001b[38;5;124m'\u001b[39m\u001b[38;5;124mfmriprep\u001b[39m\u001b[38;5;124m'\u001b[39m, \u001b[38;5;124mf\u001b[39m\u001b[38;5;124m'\u001b[39m\u001b[38;5;124msub-\u001b[39m\u001b[38;5;132;01m{\u001b[39;00msub\u001b[38;5;132;01m}\u001b[39;00m\u001b[38;5;124m'\u001b[39m,\u001b[38;5;124mf\u001b[39m\u001b[38;5;124m'\u001b[39m\u001b[38;5;124mses-\u001b[39m\u001b[38;5;132;01m{\u001b[39;00mses\u001b[38;5;132;01m}\u001b[39;00m\u001b[38;5;124m'\u001b[39m,\u001b[38;5;124m'\u001b[39m\u001b[38;5;124mfunc\u001b[39m\u001b[38;5;124m'\u001b[39m,in_file)\n",
      "File \u001b[0;32m~/mambaforge/envs/numrefields/lib/python3.10/site-packages/nipype/interfaces/freesurfer/base.py:129\u001b[0m, in \u001b[0;36mFSCommand.__init__\u001b[0;34m(self, **inputs)\u001b[0m\n\u001b[1;32m    128\u001b[0m \u001b[38;5;28;01mdef\u001b[39;00m \u001b[38;5;21m__init__\u001b[39m(\u001b[38;5;28mself\u001b[39m, \u001b[38;5;241m*\u001b[39m\u001b[38;5;241m*\u001b[39minputs):\n\u001b[0;32m--> 129\u001b[0m     \u001b[38;5;28;43msuper\u001b[39;49m\u001b[43m(\u001b[49m\u001b[43mFSCommand\u001b[49m\u001b[43m,\u001b[49m\u001b[43m \u001b[49m\u001b[38;5;28;43mself\u001b[39;49m\u001b[43m)\u001b[49m\u001b[38;5;241;43m.\u001b[39;49m\u001b[38;5;21;43m__init__\u001b[39;49m\u001b[43m(\u001b[49m\u001b[38;5;241;43m*\u001b[39;49m\u001b[38;5;241;43m*\u001b[39;49m\u001b[43minputs\u001b[49m\u001b[43m)\u001b[49m\n\u001b[1;32m    130\u001b[0m     \u001b[38;5;28mself\u001b[39m\u001b[38;5;241m.\u001b[39minputs\u001b[38;5;241m.\u001b[39mon_trait_change(\u001b[38;5;28mself\u001b[39m\u001b[38;5;241m.\u001b[39m_subjects_dir_update, \u001b[38;5;124m\"\u001b[39m\u001b[38;5;124msubjects_dir\u001b[39m\u001b[38;5;124m\"\u001b[39m)\n\u001b[1;32m    131\u001b[0m     \u001b[38;5;28;01mif\u001b[39;00m \u001b[38;5;129;01mnot\u001b[39;00m \u001b[38;5;28mself\u001b[39m\u001b[38;5;241m.\u001b[39m_subjects_dir:\n",
      "File \u001b[0;32m~/mambaforge/envs/numrefields/lib/python3.10/site-packages/nipype/interfaces/base/core.py:630\u001b[0m, in \u001b[0;36mCommandLine.__init__\u001b[0;34m(self, command, terminal_output, write_cmdline, **inputs)\u001b[0m\n\u001b[1;32m    627\u001b[0m \u001b[38;5;28;01mdef\u001b[39;00m \u001b[38;5;21m__init__\u001b[39m(\n\u001b[1;32m    628\u001b[0m     \u001b[38;5;28mself\u001b[39m, command\u001b[38;5;241m=\u001b[39m\u001b[38;5;28;01mNone\u001b[39;00m, terminal_output\u001b[38;5;241m=\u001b[39m\u001b[38;5;28;01mNone\u001b[39;00m, write_cmdline\u001b[38;5;241m=\u001b[39m\u001b[38;5;28;01mFalse\u001b[39;00m, \u001b[38;5;241m*\u001b[39m\u001b[38;5;241m*\u001b[39minputs\n\u001b[1;32m    629\u001b[0m ):\n\u001b[0;32m--> 630\u001b[0m     \u001b[38;5;28;43msuper\u001b[39;49m\u001b[43m(\u001b[49m\u001b[43mCommandLine\u001b[49m\u001b[43m,\u001b[49m\u001b[43m \u001b[49m\u001b[38;5;28;43mself\u001b[39;49m\u001b[43m)\u001b[49m\u001b[38;5;241;43m.\u001b[39;49m\u001b[38;5;21;43m__init__\u001b[39;49m\u001b[43m(\u001b[49m\u001b[38;5;241;43m*\u001b[39;49m\u001b[38;5;241;43m*\u001b[39;49m\u001b[43minputs\u001b[49m\u001b[43m)\u001b[49m\n\u001b[1;32m    631\u001b[0m     \u001b[38;5;28mself\u001b[39m\u001b[38;5;241m.\u001b[39m_environ \u001b[38;5;241m=\u001b[39m \u001b[38;5;28;01mNone\u001b[39;00m\n\u001b[1;32m    632\u001b[0m     \u001b[38;5;66;03m# Set command. Input argument takes precedence\u001b[39;00m\n",
      "File \u001b[0;32m~/mambaforge/envs/numrefields/lib/python3.10/site-packages/nipype/interfaces/base/core.py:202\u001b[0m, in \u001b[0;36mBaseInterface.__init__\u001b[0;34m(self, from_file, resource_monitor, ignore_exception, **inputs)\u001b[0m\n\u001b[1;32m    200\u001b[0m \u001b[38;5;28;01mif\u001b[39;00m unavailable_traits:\n\u001b[1;32m    201\u001b[0m     \u001b[38;5;28mself\u001b[39m\u001b[38;5;241m.\u001b[39minputs\u001b[38;5;241m.\u001b[39mtrait_set(\u001b[38;5;241m*\u001b[39m\u001b[38;5;241m*\u001b[39m{k: Undefined \u001b[38;5;28;01mfor\u001b[39;00m k \u001b[38;5;129;01min\u001b[39;00m unavailable_traits})\n\u001b[0;32m--> 202\u001b[0m \u001b[38;5;28;43mself\u001b[39;49m\u001b[38;5;241;43m.\u001b[39;49m\u001b[43minputs\u001b[49m\u001b[38;5;241;43m.\u001b[39;49m\u001b[43mtrait_set\u001b[49m\u001b[43m(\u001b[49m\u001b[38;5;241;43m*\u001b[39;49m\u001b[38;5;241;43m*\u001b[39;49m\u001b[43minputs\u001b[49m\u001b[43m)\u001b[49m\n\u001b[1;32m    204\u001b[0m \u001b[38;5;28mself\u001b[39m\u001b[38;5;241m.\u001b[39mignore_exception \u001b[38;5;241m=\u001b[39m ignore_exception\n\u001b[1;32m    206\u001b[0m \u001b[38;5;28;01mif\u001b[39;00m resource_monitor \u001b[38;5;129;01mis\u001b[39;00m \u001b[38;5;129;01mnot\u001b[39;00m \u001b[38;5;28;01mNone\u001b[39;00m:\n",
      "File \u001b[0;32m~/mambaforge/envs/numrefields/lib/python3.10/site-packages/traits/has_traits.py:1510\u001b[0m, in \u001b[0;36mHasTraits.trait_set\u001b[0;34m(self, trait_change_notify, **traits)\u001b[0m\n\u001b[1;32m   1508\u001b[0m \u001b[38;5;28;01melse\u001b[39;00m:\n\u001b[1;32m   1509\u001b[0m     \u001b[38;5;28;01mfor\u001b[39;00m name, value \u001b[38;5;129;01min\u001b[39;00m traits\u001b[38;5;241m.\u001b[39mitems():\n\u001b[0;32m-> 1510\u001b[0m         \u001b[38;5;28;43msetattr\u001b[39;49m\u001b[43m(\u001b[49m\u001b[38;5;28;43mself\u001b[39;49m\u001b[43m,\u001b[49m\u001b[43m \u001b[49m\u001b[43mname\u001b[49m\u001b[43m,\u001b[49m\u001b[43m \u001b[49m\u001b[43mvalue\u001b[49m\u001b[43m)\u001b[49m\n\u001b[1;32m   1512\u001b[0m \u001b[38;5;28;01mreturn\u001b[39;00m \u001b[38;5;28mself\u001b[39m\n",
      "File \u001b[0;32m~/mambaforge/envs/numrefields/lib/python3.10/site-packages/nipype/interfaces/base/traits_extension.py:135\u001b[0m, in \u001b[0;36mBasePath.validate\u001b[0;34m(self, objekt, name, value, return_pathlike)\u001b[0m\n\u001b[1;32m    133\u001b[0m \u001b[38;5;28;01mif\u001b[39;00m \u001b[38;5;28mself\u001b[39m\u001b[38;5;241m.\u001b[39mexists:\n\u001b[1;32m    134\u001b[0m     \u001b[38;5;28;01mif\u001b[39;00m \u001b[38;5;129;01mnot\u001b[39;00m value\u001b[38;5;241m.\u001b[39mexists():\n\u001b[0;32m--> 135\u001b[0m         \u001b[38;5;28;43mself\u001b[39;49m\u001b[38;5;241;43m.\u001b[39;49m\u001b[43merror\u001b[49m\u001b[43m(\u001b[49m\u001b[43mobjekt\u001b[49m\u001b[43m,\u001b[49m\u001b[43m \u001b[49m\u001b[43mname\u001b[49m\u001b[43m,\u001b[49m\u001b[43m \u001b[49m\u001b[38;5;28;43mstr\u001b[39;49m\u001b[43m(\u001b[49m\u001b[43mvalue\u001b[49m\u001b[43m)\u001b[49m\u001b[43m)\u001b[49m\n\u001b[1;32m    137\u001b[0m     \u001b[38;5;28;01mif\u001b[39;00m \u001b[38;5;28mself\u001b[39m\u001b[38;5;241m.\u001b[39m_is_file \u001b[38;5;129;01mand\u001b[39;00m \u001b[38;5;129;01mnot\u001b[39;00m value\u001b[38;5;241m.\u001b[39mis_file():\n\u001b[1;32m    138\u001b[0m         \u001b[38;5;28mself\u001b[39m\u001b[38;5;241m.\u001b[39merror(objekt, name, \u001b[38;5;28mstr\u001b[39m(value))\n",
      "File \u001b[0;32m~/mambaforge/envs/numrefields/lib/python3.10/site-packages/traits/base_trait_handler.py:74\u001b[0m, in \u001b[0;36mBaseTraitHandler.error\u001b[0;34m(self, object, name, value)\u001b[0m\n\u001b[1;32m     57\u001b[0m \u001b[38;5;28;01mdef\u001b[39;00m \u001b[38;5;21merror\u001b[39m(\u001b[38;5;28mself\u001b[39m, \u001b[38;5;28mobject\u001b[39m, name, value):\n\u001b[1;32m     58\u001b[0m     \u001b[38;5;124;03m\"\"\"Raises a TraitError exception.\u001b[39;00m\n\u001b[1;32m     59\u001b[0m \n\u001b[1;32m     60\u001b[0m \u001b[38;5;124;03m    This method is called by the validate() method when an assigned value\u001b[39;00m\n\u001b[0;32m   (...)\u001b[0m\n\u001b[1;32m     72\u001b[0m \u001b[38;5;124;03m        The proposed new value for the attribute.\u001b[39;00m\n\u001b[1;32m     73\u001b[0m \u001b[38;5;124;03m    \"\"\"\u001b[39;00m\n\u001b[0;32m---> 74\u001b[0m     \u001b[38;5;28;01mraise\u001b[39;00m TraitError(\n\u001b[1;32m     75\u001b[0m         \u001b[38;5;28mobject\u001b[39m, name, \u001b[38;5;28mself\u001b[39m\u001b[38;5;241m.\u001b[39mfull_info(\u001b[38;5;28mobject\u001b[39m, name, value), value\n\u001b[1;32m     76\u001b[0m     )\n",
      "\u001b[0;31mTraitError\u001b[0m: The 'subjects_dir' trait of a SurfaceTransformInputSpec instance must be a pathlike object or string representing an existing directory, but a value of '/Users/mrenke/data/ds-dnumrisk/derivatives/freesurfer' <class 'str'> was specified."
     ]
    }
   ],
   "source": [
    "from nipype.interfaces.freesurfer import SurfaceTransform # needs the fsaverage & fsaverage5 in ..derivatives/freesurfer folder!\n",
    "import os.path as op\n",
    "sxfm = SurfaceTransform(subjects_dir=op.join(bids_folder,'derivatives','freesurfer'))\n",
    "in_file = f'sub-{sub}_ses-{ses}_task-{task}_run-{run}_space-{source_space}_hemi-{hemi}_bold.func.gii'\n",
    "in_file_path = op.join(bids_folder, 'derivatives', 'fmriprep', f'sub-{sub}',f'ses-{ses}','func',in_file)\n",
    "out_file = f'sub-{sub}_ses-{ses}_task-{task}_run-{run}_space-{target_space}_hemi-{hemi}_bold.func.gii'\n",
    "out_file_path = op.join(bids_folder, 'derivatives', 'fmriprep', f'sub-{sub}',f'ses-{ses}','func',out_file)\n",
    "\n",
    "sxfm.inputs.source_file = in_file_path\n",
    "sxfm.inputs.out_file = out_file_path\n",
    "\n",
    "sxfm.inputs.source_subject = source_space if source_space != 'fsnative' else f'sub-{int(sub):02d}'\n",
    "sxfm.inputs.target_subject = target_space if target_space != 'fsnative' else f'sub-{int(sub):02d}'\n",
    "\n",
    "if hemi == 'L':\n",
    "    sxfm.inputs.hemi = 'lh'\n",
    "elif hemi == 'R':\n",
    "    sxfm.inputs.hemi = 'rh'\n",
    "\n",
    "r = sxfm.run()"
   ]
  },
  {
   "cell_type": "code",
   "execution_count": null,
   "metadata": {},
   "outputs": [],
   "source": []
  }
 ],
 "metadata": {
  "kernelspec": {
   "display_name": "numrefields",
   "language": "python",
   "name": "python3"
  },
  "language_info": {
   "codemirror_mode": {
    "name": "ipython",
    "version": 3
   },
   "file_extension": ".py",
   "mimetype": "text/x-python",
   "name": "python",
   "nbconvert_exporter": "python",
   "pygments_lexer": "ipython3",
   "version": "3.10.5"
  }
 },
 "nbformat": 4,
 "nbformat_minor": 2
}
