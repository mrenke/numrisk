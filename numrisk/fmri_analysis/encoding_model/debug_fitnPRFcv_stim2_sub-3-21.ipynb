{
 "cells": [
  {
   "cell_type": "markdown",
   "metadata": {},
   "source": [
    "##\n",
    "\n",
    "sub-21\n",
    "File \"/home/mrenke/git/numrisk/numrisk/fmri_analysis/encoding_model/fit_nprf_cv_stim2.py\", line 136, in <module>\n",
    "main(args.subject, bids_folder=args.bids_folder, smoothed=args.smoothed, retroicor=args.retroicor,\n",
    "File \"/home/mrenke/git/numrisk/numrisk/fmri_analysis/encoding_model/fit_nprf_cv_stim2.py\", line 70, in main\n",
    "`data = pd.DataFrame(masker.fit_transform(data), index=paradigm.index)`\n",
    "File \"/data/mrenke/conda/envs/numrefields/lib/python3.9/site-packages/pandas/core/frame.py\", line 721, in __init__\n",
    "mgr = ndarray_to_mgr(\n",
    "File \"/data/mrenke/conda/envs/numrefields/lib/python3.9/site-packages/pandas/core/internals/construction.py\", line 349, in ndarray_to_mgr\n",
    "_check_values_indices_shape_match(values, index, columns)\n",
    "File \"/data/mrenke/conda/envs/numrefields/lib/python3.9/site-packages/pandas/core/internals/construction.py\", line 420, in _check_values_indices_shape_match\n",
    "raise ValueError(f\"Shape of passed values is {passed}, indices imply {implied}\")\n",
    "ValueError: Shape of passed values is (105, 74624), indices imply (180, 74624)\n",
    "\n",
    "sub-3\n",
    "....    _check_values_indices_shape_match(values, index, columns)\n",
    "  File \"/data/mrenke/conda/envs/numrefields/lib/python3.9/site-packages/pandas/core/internals/construction.py\", line 420, in _check_values_indices_shape_match\n",
    "    raise ValueError(f\"Shape of passed values is {passed}, indices imply {implied}\")\n",
    "ValueError: Shape of passed values is (104, 84111), indices imply (180, 84111)\n",
    "\n",
    "\n",
    "###\n",
    "for sub 3 this error comes already for fit_glm_stim1 ! (not stim2 though...)\n",
    "different, thoug:\n",
    "  File \"/home/mrenke/git/numrisk/numrisk/fmri_analysis/glm_denoise/fit_glm_denoise.py\", line 96, in main\n",
    "    results_glmsingle = glmsingle_obj.fit(\n",
    "  File \"/home/mrenke/git/GLMsingle/glmsingle/glmsingle.py\", line 608, in fit\n",
    "    results0 = glm_estimatemodel(\n",
    "  File \"/home/mrenke/git/GLMsingle/glmsingle/ols/glm_estimatemodel.py\", line 425, in glm_estimatemodel\n",
    "    data, design, xyz = check_inputs(data, design)\n",
    "  File \"/home/mrenke/git/GLMsingle/glmsingle/check_inputs.py\", line 27, in check_inputs\n",
    "    np.testing.assert_array_equal(\n",
    "  File \"/data/mrenke/conda/envs/numrefields/lib/python3.9/site-packages/numpy/testing/_private/utils.py\", line 934, in assert_array_equal\n",
    "    assert_array_compare(operator.__eq__, x, y, err_msg=err_msg,\n",
    "  File \"/data/mrenke/conda/envs/numrefields/lib/python3.9/site-packages/numpy/testing/_private/utils.py\", line 763, in assert_array_compare\n",
    "    raise AssertionError(msg)\n",
    "AssertionError:\n",
    "Arrays are not equal\n",
    "<design> must consist of 0s and 1s\n",
    "(shapes (3,), (2,) mismatch)\n",
    " x: array([0., 1., 2.])\n",
    " y: array([0, 1])\n"
   ]
  },
  {
   "cell_type": "code",
   "execution_count": 1,
   "metadata": {},
   "outputs": [
    {
     "name": "stderr",
     "output_type": "stream",
     "text": [
      "2024-10-22 14:04:17.730150: I tensorflow/stream_executor/platform/default/dso_loader.cc:49] Successfully opened dynamic library libcudart.so.10.1\n",
      "/data/mrenke/conda/envs/numrefields/lib/python3.9/site-packages/nilearn/input_data/__init__.py:23: FutureWarning: The import path 'nilearn.input_data' is deprecated in version 0.9. Importing from 'nilearn.input_data' will be possible at least until release 0.13.0. Please import from 'nilearn.maskers' instead.\n",
      "  warnings.warn(message, FutureWarning)\n"
     ]
    }
   ],
   "source": [
    "import argparse\n",
    "import pandas as pd\n",
    "from braincoder.models import GaussianPRF\n",
    "from braincoder.optimize import ParameterFitter\n",
    "from braincoder.utils import get_rsq\n",
    "from numrisk.utils import get_target_dir\n",
    "from nilearn.input_data import NiftiMasker\n",
    "\n",
    "import os.path as op\n",
    "import numpy as np"
   ]
  },
  {
   "cell_type": "code",
   "execution_count": 26,
   "metadata": {},
   "outputs": [],
   "source": [
    "bids_folder = '/shares/zne.uzh/mrenke/ds-dnumrisk'\n",
    "\n",
    "subject = 3\n",
    "\n",
    "\n",
    "subject = f'{int(subject):02d}'\n",
    "session = 1\n",
    "runs = range(1, 7)\n",
    "n_stim = 2\n",
    "key = f'glm_stim{n_stim}'\n",
    "target_dir = f'encoding_model_stim{n_stim}.cv'\n",
    "key += '.denoise'\n",
    "target_dir += '.denoise'\n"
   ]
  },
  {
   "cell_type": "code",
   "execution_count": 27,
   "metadata": {},
   "outputs": [],
   "source": [
    "target_dir = get_target_dir(subject, session, bids_folder, target_dir)\n",
    "\n",
    "paradigm = [pd.read_csv(op.join(bids_folder, f'sub-{subject}', f'ses-{session}',\n",
    "                                'func', f'sub-{subject}_ses-{session}_task-magjudge_run-{run}_events.tsv'), sep='\\t')\n",
    "            for run in runs]\n",
    "paradigm = pd.concat(paradigm, keys=runs, names=['run'])\n",
    "paradigm = paradigm[paradigm.trial_type == f'stimulus {n_stim}'].set_index('trial_nr', append=True)\n",
    "\n",
    "paradigm[f'log(n{n_stim})'] = np.log(paradigm[f'n{n_stim}'])\n",
    "paradigm = paradigm[f'log(n{n_stim})'].dropna()"
   ]
  },
  {
   "cell_type": "code",
   "execution_count": 28,
   "metadata": {},
   "outputs": [
    {
     "data": {
      "text/plain": [
       "run      trial_nr\n",
       "1    1   1           1.386294\n",
       "     4   2           1.609438\n",
       "     7   3           1.386294\n",
       "     10  4           2.397895\n",
       "     13  5           2.397895\n",
       "                       ...   \n",
       "6    76  176         3.496508\n",
       "     79  177         2.197225\n",
       "     82  178         2.639057\n",
       "     85  179         1.098612\n",
       "     88  180         2.397895\n",
       "Name: log(n2), Length: 180, dtype: float64"
      ]
     },
     "execution_count": 28,
     "metadata": {},
     "output_type": "execute_result"
    }
   ],
   "source": [
    "paradigm"
   ]
  },
  {
   "cell_type": "code",
   "execution_count": 29,
   "metadata": {},
   "outputs": [],
   "source": [
    "model = GaussianPRF()\n",
    "# SET UP GRID\n",
    "mus = np.log(np.linspace(5, 80, 60, dtype=np.float32))\n",
    "sds = np.log(np.linspace(2, 30, 60, dtype=np.float32))\n",
    "amplitudes = np.array([1.], dtype=np.float32)\n",
    "baselines = np.array([0], dtype=np.float32)\n",
    "\n",
    "mask = op.join(bids_folder, 'derivatives',\n",
    "                f'fmriprep/sub-{subject}/ses-{session}/func/sub-{subject}_ses-{session}_task-magjudge_run-1_space-T1w_desc-brain_mask.nii.gz')\n",
    "if not op.exists(mask): # for some subs brain mask creation for some runs did not work apparently, so lets just take another run (they should be pretty similar?)\n",
    "    mask = op.join(bids_folder, 'derivatives',\n",
    "            f'fmriprep/sub-{subject}/ses-{session}/func/sub-{subject}_ses-{session}_task-magjudge_run-2_space-T1w_desc-brain_mask.nii.gz')\n",
    "\n",
    "masker = NiftiMasker(mask_img=mask)\n",
    "\n"
   ]
  },
  {
   "cell_type": "code",
   "execution_count": 30,
   "metadata": {},
   "outputs": [],
   "source": [
    "data = op.join(bids_folder, 'derivatives', key,\n",
    "                f'sub-{subject}', f'ses-{session}', 'func', f'sub-{subject}_ses-{session}_task-magjudge_space-T1w_desc-stims{n_stim}_pe.nii.gz')\n",
    "\n",
    "from nilearn import image\n",
    "\n",
    "ims = image.load_img(data)"
   ]
  },
  {
   "cell_type": "code",
   "execution_count": 31,
   "metadata": {},
   "outputs": [
    {
     "data": {
      "text/plain": [
       "(58, 73, 50, 104)"
      ]
     },
     "execution_count": 31,
     "metadata": {},
     "output_type": "execute_result"
    }
   ],
   "source": [
    "ims.get_fdata().shape"
   ]
  },
  {
   "cell_type": "code",
   "execution_count": 32,
   "metadata": {},
   "outputs": [],
   "source": [
    "tmp = masker.fit_transform(data)"
   ]
  },
  {
   "cell_type": "code",
   "execution_count": 21,
   "metadata": {},
   "outputs": [
    {
     "data": {
      "text/plain": [
       "array([[ -5.586601  ,  -0.25460613,  13.430651  , ...,   3.276642  ,\n",
       "         -0.39079255,  -9.162464  ],\n",
       "       [  0.17910606,   6.005245  ,  19.335033  , ...,   3.3928962 ,\n",
       "         -1.3308599 ,   4.1230335 ],\n",
       "       [  5.7466693 ,   1.1067244 , -10.965698  , ...,  -1.0369884 ,\n",
       "         -2.8626223 ,   7.8606257 ],\n",
       "       ...,\n",
       "       [ -1.7437749 ,   3.8153033 ,   2.5822282 , ...,  -6.538029  ,\n",
       "         -0.23672003, -41.86214   ],\n",
       "       [ -7.4950514 ,  -5.620179  ,   1.7101481 , ...,  28.328648  ,\n",
       "         -6.5455327 ,  88.55697   ],\n",
       "       [ -3.7700734 ,   7.8073134 , -23.333174  , ...,  -6.3825936 ,\n",
       "         18.216936  ,  25.894047  ]], dtype=float32)"
      ]
     },
     "execution_count": 21,
     "metadata": {},
     "output_type": "execute_result"
    }
   ],
   "source": [
    "tmp"
   ]
  },
  {
   "cell_type": "code",
   "execution_count": null,
   "metadata": {},
   "outputs": [],
   "source": [
    "data = pd.DataFrame(tmp, index=paradigm.index)\n"
   ]
  }
 ],
 "metadata": {
  "kernelspec": {
   "display_name": "numrefields",
   "language": "python",
   "name": "python3"
  },
  "language_info": {
   "codemirror_mode": {
    "name": "ipython",
    "version": 3
   },
   "file_extension": ".py",
   "mimetype": "text/x-python",
   "name": "python",
   "nbconvert_exporter": "python",
   "pygments_lexer": "ipython3",
   "version": "3.9.13"
  }
 },
 "nbformat": 4,
 "nbformat_minor": 2
}
