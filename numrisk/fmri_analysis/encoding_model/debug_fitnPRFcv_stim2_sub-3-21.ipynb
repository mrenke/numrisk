{
 "cells": [
  {
   "cell_type": "markdown",
   "metadata": {},
   "source": [
    "##\n",
    "\n",
    "sub-21\n",
    "File \"/home/mrenke/git/numrisk/numrisk/fmri_analysis/encoding_model/fit_nprf_cv_stim2.py\", line 136, in <module>\n",
    "main(args.subject, bids_folder=args.bids_folder, smoothed=args.smoothed, retroicor=args.retroicor,\n",
    "File \"/home/mrenke/git/numrisk/numrisk/fmri_analysis/encoding_model/fit_nprf_cv_stim2.py\", line 70, in main\n",
    "`data = pd.DataFrame(masker.fit_transform(data), index=paradigm.index)`\n",
    "File \"/data/mrenke/conda/envs/numrefields/lib/python3.9/site-packages/pandas/core/frame.py\", line 721, in __init__\n",
    "mgr = ndarray_to_mgr(\n",
    "File \"/data/mrenke/conda/envs/numrefields/lib/python3.9/site-packages/pandas/core/internals/construction.py\", line 349, in ndarray_to_mgr\n",
    "_check_values_indices_shape_match(values, index, columns)\n",
    "File \"/data/mrenke/conda/envs/numrefields/lib/python3.9/site-packages/pandas/core/internals/construction.py\", line 420, in _check_values_indices_shape_match\n",
    "raise ValueError(f\"Shape of passed values is {passed}, indices imply {implied}\")\n",
    "ValueError: Shape of passed values is (105, 74624), indices imply (180, 74624)\n",
    "\n",
    "sub-3\n",
    "....    _check_values_indices_shape_match(values, index, columns)\n",
    "  File \"/data/mrenke/conda/envs/numrefields/lib/python3.9/site-packages/pandas/core/internals/construction.py\", line 420, in _check_values_indices_shape_match\n",
    "    raise ValueError(f\"Shape of passed values is {passed}, indices imply {implied}\")\n",
    "ValueError: Shape of passed values is (104, 84111), indices imply (180, 84111)\n",
    "\n",
    "\n",
    "###\n",
    "for sub 3 this error comes already for fit_glm_stim1 ! (not stim2 though...)\n",
    "different, thoug:\n",
    "  File \"/home/mrenke/git/numrisk/numrisk/fmri_analysis/glm_denoise/fit_glm_denoise.py\", line 96, in main\n",
    "    results_glmsingle = glmsingle_obj.fit(\n",
    "  File \"/home/mrenke/git/GLMsingle/glmsingle/glmsingle.py\", line 608, in fit\n",
    "    results0 = glm_estimatemodel(\n",
    "  File \"/home/mrenke/git/GLMsingle/glmsingle/ols/glm_estimatemodel.py\", line 425, in glm_estimatemodel\n",
    "    data, design, xyz = check_inputs(data, design)\n",
    "  File \"/home/mrenke/git/GLMsingle/glmsingle/check_inputs.py\", line 27, in check_inputs\n",
    "    np.testing.assert_array_equal(\n",
    "  File \"/data/mrenke/conda/envs/numrefields/lib/python3.9/site-packages/numpy/testing/_private/utils.py\", line 934, in assert_array_equal\n",
    "    assert_array_compare(operator.__eq__, x, y, err_msg=err_msg,\n",
    "  File \"/data/mrenke/conda/envs/numrefields/lib/python3.9/site-packages/numpy/testing/_private/utils.py\", line 763, in assert_array_compare\n",
    "    raise AssertionError(msg)\n",
    "AssertionError:\n",
    "Arrays are not equal\n",
    "<design> must consist of 0s and 1s\n",
    "(shapes (3,), (2,) mismatch)\n",
    " x: array([0., 1., 2.])\n",
    " y: array([0, 1])\n"
   ]
  },
  {
   "cell_type": "code",
   "execution_count": 1,
   "metadata": {},
   "outputs": [
    {
     "name": "stderr",
     "output_type": "stream",
     "text": [
      "/Users/mrenke/mambaforge/envs/numrefields/lib/python3.10/site-packages/tqdm/auto.py:22: TqdmWarning: IProgress not found. Please update jupyter and ipywidgets. See https://ipywidgets.readthedocs.io/en/stable/user_install.html\n",
      "  from .autonotebook import tqdm as notebook_tqdm\n",
      "/Users/mrenke/mambaforge/envs/numrefields/lib/python3.10/site-packages/nilearn/input_data/__init__.py:27: FutureWarning: The import path 'nilearn.input_data' is deprecated in version 0.9. Importing from 'nilearn.input_data' will be possible at least until release 0.13.0. Please import from 'nilearn.maskers' instead.\n",
      "  warnings.warn(message, FutureWarning)\n"
     ]
    }
   ],
   "source": [
    "import argparse\n",
    "import pandas as pd\n",
    "from braincoder.models import GaussianPRF\n",
    "from braincoder.optimize import ParameterFitter\n",
    "from braincoder.utils import get_rsq\n",
    "from numrisk.utils import get_target_dir\n",
    "from nilearn.input_data import NiftiMasker\n",
    "\n",
    "import os.path as op\n",
    "import numpy as np"
   ]
  },
  {
   "cell_type": "code",
   "execution_count": 26,
   "metadata": {},
   "outputs": [],
   "source": [
    "bids_folder = '/shares/zne.uzh/mrenke/ds-dnumrisk'\n",
    "\n",
    "subject = 3\n",
    "\n",
    "\n",
    "subject = f'{int(subject):02d}'\n",
    "session = 1\n",
    "runs = range(1, 7)\n",
    "n_stim = 2\n",
    "key = f'glm_stim{n_stim}'\n",
    "target_dir = f'encoding_model_stim{n_stim}.cv'\n",
    "key += '.denoise'\n",
    "target_dir += '.denoise'\n"
   ]
  },
  {
   "cell_type": "code",
   "execution_count": 27,
   "metadata": {},
   "outputs": [],
   "source": [
    "target_dir = get_target_dir(subject, session, bids_folder, target_dir)\n",
    "\n",
    "paradigm = [pd.read_csv(op.join(bids_folder, f'sub-{subject}', f'ses-{session}',\n",
    "                                'func', f'sub-{subject}_ses-{session}_task-magjudge_run-{run}_events.tsv'), sep='\\t')\n",
    "            for run in runs]\n",
    "paradigm = pd.concat(paradigm, keys=runs, names=['run'])\n",
    "paradigm = paradigm[paradigm.trial_type == f'stimulus {n_stim}'].set_index('trial_nr', append=True)\n",
    "\n",
    "paradigm[f'log(n{n_stim})'] = np.log(paradigm[f'n{n_stim}'])\n",
    "paradigm = paradigm[f'log(n{n_stim})'].dropna()"
   ]
  },
  {
   "cell_type": "code",
   "execution_count": 28,
   "metadata": {},
   "outputs": [
    {
     "data": {
      "text/plain": [
       "run      trial_nr\n",
       "1    1   1           1.386294\n",
       "     4   2           1.609438\n",
       "     7   3           1.386294\n",
       "     10  4           2.397895\n",
       "     13  5           2.397895\n",
       "                       ...   \n",
       "6    76  176         3.496508\n",
       "     79  177         2.197225\n",
       "     82  178         2.639057\n",
       "     85  179         1.098612\n",
       "     88  180         2.397895\n",
       "Name: log(n2), Length: 180, dtype: float64"
      ]
     },
     "execution_count": 28,
     "metadata": {},
     "output_type": "execute_result"
    }
   ],
   "source": [
    "paradigm"
   ]
  },
  {
   "cell_type": "code",
   "execution_count": 29,
   "metadata": {},
   "outputs": [],
   "source": [
    "model = GaussianPRF()\n",
    "# SET UP GRID\n",
    "mus = np.log(np.linspace(5, 80, 60, dtype=np.float32))\n",
    "sds = np.log(np.linspace(2, 30, 60, dtype=np.float32))\n",
    "amplitudes = np.array([1.], dtype=np.float32)\n",
    "baselines = np.array([0], dtype=np.float32)\n",
    "\n",
    "mask = op.join(bids_folder, 'derivatives',\n",
    "                f'fmriprep/sub-{subject}/ses-{session}/func/sub-{subject}_ses-{session}_task-magjudge_run-1_space-T1w_desc-brain_mask.nii.gz')\n",
    "if not op.exists(mask): # for some subs brain mask creation for some runs did not work apparently, so lets just take another run (they should be pretty similar?)\n",
    "    mask = op.join(bids_folder, 'derivatives',\n",
    "            f'fmriprep/sub-{subject}/ses-{session}/func/sub-{subject}_ses-{session}_task-magjudge_run-2_space-T1w_desc-brain_mask.nii.gz')\n",
    "\n",
    "masker = NiftiMasker(mask_img=mask)\n",
    "\n"
   ]
  },
  {
   "cell_type": "code",
   "execution_count": 30,
   "metadata": {},
   "outputs": [],
   "source": [
    "data = op.join(bids_folder, 'derivatives', key,\n",
    "                f'sub-{subject}', f'ses-{session}', 'func', f'sub-{subject}_ses-{session}_task-magjudge_space-T1w_desc-stims{n_stim}_pe.nii.gz')\n",
    "\n",
    "from nilearn import image\n",
    "\n",
    "ims = image.load_img(data)"
   ]
  },
  {
   "cell_type": "code",
   "execution_count": 31,
   "metadata": {},
   "outputs": [
    {
     "data": {
      "text/plain": [
       "(58, 73, 50, 104)"
      ]
     },
     "execution_count": 31,
     "metadata": {},
     "output_type": "execute_result"
    }
   ],
   "source": [
    "ims.get_fdata().shape"
   ]
  },
  {
   "cell_type": "code",
   "execution_count": 32,
   "metadata": {},
   "outputs": [],
   "source": [
    "tmp = masker.fit_transform(data)"
   ]
  },
  {
   "cell_type": "code",
   "execution_count": 21,
   "metadata": {},
   "outputs": [
    {
     "data": {
      "text/plain": [
       "array([[ -5.586601  ,  -0.25460613,  13.430651  , ...,   3.276642  ,\n",
       "         -0.39079255,  -9.162464  ],\n",
       "       [  0.17910606,   6.005245  ,  19.335033  , ...,   3.3928962 ,\n",
       "         -1.3308599 ,   4.1230335 ],\n",
       "       [  5.7466693 ,   1.1067244 , -10.965698  , ...,  -1.0369884 ,\n",
       "         -2.8626223 ,   7.8606257 ],\n",
       "       ...,\n",
       "       [ -1.7437749 ,   3.8153033 ,   2.5822282 , ...,  -6.538029  ,\n",
       "         -0.23672003, -41.86214   ],\n",
       "       [ -7.4950514 ,  -5.620179  ,   1.7101481 , ...,  28.328648  ,\n",
       "         -6.5455327 ,  88.55697   ],\n",
       "       [ -3.7700734 ,   7.8073134 , -23.333174  , ...,  -6.3825936 ,\n",
       "         18.216936  ,  25.894047  ]], dtype=float32)"
      ]
     },
     "execution_count": 21,
     "metadata": {},
     "output_type": "execute_result"
    }
   ],
   "source": [
    "tmp"
   ]
  },
  {
   "cell_type": "code",
   "execution_count": null,
   "metadata": {},
   "outputs": [],
   "source": [
    "data = pd.DataFrame(tmp, index=paradigm.index)\n"
   ]
  },
  {
   "cell_type": "markdown",
   "metadata": {},
   "source": [
    "### E"
   ]
  },
  {
   "cell_type": "code",
   "execution_count": 14,
   "metadata": {},
   "outputs": [],
   "source": [
    "from numrisk.utils import Subject\n",
    "bids_folder = '/Users/mrenke/data/ds-dnumrisk'\n",
    "session = 1\n",
    "n_stim = 2 # we are interested in activity from the second stimulus\n",
    "base_dir = f'glm_stim{n_stim}.denoise'\n",
    "runs = range(1, 7)\n",
    "subject_id = 1\n",
    "subject = f'{int(subject_id):02d}'\n",
    "sub = Subject(subject_id, bids_folder=bids_folder)\n",
    "\n"
   ]
  },
  {
   "cell_type": "code",
   "execution_count": 10,
   "metadata": {},
   "outputs": [],
   "source": [
    "masker = sub.get_brain_masker()"
   ]
  },
  {
   "cell_type": "code",
   "execution_count": 35,
   "metadata": {},
   "outputs": [],
   "source": [
    "import nibabel as nib\n",
    "import os.path as op\n",
    "target_dir = '/Users/mrenke/data/ds-dnumrisk/derivatives/encoding_model.2d.cv.mixture.same_rfs/sub-01/func'\n",
    "run=1\n",
    "\n",
    "cv_r2s = []\n",
    "for run in range(1, 7):\n",
    "    fn = op.join(target_dir, f'sub-{subject}_ses-{session}_task-magjudge_run-{run}_desc-gd.cvr2_space-T1w_pars.nii.gz')\n",
    "    cv_r2_gd_raw = nib.load(fn)\n",
    "    cv_r2_gd = masker.fit_transform(cv_r2_gd_raw)\n",
    "    cv_r2s.append(cv_r2_gd[0])"
   ]
  },
  {
   "cell_type": "code",
   "execution_count": 36,
   "metadata": {},
   "outputs": [],
   "source": [
    "import pandas as pd\n",
    "cv_r2s_dfs = [pd.DataFrame(arr) for arr in cv_r2s]\n",
    "\n",
    "cv_r2s_ = pd.concat(cv_r2s_dfs, keys=runs, names=['run']).groupby(level=1, axis=0).mean()\n"
   ]
  },
  {
   "cell_type": "code",
   "execution_count": 42,
   "metadata": {},
   "outputs": [],
   "source": [
    "cv_r2s_ = pd.concat(cv_r2s_dfs, keys=runs, names=['run']).groupby(level=1, axis=0).mean()"
   ]
  },
  {
   "cell_type": "code",
   "execution_count": 45,
   "metadata": {},
   "outputs": [],
   "source": [
    "masker.inverse_transform(cv_r2s_.T).to_filename(op.join(target_dir, f'sub-{subject}_task-magdudge_desc-cvr2_space-T1w_pars.nii.gz'))\n"
   ]
  },
  {
   "cell_type": "code",
   "execution_count": 58,
   "metadata": {},
   "outputs": [
    {
     "name": "stderr",
     "output_type": "stream",
     "text": [
      "/Users/mrenke/mambaforge/envs/numrefields/lib/python3.10/site-packages/nilearn/image/image.py:756: FutureWarning: Image data has type int64, which may cause incompatibilities with other tools. This will error in NiBabel 5.0. This warning can be silenced by passing the dtype argument to Nifti1Image().\n",
      "  return klass(data, affine, header=header)\n",
      "/Users/mrenke/mambaforge/envs/numrefields/lib/python3.10/site-packages/nilearn/image/resampling.py:598: RuntimeWarning: NaNs or infinite values are present in the data passed to resample. This is a bad thing as they make resampling ill-defined and much slower.\n",
      "  _resample_one_img(data[all_img + ind], A, b, target_shape,\n",
      "/Users/mrenke/mambaforge/envs/numrefields/lib/python3.10/site-packages/nilearn/image/image.py:756: FutureWarning: Image data has type int64, which may cause incompatibilities with other tools. This will error in NiBabel 5.0. This warning can be silenced by passing the dtype argument to Nifti1Image().\n",
      "  return klass(data, affine, header=header)\n",
      "/Users/mrenke/mambaforge/envs/numrefields/lib/python3.10/site-packages/nilearn/image/resampling.py:598: RuntimeWarning: NaNs or infinite values are present in the data passed to resample. This is a bad thing as they make resampling ill-defined and much slower.\n",
      "  _resample_one_img(data[all_img + ind], A, b, target_shape,\n",
      "/Users/mrenke/mambaforge/envs/numrefields/lib/python3.10/site-packages/nilearn/image/image.py:756: FutureWarning: Image data has type int64, which may cause incompatibilities with other tools. This will error in NiBabel 5.0. This warning can be silenced by passing the dtype argument to Nifti1Image().\n",
      "  return klass(data, affine, header=header)\n",
      "/Users/mrenke/mambaforge/envs/numrefields/lib/python3.10/site-packages/nilearn/image/image.py:756: FutureWarning: Image data has type int64, which may cause incompatibilities with other tools. This will error in NiBabel 5.0. This warning can be silenced by passing the dtype argument to Nifti1Image().\n",
      "  return klass(data, affine, header=header)\n",
      "/Users/mrenke/mambaforge/envs/numrefields/lib/python3.10/site-packages/nilearn/image/image.py:756: FutureWarning: Image data has type int64, which may cause incompatibilities with other tools. This will error in NiBabel 5.0. This warning can be silenced by passing the dtype argument to Nifti1Image().\n",
      "  return klass(data, affine, header=header)\n",
      "/Users/mrenke/mambaforge/envs/numrefields/lib/python3.10/site-packages/nilearn/image/image.py:756: FutureWarning: Image data has type int64, which may cause incompatibilities with other tools. This will error in NiBabel 5.0. This warning can be silenced by passing the dtype argument to Nifti1Image().\n",
      "  return klass(data, affine, header=header)\n",
      "/Users/mrenke/mambaforge/envs/numrefields/lib/python3.10/site-packages/nilearn/image/image.py:756: FutureWarning: Image data has type int64, which may cause incompatibilities with other tools. This will error in NiBabel 5.0. This warning can be silenced by passing the dtype argument to Nifti1Image().\n",
      "  return klass(data, affine, header=header)\n"
     ]
    }
   ],
   "source": [
    "pars_gd = sub.get_cv_prf_parameters_volume(session=1,holdout_run=1, two_dimensional=True,\n",
    "                                  mixture_model=True,return_image=False,\n",
    "                                    same_rfs=True,\n",
    "                                    roi='NPC_R')"
   ]
  },
  {
   "cell_type": "code",
   "execution_count": 59,
   "metadata": {},
   "outputs": [],
   "source": [
    "n_voxels = 100\n",
    "\n",
    "r2_mask = pars_gd['r2'].sort_values(ascending=False).index[:n_voxels]\n"
   ]
  },
  {
   "cell_type": "code",
   "execution_count": 55,
   "metadata": {},
   "outputs": [
    {
     "data": {
      "text/plain": [
       "Int64Index([ 7784,  7805,  7806,  7785,  9019, 11815,  8590,  8575,  8222,\n",
       "             3087,  8223,  3078,  3086,  3077,  7804,  8591,  9039,  7783,\n",
       "             7081,  3291,  9828,  3101,  8576,  8199,  3088,  3100, 11833,\n",
       "             3127,  8251,  6493,  2884,  3300,  8250,  9020,  3292,  3114,\n",
       "            11388,  2872,  9827,  3350, 11337,  3079, 11738,  3301, 11363,\n",
       "             3335,  7807,  7756,  8224, 12235,  6492, 11816,  3113,  7822,\n",
       "             9040, 11737,  8574,  9846,  9844,  3336,  7823,  9845,  3068,\n",
       "             8589,  3085,  2862,  6494,   955,  7446,  3069,  6048,  7757,\n",
       "             3126,  3137, 12217,  1228,  8252,  7447, 11834,  9865,  3099,\n",
       "             9337,  9843,  3349,  2861,   971,  8249,  3076,  6474,  9826,\n",
       "             9311, 10056,  8200, 14961,  1229,  9001,  9310, 10057,  6047,\n",
       "             9026],\n",
       "           dtype='int64')"
      ]
     },
     "execution_count": 55,
     "metadata": {},
     "output_type": "execute_result"
    }
   ],
   "source": [
    "r2_mask"
   ]
  },
  {
   "cell_type": "code",
   "execution_count": 62,
   "metadata": {},
   "outputs": [],
   "source": [
    "sub = Subject(subject_id, bids_folder)\n",
    "behavior = sub.get_behavior_magjudge()\n",
    "paradigm = np.log(behavior[['n1', 'n2']].copy()).dropna().droplevel('subject')\n",
    "\n",
    "data = sub.get_single_trial_volume(session, n_stim=n_stim, roi=None,smoothed=False, denoise=True).astype(np.float32)\n",
    "data.index = paradigm.index"
   ]
  },
  {
   "cell_type": "code",
   "execution_count": 63,
   "metadata": {},
   "outputs": [],
   "source": [
    "test_run = 1\n",
    "test_data, test_paradigm = data.loc[test_run].copy(), paradigm.loc[test_run].copy()\n",
    "train_data, train_paradigm = data.drop(test_run, level='run').copy(), paradigm.drop(test_run, level='run').copy()\n"
   ]
  },
  {
   "cell_type": "code",
   "execution_count": 64,
   "metadata": {},
   "outputs": [
    {
     "data": {
      "text/html": [
       "<div>\n",
       "<style scoped>\n",
       "    .dataframe tbody tr th:only-of-type {\n",
       "        vertical-align: middle;\n",
       "    }\n",
       "\n",
       "    .dataframe tbody tr th {\n",
       "        vertical-align: top;\n",
       "    }\n",
       "\n",
       "    .dataframe thead th {\n",
       "        text-align: right;\n",
       "    }\n",
       "</style>\n",
       "<table border=\"1\" class=\"dataframe\">\n",
       "  <thead>\n",
       "    <tr style=\"text-align: right;\">\n",
       "      <th></th>\n",
       "      <th></th>\n",
       "      <th>0</th>\n",
       "      <th>1</th>\n",
       "      <th>2</th>\n",
       "      <th>3</th>\n",
       "      <th>4</th>\n",
       "      <th>5</th>\n",
       "      <th>6</th>\n",
       "      <th>7</th>\n",
       "      <th>8</th>\n",
       "      <th>9</th>\n",
       "      <th>...</th>\n",
       "      <th>78788</th>\n",
       "      <th>78789</th>\n",
       "      <th>78790</th>\n",
       "      <th>78791</th>\n",
       "      <th>78792</th>\n",
       "      <th>78793</th>\n",
       "      <th>78794</th>\n",
       "      <th>78795</th>\n",
       "      <th>78796</th>\n",
       "      <th>78797</th>\n",
       "    </tr>\n",
       "    <tr>\n",
       "      <th>run</th>\n",
       "      <th>trial_nr</th>\n",
       "      <th></th>\n",
       "      <th></th>\n",
       "      <th></th>\n",
       "      <th></th>\n",
       "      <th></th>\n",
       "      <th></th>\n",
       "      <th></th>\n",
       "      <th></th>\n",
       "      <th></th>\n",
       "      <th></th>\n",
       "      <th></th>\n",
       "      <th></th>\n",
       "      <th></th>\n",
       "      <th></th>\n",
       "      <th></th>\n",
       "      <th></th>\n",
       "      <th></th>\n",
       "      <th></th>\n",
       "      <th></th>\n",
       "      <th></th>\n",
       "      <th></th>\n",
       "    </tr>\n",
       "  </thead>\n",
       "  <tbody>\n",
       "    <tr>\n",
       "      <th rowspan=\"5\" valign=\"top\">2</th>\n",
       "      <th>31</th>\n",
       "      <td>4.467721</td>\n",
       "      <td>-1.448377</td>\n",
       "      <td>-3.355821</td>\n",
       "      <td>3.953604</td>\n",
       "      <td>-7.596740</td>\n",
       "      <td>4.145755</td>\n",
       "      <td>2.735186</td>\n",
       "      <td>0.548995</td>\n",
       "      <td>-8.625731</td>\n",
       "      <td>-2.094081</td>\n",
       "      <td>...</td>\n",
       "      <td>4.760605</td>\n",
       "      <td>-1.314916</td>\n",
       "      <td>2.145372</td>\n",
       "      <td>2.794543</td>\n",
       "      <td>-2.539463</td>\n",
       "      <td>-1.630210</td>\n",
       "      <td>-0.572249</td>\n",
       "      <td>2.048245</td>\n",
       "      <td>-0.597345</td>\n",
       "      <td>0.648026</td>\n",
       "    </tr>\n",
       "    <tr>\n",
       "      <th>32</th>\n",
       "      <td>-1.635356</td>\n",
       "      <td>-10.795338</td>\n",
       "      <td>-5.356212</td>\n",
       "      <td>7.312120</td>\n",
       "      <td>-1.371064</td>\n",
       "      <td>0.057888</td>\n",
       "      <td>-2.909039</td>\n",
       "      <td>-2.389971</td>\n",
       "      <td>-0.270734</td>\n",
       "      <td>-0.217150</td>\n",
       "      <td>...</td>\n",
       "      <td>2.773489</td>\n",
       "      <td>-1.216424</td>\n",
       "      <td>-0.745951</td>\n",
       "      <td>-3.675452</td>\n",
       "      <td>-8.883361</td>\n",
       "      <td>-0.596084</td>\n",
       "      <td>3.401952</td>\n",
       "      <td>-0.597486</td>\n",
       "      <td>-0.007028</td>\n",
       "      <td>-0.391585</td>\n",
       "    </tr>\n",
       "    <tr>\n",
       "      <th>33</th>\n",
       "      <td>0.785027</td>\n",
       "      <td>0.249403</td>\n",
       "      <td>4.847545</td>\n",
       "      <td>0.036259</td>\n",
       "      <td>4.467438</td>\n",
       "      <td>-3.707404</td>\n",
       "      <td>0.847298</td>\n",
       "      <td>2.567118</td>\n",
       "      <td>1.345955</td>\n",
       "      <td>0.123207</td>\n",
       "      <td>...</td>\n",
       "      <td>-6.761909</td>\n",
       "      <td>2.314336</td>\n",
       "      <td>-5.373157</td>\n",
       "      <td>-7.632072</td>\n",
       "      <td>-9.059211</td>\n",
       "      <td>0.402763</td>\n",
       "      <td>0.528217</td>\n",
       "      <td>-3.727443</td>\n",
       "      <td>0.966133</td>\n",
       "      <td>2.840067</td>\n",
       "    </tr>\n",
       "    <tr>\n",
       "      <th>34</th>\n",
       "      <td>-0.714537</td>\n",
       "      <td>5.172987</td>\n",
       "      <td>2.770771</td>\n",
       "      <td>0.484973</td>\n",
       "      <td>-12.024037</td>\n",
       "      <td>6.259865</td>\n",
       "      <td>2.215527</td>\n",
       "      <td>3.979806</td>\n",
       "      <td>2.018037</td>\n",
       "      <td>-2.247368</td>\n",
       "      <td>...</td>\n",
       "      <td>-4.336075</td>\n",
       "      <td>2.038765</td>\n",
       "      <td>-1.375362</td>\n",
       "      <td>-1.444064</td>\n",
       "      <td>4.746146</td>\n",
       "      <td>-0.687062</td>\n",
       "      <td>0.693766</td>\n",
       "      <td>0.880469</td>\n",
       "      <td>0.699342</td>\n",
       "      <td>3.802534</td>\n",
       "    </tr>\n",
       "    <tr>\n",
       "      <th>35</th>\n",
       "      <td>-1.962139</td>\n",
       "      <td>4.060481</td>\n",
       "      <td>3.044915</td>\n",
       "      <td>-5.075397</td>\n",
       "      <td>-7.883848</td>\n",
       "      <td>-3.373917</td>\n",
       "      <td>1.343904</td>\n",
       "      <td>0.868449</td>\n",
       "      <td>4.181017</td>\n",
       "      <td>-3.431128</td>\n",
       "      <td>...</td>\n",
       "      <td>-4.429418</td>\n",
       "      <td>-0.187395</td>\n",
       "      <td>-1.303337</td>\n",
       "      <td>-1.416826</td>\n",
       "      <td>1.669030</td>\n",
       "      <td>-1.275944</td>\n",
       "      <td>1.034996</td>\n",
       "      <td>-1.209104</td>\n",
       "      <td>1.697803</td>\n",
       "      <td>2.716034</td>\n",
       "    </tr>\n",
       "    <tr>\n",
       "      <th>...</th>\n",
       "      <th>...</th>\n",
       "      <td>...</td>\n",
       "      <td>...</td>\n",
       "      <td>...</td>\n",
       "      <td>...</td>\n",
       "      <td>...</td>\n",
       "      <td>...</td>\n",
       "      <td>...</td>\n",
       "      <td>...</td>\n",
       "      <td>...</td>\n",
       "      <td>...</td>\n",
       "      <td>...</td>\n",
       "      <td>...</td>\n",
       "      <td>...</td>\n",
       "      <td>...</td>\n",
       "      <td>...</td>\n",
       "      <td>...</td>\n",
       "      <td>...</td>\n",
       "      <td>...</td>\n",
       "      <td>...</td>\n",
       "      <td>...</td>\n",
       "      <td>...</td>\n",
       "    </tr>\n",
       "    <tr>\n",
       "      <th rowspan=\"5\" valign=\"top\">6</th>\n",
       "      <th>176</th>\n",
       "      <td>0.844216</td>\n",
       "      <td>1.886107</td>\n",
       "      <td>4.471626</td>\n",
       "      <td>8.928157</td>\n",
       "      <td>-6.495096</td>\n",
       "      <td>4.848532</td>\n",
       "      <td>-0.589672</td>\n",
       "      <td>-2.451388</td>\n",
       "      <td>1.072884</td>\n",
       "      <td>0.379037</td>\n",
       "      <td>...</td>\n",
       "      <td>3.861291</td>\n",
       "      <td>-0.152373</td>\n",
       "      <td>0.985013</td>\n",
       "      <td>2.461055</td>\n",
       "      <td>7.649776</td>\n",
       "      <td>-0.992782</td>\n",
       "      <td>0.183668</td>\n",
       "      <td>4.536236</td>\n",
       "      <td>7.510978</td>\n",
       "      <td>0.353446</td>\n",
       "    </tr>\n",
       "    <tr>\n",
       "      <th>177</th>\n",
       "      <td>-1.025549</td>\n",
       "      <td>-1.657252</td>\n",
       "      <td>-1.154629</td>\n",
       "      <td>1.715727</td>\n",
       "      <td>-3.363083</td>\n",
       "      <td>0.448298</td>\n",
       "      <td>1.172727</td>\n",
       "      <td>0.471781</td>\n",
       "      <td>-2.575269</td>\n",
       "      <td>-2.070989</td>\n",
       "      <td>...</td>\n",
       "      <td>-5.079347</td>\n",
       "      <td>-0.695222</td>\n",
       "      <td>-0.501963</td>\n",
       "      <td>0.579878</td>\n",
       "      <td>-1.410680</td>\n",
       "      <td>0.428011</td>\n",
       "      <td>2.761935</td>\n",
       "      <td>-0.355043</td>\n",
       "      <td>-1.677738</td>\n",
       "      <td>3.269469</td>\n",
       "    </tr>\n",
       "    <tr>\n",
       "      <th>178</th>\n",
       "      <td>-0.016821</td>\n",
       "      <td>2.196058</td>\n",
       "      <td>1.629169</td>\n",
       "      <td>0.269890</td>\n",
       "      <td>-4.450286</td>\n",
       "      <td>-1.978234</td>\n",
       "      <td>-0.264937</td>\n",
       "      <td>-1.731840</td>\n",
       "      <td>1.833429</td>\n",
       "      <td>-2.309157</td>\n",
       "      <td>...</td>\n",
       "      <td>-1.772224</td>\n",
       "      <td>-1.055165</td>\n",
       "      <td>2.349221</td>\n",
       "      <td>-0.027559</td>\n",
       "      <td>0.961282</td>\n",
       "      <td>-0.728046</td>\n",
       "      <td>2.959388</td>\n",
       "      <td>2.516572</td>\n",
       "      <td>-2.586582</td>\n",
       "      <td>0.110352</td>\n",
       "    </tr>\n",
       "    <tr>\n",
       "      <th>179</th>\n",
       "      <td>1.803620</td>\n",
       "      <td>2.956554</td>\n",
       "      <td>-0.256786</td>\n",
       "      <td>-0.285315</td>\n",
       "      <td>5.534694</td>\n",
       "      <td>7.251609</td>\n",
       "      <td>2.032198</td>\n",
       "      <td>3.183022</td>\n",
       "      <td>-7.417245</td>\n",
       "      <td>2.130675</td>\n",
       "      <td>...</td>\n",
       "      <td>7.226232</td>\n",
       "      <td>-0.133155</td>\n",
       "      <td>-2.664355</td>\n",
       "      <td>-1.224951</td>\n",
       "      <td>-0.498028</td>\n",
       "      <td>-0.466137</td>\n",
       "      <td>-2.434206</td>\n",
       "      <td>3.352535</td>\n",
       "      <td>-5.465135</td>\n",
       "      <td>-6.375852</td>\n",
       "    </tr>\n",
       "    <tr>\n",
       "      <th>180</th>\n",
       "      <td>-1.229209</td>\n",
       "      <td>-1.178985</td>\n",
       "      <td>2.816704</td>\n",
       "      <td>4.001599</td>\n",
       "      <td>4.138150</td>\n",
       "      <td>0.271831</td>\n",
       "      <td>-0.892062</td>\n",
       "      <td>1.838048</td>\n",
       "      <td>6.644657</td>\n",
       "      <td>-1.648669</td>\n",
       "      <td>...</td>\n",
       "      <td>-0.270348</td>\n",
       "      <td>-1.057706</td>\n",
       "      <td>-2.721148</td>\n",
       "      <td>2.732806</td>\n",
       "      <td>2.744406</td>\n",
       "      <td>2.453762</td>\n",
       "      <td>-3.253279</td>\n",
       "      <td>1.609859</td>\n",
       "      <td>-1.473159</td>\n",
       "      <td>-2.882010</td>\n",
       "    </tr>\n",
       "  </tbody>\n",
       "</table>\n",
       "<p>150 rows × 78798 columns</p>\n",
       "</div>"
      ],
      "text/plain": [
       "                 0          1         2         3          4         5      \\\n",
       "run trial_nr                                                                 \n",
       "2   31        4.467721  -1.448377 -3.355821  3.953604  -7.596740  4.145755   \n",
       "    32       -1.635356 -10.795338 -5.356212  7.312120  -1.371064  0.057888   \n",
       "    33        0.785027   0.249403  4.847545  0.036259   4.467438 -3.707404   \n",
       "    34       -0.714537   5.172987  2.770771  0.484973 -12.024037  6.259865   \n",
       "    35       -1.962139   4.060481  3.044915 -5.075397  -7.883848 -3.373917   \n",
       "...                ...        ...       ...       ...        ...       ...   \n",
       "6   176       0.844216   1.886107  4.471626  8.928157  -6.495096  4.848532   \n",
       "    177      -1.025549  -1.657252 -1.154629  1.715727  -3.363083  0.448298   \n",
       "    178      -0.016821   2.196058  1.629169  0.269890  -4.450286 -1.978234   \n",
       "    179       1.803620   2.956554 -0.256786 -0.285315   5.534694  7.251609   \n",
       "    180      -1.229209  -1.178985  2.816704  4.001599   4.138150  0.271831   \n",
       "\n",
       "                 6         7         8         9      ...     78788     78789  \\\n",
       "run trial_nr                                          ...                       \n",
       "2   31        2.735186  0.548995 -8.625731 -2.094081  ...  4.760605 -1.314916   \n",
       "    32       -2.909039 -2.389971 -0.270734 -0.217150  ...  2.773489 -1.216424   \n",
       "    33        0.847298  2.567118  1.345955  0.123207  ... -6.761909  2.314336   \n",
       "    34        2.215527  3.979806  2.018037 -2.247368  ... -4.336075  2.038765   \n",
       "    35        1.343904  0.868449  4.181017 -3.431128  ... -4.429418 -0.187395   \n",
       "...                ...       ...       ...       ...  ...       ...       ...   \n",
       "6   176      -0.589672 -2.451388  1.072884  0.379037  ...  3.861291 -0.152373   \n",
       "    177       1.172727  0.471781 -2.575269 -2.070989  ... -5.079347 -0.695222   \n",
       "    178      -0.264937 -1.731840  1.833429 -2.309157  ... -1.772224 -1.055165   \n",
       "    179       2.032198  3.183022 -7.417245  2.130675  ...  7.226232 -0.133155   \n",
       "    180      -0.892062  1.838048  6.644657 -1.648669  ... -0.270348 -1.057706   \n",
       "\n",
       "                 78790     78791     78792     78793     78794     78795  \\\n",
       "run trial_nr                                                               \n",
       "2   31        2.145372  2.794543 -2.539463 -1.630210 -0.572249  2.048245   \n",
       "    32       -0.745951 -3.675452 -8.883361 -0.596084  3.401952 -0.597486   \n",
       "    33       -5.373157 -7.632072 -9.059211  0.402763  0.528217 -3.727443   \n",
       "    34       -1.375362 -1.444064  4.746146 -0.687062  0.693766  0.880469   \n",
       "    35       -1.303337 -1.416826  1.669030 -1.275944  1.034996 -1.209104   \n",
       "...                ...       ...       ...       ...       ...       ...   \n",
       "6   176       0.985013  2.461055  7.649776 -0.992782  0.183668  4.536236   \n",
       "    177      -0.501963  0.579878 -1.410680  0.428011  2.761935 -0.355043   \n",
       "    178       2.349221 -0.027559  0.961282 -0.728046  2.959388  2.516572   \n",
       "    179      -2.664355 -1.224951 -0.498028 -0.466137 -2.434206  3.352535   \n",
       "    180      -2.721148  2.732806  2.744406  2.453762 -3.253279  1.609859   \n",
       "\n",
       "                 78796     78797  \n",
       "run trial_nr                      \n",
       "2   31       -0.597345  0.648026  \n",
       "    32       -0.007028 -0.391585  \n",
       "    33        0.966133  2.840067  \n",
       "    34        0.699342  3.802534  \n",
       "    35        1.697803  2.716034  \n",
       "...                ...       ...  \n",
       "6   176       7.510978  0.353446  \n",
       "    177      -1.677738  3.269469  \n",
       "    178      -2.586582  0.110352  \n",
       "    179      -5.465135 -6.375852  \n",
       "    180      -1.473159 -2.882010  \n",
       "\n",
       "[150 rows x 78798 columns]"
      ]
     },
     "execution_count": 64,
     "metadata": {},
     "output_type": "execute_result"
    }
   ],
   "source": [
    "train_data"
   ]
  },
  {
   "cell_type": "code",
   "execution_count": null,
   "metadata": {},
   "outputs": [],
   "source": [
    "pars = pars_gd.loc[r2_mask]\n",
    "train_data = train_data[r2_mask].astype(np.float32)"
   ]
  },
  {
   "cell_type": "code",
   "execution_count": 67,
   "metadata": {},
   "outputs": [
    {
     "name": "stderr",
     "output_type": "stream",
     "text": [
      "/Users/mrenke/mambaforge/envs/numrefields/lib/python3.10/site-packages/tqdm/auto.py:22: TqdmWarning: IProgress not found. Please update jupyter and ipywidgets. See https://ipywidgets.readthedocs.io/en/stable/user_install.html\n",
      "  from .autonotebook import tqdm as notebook_tqdm\n",
      "2024-11-06 14:46:14.527072: I tensorflow/core/common_runtime/pluggable_device/pluggable_device_factory.cc:305] Could not identify NUMA node of platform GPU ID 0, defaulting to 0. Your kernel may not have been built with NUMA support.\n",
      "2024-11-06 14:46:14.527310: I tensorflow/core/common_runtime/pluggable_device/pluggable_device_factory.cc:271] Created TensorFlow device (/job:localhost/replica:0/task:0/device:GPU:0 with 0 MB memory) -> physical PluggableDevice (device: 0, name: METAL, pci bus id: <undefined>)\n"
     ]
    },
    {
     "name": "stdout",
     "output_type": "stream",
     "text": [
      "Metal device set to: Apple M1 Pro\n",
      "\n",
      "systemMemory: 16.00 GB\n",
      "maxCacheSize: 5.33 GB\n",
      "\n"
     ]
    },
    {
     "name": "stderr",
     "output_type": "stream",
     "text": [
      "2024-11-06 14:46:14.721414: W tensorflow/core/platform/profile_utils/cpu_utils.cc:128] Failed to get CPU frequency: 0 Hz\n",
      "2024-11-06 14:46:14.724637: I tensorflow/core/grappler/optimizers/custom_graph_optimizer_registry.cc:113] Plugin optimizer for device_type GPU is enabled.\n"
     ]
    }
   ],
   "source": [
    "from braincoder.models import GaussianPointPRF2D, GaussianMixturePRF2D, LogGaussianPRF\n",
    "from braincoder.optimize import ParameterFitter, ResidualFitter\n",
    "\n",
    "x = np.log(np.arange(5, 26, 1.))\n",
    "y = x.copy()\n",
    "paradigm_x, paradigm_y = np.meshgrid(x, y)\n",
    "\n",
    "# Stack into a 10,000 x 2 array\n",
    "stimulus_range = np.column_stack((paradigm_x.ravel(), paradigm_y.ravel()))\n",
    "\n",
    "model = GaussianMixturePRF2D(same_rfs=True)\n",
    "\n",
    "model.init_pseudoWWT(stimulus_range, pars)   \n",
    "\n",
    "residfit = ResidualFitter(model, train_data, train_paradigm.astype(np.float32),\n",
    "                    parameters=pars)"
   ]
  },
  {
   "cell_type": "code",
   "execution_count": 68,
   "metadata": {},
   "outputs": [
    {
     "name": "stderr",
     "output_type": "stream",
     "text": [
      "2024-11-06 14:46:33.465687: I tensorflow/core/grappler/optimizers/custom_graph_optimizer_registry.cc:113] Plugin optimizer for device_type GPU is enabled.\n"
     ]
    },
    {
     "name": "stdout",
     "output_type": "stream",
     "text": [
      "init_tau: 0.635284960269928, 24.068159103393555\n",
      "USING A PSEUDO-WWT!\n",
      "WWT max: 45849.40234375\n"
     ]
    },
    {
     "name": "stderr",
     "output_type": "stream",
     "text": [
      "  0%|          | 0/20000 [00:00<?, ?it/s]2024-11-06 14:46:34.140993: I tensorflow/core/grappler/optimizers/custom_graph_optimizer_registry.cc:113] Plugin optimizer for device_type GPU is enabled.\n",
      "2024-11-06 14:46:34.292042: I tensorflow/core/grappler/optimizers/custom_graph_optimizer_registry.cc:113] Plugin optimizer for device_type GPU is enabled.\n",
      "2024-11-06 14:46:34.564836: I tensorflow/core/grappler/optimizers/custom_graph_optimizer_registry.cc:113] Plugin optimizer for device_type GPU is enabled.\n",
      "2024-11-06 14:46:34.959803: I tensorflow/core/grappler/optimizers/custom_graph_optimizer_registry.cc:113] Plugin optimizer for device_type GPU is enabled.\n",
      "2024-11-06 14:46:35.978929: I tensorflow/core/grappler/optimizers/custom_graph_optimizer_registry.cc:113] Plugin optimizer for device_type GPU is enabled.\n",
      "2024-11-06 14:46:38.210022: I tensorflow/core/grappler/optimizers/custom_graph_optimizer_registry.cc:113] Plugin optimizer for device_type GPU is enabled.\n",
      "fit stat: 26943.3848 (best: 26943.3750, rho: 0.007, sigma2: 0.827, mean tau: 1.9804, dof: 58.0:  18%|█▊        | 3516/20000 [01:57<09:09, 29.97it/s]\n"
     ]
    },
    {
     "name": "stdout",
     "output_type": "stream",
     "text": [
      "DOF 58.014156\n"
     ]
    },
    {
     "name": "stderr",
     "output_type": "stream",
     "text": [
      "2024-11-06 14:48:31.622753: I tensorflow/core/grappler/optimizers/custom_graph_optimizer_registry.cc:113] Plugin optimizer for device_type GPU is enabled.\n"
     ]
    }
   ],
   "source": [
    "omega, dof = residfit.fit(init_sigma2=10.0,\n",
    "        init_dof=10.0,\n",
    "        method='t',\n",
    "        learning_rate=0.05,\n",
    "        max_n_iterations=20000)\n",
    "\n",
    "print('DOF', dof)\n",
    "\n",
    "pdf = model.get_stimulus_pdf(test_data[r2_mask].astype(np.float32), omega=omega, dof=dof, stimulus_range=stimulus_range, normalize=False)\n"
   ]
  },
  {
   "cell_type": "code",
   "execution_count": null,
   "metadata": {},
   "outputs": [],
   "source": [
    "behavior = sub.get_behavior_magjudge()\n",
    "paradigm = np.log(behavior[['n1', 'n2']].copy()).dropna().droplevel('subject')\n",
    "\n",
    "# get brain data\n",
    "mask = op.join(bids_folder, 'derivatives', 'fmriprep', f'sub-{subject}/ses-{session}/func/sub-{subject}_ses-{session}_task-magjudge_run-1_space-T1w_desc-brain_mask.nii.gz')\n",
    "if not op.exists(mask): # for some subs brain mask creation for some runs did not work apparently, so lets just take another run (they should be pretty similar?)\n",
    "    mask = op.join(bids_folder, 'derivatives',\n",
    "            f'fmriprep/sub-{subject}/ses-{session}/func/sub-{subject}_ses-{session}_task-magjudge_run-2_space-T1w_desc-brain_mask.nii.gz')\n",
    "masker = NiftiMasker(mask_img=mask)\n",
    "data = op.join(bids_folder, 'derivatives', base_dir, # base-dir defines we get actuvity from stim2\n",
    "                                        f'sub-{subject}', f'ses-{session}', 'func', f'sub-{subject}_ses-{session}_task-magjudge_space-T1w_desc-stims{n_stim}_pe.nii.gz')\n",
    "data = pd.DataFrame(masker.fit_transform(data), index=paradigm.index)\n",
    "data = pd.DataFrame(data, index=paradigm.index)\n",
    "\n",
    "test_run=2\n",
    "test_data, test_paradigm = data.loc[test_run].copy(), paradigm.loc[test_run].copy()\n",
    "train_data, train_paradigm = data.drop(test_run, level='run').copy(), paradigm.drop(test_run, level='run').copy()\n"
   ]
  },
  {
   "cell_type": "code",
   "execution_count": null,
   "metadata": {},
   "outputs": [],
   "source": []
  }
 ],
 "metadata": {
  "kernelspec": {
   "display_name": "numrefields",
   "language": "python",
   "name": "python3"
  },
  "language_info": {
   "codemirror_mode": {
    "name": "ipython",
    "version": 3
   },
   "file_extension": ".py",
   "mimetype": "text/x-python",
   "name": "python",
   "nbconvert_exporter": "python",
   "pygments_lexer": "ipython3",
   "version": "3.10.5"
  }
 },
 "nbformat": 4,
 "nbformat_minor": 2
}
