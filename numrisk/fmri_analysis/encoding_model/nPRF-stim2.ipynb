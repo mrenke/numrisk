{
 "cells": [
  {
   "cell_type": "code",
   "execution_count": 6,
   "metadata": {},
   "outputs": [],
   "source": [
    "import os.path as op\n",
    "import os\n",
    "import numpy as np\n",
    "import pandas as pd\n",
    "\n",
    "import matplotlib.pyplot as plt\n",
    "import seaborn as sns\n",
    "\n",
    "bids_folder = '/Users/mrenke/data/ds-dnumrisk'\n",
    "subjects = [int(f[4:]) for f in os.listdir(bids_folder) if f[0:3] == 'sub' and len(f) == 6]\n",
    "# cannot convert x to tensor variable for env behav_fit --> use behav_fit2_clone/copy\n",
    "# ERROR (aesara.graph.rewriting.basic): Rewrite failure due to: constant_folding --> DONT use VScode\n"
   ]
  },
  {
   "cell_type": "code",
   "execution_count": 7,
   "metadata": {},
   "outputs": [
    {
     "name": "stdout",
     "output_type": "stream",
     "text": [
      "number of subjects found: 66\n"
     ]
    }
   ],
   "source": [
    "from numrisk.utils.data import get_data_magjduge\n",
    "\n",
    "behav = get_data_magjduge(bids_folder=bids_folder)\n",
    "behav['log(n2)'] = np.log(behav['n2'] )\n"
   ]
  },
  {
   "cell_type": "code",
   "execution_count": 8,
   "metadata": {},
   "outputs": [
    {
     "data": {
      "text/html": [
       "<div>\n",
       "<style scoped>\n",
       "    .dataframe tbody tr th:only-of-type {\n",
       "        vertical-align: middle;\n",
       "    }\n",
       "\n",
       "    .dataframe tbody tr th {\n",
       "        vertical-align: top;\n",
       "    }\n",
       "\n",
       "    .dataframe thead th {\n",
       "        text-align: right;\n",
       "    }\n",
       "</style>\n",
       "<table border=\"1\" class=\"dataframe\">\n",
       "  <thead>\n",
       "    <tr style=\"text-align: right;\">\n",
       "      <th></th>\n",
       "      <th></th>\n",
       "      <th>E</th>\n",
       "      <th>sd</th>\n",
       "    </tr>\n",
       "    <tr>\n",
       "      <th>subject</th>\n",
       "      <th>trial_nr</th>\n",
       "      <th></th>\n",
       "      <th></th>\n",
       "    </tr>\n",
       "  </thead>\n",
       "  <tbody>\n",
       "    <tr>\n",
       "      <th rowspan=\"5\" valign=\"top\">65</th>\n",
       "      <th>1</th>\n",
       "      <td>1.884477</td>\n",
       "      <td>0.245497</td>\n",
       "    </tr>\n",
       "    <tr>\n",
       "      <th>2</th>\n",
       "      <td>2.380044</td>\n",
       "      <td>0.263075</td>\n",
       "    </tr>\n",
       "    <tr>\n",
       "      <th>3</th>\n",
       "      <td>2.336774</td>\n",
       "      <td>0.209559</td>\n",
       "    </tr>\n",
       "    <tr>\n",
       "      <th>4</th>\n",
       "      <td>2.076608</td>\n",
       "      <td>0.137564</td>\n",
       "    </tr>\n",
       "    <tr>\n",
       "      <th>5</th>\n",
       "      <td>2.834682</td>\n",
       "      <td>0.255285</td>\n",
       "    </tr>\n",
       "  </tbody>\n",
       "</table>\n",
       "</div>"
      ],
      "text/plain": [
       "                         E        sd\n",
       "subject trial_nr                    \n",
       "65      1         1.884477  0.245497\n",
       "        2         2.380044  0.263075\n",
       "        3         2.336774  0.209559\n",
       "        4         2.076608  0.137564\n",
       "        5         2.834682  0.255285"
      ]
     },
     "execution_count": 8,
     "metadata": {},
     "output_type": "execute_result"
    }
   ],
   "source": [
    "pred_n2 = pd.read_csv(op.join(bids_folder, 'add_tables', 'decoded-stim2_E.csv'))\n",
    "pred_n2 = pred_n2.set_index(['subject','trial_nr'])[['E','sd']]\n",
    "pred_n2.head()"
   ]
  },
  {
   "cell_type": "code",
   "execution_count": 9,
   "metadata": {},
   "outputs": [
    {
     "data": {
      "text/html": [
       "<div>\n",
       "<style scoped>\n",
       "    .dataframe tbody tr th:only-of-type {\n",
       "        vertical-align: middle;\n",
       "    }\n",
       "\n",
       "    .dataframe tbody tr th {\n",
       "        vertical-align: top;\n",
       "    }\n",
       "\n",
       "    .dataframe thead th {\n",
       "        text-align: right;\n",
       "    }\n",
       "</style>\n",
       "<table border=\"1\" class=\"dataframe\">\n",
       "  <thead>\n",
       "    <tr style=\"text-align: right;\">\n",
       "      <th></th>\n",
       "      <th></th>\n",
       "      <th></th>\n",
       "      <th>E</th>\n",
       "      <th>sd</th>\n",
       "      <th>exp_E_n1</th>\n",
       "      <th>n2</th>\n",
       "      <th>log(n2)</th>\n",
       "      <th>n1</th>\n",
       "      <th>group</th>\n",
       "    </tr>\n",
       "    <tr>\n",
       "      <th>subject</th>\n",
       "      <th>trial_nr</th>\n",
       "      <th>run</th>\n",
       "      <th></th>\n",
       "      <th></th>\n",
       "      <th></th>\n",
       "      <th></th>\n",
       "      <th></th>\n",
       "      <th></th>\n",
       "      <th></th>\n",
       "    </tr>\n",
       "  </thead>\n",
       "  <tbody>\n",
       "    <tr>\n",
       "      <th rowspan=\"5\" valign=\"top\">65</th>\n",
       "      <th>1</th>\n",
       "      <th>1</th>\n",
       "      <td>1.884477</td>\n",
       "      <td>0.245497</td>\n",
       "      <td>6.582911</td>\n",
       "      <td>11.0</td>\n",
       "      <td>2.397895</td>\n",
       "      <td>7.0</td>\n",
       "      <td>0</td>\n",
       "    </tr>\n",
       "    <tr>\n",
       "      <th>2</th>\n",
       "      <th>1</th>\n",
       "      <td>2.380044</td>\n",
       "      <td>0.263075</td>\n",
       "      <td>10.805377</td>\n",
       "      <td>28.0</td>\n",
       "      <td>3.332205</td>\n",
       "      <td>20.0</td>\n",
       "      <td>0</td>\n",
       "    </tr>\n",
       "    <tr>\n",
       "      <th>3</th>\n",
       "      <th>1</th>\n",
       "      <td>2.336774</td>\n",
       "      <td>0.209559</td>\n",
       "      <td>10.347798</td>\n",
       "      <td>3.0</td>\n",
       "      <td>1.098612</td>\n",
       "      <td>5.0</td>\n",
       "      <td>0</td>\n",
       "    </tr>\n",
       "    <tr>\n",
       "      <th>4</th>\n",
       "      <th>1</th>\n",
       "      <td>2.076608</td>\n",
       "      <td>0.137564</td>\n",
       "      <td>7.977361</td>\n",
       "      <td>33.0</td>\n",
       "      <td>3.496508</td>\n",
       "      <td>20.0</td>\n",
       "      <td>0</td>\n",
       "    </tr>\n",
       "    <tr>\n",
       "      <th>5</th>\n",
       "      <th>1</th>\n",
       "      <td>2.834682</td>\n",
       "      <td>0.255285</td>\n",
       "      <td>17.024983</td>\n",
       "      <td>7.0</td>\n",
       "      <td>1.945910</td>\n",
       "      <td>7.0</td>\n",
       "      <td>0</td>\n",
       "    </tr>\n",
       "  </tbody>\n",
       "</table>\n",
       "</div>"
      ],
      "text/plain": [
       "                             E        sd   exp_E_n1    n2   log(n2)    n1  \\\n",
       "subject trial_nr run                                                        \n",
       "65      1        1    1.884477  0.245497   6.582911  11.0  2.397895   7.0   \n",
       "        2        1    2.380044  0.263075  10.805377  28.0  3.332205  20.0   \n",
       "        3        1    2.336774  0.209559  10.347798   3.0  1.098612   5.0   \n",
       "        4        1    2.076608  0.137564   7.977361  33.0  3.496508  20.0   \n",
       "        5        1    2.834682  0.255285  17.024983   7.0  1.945910   7.0   \n",
       "\n",
       "                      group  \n",
       "subject trial_nr run         \n",
       "65      1        1        0  \n",
       "        2        1        0  \n",
       "        3        1        0  \n",
       "        4        1        0  \n",
       "        5        1        0  "
      ]
     },
     "execution_count": 9,
     "metadata": {},
     "output_type": "execute_result"
    }
   ],
   "source": [
    "pred_n2['exp_E_n1'] = np.exp(pred_n2['E'])\n",
    "df = pred_n2.join(behav[['n2','log(n2)','n1','group']])\n",
    "df.head()\n"
   ]
  },
  {
   "cell_type": "code",
   "execution_count": null,
   "metadata": {},
   "outputs": [],
   "source": [
    "import pingouin as pg\n",
    "\n",
    "n_stim =2\n",
    "r = df.groupby(['subject', 'group']).apply(lambda d: pg.corr(d['E'], d[f'log(n{n_stim})']))\n"
   ]
  },
  {
   "cell_type": "code",
   "execution_count": null,
   "metadata": {},
   "outputs": [],
   "source": [
    "subject = 2"
   ]
  },
  {
   "cell_type": "code",
   "execution_count": null,
   "metadata": {},
   "outputs": [],
   "source": [
    "import bambi\n",
    "import arviz as az\n",
    "\n",
    "fomula = 'n2 ~ exp_E_n1 + n1'\n",
    "\n",
    "data = df.xs(subject,level='subject')\n",
    "model = bambi.Model(fomula, data.reset_index())\n",
    "res = model.fit()\n",
    "\n",
    "az.summary(res)"
   ]
  },
  {
   "cell_type": "code",
   "execution_count": 15,
   "metadata": {},
   "outputs": [
    {
     "data": {
      "text/plain": [
       "['Intercept_mu',\n",
       " 'exp_E_n1_mu',\n",
       " 'n1_mu',\n",
       " 'n2_sigma_mu',\n",
       " 'Intercept_sd',\n",
       " 'exp_E_n1_sd',\n",
       " 'n1_sd',\n",
       " 'n2_sigma_sd']"
      ]
     },
     "execution_count": 15,
     "metadata": {},
     "output_type": "execute_result"
    }
   ],
   "source": [
    "vars_raw = ['Intercept','exp_E_n1','n1','n2_sigma']\n",
    "\n",
    "vars_mu = [(var + '_mu') for var in vars_raw]\n",
    "vars_sd = [(var + '_sd') for var in vars_raw]\n",
    "vars = vars_mu + vars_sd\n",
    "vars"
   ]
  },
  {
   "cell_type": "code",
   "execution_count": null,
   "metadata": {},
   "outputs": [],
   "source": [
    "\n",
    "res_regres = pd.DataFrame(columns=vars)\n",
    "\n",
    "for sub in subList:\n",
    "    subject = int(sub)\n",
    "    data = df.xs(subject,level='subject')\n",
    "    model = bambi.Model(fomula, data.reset_index())\n",
    "    res = model.fit()\n",
    "\n",
    "    tmp.\n",
    "    for var in vars_raw:\n",
    "        tmp = res.posterior[var].mean()\n"
   ]
  },
  {
   "cell_type": "code",
   "execution_count": null,
   "metadata": {},
   "outputs": [],
   "source": [
    "\n",
    "az.summary(res)"
   ]
  }
 ],
 "metadata": {
  "kernelspec": {
   "display_name": "behav_fit2_clone",
   "language": "python",
   "name": "python3"
  },
  "language_info": {
   "codemirror_mode": {
    "name": "ipython",
    "version": 3
   },
   "file_extension": ".py",
   "mimetype": "text/x-python",
   "name": "python",
   "nbconvert_exporter": "python",
   "pygments_lexer": "ipython3",
   "version": "undefined.undefined.undefined"
  }
 },
 "nbformat": 4,
 "nbformat_minor": 2
}
