{
 "cells": [
  {
   "cell_type": "code",
   "execution_count": 1,
   "metadata": {},
   "outputs": [
    {
     "name": "stdout",
     "output_type": "stream",
     "text": [
      "240613-11:09:33,730 nipype.utils WARNING:\n",
      "\t A newer version (1.8.4) of nipy/nipype is available. You are using 1.8.3\n"
     ]
    }
   ],
   "source": [
    "import argparse\n",
    "from nilearn.connectome import ConnectivityMeasure\n",
    "from brainspace.gradient import GradientMaps\n",
    "from brainspace.utils.parcellation import map_to_labels\n",
    "import numpy as np\n",
    "import nibabel as nib\n",
    "from nilearn import datasets\n",
    "import os.path as op\n",
    "import os\n",
    "from nilearn import signal\n",
    "import pandas as pd\n",
    "from scipy.sparse.csgraph import connected_components\n",
    "from utils import get_basic_mask, cleanTS #saveGradToNPFile, npFileTofs5Gii,fsav5Tofsnative\n"
   ]
  },
  {
   "cell_type": "code",
   "execution_count": 8,
   "metadata": {},
   "outputs": [],
   "source": [
    "bids_folder='/Volumes/mrenkeED/data/ds-dnumrisk'\n",
    "sub='01'\n",
    "remove_task_effects=True\n",
    "ses=1\n",
    "\n",
    "\n",
    "fmriprep_confounds_include = ['global_signal', 'dvars', 'framewise_displacement', 'trans_x',\n",
    "                                'trans_y', 'trans_z', 'rot_x', 'rot_y', 'rot_z',\n",
    "                                'a_comp_cor_00', 'a_comp_cor_01', 'a_comp_cor_02', 'a_comp_cor_03', 'cosine00', 'cosine01', 'cosine02'\n",
    "                                ]\n",
    "\n"
   ]
  },
  {
   "cell_type": "code",
   "execution_count": 9,
   "metadata": {},
   "outputs": [],
   "source": [
    "space = 'fsaverage5'\n",
    "task = 'magjudge'\n",
    "ru=1\n",
    "\n",
    "timeseries = [None] * 2\n",
    "for i, hemi in enumerate(['L', 'R']):\n",
    "    filename = op.join(bids_folder,'derivatives', 'fmriprep', f'sub-{sub}', f'ses-{ses}', 'func', \n",
    "    f'sub-{sub}_ses-{ses}_task-{task}_run-{run}_space-{space}_hemi-{hemi}_bold.func.gii')        \n",
    "    timeseries[i] = nib.load(filename).agg_data()\n",
    "timeseries = np.vstack(timeseries) # (20484, 135)\n",
    "\n",
    "fmriprep_confounds_file = op.join(bids_folder,'derivatives', 'fmriprep', f'sub-{sub}', f'ses-{ses}', 'func', f'sub-{sub}_ses-{ses}_task-{task}_run-{run}_desc-confounds_timeseries.tsv')\n",
    "fmriprep_confounds = pd.read_table(fmriprep_confounds_file)[fmriprep_confounds_include] \n",
    "fmriprep_confounds= fmriprep_confounds.fillna(method='bfill')"
   ]
  },
  {
   "cell_type": "code",
   "execution_count": 10,
   "metadata": {},
   "outputs": [
    {
     "name": "stderr",
     "output_type": "stream",
     "text": [
      "/Users/mrenke/git/numrisk/numrisk/fmri_analysis/gradients/utils.py:54: SettingWithCopyWarning: \n",
      "A value is trying to be set on a copy of a slice from a DataFrame.\n",
      "Try using .loc[row_indexer,col_indexer] = value instead\n",
      "\n",
      "See the caveats in the documentation: https://pandas.pydata.org/pandas-docs/stable/user_guide/indexing.html#returning-a-view-versus-a-copy\n",
      "  onsets['onset'] = ((onsets['onset']+tr/2.) // 2.3) * 2.3\n",
      "/Users/mrenke/git/numrisk/numrisk/fmri_analysis/gradients/utils.py:54: SettingWithCopyWarning: \n",
      "A value is trying to be set on a copy of a slice from a DataFrame.\n",
      "Try using .loc[row_indexer,col_indexer] = value instead\n",
      "\n",
      "See the caveats in the documentation: https://pandas.pydata.org/pandas-docs/stable/user_guide/indexing.html#returning-a-view-versus-a-copy\n",
      "  onsets['onset'] = ((onsets['onset']+tr/2.) // 2.3) * 2.3\n"
     ]
    },
    {
     "name": "stdout",
     "output_type": "stream",
     "text": [
      "A 'modulation' column was found in the given events data and is used.\n",
      "Design matrix created to remove task effects. shape:\n",
      "(188, 12)\n",
      "A 'modulation' column was found in the given events data and is used.\n",
      "Design matrix created to remove task effects. shape:\n",
      "(188, 12)\n",
      "A 'modulation' column was found in the given events data and is used.\n",
      "Design matrix created to remove task effects. shape:\n",
      "(188, 12)\n",
      "A 'modulation' column was found in the given events data and is used.\n"
     ]
    },
    {
     "name": "stderr",
     "output_type": "stream",
     "text": [
      "/Users/mrenke/git/numrisk/numrisk/fmri_analysis/gradients/utils.py:54: SettingWithCopyWarning: \n",
      "A value is trying to be set on a copy of a slice from a DataFrame.\n",
      "Try using .loc[row_indexer,col_indexer] = value instead\n",
      "\n",
      "See the caveats in the documentation: https://pandas.pydata.org/pandas-docs/stable/user_guide/indexing.html#returning-a-view-versus-a-copy\n",
      "  onsets['onset'] = ((onsets['onset']+tr/2.) // 2.3) * 2.3\n",
      "/Users/mrenke/git/numrisk/numrisk/fmri_analysis/gradients/utils.py:54: SettingWithCopyWarning: \n",
      "A value is trying to be set on a copy of a slice from a DataFrame.\n",
      "Try using .loc[row_indexer,col_indexer] = value instead\n",
      "\n",
      "See the caveats in the documentation: https://pandas.pydata.org/pandas-docs/stable/user_guide/indexing.html#returning-a-view-versus-a-copy\n",
      "  onsets['onset'] = ((onsets['onset']+tr/2.) // 2.3) * 2.3\n"
     ]
    },
    {
     "name": "stdout",
     "output_type": "stream",
     "text": [
      "Design matrix created to remove task effects. shape:\n",
      "(188, 12)\n",
      "A 'modulation' column was found in the given events data and is used.\n",
      "Design matrix created to remove task effects. shape:\n",
      "(188, 12)\n",
      "A 'modulation' column was found in the given events data and is used.\n"
     ]
    },
    {
     "name": "stderr",
     "output_type": "stream",
     "text": [
      "/Users/mrenke/git/numrisk/numrisk/fmri_analysis/gradients/utils.py:54: SettingWithCopyWarning: \n",
      "A value is trying to be set on a copy of a slice from a DataFrame.\n",
      "Try using .loc[row_indexer,col_indexer] = value instead\n",
      "\n",
      "See the caveats in the documentation: https://pandas.pydata.org/pandas-docs/stable/user_guide/indexing.html#returning-a-view-versus-a-copy\n",
      "  onsets['onset'] = ((onsets['onset']+tr/2.) // 2.3) * 2.3\n",
      "/Users/mrenke/git/numrisk/numrisk/fmri_analysis/gradients/utils.py:54: SettingWithCopyWarning: \n",
      "A value is trying to be set on a copy of a slice from a DataFrame.\n",
      "Try using .loc[row_indexer,col_indexer] = value instead\n",
      "\n",
      "See the caveats in the documentation: https://pandas.pydata.org/pandas-docs/stable/user_guide/indexing.html#returning-a-view-versus-a-copy\n",
      "  onsets['onset'] = ((onsets['onset']+tr/2.) // 2.3) * 2.3\n"
     ]
    },
    {
     "name": "stdout",
     "output_type": "stream",
     "text": [
      "Design matrix created to remove task effects. shape:\n",
      "(188, 12)\n"
     ]
    }
   ],
   "source": [
    "from utils import get_events_confounds\n",
    "\n",
    "for run in range(1,7):\n",
    "    dm = get_events_confounds(sub, ses,run,bids_folder)\n",
    "    #regressors_to_remove = pd.concat([dm.reset_index(drop=True), fmriprep_confounds], axis=1)"
   ]
  },
  {
   "cell_type": "code",
   "execution_count": 12,
   "metadata": {},
   "outputs": [],
   "source": [
    "run=4\n",
    "tr = 2.3 # repetition Time\n",
    "n = 188 # number of slices # adjust this important!!\n",
    "\n",
    "df_events = pd.read_csv(op.join(bids_folder, f'sub-{sub}', f'ses-{ses}', 'func', f'sub-{sub}_ses-{ses}_task-{task}_run-{run}_events.tsv'.format(sub=sub, ses=ses)), sep='\\t') # before run was ot interated over (run-1)\n",
    "\n",
    "stimulus1 = df_events.loc[df_events['trial_type'] == 'stimulus 1', ['onset', 'trial_nr', 'trial_type', 'n1']]\n",
    "stimulus1['duration'] = 0.6 + 0.8\n",
    "stimulus1['onset'] = stimulus1['onset'] - 0.8 # cause we want to take the onset of the piechart \n",
    "stimulus1['stim_order'] = int(1)\n",
    "stimulus1_int = stimulus1.copy()\n",
    "stimulus1_int['trial_type'] = 'stimulus1_int'\n",
    "stimulus1_int['modulation'] = 1\n",
    "stimulus1_mod= stimulus1.copy()\n",
    "stimulus1_mod['trial_type'] = 'stimulus1_mod'\n",
    "stimulus1_mod['modulation'] = stimulus1['n1']\n",
    "\n",
    "#choices = df_events.xs('choice', 0, 'trial_type', drop_level=False).reset_index('trial_type')[['onset', 'trial_nr', 'trial_type', 'n2']]\n",
    "choices = df_events.loc[df_events['trial_type'] == 'choice']\n",
    "\n",
    "#stimulus2 = df_events.xs('stimulus 2', 0, 'trial_type', drop_level=False).reset_index('trial_type')[['onset', 'trial_nr', 'trial_type', 'n2']]\n",
    "stimulus2 = df_events.loc[df_events['trial_type'] == 'stimulus 2', ['onset', 'trial_nr', 'trial_type', 'n2']]\n",
    "stimulus2 = stimulus2.set_index('trial_nr')\n",
    "stimulus2['duration'] = choices.set_index('trial_nr')['onset']- stimulus2['onset'] + 0.6 # 0.6 + 0.6 ## looked at the data, is is different for stim 1 and 2... ?!!\n",
    "stimulus2['onset'] = stimulus2['onset'] - 0.6\n",
    "stimulus2['stim_order'] = int(2)\n",
    "stimulus2_int = stimulus2.copy()\n",
    "stimulus2_int['trial_type'] = 'stimulus2_int'\n",
    "stimulus2_int['modulation'] = 1\n",
    "stimulus2_mod= stimulus2.copy()\n",
    "stimulus2_mod['trial_type'] = 'stimulus2_mod'\n",
    "stimulus2_mod['modulation'] = stimulus2['n2']"
   ]
  },
  {
   "cell_type": "code",
   "execution_count": 18,
   "metadata": {},
   "outputs": [
    {
     "data": {
      "text/plain": [
       "(30, 7)"
      ]
     },
     "execution_count": 18,
     "metadata": {},
     "output_type": "execute_result"
    }
   ],
   "source": [
    "np.shape(stimulus1_int)"
   ]
  },
  {
   "cell_type": "code",
   "execution_count": 20,
   "metadata": {},
   "outputs": [],
   "source": [
    "stimulus2_int.reset_index(inplace=True)\n",
    "stimulus2_mod.reset_index(inplace=True)"
   ]
  },
  {
   "cell_type": "code",
   "execution_count": 22,
   "metadata": {},
   "outputs": [
    {
     "data": {
      "text/html": [
       "<div>\n",
       "<style scoped>\n",
       "    .dataframe tbody tr th:only-of-type {\n",
       "        vertical-align: middle;\n",
       "    }\n",
       "\n",
       "    .dataframe tbody tr th {\n",
       "        vertical-align: top;\n",
       "    }\n",
       "\n",
       "    .dataframe thead th {\n",
       "        text-align: right;\n",
       "    }\n",
       "</style>\n",
       "<table border=\"1\" class=\"dataframe\">\n",
       "  <thead>\n",
       "    <tr style=\"text-align: right;\">\n",
       "      <th></th>\n",
       "      <th></th>\n",
       "      <th></th>\n",
       "      <th>onset</th>\n",
       "      <th>trial_type</th>\n",
       "      <th>n1</th>\n",
       "      <th>duration</th>\n",
       "      <th>modulation</th>\n",
       "      <th>n2</th>\n",
       "    </tr>\n",
       "    <tr>\n",
       "      <th></th>\n",
       "      <th>trial_nr</th>\n",
       "      <th>stim_order</th>\n",
       "      <th></th>\n",
       "      <th></th>\n",
       "      <th></th>\n",
       "      <th></th>\n",
       "      <th></th>\n",
       "      <th></th>\n",
       "    </tr>\n",
       "  </thead>\n",
       "  <tbody>\n",
       "    <tr>\n",
       "      <th rowspan=\"4\" valign=\"top\">0</th>\n",
       "      <th rowspan=\"4\" valign=\"top\">91</th>\n",
       "      <th>1</th>\n",
       "      <td>14.031805</td>\n",
       "      <td>stimulus1_int</td>\n",
       "      <td>14.0</td>\n",
       "      <td>1.400000</td>\n",
       "      <td>1.0</td>\n",
       "      <td>NaN</td>\n",
       "    </tr>\n",
       "    <tr>\n",
       "      <th>1</th>\n",
       "      <td>14.031805</td>\n",
       "      <td>stimulus1_mod</td>\n",
       "      <td>14.0</td>\n",
       "      <td>1.400000</td>\n",
       "      <td>14.0</td>\n",
       "      <td>NaN</td>\n",
       "    </tr>\n",
       "    <tr>\n",
       "      <th>2</th>\n",
       "      <td>20.821294</td>\n",
       "      <td>stimulus2_int</td>\n",
       "      <td>NaN</td>\n",
       "      <td>1.855832</td>\n",
       "      <td>1.0</td>\n",
       "      <td>4.0</td>\n",
       "    </tr>\n",
       "    <tr>\n",
       "      <th>2</th>\n",
       "      <td>20.821294</td>\n",
       "      <td>stimulus2_mod</td>\n",
       "      <td>NaN</td>\n",
       "      <td>1.855832</td>\n",
       "      <td>4.0</td>\n",
       "      <td>4.0</td>\n",
       "    </tr>\n",
       "    <tr>\n",
       "      <th>1</th>\n",
       "      <th>92</th>\n",
       "      <th>2</th>\n",
       "      <td>34.517140</td>\n",
       "      <td>stimulus2_int</td>\n",
       "      <td>NaN</td>\n",
       "      <td>1.522109</td>\n",
       "      <td>1.0</td>\n",
       "      <td>19.0</td>\n",
       "    </tr>\n",
       "    <tr>\n",
       "      <th>...</th>\n",
       "      <th>...</th>\n",
       "      <th>...</th>\n",
       "      <td>...</td>\n",
       "      <td>...</td>\n",
       "      <td>...</td>\n",
       "      <td>...</td>\n",
       "      <td>...</td>\n",
       "      <td>...</td>\n",
       "    </tr>\n",
       "    <tr>\n",
       "      <th>81</th>\n",
       "      <th>118</th>\n",
       "      <th>1</th>\n",
       "      <td>376.917562</td>\n",
       "      <td>stimulus1_mod</td>\n",
       "      <td>10.0</td>\n",
       "      <td>1.400000</td>\n",
       "      <td>10.0</td>\n",
       "      <td>NaN</td>\n",
       "    </tr>\n",
       "    <tr>\n",
       "      <th rowspan=\"2\" valign=\"top\">84</th>\n",
       "      <th rowspan=\"2\" valign=\"top\">119</th>\n",
       "      <th>1</th>\n",
       "      <td>392.632114</td>\n",
       "      <td>stimulus1_int</td>\n",
       "      <td>10.0</td>\n",
       "      <td>1.400000</td>\n",
       "      <td>1.0</td>\n",
       "      <td>NaN</td>\n",
       "    </tr>\n",
       "    <tr>\n",
       "      <th>1</th>\n",
       "      <td>392.632114</td>\n",
       "      <td>stimulus1_mod</td>\n",
       "      <td>10.0</td>\n",
       "      <td>1.400000</td>\n",
       "      <td>10.0</td>\n",
       "      <td>NaN</td>\n",
       "    </tr>\n",
       "    <tr>\n",
       "      <th rowspan=\"2\" valign=\"top\">87</th>\n",
       "      <th rowspan=\"2\" valign=\"top\">120</th>\n",
       "      <th>1</th>\n",
       "      <td>404.826760</td>\n",
       "      <td>stimulus1_int</td>\n",
       "      <td>10.0</td>\n",
       "      <td>1.400000</td>\n",
       "      <td>1.0</td>\n",
       "      <td>NaN</td>\n",
       "    </tr>\n",
       "    <tr>\n",
       "      <th>1</th>\n",
       "      <td>404.826760</td>\n",
       "      <td>stimulus1_mod</td>\n",
       "      <td>10.0</td>\n",
       "      <td>1.400000</td>\n",
       "      <td>10.0</td>\n",
       "      <td>NaN</td>\n",
       "    </tr>\n",
       "  </tbody>\n",
       "</table>\n",
       "<p>120 rows × 6 columns</p>\n",
       "</div>"
      ],
      "text/plain": [
       "                             onset     trial_type    n1  duration  modulation  \\\n",
       "   trial_nr stim_order                                                          \n",
       "0  91       1            14.031805  stimulus1_int  14.0  1.400000         1.0   \n",
       "            1            14.031805  stimulus1_mod  14.0  1.400000        14.0   \n",
       "            2            20.821294  stimulus2_int   NaN  1.855832         1.0   \n",
       "            2            20.821294  stimulus2_mod   NaN  1.855832         4.0   \n",
       "1  92       2            34.517140  stimulus2_int   NaN  1.522109         1.0   \n",
       "...                            ...            ...   ...       ...         ...   \n",
       "81 118      1           376.917562  stimulus1_mod  10.0  1.400000        10.0   \n",
       "84 119      1           392.632114  stimulus1_int  10.0  1.400000         1.0   \n",
       "            1           392.632114  stimulus1_mod  10.0  1.400000        10.0   \n",
       "87 120      1           404.826760  stimulus1_int  10.0  1.400000         1.0   \n",
       "            1           404.826760  stimulus1_mod  10.0  1.400000        10.0   \n",
       "\n",
       "                          n2  \n",
       "   trial_nr stim_order        \n",
       "0  91       1            NaN  \n",
       "            1            NaN  \n",
       "            2            4.0  \n",
       "            2            4.0  \n",
       "1  92       2           19.0  \n",
       "...                      ...  \n",
       "81 118      1            NaN  \n",
       "84 119      1            NaN  \n",
       "            1            NaN  \n",
       "87 120      1            NaN  \n",
       "            1            NaN  \n",
       "\n",
       "[120 rows x 6 columns]"
      ]
     },
     "execution_count": 22,
     "metadata": {},
     "output_type": "execute_result"
    }
   ],
   "source": [
    "events = pd.concat((stimulus1_int,stimulus1_mod, stimulus2_int, stimulus2_mod)).set_index(['trial_nr','stim_order'],append=True).sort_index()\n",
    "\n",
    "events"
   ]
  },
  {
   "cell_type": "code",
   "execution_count": null,
   "metadata": {},
   "outputs": [],
   "source": [
    "clean_ts = cleanTS(sub, ses,remove_task_effects, bids_folder=bids_folder) # checks if fsav5-file exists, if not, creates it\n"
   ]
  },
  {
   "cell_type": "code",
   "execution_count": null,
   "metadata": {},
   "outputs": [],
   "source": []
  }
 ],
 "metadata": {
  "kernelspec": {
   "display_name": "numrefields",
   "language": "python",
   "name": "python3"
  },
  "language_info": {
   "codemirror_mode": {
    "name": "ipython",
    "version": 3
   },
   "file_extension": ".py",
   "mimetype": "text/x-python",
   "name": "python",
   "nbconvert_exporter": "python",
   "pygments_lexer": "ipython3",
   "version": "3.1.undefined"
  }
 },
 "nbformat": 4,
 "nbformat_minor": 2
}
