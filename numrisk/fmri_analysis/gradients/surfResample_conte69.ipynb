{
 "cells": [
  {
   "cell_type": "markdown",
   "metadata": {},
   "source": [
    "# Transform data to symetric space: fs_LR (/conte69, den:32k) for Asymmetric GMs analysis\n",
    "that is also the \"standard space\" from HCP, which provides commands to handle it\n",
    "(I did not find a 'freesurfer_directory' that would enable mri_surf2surf as before...)\n",
    "\n",
    "* use workbench commands (download folder and make executable by adding path (....linux_64) to `~/.zshrc`)\n",
    "`https://www.humanconnectome.org/software/get-connectome-workbench` : \n",
    "wb_command -metric-resample\n",
    "wb_command -surface-resample\n",
    "wb_command -label-resample\n",
    "* wb_view in terminal should work `ssh -X sciencecloud` (Enable X11 Forwarding Over SSH)\n",
    "\n",
    "## B. FreeSurfer native individual data to fs_LR\n",
    "https://neurostars.org/t/getting-fmriprep-outputs-into-fslr32k-space-viewing-issue/27052    --> nice code with variables!!\n",
    "\n",
    "`https://wiki.humanconnectome.org/docs/assets/Resampling-FreeSurfer-HCP_5_8.pdf`\n",
    "\n",
    "SUBJECTS_DIR=\"/mnt_03/ds-dnumrisk/derivatives/freesurfer/sub-01/surf\"\n",
    "FUNC_DIR=\"/mnt_03/ds-dnumrisk/derivatives/fmriprep/sub-01/ses-1/func\"\n",
    "\n",
    "### using the `conte69_32k_lh_sphere.gii` as provided in BrainSpace toolbox\n",
    "1) for lh/rh\n",
    "wb_shortcuts -freesurfer-resample-prep $SUBJECTS_DIR/lh.white $SUBJECTS_DIR/lh.pial $SUBJECTS_DIR/lh.sphere.reg /home/ubuntu/git/BrainSpace/brainspace/datasets/surfaces/conte69_32k_lh_sphere.gii $SUBJECTS_DIR/lh.midthickness.surf.gii $SUBJECTS_DIR/sub-01.lh.midthickness.32k_fs_LR.surf.gii $SUBJECTS_DIR/lh.sphere.reg.surf.gii\n",
    "\n",
    "2) To map “metric” (scalar) data, run \"wb_command -metric-resample”: for lh/rh & all runs!\n",
    "wb_command -metric-resample $FUNC_DIR/sub-01_ses-1_task-magjudge_run-1_space-fsnative_hemi-L_bold.func.gii $SUBJECTS_DIR/lh.sphere.reg.surf.gii /home/ubuntu/git/BrainSpace/brainspace/datasets/surfaces/conte69_32k_lh_sphere.gii ADAP_BARY_AREA $FUNC_DIR/sub-01_ses-1_task-magjudge_run-1_space-32k-fsLR_hemi-L_bold.func.gii -area-surfs $SUBJECTS_DIR/lh.midthickness.surf.gii $SUBJECTS_DIR/sub-01.lh.midthickness.32k_fs_LR.surf.gii\n",
    "\n",
    "\n",
    "### not sure if I have to do it with a `fs_LR-deformed_to-fsaverage.R.sphere.32k_fs_LR.surf.gii` file (e.g. HCPpipelines/global/templates/standard_mesh_atlases/resample_fsaverage/) as said in the instruction\n",
    "--> try this now with mod.\n",
    "$NEWSPHERE_L=\"/home/ubuntu/git/HCPpipelines/global/templates/standard_mesh_atlases/resample_fsaverage/fs_LR-deformed_to-fsaverage.R.sphere.32k_fs_LR.surf.gii\"\n",
    "\n",
    "1) wb_shortcuts -freesurfer-resample-prep $SUBJECTS_DIR/lh.white $SUBJECTS_DIR/lh.pial $SUBJECTS_DIR/lh.sphere.reg $NEWSPHERE_L $SUBJECTS_DIR/lh.midthickness_n.surf.gii $SUBJECTS_DIR/sub-01.lh.midthickness.32k_fs_LR_n.surf.gii $SUBJECTS_DIR/lh.sphere_n.reg.surf.gii \n",
    "\n",
    "2) wb_command -metric-resample $FUNC_DIR/sub-01_ses-1_task-magjudge_run-1_space-fsnative_hemi-L_bold.func.gii $SUBJECTS_DIR/lh.sphere_n.reg.surf.gii $NEWSPHERE_L ADAP_BARY_AREA $FUNC_DIR/sub-01_ses-1_task-magjudge_run-1_space-32k-fsLR_n_hemi-L_bold.func.gii -area-surfs $SUBJECTS_DIR/lh.midthickness_n.surf.gii $SUBJECTS_DIR/sub-01.lh.midthickness.32k_fs_LR_n.surf.gii\n"
   ]
  },
  {
   "cell_type": "code",
   "execution_count": 1,
   "metadata": {},
   "outputs": [],
   "source": [
    "import nibabel as nib\n",
    "import numpy as np\n",
    "import os.path as op\n",
    "\n",
    "bids_folder = '/mnt_03/ds-dnumrisk'"
   ]
  },
  {
   "cell_type": "code",
   "execution_count": 2,
   "metadata": {},
   "outputs": [
    {
     "name": "stderr",
     "output_type": "stream",
     "text": [
      "<>:17: SyntaxWarning: \"is not\" with a literal. Did you mean \"!=\"?\n",
      "<>:18: SyntaxWarning: \"is not\" with a literal. Did you mean \"!=\"?\n",
      "<>:17: SyntaxWarning: \"is not\" with a literal. Did you mean \"!=\"?\n",
      "<>:18: SyntaxWarning: \"is not\" with a literal. Did you mean \"!=\"?\n",
      "/tmp/ipykernel_1974556/2675170076.py:17: SyntaxWarning: \"is not\" with a literal. Did you mean \"!=\"?\n",
      "  sxfm.inputs.source_subject = source_space if source_space is not 'fsnative' else f'sub-{sub:02d}'\n",
      "/tmp/ipykernel_1974556/2675170076.py:18: SyntaxWarning: \"is not\" with a literal. Did you mean \"!=\"?\n",
      "  sxfm.inputs.target_subject = target_space if target_space is not 'fsnative' else f'sub-{sub:02d}'\n"
     ]
    }
   ],
   "source": [
    "from nipype.interfaces.freesurfer import SurfaceTransform\n",
    "\n",
    "def surfTosurf(sub,source_space, target_space,     # requires both space directories in bids_folder/derivatives/freesurfer !\n",
    "                ses = 1, bids_folder='/Volumes/mrenkeED/data/ds-dnumrisk',task = 'magjudge'):\n",
    "    runs = range(1,7)\n",
    "    for run in runs:\n",
    "        for hemi in ['L', 'R']:\n",
    "            sxfm = SurfaceTransform(subjects_dir=op.join(bids_folder,'derivatives','freesurfer'))\n",
    "            in_file = f'sub-{sub}_ses-{ses}_task-{task}_run-{run}_space-{source_space}_hemi-{hemi}_bold.func.gii'\n",
    "            in_file_path = op.join(bids_folder, 'derivatives', 'fmriprep', f'sub-{sub}',f'ses-{ses}','func',in_file)\n",
    "            out_file = f'sub-{sub}_ses-{ses}_task-{task}_run-{run}_space-{target_space}_hemi-{hemi}_bold.func.gii'\n",
    "            out_file_path = op.join(bids_folder, 'derivatives', 'fmriprep', f'sub-{sub}',f'ses-{ses}','func',out_file)\n",
    "\n",
    "            sxfm.inputs.source_file = in_file_path\n",
    "            sxfm.inputs.out_file = out_file_path\n",
    "\n",
    "            sxfm.inputs.source_subject = source_space if source_space != 'fsnative' else f'sub-{sub:02d}'\n",
    "            sxfm.inputs.target_subject = target_space if target_space != 'fsnative' else f'sub-{sub:02d}'\n",
    "\n",
    "            if hemi == 'L':\n",
    "                sxfm.inputs.hemi = 'lh'\n",
    "            elif hemi == 'R':\n",
    "                sxfm.inputs.hemi = 'rh'\n",
    "\n",
    "            r = sxfm.run()"
   ]
  },
  {
   "cell_type": "code",
   "execution_count": 35,
   "metadata": {},
   "outputs": [
    {
     "data": {
      "text/plain": [
       "(188, 32492)"
      ]
     },
     "execution_count": 35,
     "metadata": {},
     "output_type": "execute_result"
    }
   ],
   "source": [
    "# lets look if the outputfile makes sense!\n",
    "\n",
    "fn = '/mnt_03/ds-dnumrisk/derivatives/fmriprep/sub-01/ses-1/func/sub-01_ses-1_task-magjudge_run-1_space-32k-fsLR_hemi-L_bold.func.gii'\n",
    "ts = nib.load(fn).agg_data()\n",
    "\n",
    "fn = '/mnt_03/ds-dnumrisk/derivatives/fmriprep/sub-01/ses-1/func/sub-01_ses-1_task-magjudge_run-1_space-32k-fsLR_n_hemi-L_bold.func.gii'# new version\n",
    "ts_n = nib.load(fn).agg_data()\n",
    "np.shape(ts)"
   ]
  },
  {
   "cell_type": "code",
   "execution_count": 43,
   "metadata": {},
   "outputs": [],
   "source": [
    "import seaborn as sns\n",
    "import matplotlib.pyplot as plt"
   ]
  },
  {
   "cell_type": "code",
   "execution_count": 40,
   "metadata": {},
   "outputs": [
    {
     "data": {
      "text/plain": [
       "array([886.0103 , 933.3819 , 809.0623 , 831.1013 , 829.4776 , 841.33777,\n",
       "       829.38654, 995.488  ,   0.     , 857.57495], dtype=float32)"
      ]
     },
     "execution_count": 40,
     "metadata": {},
     "output_type": "execute_result"
    }
   ],
   "source": [
    "ts[0][:10]"
   ]
  },
  {
   "cell_type": "code",
   "execution_count": 41,
   "metadata": {},
   "outputs": [
    {
     "data": {
      "text/plain": [
       "array([783.5587 , 949.4587 , 875.8408 , 953.4522 , 896.078  , 854.34015,\n",
       "       808.7464 , 739.654  , 919.5382 , 754.0082 ], dtype=float32)"
      ]
     },
     "execution_count": 41,
     "metadata": {},
     "output_type": "execute_result"
    }
   ],
   "source": [
    "ts_n[0][:10]"
   ]
  },
  {
   "cell_type": "code",
   "execution_count": 52,
   "metadata": {},
   "outputs": [
    {
     "data": {
      "text/plain": [
       "(-49.77439880371094, 1045.2623748779297)"
      ]
     },
     "execution_count": 52,
     "metadata": {},
     "output_type": "execute_result"
    },
    {
     "data": {
      "image/png": "[encoded data removed]",
      "text/plain": [
       "<Figure size 640x480 with 1 Axes>"
      ]
     },
     "metadata": {},
     "output_type": "display_data"
    }
   ],
   "source": [
    "plt.plot(range(10),ts[0][:10],c='blue')\n",
    "plt.plot(range(10),ts_n[0][:10],c='red')\n",
    "plt.ylim()"
   ]
  },
  {
   "cell_type": "code",
   "execution_count": 32,
   "metadata": {},
   "outputs": [
    {
     "data": {
      "text/plain": [
       "(64984, 188)"
      ]
     },
     "execution_count": 32,
     "metadata": {},
     "output_type": "execute_result"
    }
   ],
   "source": [
    "sub = '01'\n",
    "ses=1\n",
    "space='32k-fsLR'# 'fsnative'#'\n",
    "task='magjudge'\n",
    "run = 1\n",
    "\n",
    "timeseries = [None] * 2\n",
    "for i, hemi in enumerate(['L', 'R']):\n",
    "    filename = op.join(bids_folder,'derivatives', 'fmriprep', f'sub-{sub}', f'ses-{ses}', 'func', \n",
    "    f'sub-{sub}_ses-{ses}_task-{task}_run-{run}_space-{space}_hemi-{hemi}_bold.func.gii')        \n",
    "    if space == '32k-fsLR':\n",
    "        timeseries[i] =np.transpose(np.array(nib.load(filename).agg_data()))\n",
    "    else:\n",
    "        timeseries[i] = nib.load(filename).agg_data()\n",
    "timeseries = np.vstack(timeseries,) # (20484, 135)\n",
    "np.shape(timeseries)"
   ]
  },
  {
   "cell_type": "code",
   "execution_count": 67,
   "metadata": {},
   "outputs": [
    {
     "data": {
      "text/plain": [
       "(163842, 188)"
      ]
     },
     "execution_count": 67,
     "metadata": {},
     "output_type": "execute_result"
    }
   ],
   "source": [
    "space='fsaverage'\n",
    "hemi = 'L'\n",
    "filename = op.join(bids_folder,'derivatives', 'fmriprep', f'sub-{sub}', f'ses-{ses}', 'func', \n",
    "    f'sub-{sub}_ses-{ses}_task-{task}_run-{run}_space-{space}_hemi-{hemi}_bold.func.gii') \n",
    "np.shape(nib.load(filename).agg_data())"
   ]
  },
  {
   "cell_type": "code",
   "execution_count": 22,
   "metadata": {},
   "outputs": [
    {
     "data": {
      "text/plain": [
       "(188, 32492)"
      ]
     },
     "execution_count": 22,
     "metadata": {},
     "output_type": "execute_result"
    }
   ],
   "source": [
    "space='32k-fsLR'\n",
    "filename = op.join(bids_folder,'derivatives', 'fmriprep', f'sub-{sub}', f'ses-{ses}', 'func', \n",
    "    f'sub-{sub}_ses-{ses}_task-{task}_run-{run}_space-{space}_hemi-{hemi}_bold.func.gii') \n",
    "np.shape(nib.load(filename).agg_data())\n",
    "#np.shape(np.transpose(nib.load(filename).agg_data().transpose()))"
   ]
  },
  {
   "cell_type": "code",
   "execution_count": 26,
   "metadata": {},
   "outputs": [
    {
     "data": {
      "text/plain": [
       "(32492, 188)"
      ]
     },
     "execution_count": 26,
     "metadata": {},
     "output_type": "execute_result"
    }
   ],
   "source": [
    "np.shape(np.transpose(np.array(nib.load(filename).agg_data())))"
   ]
  },
  {
   "cell_type": "markdown",
   "metadata": {},
   "source": [
    "# Just apply Glasser parcelattion to fsaverage space data?!\n",
    "\n",
    ".annot files from: \n",
    "https://figshare.com/articles/dataset/HCP-MMP1_0_projected_on_fsaverage/3498446?file=5528837\n",
    "\n",
    "mris_convert --annot rh.HCPMMP1.annot /mnt_03/ds-dnumrisk/derivatives/freesurfer/fsaverage/surf/rh.white rh.HCPMMP1.gii"
   ]
  },
  {
   "cell_type": "code",
   "execution_count": 16,
   "metadata": {},
   "outputs": [],
   "source": [
    "hemi = 'rh'\n",
    "atlas_fn = f'/mnt_03/diverse_neuralData/atlases_parcellations/{hemi}.HCPMMP1.gii'\n",
    "# np.shape(nib.load(atlas).agg_data()) = (163842,), yes, that is fsaverga5 dimensions!! :) \n",
    "#file = '/mnt_03/ds-dnumrisk/derivatives/fmriprep/sub-01/ses-1/func/sub-01_ses-1_task-magjudge_run-1_space-fsaverage_hemi-L_bold.func.gii'\n",
    "#np.shape(nib.load(file).agg_data())\n",
    "atlas_ex = nib.load(atlas_fn).agg_data()"
   ]
  },
  {
   "cell_type": "code",
   "execution_count": 17,
   "metadata": {},
   "outputs": [
    {
     "data": {
      "text/plain": [
       "array([  0,   1,   2,   3,   4,   5,   6,   7,   8,   9,  10,  11,  12,\n",
       "        13,  14,  15,  16,  17,  18,  19,  20,  21,  22,  23,  24,  25,\n",
       "        26,  27,  28,  29,  30,  31,  32,  33,  34,  35,  36,  37,  38,\n",
       "        39,  40,  41,  42,  43,  44,  45,  46,  47,  48,  49,  50,  51,\n",
       "        52,  53,  54,  55,  56,  57,  58,  59,  60,  61,  62,  63,  64,\n",
       "        65,  66,  67,  68,  69,  70,  71,  72,  73,  74,  75,  76,  77,\n",
       "        78,  79,  80,  81,  82,  83,  84,  85,  86,  87,  88,  89,  90,\n",
       "        91,  92,  93,  94,  95,  96,  97,  98,  99, 100, 101, 102, 103,\n",
       "       104, 105, 106, 107, 108, 109, 110, 111, 112, 113, 114, 115, 116,\n",
       "       117, 118, 119, 120, 121, 122, 123, 124, 125, 126, 127, 128, 129,\n",
       "       130, 131, 132, 133, 134, 135, 136, 137, 138, 139, 140, 141, 142,\n",
       "       143, 144, 145, 146, 147, 148, 149, 150, 151, 152, 153, 154, 155,\n",
       "       156, 157, 158, 159, 160, 161, 162, 163, 164, 165, 166, 167, 168,\n",
       "       169, 170, 171, 172, 173, 174, 175, 176, 177, 178, 179, 180],\n",
       "      dtype=int32)"
      ]
     },
     "execution_count": 17,
     "metadata": {},
     "output_type": "execute_result"
    }
   ],
   "source": [
    "np.unique(atlas_ex)"
   ]
  },
  {
   "cell_type": "code",
   "execution_count": 20,
   "metadata": {},
   "outputs": [
    {
     "data": {
      "image/png": "[encoded data removed]",
      "text/plain": [
       "<Figure size 400x400 with 1 Axes>"
      ]
     },
     "metadata": {},
     "output_type": "display_data"
    }
   ],
   "source": [
    "from  nilearn.datasets import fetch_surf_fsaverage\n",
    "import nilearn.plotting as nplt\n",
    "import matplotlib.pyplot as plt\n",
    "\n",
    "fsaverage = fetch_surf_fsaverage('fsaverage') \n",
    "\n",
    "atlas_ex[atlas_ex != 0 ] = 1\n",
    "nplt.plot_surf(surf_mesh= fsaverage.infl_right, surf_map= atlas_ex, # infl_right # pial_right\n",
    "            view= 'lateral',cmap='viridis', colorbar=False, #title=f'sub-{sub}, grad {i}',\n",
    "            bg_map=fsaverage.sulc_right, bg_on_data=True,darkness=0.7) #\n",
    "\n",
    "plt.show()"
   ]
  },
  {
   "cell_type": "code",
   "execution_count": 10,
   "metadata": {},
   "outputs": [],
   "source": [
    "# super, now use these parcellation atlas apply it to fsaverage.func.gii and derive GMs!! :) \n",
    "from brainspace.utils.parcellation import reduce_by_labels\n",
    "from nilearn import datasets\n",
    "\n",
    "atlas_d = datasets.fetch_atlas_surf_destrieux() # fsaverage5"
   ]
  },
  {
   "cell_type": "code",
   "execution_count": 30,
   "metadata": {},
   "outputs": [
    {
     "name": "stderr",
     "output_type": "stream",
     "text": [
      "/home/ubuntu/git/numrisk/numrisk/fmri_analysis/gradients/utils.py:111: FutureWarning: DataFrame.fillna with 'method' is deprecated and will raise in a future version. Use obj.ffill() or obj.bfill() instead.\n",
      "  fmriprep_confounds= fmriprep_confounds.fillna(method='bfill')\n",
      "/home/ubuntu/git/numrisk/numrisk/fmri_analysis/gradients/utils.py:111: FutureWarning: DataFrame.fillna with 'method' is deprecated and will raise in a future version. Use obj.ffill() or obj.bfill() instead.\n",
      "  fmriprep_confounds= fmriprep_confounds.fillna(method='bfill')\n",
      "/home/ubuntu/git/numrisk/numrisk/fmri_analysis/gradients/utils.py:111: FutureWarning: DataFrame.fillna with 'method' is deprecated and will raise in a future version. Use obj.ffill() or obj.bfill() instead.\n",
      "  fmriprep_confounds= fmriprep_confounds.fillna(method='bfill')\n",
      "/home/ubuntu/git/numrisk/numrisk/fmri_analysis/gradients/utils.py:111: FutureWarning: DataFrame.fillna with 'method' is deprecated and will raise in a future version. Use obj.ffill() or obj.bfill() instead.\n",
      "  fmriprep_confounds= fmriprep_confounds.fillna(method='bfill')\n",
      "/home/ubuntu/git/numrisk/numrisk/fmri_analysis/gradients/utils.py:111: FutureWarning: DataFrame.fillna with 'method' is deprecated and will raise in a future version. Use obj.ffill() or obj.bfill() instead.\n",
      "  fmriprep_confounds= fmriprep_confounds.fillna(method='bfill')\n",
      "/home/ubuntu/git/numrisk/numrisk/fmri_analysis/gradients/utils.py:111: FutureWarning: DataFrame.fillna with 'method' is deprecated and will raise in a future version. Use obj.ffill() or obj.bfill() instead.\n",
      "  fmriprep_confounds= fmriprep_confounds.fillna(method='bfill')\n"
     ]
    }
   ],
   "source": [
    "from utils import cleanTS\n",
    "\n",
    "ts = cleanTS('01',1,bids_folder=bids_folder, space = 'fsaverage')"
   ]
  },
  {
   "cell_type": "code",
   "execution_count": 31,
   "metadata": {},
   "outputs": [
    {
     "data": {
      "text/plain": [
       "(327684,)"
      ]
     },
     "execution_count": 31,
     "metadata": {},
     "output_type": "execute_result"
    }
   ],
   "source": [
    "atlas_left = nib.load(f'/mnt_03/diverse_neuralData/atlases_parcellations/lh.HCPMMP1.gii').agg_data()\n",
    "atlas_right = nib.load(f'/mnt_03/diverse_neuralData/atlases_parcellations/rh.HCPMMP1.gii').agg_data()\n",
    "\n",
    "labeling = np.concatenate([(atlas_left+1000), (atlas_right+2000)])\n",
    "np.shape(labeling)\n",
    "\n"
   ]
  },
  {
   "cell_type": "code",
   "execution_count": 34,
   "metadata": {},
   "outputs": [
    {
     "data": {
      "text/plain": [
       "array([ True,  True,  True, ...,  True,  True,  True])"
      ]
     },
     "execution_count": 34,
     "metadata": {},
     "output_type": "execute_result"
    }
   ],
   "source": [
    "mask = ~np.isin(labeling, 0)\n",
    "mask"
   ]
  },
  {
   "cell_type": "code",
   "execution_count": 32,
   "metadata": {},
   "outputs": [],
   "source": [
    "ts_masked = ts[labeling!= 0] # Remove non-cortex regions (where label=0)\n",
    "seed_ts = reduce_by_labels(ts_masked, labeling[labeling!= 0], axis=1, red_op='mean',dtype=float)"
   ]
  },
  {
   "cell_type": "code",
   "execution_count": 22,
   "metadata": {},
   "outputs": [
    {
     "data": {
      "text/plain": [
       "(180, 1128)"
      ]
     },
     "execution_count": 22,
     "metadata": {},
     "output_type": "execute_result"
    }
   ],
   "source": [
    "np.shape(seed_ts)\n"
   ]
  },
  {
   "cell_type": "code",
   "execution_count": 35,
   "metadata": {},
   "outputs": [],
   "source": [
    "def get_glasser_parcels(base_folder='/mnt_03/diverse_neuralData/atlases_parcellations'):\n",
    "    atlas_left = nib.load(op.join(base_folder,'lh.HCPMMP1.gii')).agg_data()\n",
    "    atlas_right =  nib.load(op.join(base_folder,'rh.HCPMMP1.gii')).agg_data()\n",
    "\n",
    "    labeling = np.concatenate([(atlas_left+1000), (atlas_right+2000)]) # unique labels for left and right!\n",
    "    mask = ~np.isin(labeling, 0) # non-cortex region (unknow and medial wall) have label 0\n",
    "    return mask, labeling"
   ]
  },
  {
   "cell_type": "code",
   "execution_count": 36,
   "metadata": {},
   "outputs": [],
   "source": [
    "mask, labeling_noParcel = get_glasser_parcels()"
   ]
  },
  {
   "cell_type": "code",
   "execution_count": 39,
   "metadata": {},
   "outputs": [
    {
     "name": "stdout",
     "output_type": "stream",
     "text": [
      "01\n"
     ]
    }
   ],
   "source": [
    "subject = 1\n",
    "sub = f'{int(subject):02d}'\n",
    "print(sub)"
   ]
  },
  {
   "cell_type": "markdown",
   "metadata": {},
   "source": [
    "# Old did not work"
   ]
  },
  {
   "cell_type": "code",
   "execution_count": 7,
   "metadata": {},
   "outputs": [],
   "source": [
    "import os.path as op\n",
    "import nipype.interfaces.workbench as workbench\n",
    "\n",
    "#from nipype.interfaces.workbench import SurfaceResample # does not work\n",
    "bids_folder = '/mnt_03/ds-dnumrisk'\n"
   ]
  },
  {
   "cell_type": "markdown",
   "metadata": {},
   "source": [
    "## paths\n",
    "\n",
    "/home/ubuntu/git/BrainSpace/brainspace/datasets/surfaces/conte69_32k_rh_sphere.gii\n",
    "\n",
    "convert freesurfer FreeSurfer's native format files to *.gii that Workbench accepts:\n",
    "`mris_convert lh.sphere lh.sphere.gii` (being in '/mnt_03/ds-dnumrisk/derivatives/freesurfer/fsaverage/surf')\n"
   ]
  },
  {
   "cell_type": "code",
   "execution_count": 19,
   "metadata": {},
   "outputs": [],
   "source": [
    "import os\n",
    "os.environ[\"PATH\"] += os.pathsep + \"/home/ubuntu/workbench/bin_linux64\"\n",
    "\n",
    "# in terminal: wb_command -surface-resample"
   ]
  },
  {
   "cell_type": "code",
   "execution_count": 17,
   "metadata": {},
   "outputs": [],
   "source": [
    "# functional \n",
    "sub = 1\n",
    "hemi = 'L'\n",
    "hemi_ = 'lh'\n",
    "source_folder = op.join(bids_folder,'derivatives','fmriprep', f'sub-{sub:02d}', 'ses-1','func')\n",
    "source_file = op.join(source_folder, f'sub-{sub:02d}_ses-1_task-magjudge_run-1_space-fsaverage_hemi-{hemi}_bold.func.gii')\n",
    "source_sphere = f'/mnt_03/ds-dnumrisk/derivatives/freesurfer/fsaverage/surf/{hemi_}.sphere.gii'\n",
    "\n",
    "target_file = op.join(source_folder, f'sub-{sub:02d}_ses-1_task-magjudge_run-1_space-conte69_hemi-{hemi}_bold.func.gii')\n",
    "target_sphere = f'/home/ubuntu/git/BrainSpace/brainspace/datasets/surfaces/conte69_32k_{hemi_}_sphere.gii'"
   ]
  },
  {
   "cell_type": "code",
   "execution_count": 42,
   "metadata": {},
   "outputs": [],
   "source": [
    "# anatomical\n",
    "\n",
    "sub = 1\n",
    "hemi = 'L'\n",
    "hemi_ = 'lh'\n",
    "source_folder = op.join(bids_folder,'derivatives','ips_masks', f'sub-{sub:02d}',)\n",
    "source_file = op.join(source_folder, f'sub-{sub:02d}_desc-NPC_{hemi}_space-fsnative_hemi-{hemi_}.ips.gii')\n",
    "source_sphere = f'/mnt_03/ds-dnumrisk/derivatives/freesurfer/sub-{sub:02d}/surf/{hemi_}.sphere.gii'\n",
    "\n",
    "target_file = op.join(source_folder,  f'sub-{sub:02d}_desc-NPC_{hemi}_space-conte69_hemi-{hemi_}.ips.gii')\n",
    "target_sphere = f'/home/ubuntu/git/BrainSpace/brainspace/datasets/surfaces/conte69_32k_{hemi_}_sphere.gii'\n",
    "\n",
    "# /Users/mrenke/data/ds-dnumrisk/derivatives/ips_masks/sub-01/sub-01_desc-NPC_L_space-fsnative_hemi-lh.ips.gii"
   ]
  },
  {
   "cell_type": "code",
   "execution_count": 49,
   "metadata": {},
   "outputs": [
    {
     "data": {
      "text/plain": [
       "'/mnt_03/ds-dnumrisk/derivatives/ips_masks/sub-01/sub-01_desc-NPC_L_space-fsnative_hemi-lh.ips.gii /mnt_03/ds-dnumrisk/derivatives/freesurfer/sub-01/surf/lh.sphere.gii /home/ubuntu/git/BrainSpace/brainspace/datasets/surfaces/conte69_32k_lh_sphere.gii /mnt_03/ds-dnumrisk/derivatives/ips_masks/sub-01/sub-01_desc-NPC_L_space-conte69_hemi-lh.ips.gii'"
      ]
     },
     "execution_count": 49,
     "metadata": {},
     "output_type": "execute_result"
    }
   ],
   "source": [
    "f\"{source_file} {source_sphere} {target_sphere} {target_file}\""
   ]
  },
  {
   "cell_type": "code",
   "execution_count": 30,
   "metadata": {},
   "outputs": [
    {
     "ename": "Exception",
     "evalue": "No input_spec in class: WorkbenchSurfaceResample",
     "output_type": "error",
     "traceback": [
      "\u001b[0;31m---------------------------------------------------------------------------\u001b[0m",
      "\u001b[0;31mException\u001b[0m                                 Traceback (most recent call last)",
      "Cell \u001b[0;32mIn[30], line 9\u001b[0m\n\u001b[1;32m      6\u001b[0m     input_spec \u001b[38;5;241m=\u001b[39m \u001b[38;5;28;01mNone\u001b[39;00m  \u001b[38;5;66;03m# Define custom input specs if needed\u001b[39;00m\n\u001b[1;32m      8\u001b[0m \u001b[38;5;66;03m# Example usage:\u001b[39;00m\n\u001b[0;32m----> 9\u001b[0m resample \u001b[38;5;241m=\u001b[39m \u001b[43mWorkbenchSurfaceResample\u001b[49m\u001b[43m(\u001b[49m\u001b[43m)\u001b[49m\n\u001b[1;32m     11\u001b[0m resample\u001b[38;5;241m.\u001b[39minputs\u001b[38;5;241m.\u001b[39margs \u001b[38;5;241m=\u001b[39m \u001b[38;5;124mf\u001b[39m\u001b[38;5;124m\"\u001b[39m\u001b[38;5;124m-method BARYCENTRIC \u001b[39m\u001b[38;5;132;01m{\u001b[39;00msource_file\u001b[38;5;132;01m}\u001b[39;00m\u001b[38;5;124m \u001b[39m\u001b[38;5;132;01m{\u001b[39;00msource_sphere\u001b[38;5;132;01m}\u001b[39;00m\u001b[38;5;124m \u001b[39m\u001b[38;5;132;01m{\u001b[39;00mtarget_sphere\u001b[38;5;132;01m}\u001b[39;00m\u001b[38;5;124m \u001b[39m\u001b[38;5;132;01m{\u001b[39;00mtarget_file\u001b[38;5;132;01m}\u001b[39;00m\u001b[38;5;124m\"\u001b[39m\n\u001b[1;32m     13\u001b[0m resample\u001b[38;5;241m.\u001b[39mrun()\n",
      "File \u001b[0;32m~/miniconda3/envs/numrefields/lib/python3.10/site-packages/nipype/interfaces/base/core.py:629\u001b[0m, in \u001b[0;36mCommandLine.__init__\u001b[0;34m(self, command, terminal_output, write_cmdline, **inputs)\u001b[0m\n\u001b[1;32m    626\u001b[0m \u001b[38;5;28;01mdef\u001b[39;00m \u001b[38;5;21m__init__\u001b[39m(\n\u001b[1;32m    627\u001b[0m     \u001b[38;5;28mself\u001b[39m, command\u001b[38;5;241m=\u001b[39m\u001b[38;5;28;01mNone\u001b[39;00m, terminal_output\u001b[38;5;241m=\u001b[39m\u001b[38;5;28;01mNone\u001b[39;00m, write_cmdline\u001b[38;5;241m=\u001b[39m\u001b[38;5;28;01mFalse\u001b[39;00m, \u001b[38;5;241m*\u001b[39m\u001b[38;5;241m*\u001b[39minputs\n\u001b[1;32m    628\u001b[0m ):\n\u001b[0;32m--> 629\u001b[0m     \u001b[38;5;28;43msuper\u001b[39;49m\u001b[43m(\u001b[49m\u001b[43mCommandLine\u001b[49m\u001b[43m,\u001b[49m\u001b[43m \u001b[49m\u001b[38;5;28;43mself\u001b[39;49m\u001b[43m)\u001b[49m\u001b[38;5;241;43m.\u001b[39;49m\u001b[38;5;21;43m__init__\u001b[39;49m\u001b[43m(\u001b[49m\u001b[38;5;241;43m*\u001b[39;49m\u001b[38;5;241;43m*\u001b[39;49m\u001b[43minputs\u001b[49m\u001b[43m)\u001b[49m\n\u001b[1;32m    630\u001b[0m     \u001b[38;5;28mself\u001b[39m\u001b[38;5;241m.\u001b[39m_environ \u001b[38;5;241m=\u001b[39m \u001b[38;5;28;01mNone\u001b[39;00m\n\u001b[1;32m    631\u001b[0m     \u001b[38;5;66;03m# Set command. Input argument takes precedence\u001b[39;00m\n",
      "File \u001b[0;32m~/miniconda3/envs/numrefields/lib/python3.10/site-packages/nipype/interfaces/base/core.py:192\u001b[0m, in \u001b[0;36mBaseInterface.__init__\u001b[0;34m(self, from_file, resource_monitor, ignore_exception, **inputs)\u001b[0m\n\u001b[1;32m    189\u001b[0m         BaseInterface\u001b[38;5;241m.\u001b[39m_etelemetry_version_data \u001b[38;5;241m=\u001b[39m check_latest_version() \u001b[38;5;129;01mor\u001b[39;00m \u001b[38;5;124m\"\u001b[39m\u001b[38;5;124mn/a\u001b[39m\u001b[38;5;124m\"\u001b[39m\n\u001b[1;32m    191\u001b[0m \u001b[38;5;28;01mif\u001b[39;00m \u001b[38;5;129;01mnot\u001b[39;00m \u001b[38;5;28mself\u001b[39m\u001b[38;5;241m.\u001b[39minput_spec:\n\u001b[0;32m--> 192\u001b[0m     \u001b[38;5;28;01mraise\u001b[39;00m \u001b[38;5;167;01mException\u001b[39;00m(\u001b[38;5;124m\"\u001b[39m\u001b[38;5;124mNo input_spec in class: \u001b[39m\u001b[38;5;132;01m%s\u001b[39;00m\u001b[38;5;124m\"\u001b[39m \u001b[38;5;241m%\u001b[39m \u001b[38;5;28mself\u001b[39m\u001b[38;5;241m.\u001b[39m\u001b[38;5;18m__class__\u001b[39m\u001b[38;5;241m.\u001b[39m\u001b[38;5;18m__name__\u001b[39m)\n\u001b[1;32m    194\u001b[0m \u001b[38;5;66;03m# Create input spec, disable any defaults that are unavailable due to\u001b[39;00m\n\u001b[1;32m    195\u001b[0m \u001b[38;5;66;03m# version, and then apply the inputs that were passed.\u001b[39;00m\n\u001b[1;32m    196\u001b[0m \u001b[38;5;28mself\u001b[39m\u001b[38;5;241m.\u001b[39minputs \u001b[38;5;241m=\u001b[39m \u001b[38;5;28mself\u001b[39m\u001b[38;5;241m.\u001b[39minput_spec()\n",
      "\u001b[0;31mException\u001b[0m: No input_spec in class: WorkbenchSurfaceResample"
     ]
    }
   ],
   "source": [
    "from nipype.interfaces.base import CommandLine\n",
    "\n",
    "# Custom command to resample surface with wb_command\n",
    "class WorkbenchSurfaceResample(CommandLine):\n",
    "    _cmd = \"wb_command -surface-resample\"\n",
    "    input_spec = None  # Define custom input specs if needed\n",
    "\n",
    "# Example usage:\n",
    "resample = WorkbenchSurfaceResample()\n",
    "\n",
    "resample.inputs.args = f\"-method BARYCENTRIC {source_file} {source_sphere} {target_sphere} {target_file}\"\n",
    "\n",
    "resample.run()\n",
    "\n"
   ]
  },
  {
   "cell_type": "code",
   "execution_count": 44,
   "metadata": {},
   "outputs": [],
   "source": [
    "from nipype.interfaces.base import CommandLine, CommandLineInputSpec, File, traits, TraitedSpec\n",
    "\n",
    "# Define input specifications\n",
    "class WorkbenchSurfaceResampleInputSpec(CommandLineInputSpec):\n",
    "    in_file = File(exists=True, mandatory=True, desc=\"Input GIFTI functional file (.func.gii)\")\n",
    "    current_sphere = File(exists=True, mandatory=True, desc=\"Current sphere file (.gii)\")\n",
    "    new_sphere = File(exists=True, mandatory=True, desc=\"Target sphere file (.gii)\")\n",
    "    method = traits.Str(\"BARYCENTRIC\", usedefault=True, desc=\"Resampling method, typically BARYCENTRIC\")\n",
    "    out_file = File(\"resampled_output.func.gii\", usedefault=True, desc=\"Output resampled file\")\n",
    "\n",
    "# Define output specifications\n",
    "class WorkbenchSurfaceResampleOutputSpec(TraitedSpec):\n",
    "    out_file = File(exists=True, desc=\"Resampled output GIFTI functional file\")\n",
    "\n",
    "# Define the custom Workbench Surface Resample interface\n",
    "class WorkbenchSurfaceResample(CommandLine):\n",
    "    _cmd = \"wb_command -surface-resample\"\n",
    "    input_spec = WorkbenchSurfaceResampleInputSpec\n",
    "    output_spec = WorkbenchSurfaceResampleOutputSpec\n",
    "\n",
    "    def _list_outputs(self):\n",
    "        outputs = self._outputs().get()\n",
    "        outputs[\"out_file\"] = self.inputs.out_file\n",
    "        return outputs\n",
    "\n",
    "    def _format_arg(self, name, spec, value):\n",
    "        # Build the command string by inserting arguments for wb_command\n",
    "        if name == \"in_file\":\n",
    "            return f\"{value}\"\n",
    "        if name == \"current_sphere\":\n",
    "            return f\"{value}\"\n",
    "        if name == \"new_sphere\":\n",
    "            return f\"{value}\"\n",
    "        if name == \"method\":\n",
    "            return f\"-method {value}\"\n",
    "        if name == \"out_file\":\n",
    "            return f\"{value}\"\n",
    "        return super()._format_arg(name, spec, value)\n",
    "\n",
    "    def _cmdline(self):\n",
    "        # Create command with correct order and structure for wb_command\n",
    "        return f\"{self._cmd} {self.inputs.in_file} {self.inputs.current_sphere} {self.inputs.new_sphere} -method {self.inputs.method} {self.inputs.out_file}\"\n"
   ]
  },
  {
   "cell_type": "code",
   "execution_count": 47,
   "metadata": {},
   "outputs": [
    {
     "name": "stdout",
     "output_type": "stream",
     "text": [
      "241028-14:42:17,180 nipype.interface INFO:\n",
      "\t stdout 2024-10-28T14:42:17.180311:RESAMPLE A SURFACE TO A DIFFERENT MESH\n",
      "241028-14:42:17,181 nipype.interface INFO:\n",
      "\t stdout 2024-10-28T14:42:17.180311:   wb_command -surface-resample\n",
      "241028-14:42:17,182 nipype.interface INFO:\n",
      "\t stdout 2024-10-28T14:42:17.180311:      <surface-in> - the surface file to resample\n",
      "241028-14:42:17,182 nipype.interface INFO:\n",
      "\t stdout 2024-10-28T14:42:17.180311:      <current-sphere> - a sphere surface with the mesh that the input surface\n",
      "241028-14:42:17,182 nipype.interface INFO:\n",
      "\t stdout 2024-10-28T14:42:17.180311:         is currently on\n",
      "241028-14:42:17,183 nipype.interface INFO:\n",
      "\t stdout 2024-10-28T14:42:17.180311:      <new-sphere> - a sphere surface that is in register with <current-sphere>\n",
      "241028-14:42:17,183 nipype.interface INFO:\n",
      "\t stdout 2024-10-28T14:42:17.180311:         and has the desired output mesh\n",
      "241028-14:42:17,183 nipype.interface INFO:\n",
      "\t stdout 2024-10-28T14:42:17.180311:      <method> - the method name\n",
      "241028-14:42:17,184 nipype.interface INFO:\n",
      "\t stdout 2024-10-28T14:42:17.180311:      <surface-out> - output - the output surface file\n",
      "241028-14:42:17,184 nipype.interface INFO:\n",
      "\t stdout 2024-10-28T14:42:17.180311:\n",
      "241028-14:42:17,184 nipype.interface INFO:\n",
      "\t stdout 2024-10-28T14:42:17.180311:      [-area-surfs] - specify surfaces to do vertex area correction based on\n",
      "241028-14:42:17,185 nipype.interface INFO:\n",
      "\t stdout 2024-10-28T14:42:17.180311:         <current-area> - a relevant surface with <current-sphere> mesh\n",
      "241028-14:42:17,185 nipype.interface INFO:\n",
      "\t stdout 2024-10-28T14:42:17.180311:         <new-area> - a relevant surface with <new-sphere> mesh\n",
      "241028-14:42:17,186 nipype.interface INFO:\n",
      "\t stdout 2024-10-28T14:42:17.180311:\n",
      "241028-14:42:17,186 nipype.interface INFO:\n",
      "\t stdout 2024-10-28T14:42:17.180311:      [-area-metrics] - specify vertex area metrics to do area correction based\n",
      "241028-14:42:17,187 nipype.interface INFO:\n",
      "\t stdout 2024-10-28T14:42:17.180311:         on\n",
      "241028-14:42:17,187 nipype.interface INFO:\n",
      "\t stdout 2024-10-28T14:42:17.180311:         <current-area> - a metric file with vertex areas for <current-sphere>\n",
      "241028-14:42:17,187 nipype.interface INFO:\n",
      "\t stdout 2024-10-28T14:42:17.180311:            mesh\n",
      "241028-14:42:17,188 nipype.interface INFO:\n",
      "\t stdout 2024-10-28T14:42:17.180311:         <new-area> - a metric file with vertex areas for <new-sphere> mesh\n",
      "241028-14:42:17,188 nipype.interface INFO:\n",
      "\t stdout 2024-10-28T14:42:17.180311:\n",
      "241028-14:42:17,188 nipype.interface INFO:\n",
      "\t stdout 2024-10-28T14:42:17.180311:      [-bypass-sphere-check] - ADVANCED: allow the current and new 'spheres' to\n",
      "241028-14:42:17,189 nipype.interface INFO:\n",
      "\t stdout 2024-10-28T14:42:17.180311:         have arbitrary shape as long as they follow the same contour\n",
      "241028-14:42:17,189 nipype.interface INFO:\n",
      "\t stdout 2024-10-28T14:42:17.180311:\n",
      "241028-14:42:17,189 nipype.interface INFO:\n",
      "\t stdout 2024-10-28T14:42:17.180311:      Resamples a surface file, given two spherical surfaces that are in\n",
      "241028-14:42:17,190 nipype.interface INFO:\n",
      "\t stdout 2024-10-28T14:42:17.180311:      register.  If ADAP_BARY_AREA is used, exactly one of -area-surfs or\n",
      "241028-14:42:17,190 nipype.interface INFO:\n",
      "\t stdout 2024-10-28T14:42:17.180311:      -area-metrics must be specified.  This method is not generally\n",
      "241028-14:42:17,190 nipype.interface INFO:\n",
      "\t stdout 2024-10-28T14:42:17.180311:      recommended for surface resampling, but is provided for completeness.\n",
      "241028-14:42:17,191 nipype.interface INFO:\n",
      "\t stdout 2024-10-28T14:42:17.180311:\n",
      "241028-14:42:17,191 nipype.interface INFO:\n",
      "\t stdout 2024-10-28T14:42:17.180311:      The BARYCENTRIC method is generally recommended for anatomical surfaces,\n",
      "241028-14:42:17,191 nipype.interface INFO:\n",
      "\t stdout 2024-10-28T14:42:17.180311:      in order to minimize smoothing.\n",
      "241028-14:42:17,192 nipype.interface INFO:\n",
      "\t stdout 2024-10-28T14:42:17.180311:\n",
      "241028-14:42:17,192 nipype.interface INFO:\n",
      "\t stdout 2024-10-28T14:42:17.180311:      For cut surfaces (including flatmaps), use -surface-cut-resample.\n",
      "241028-14:42:17,192 nipype.interface INFO:\n",
      "\t stdout 2024-10-28T14:42:17.180311:\n",
      "241028-14:42:17,193 nipype.interface INFO:\n",
      "\t stdout 2024-10-28T14:42:17.180311:      Instead of resampling a spherical surface, the\n",
      "241028-14:42:17,193 nipype.interface INFO:\n",
      "\t stdout 2024-10-28T14:42:17.180311:      -surface-sphere-project-unproject command is recommended.\n",
      "241028-14:42:17,193 nipype.interface INFO:\n",
      "\t stdout 2024-10-28T14:42:17.180311:\n",
      "241028-14:42:17,194 nipype.interface INFO:\n",
      "\t stdout 2024-10-28T14:42:17.180311:      The <method> argument must be one of the following:\n",
      "241028-14:42:17,194 nipype.interface INFO:\n",
      "\t stdout 2024-10-28T14:42:17.180311:\n",
      "241028-14:42:17,194 nipype.interface INFO:\n",
      "\t stdout 2024-10-28T14:42:17.180311:      ADAP_BARY_AREA\n",
      "241028-14:42:17,195 nipype.interface INFO:\n",
      "\t stdout 2024-10-28T14:42:17.180311:      BARYCENTRIC\n",
      "241028-14:42:17,195 nipype.interface INFO:\n",
      "\t stdout 2024-10-28T14:42:17.180311:\n"
     ]
    },
    {
     "ename": "FileNotFoundError",
     "evalue": "No such file or directory '/mnt_03/ds-dnumrisk/derivatives/ips_masks/sub-01/sub-01_desc-NPC_L_space-conte69_hemi-lh.ips.gii' for output 'out_file' of a WorkbenchSurfaceResample interface",
     "output_type": "error",
     "traceback": [
      "\u001b[0;31m---------------------------------------------------------------------------\u001b[0m",
      "\u001b[0;31mTraitError\u001b[0m                                Traceback (most recent call last)",
      "File \u001b[0;32m~/miniconda3/envs/numrefields/lib/python3.10/site-packages/nipype/interfaces/base/core.py:453\u001b[0m, in \u001b[0;36mBaseInterface.aggregate_outputs\u001b[0;34m(self, runtime, needed_outputs)\u001b[0m\n\u001b[1;32m    452\u001b[0m \u001b[38;5;28;01mtry\u001b[39;00m:\n\u001b[0;32m--> 453\u001b[0m     \u001b[38;5;28;43msetattr\u001b[39;49m\u001b[43m(\u001b[49m\u001b[43moutputs\u001b[49m\u001b[43m,\u001b[49m\u001b[43m \u001b[49m\u001b[43mkey\u001b[49m\u001b[43m,\u001b[49m\u001b[43m \u001b[49m\u001b[43mval\u001b[49m\u001b[43m)\u001b[49m\n\u001b[1;32m    454\u001b[0m \u001b[38;5;28;01mexcept\u001b[39;00m TraitError \u001b[38;5;28;01mas\u001b[39;00m error:\n",
      "File \u001b[0;32m~/miniconda3/envs/numrefields/lib/python3.10/site-packages/nipype/interfaces/base/traits_extension.py:330\u001b[0m, in \u001b[0;36mFile.validate\u001b[0;34m(self, objekt, name, value, return_pathlike)\u001b[0m\n\u001b[1;32m    329\u001b[0m \u001b[38;5;124;03m\"\"\"Validate a value change.\"\"\"\u001b[39;00m\n\u001b[0;32m--> 330\u001b[0m value \u001b[38;5;241m=\u001b[39m \u001b[38;5;28;43msuper\u001b[39;49m\u001b[43m(\u001b[49m\u001b[43mFile\u001b[49m\u001b[43m,\u001b[49m\u001b[43m \u001b[49m\u001b[38;5;28;43mself\u001b[39;49m\u001b[43m)\u001b[49m\u001b[38;5;241;43m.\u001b[39;49m\u001b[43mvalidate\u001b[49m\u001b[43m(\u001b[49m\u001b[43mobjekt\u001b[49m\u001b[43m,\u001b[49m\u001b[43m \u001b[49m\u001b[43mname\u001b[49m\u001b[43m,\u001b[49m\u001b[43m \u001b[49m\u001b[43mvalue\u001b[49m\u001b[43m,\u001b[49m\u001b[43m \u001b[49m\u001b[43mreturn_pathlike\u001b[49m\u001b[38;5;241;43m=\u001b[39;49m\u001b[38;5;28;43;01mTrue\u001b[39;49;00m\u001b[43m)\u001b[49m\n\u001b[1;32m    331\u001b[0m \u001b[38;5;28;01mif\u001b[39;00m \u001b[38;5;28mself\u001b[39m\u001b[38;5;241m.\u001b[39m_exts:\n",
      "File \u001b[0;32m~/miniconda3/envs/numrefields/lib/python3.10/site-packages/nipype/interfaces/base/traits_extension.py:135\u001b[0m, in \u001b[0;36mBasePath.validate\u001b[0;34m(self, objekt, name, value, return_pathlike)\u001b[0m\n\u001b[1;32m    134\u001b[0m \u001b[38;5;28;01mif\u001b[39;00m \u001b[38;5;129;01mnot\u001b[39;00m value\u001b[38;5;241m.\u001b[39mexists():\n\u001b[0;32m--> 135\u001b[0m     \u001b[38;5;28;43mself\u001b[39;49m\u001b[38;5;241;43m.\u001b[39;49m\u001b[43merror\u001b[49m\u001b[43m(\u001b[49m\u001b[43mobjekt\u001b[49m\u001b[43m,\u001b[49m\u001b[43m \u001b[49m\u001b[43mname\u001b[49m\u001b[43m,\u001b[49m\u001b[43m \u001b[49m\u001b[38;5;28;43mstr\u001b[39;49m\u001b[43m(\u001b[49m\u001b[43mvalue\u001b[49m\u001b[43m)\u001b[49m\u001b[43m)\u001b[49m\n\u001b[1;32m    137\u001b[0m \u001b[38;5;28;01mif\u001b[39;00m \u001b[38;5;28mself\u001b[39m\u001b[38;5;241m.\u001b[39m_is_file \u001b[38;5;129;01mand\u001b[39;00m \u001b[38;5;129;01mnot\u001b[39;00m value\u001b[38;5;241m.\u001b[39mis_file():\n",
      "File \u001b[0;32m~/miniconda3/envs/numrefields/lib/python3.10/site-packages/traits/base_trait_handler.py:74\u001b[0m, in \u001b[0;36mBaseTraitHandler.error\u001b[0;34m(self, object, name, value)\u001b[0m\n\u001b[1;32m     58\u001b[0m \u001b[38;5;124;03m\"\"\"Raises a TraitError exception.\u001b[39;00m\n\u001b[1;32m     59\u001b[0m \n\u001b[1;32m     60\u001b[0m \u001b[38;5;124;03mThis method is called by the validate() method when an assigned value\u001b[39;00m\n\u001b[0;32m   (...)\u001b[0m\n\u001b[1;32m     72\u001b[0m \u001b[38;5;124;03m    The proposed new value for the attribute.\u001b[39;00m\n\u001b[1;32m     73\u001b[0m \u001b[38;5;124;03m\"\"\"\u001b[39;00m\n\u001b[0;32m---> 74\u001b[0m \u001b[38;5;28;01mraise\u001b[39;00m TraitError(\n\u001b[1;32m     75\u001b[0m     \u001b[38;5;28mobject\u001b[39m, name, \u001b[38;5;28mself\u001b[39m\u001b[38;5;241m.\u001b[39mfull_info(\u001b[38;5;28mobject\u001b[39m, name, value), value\n\u001b[1;32m     76\u001b[0m )\n",
      "\u001b[0;31mTraitError\u001b[0m: The 'out_file' trait of a WorkbenchSurfaceResampleOutputSpec instance must be a pathlike object or string representing an existing file, but a value of '/mnt_03/ds-dnumrisk/derivatives/ips_masks/sub-01/sub-01_desc-NPC_L_space-conte69_hemi-lh.ips.gii' <class 'str'> was specified.",
      "\nDuring handling of the above exception, another exception occurred:\n",
      "\u001b[0;31mFileNotFoundError\u001b[0m                         Traceback (most recent call last)",
      "Cell \u001b[0;32mIn[47], line 9\u001b[0m\n\u001b[1;32m      6\u001b[0m resample\u001b[38;5;241m.\u001b[39minputs\u001b[38;5;241m.\u001b[39mout_file \u001b[38;5;241m=\u001b[39m target_file\n\u001b[1;32m      8\u001b[0m \u001b[38;5;66;03m# Run the command\u001b[39;00m\n\u001b[0;32m----> 9\u001b[0m \u001b[43mresample\u001b[49m\u001b[38;5;241;43m.\u001b[39;49m\u001b[43mrun\u001b[49m\u001b[43m(\u001b[49m\u001b[43m)\u001b[49m\n",
      "File \u001b[0;32m~/miniconda3/envs/numrefields/lib/python3.10/site-packages/nipype/interfaces/base/core.py:400\u001b[0m, in \u001b[0;36mBaseInterface.run\u001b[0;34m(self, cwd, ignore_exception, **inputs)\u001b[0m\n\u001b[1;32m    398\u001b[0m     runtime \u001b[38;5;241m=\u001b[39m \u001b[38;5;28mself\u001b[39m\u001b[38;5;241m.\u001b[39m_post_run_hook(runtime)\n\u001b[1;32m    399\u001b[0m     \u001b[38;5;66;03m# Collect outputs\u001b[39;00m\n\u001b[0;32m--> 400\u001b[0m     outputs \u001b[38;5;241m=\u001b[39m \u001b[38;5;28;43mself\u001b[39;49m\u001b[38;5;241;43m.\u001b[39;49m\u001b[43maggregate_outputs\u001b[49m\u001b[43m(\u001b[49m\u001b[43mruntime\u001b[49m\u001b[43m)\u001b[49m\n\u001b[1;32m    402\u001b[0m results \u001b[38;5;241m=\u001b[39m InterfaceResult(\n\u001b[1;32m    403\u001b[0m     \u001b[38;5;28mself\u001b[39m\u001b[38;5;241m.\u001b[39m\u001b[38;5;18m__class__\u001b[39m,\n\u001b[1;32m    404\u001b[0m     rtc\u001b[38;5;241m.\u001b[39mruntime,\n\u001b[0;32m   (...)\u001b[0m\n\u001b[1;32m    407\u001b[0m     provenance\u001b[38;5;241m=\u001b[39m\u001b[38;5;28;01mNone\u001b[39;00m,\n\u001b[1;32m    408\u001b[0m )\n\u001b[1;32m    410\u001b[0m \u001b[38;5;66;03m# Add provenance (if required)\u001b[39;00m\n",
      "File \u001b[0;32m~/miniconda3/envs/numrefields/lib/python3.10/site-packages/nipype/interfaces/base/core.py:460\u001b[0m, in \u001b[0;36mBaseInterface.aggregate_outputs\u001b[0;34m(self, runtime, needed_outputs)\u001b[0m\n\u001b[1;32m    455\u001b[0m         \u001b[38;5;28;01mif\u001b[39;00m \u001b[38;5;124m\"\u001b[39m\u001b[38;5;124man existing\u001b[39m\u001b[38;5;124m\"\u001b[39m \u001b[38;5;129;01min\u001b[39;00m \u001b[38;5;28mgetattr\u001b[39m(error, \u001b[38;5;124m\"\u001b[39m\u001b[38;5;124minfo\u001b[39m\u001b[38;5;124m\"\u001b[39m, \u001b[38;5;124m\"\u001b[39m\u001b[38;5;124mdefault\u001b[39m\u001b[38;5;124m\"\u001b[39m):\n\u001b[1;32m    456\u001b[0m             msg \u001b[38;5;241m=\u001b[39m (\n\u001b[1;32m    457\u001b[0m                 \u001b[38;5;124m\"\u001b[39m\u001b[38;5;124mNo such file or directory \u001b[39m\u001b[38;5;124m'\u001b[39m\u001b[38;5;132;01m%s\u001b[39;00m\u001b[38;5;124m'\u001b[39m\u001b[38;5;124m for output \u001b[39m\u001b[38;5;124m'\u001b[39m\u001b[38;5;132;01m%s\u001b[39;00m\u001b[38;5;124m'\u001b[39m\u001b[38;5;124m of a \u001b[39m\u001b[38;5;132;01m%s\u001b[39;00m\u001b[38;5;124m interface\u001b[39m\u001b[38;5;124m\"\u001b[39m\n\u001b[1;32m    458\u001b[0m                 \u001b[38;5;241m%\u001b[39m (val, key, \u001b[38;5;28mself\u001b[39m\u001b[38;5;241m.\u001b[39m\u001b[38;5;18m__class__\u001b[39m\u001b[38;5;241m.\u001b[39m\u001b[38;5;18m__name__\u001b[39m)\n\u001b[1;32m    459\u001b[0m             )\n\u001b[0;32m--> 460\u001b[0m             \u001b[38;5;28;01mraise\u001b[39;00m \u001b[38;5;167;01mFileNotFoundError\u001b[39;00m(msg)\n\u001b[1;32m    461\u001b[0m         \u001b[38;5;28;01mraise\u001b[39;00m error\n\u001b[1;32m    462\u001b[0m \u001b[38;5;28;01mreturn\u001b[39;00m outputs\n",
      "\u001b[0;31mFileNotFoundError\u001b[0m: No such file or directory '/mnt_03/ds-dnumrisk/derivatives/ips_masks/sub-01/sub-01_desc-NPC_L_space-conte69_hemi-lh.ips.gii' for output 'out_file' of a WorkbenchSurfaceResample interface"
     ]
    }
   ],
   "source": [
    "resample = WorkbenchSurfaceResample()\n",
    "resample.inputs.in_file = source_file\n",
    "resample.inputs.current_sphere = source_sphere\n",
    "resample.inputs.new_sphere = target_sphere\n",
    "resample.inputs.method = \"BARYCENTRIC\"\n",
    "resample.inputs.out_file = target_file\n",
    "\n",
    "# Run the command\n",
    "resample.run()"
   ]
  },
  {
   "cell_type": "code",
   "execution_count": 48,
   "metadata": {},
   "outputs": [
    {
     "name": "stdout",
     "output_type": "stream",
     "text": [
      "\n",
      "args = <undefined>\n",
      "current_sphere = /mnt_03/ds-dnumrisk/derivatives/freesurfer/sub-01/surf/lh.sphere.gii\n",
      "environ = {}\n",
      "in_file = /mnt_03/ds-dnumrisk/derivatives/ips_masks/sub-01/sub-01_desc-NPC_L_space-fsnative_hemi-lh.ips.gii\n",
      "method = BARYCENTRIC\n",
      "new_sphere = /home/ubuntu/git/BrainSpace/brainspace/datasets/surfaces/conte69_32k_lh_sphere.gii\n",
      "out_file = /mnt_03/ds-dnumrisk/derivatives/ips_masks/sub-01/sub-01_desc-NPC_L_space-conte69_hemi-lh.ips.gii\n",
      "\n"
     ]
    }
   ],
   "source": [
    "print(resample.inputs)"
   ]
  },
  {
   "cell_type": "markdown",
   "metadata": {},
   "source": [
    "wb_command -surface-resample /mnt_03/ds-dnumrisk/derivatives/fmriprep/sub-01/ses-1/func/sub-01_ses-1_task-magjudge_run-1_space-fsaverage_hemi-L_bold.func.gii /mnt_03/ds-dnumrisk/derivatives/freesurfer/fsaverage/surf/lh.sphere.gii /home/ubuntu/git/BrainSpace/brainspace/datasets/surfaces/conte69_32k_lh_sphere.gii sub-01/ses-1/func sub-01_ses-1_task-magjudge_run-1_space-conte69_hemi-L_bold.func.gii -method BARYCENTRIC /mnt_03/ds-dnumrisk/derivatives/fmriprep/\n"
   ]
  },
  {
   "cell_type": "code",
   "execution_count": null,
   "metadata": {},
   "outputs": [],
   "source": []
  },
  {
   "cell_type": "code",
   "execution_count": 11,
   "metadata": {},
   "outputs": [
    {
     "data": {
      "text/plain": [
       "'/mnt_03/ds-dnumrisk/derivatives/sub-01/ses-1/func/sub-01_ses-1_task-magjudge_run-1_space-fsaverage_hemi-L_bold.func.gii'"
      ]
     },
     "execution_count": 11,
     "metadata": {},
     "output_type": "execute_result"
    }
   ],
   "source": [
    "resample.inputs.args = (\n",
    "    \"-method BARYCENTRIC \"\n",
    "    source_file #\"/path/to/input.func.gii \"\n",
    "    source_sphere #\"/path/to/output/lh.sphere.gii \"  # converted FreeSurfer .gii file for left hemisphere\n",
    "    target_sphere #\"/path/to/conte69/L.sphere.32k_fs_LR.surf.gii \"  # Conte69 sphere file\n",
    "    target_file #\"/path/to/output.func.gii\"\n",
    ")"
   ]
  },
  {
   "cell_type": "code",
   "execution_count": 8,
   "metadata": {},
   "outputs": [],
   "source": []
  },
  {
   "cell_type": "code",
   "execution_count": 9,
   "metadata": {},
   "outputs": [
    {
     "data": {
      "text/plain": [
       "'/mnt_03/ds-dnumrisk/derivatives/sub-01/ses-1/func/sub-01_ses-1_task-magjudge_run-1_space-conte69_hemi-L_bold.func.gii'"
      ]
     },
     "execution_count": 9,
     "metadata": {},
     "output_type": "execute_result"
    }
   ],
   "source": [
    "target_file"
   ]
  },
  {
   "cell_type": "code",
   "execution_count": null,
   "metadata": {},
   "outputs": [],
   "source": [
    "resample.inputs.in_file = \"/path/to/your/input.func.gii\"  # replace with actual test file path\n",
    "resample.inputs.method = \"BARYCENTRIC\"\n",
    "resample.inputs.out_file = \"/path/to/your/output.func.gii\"  # replace with output path\n",
    "\n",
    "# Set dummy sphere paths (replace with actual paths)\n",
    "resample.inputs.current_sphere = \"/path/to/current_sphere.surf.gii\"\n",
    "resample.inputs.new_sphere = \"/path/to/new_sphere.surf.gii\"\n",
    "\n",
    "# Run the command\n",
    "resample.run()"
   ]
  },
  {
   "cell_type": "markdown",
   "metadata": {},
   "source": [
    "# Errors\n",
    "\n",
    "ERROR: NAME OF FILE: sub-01_ses-1_task-magjudge_run-1_space-fsaverage_hemi-L_bold.func.gii\n",
    "PATH TO FILE: /mnt_03/ds-dnumrisk/derivatives/fmriprep/sub-01/ses-1/func\n",
    "   Number of data arrays MUST be two in a SurfaceFile.\n",
    "\n",
    "While running:\n",
    "/home/ubuntu/workbench/bin_linux64/../exe_linux64/wb_command -surface-resample /mnt_03/ds-dnumrisk/derivatives/ips_masks/sub-01/sub-01_desc-NPC_L_space-fsnative_hemi-lh.ips.gii /mnt_03/ds-dnumrisk/derivatives/freesurfer/sub-01/surf/lh.sphere.gii /home/ubuntu/git/BrainSpace/brainspace/datasets/surfaces/conte69_32k_lh_sphere.gii /mnt_03/ds-dnumrisk/derivatives/ips_masks/sub-01/sub-01_desc-NPC_L_space-conte69_hemi-lh.ips.gii\n",
    "\n",
    "ERROR: surface-out is missing (No more parameters).\n",
    "\n",
    "\n",
    "\n",
    "wb_command -surface-resample /mnt_03/ds-dnumrisk/derivatives/ips_masks/sub-01/sub-01_desc-NPC_L_space-fsnative_hemi-lh.ips.gii /mnt_03/ds-dnumrisk/derivatives/freesurfer/sub-01/surf/lh.sphere.gii /home/ubuntu/git/BrainSpace/brainspace/datasets/surfaces/conte69_32k_lh_sphere.gii BARYCENTRIC /mnt_03/ds-dnumrisk/derivatives/ips_masks/sub-01/sub-01_desc-NPC_L_space-conte69_hemi-lh.ips.gii\n"
   ]
  },
  {
   "cell_type": "markdown",
   "metadata": {},
   "source": []
  },
  {
   "cell_type": "code",
   "execution_count": 51,
   "metadata": {},
   "outputs": [],
   "source": [
    "from nipype.interfaces.base import CommandLine\n",
    "cli = CommandLine(command='-surface-resample')\n"
   ]
  },
  {
   "cell_type": "code",
   "execution_count": 50,
   "metadata": {},
   "outputs": [
    {
     "ename": "ImportError",
     "evalue": "cannot import name 'WorkbenchSurfaceResample' from 'nipype.interfaces.workbench' (/home/ubuntu/miniconda3/envs/numrefields/lib/python3.10/site-packages/nipype/interfaces/workbench/__init__.py)",
     "output_type": "error",
     "traceback": [
      "\u001b[0;31m---------------------------------------------------------------------------\u001b[0m",
      "\u001b[0;31mImportError\u001b[0m                               Traceback (most recent call last)",
      "Cell \u001b[0;32mIn[50], line 1\u001b[0m\n\u001b[0;32m----> 1\u001b[0m \u001b[38;5;28;01mfrom\u001b[39;00m \u001b[38;5;21;01mnipype\u001b[39;00m\u001b[38;5;21;01m.\u001b[39;00m\u001b[38;5;21;01minterfaces\u001b[39;00m\u001b[38;5;21;01m.\u001b[39;00m\u001b[38;5;21;01mworkbench\u001b[39;00m \u001b[38;5;28;01mimport\u001b[39;00m WorkbenchSurfaceResample\n",
      "\u001b[0;31mImportError\u001b[0m: cannot import name 'WorkbenchSurfaceResample' from 'nipype.interfaces.workbench' (/home/ubuntu/miniconda3/envs/numrefields/lib/python3.10/site-packages/nipype/interfaces/workbench/__init__.py)"
     ]
    }
   ],
   "source": [
    "from nipype.interfaces.workbench import WorkbenchSurfaceResample"
   ]
  },
  {
   "cell_type": "code",
   "execution_count": null,
   "metadata": {},
   "outputs": [],
   "source": []
  }
 ],
 "metadata": {
  "kernelspec": {
   "display_name": "numrefields",
   "language": "python",
   "name": "python3"
  },
  "language_info": {
   "codemirror_mode": {
    "name": "ipython",
    "version": 3
   },
   "file_extension": ".py",
   "mimetype": "text/x-python",
   "name": "python",
   "nbconvert_exporter": "python",
   "pygments_lexer": "ipython3",
   "version": "3.10.11"
  }
 },
 "nbformat": 4,
 "nbformat_minor": 2
}
