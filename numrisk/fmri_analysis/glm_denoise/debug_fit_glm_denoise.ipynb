{
 "cells": [
  {
   "cell_type": "code",
   "execution_count": 1,
   "metadata": {},
   "outputs": [
    {
     "name": "stderr",
     "output_type": "stream",
     "text": [
      "/Users/mrenke/mambaforge/envs/numrefields/lib/python3.10/site-packages/nilearn/glm/__init__.py:55: FutureWarning: The nilearn.glm module is experimental. It may change in any future release of Nilearn.\n",
      "  warn('The nilearn.glm module is experimental. '\n"
     ]
    }
   ],
   "source": [
    "from glmsingle.glmsingle import GLM_single\n",
    "import argparse\n",
    "import os\n",
    "import os.path as op\n",
    "from nilearn import image\n",
    "from numrisk.utils.data import Subject\n",
    "from nilearn.glm.first_level import make_first_level_design_matrix\n",
    "import numpy as np\n",
    "import pandas as pd\n",
    "import warnings\n",
    "warnings.filterwarnings('ignore')\n",
    "\n",
    "bids_folder = '/Volumes/mrenkeED/data/ds-dnumr'"
   ]
  },
  {
   "cell_type": "code",
   "execution_count": 3,
   "metadata": {},
   "outputs": [],
   "source": [
    "subject = '01'\n",
    "session = 1\n",
    "derivatives = op.join(bids_folder, 'derivatives')\n",
    "\n",
    "runs = range(1, 7)\n",
    "runs = range(4,7) # test only half data\n",
    "\n",
    "sub = Subject(subject, bids_folder=bids_folder)\n",
    "\n",
    "ims = sub.get_preprocessed_bold(session=session, runs=runs)\n",
    "\n",
    "base_dir = 'glm_stim1.denoise'"
   ]
  },
  {
   "cell_type": "code",
   "execution_count": 4,
   "metadata": {},
   "outputs": [],
   "source": [
    "data = [image.load_img(im).get_fdata() for im in ims]\n",
    "\n",
    "base_dir = op.join(derivatives, base_dir, f'sub-{subject}',\n",
    "                    f'ses-{session}', 'func')\n",
    "\n"
   ]
  },
  {
   "cell_type": "code",
   "execution_count": 38,
   "metadata": {},
   "outputs": [
    {
     "data": {
      "text/plain": [
       "188"
      ]
     },
     "execution_count": 38,
     "metadata": {},
     "output_type": "execute_result"
    }
   ],
   "source": [
    "np.shape(image.load_img(ims[0]).get_fdata())[3]"
   ]
  },
  {
   "cell_type": "code",
   "execution_count": 5,
   "metadata": {},
   "outputs": [
    {
     "name": "stdout",
     "output_type": "stream",
     "text": [
      "(180, 5)\n"
     ]
    }
   ],
   "source": [
    "onsets = sub.get_fmri_events(session=session, runs = runs)\n",
    "print(np.shape(onsets))\n",
    "onsets.head()\n",
    "\n",
    "tr = 2.3\n",
    "n = np.shape(image.load_img(ims[0]).get_fdata())[3]  # before: 135  np.shape(data)[2]\n",
    "frametimes = np.linspace(tr/2., (n - .5)*tr, n)\n",
    "onsets['onset'] = ((onsets['onset']+tr/2.) // 2.3) * 2.3"
   ]
  },
  {
   "cell_type": "code",
   "execution_count": 14,
   "metadata": {},
   "outputs": [],
   "source": [
    "\n",
    "dm = [make_first_level_design_matrix(frametimes, onsets.loc[run], hrf_model='fir', oversampling=100.,\n",
    "                                        drift_order=0,\n",
    "                                        drift_model=None).drop('constant', axis=1) for run in runs]\n"
   ]
  },
  {
   "cell_type": "code",
   "execution_count": 17,
   "metadata": {},
   "outputs": [
    {
     "data": {
      "text/plain": [
       "[        n2_10_delay_0  n2_11_delay_0  n2_14_delay_0  n2_16_delay_0  \\\n",
       " 1.15              0.0            0.0            0.0            0.0   \n",
       " 3.45              0.0            0.0            0.0            0.0   \n",
       " 5.75              0.0            0.0            0.0            0.0   \n",
       " 8.05              0.0            0.0            0.0            0.0   \n",
       " 10.35             0.0            0.0            0.0            0.0   \n",
       " ...               ...            ...            ...            ...   \n",
       " 422.05            0.0            0.0            0.0            0.0   \n",
       " 424.35            0.0            0.0            0.0            0.0   \n",
       " 426.65            0.0            0.0            0.0            0.0   \n",
       " 428.95            0.0            0.0            0.0            0.0   \n",
       " 431.25            0.0            0.0            0.0            0.0   \n",
       " \n",
       "         n2_19_delay_0  n2_2_delay_0  n2_23_delay_0  n2_28_delay_0  \\\n",
       " 1.15              0.0           0.0            0.0            0.0   \n",
       " 3.45              0.0           0.0            0.0            0.0   \n",
       " 5.75              0.0           0.0            0.0            0.0   \n",
       " 8.05              0.0           0.0            0.0            0.0   \n",
       " 10.35             0.0           0.0            0.0            0.0   \n",
       " ...               ...           ...            ...            ...   \n",
       " 422.05            0.0           0.0            0.0            0.0   \n",
       " 424.35            0.0           0.0            0.0            0.0   \n",
       " 426.65            0.0           0.0            0.0            0.0   \n",
       " 428.95            0.0           0.0            0.0            0.0   \n",
       " 431.25            0.0           0.0            0.0            0.0   \n",
       " \n",
       "         n2_3_delay_0  n2_33_delay_0  ...  trial_111_n1_delay_0  \\\n",
       " 1.15             0.0            0.0  ...                   0.0   \n",
       " 3.45             0.0            0.0  ...                   0.0   \n",
       " 5.75             0.0            0.0  ...                   0.0   \n",
       " 8.05             0.0            0.0  ...                   0.0   \n",
       " 10.35            0.0            0.0  ...                   0.0   \n",
       " ...              ...            ...  ...                   ...   \n",
       " 422.05           0.0            0.0  ...                   0.0   \n",
       " 424.35           0.0            0.0  ...                   0.0   \n",
       " 426.65           0.0            0.0  ...                   0.0   \n",
       " 428.95           0.0            0.0  ...                   0.0   \n",
       " 431.25           0.0            0.0  ...                   0.0   \n",
       " \n",
       "         trial_112_n1_delay_0  trial_113_n1_delay_0  trial_114_n1_delay_0  \\\n",
       " 1.15                     0.0                   0.0                   0.0   \n",
       " 3.45                     0.0                   0.0                   0.0   \n",
       " 5.75                     0.0                   0.0                   0.0   \n",
       " 8.05                     0.0                   0.0                   0.0   \n",
       " 10.35                    0.0                   0.0                   0.0   \n",
       " ...                      ...                   ...                   ...   \n",
       " 422.05                   0.0                   0.0                   0.0   \n",
       " 424.35                   0.0                   0.0                   0.0   \n",
       " 426.65                   0.0                   0.0                   0.0   \n",
       " 428.95                   0.0                   0.0                   0.0   \n",
       " 431.25                   0.0                   0.0                   0.0   \n",
       " \n",
       "         trial_115_n1_delay_0  trial_116_n1_delay_0  trial_117_n1_delay_0  \\\n",
       " 1.15                     0.0                   0.0                   0.0   \n",
       " 3.45                     0.0                   0.0                   0.0   \n",
       " 5.75                     0.0                   0.0                   0.0   \n",
       " 8.05                     0.0                   0.0                   0.0   \n",
       " 10.35                    0.0                   0.0                   0.0   \n",
       " ...                      ...                   ...                   ...   \n",
       " 422.05                   0.0                   0.0                   0.0   \n",
       " 424.35                   0.0                   0.0                   0.0   \n",
       " 426.65                   0.0                   0.0                   0.0   \n",
       " 428.95                   0.0                   0.0                   0.0   \n",
       " 431.25                   0.0                   0.0                   0.0   \n",
       " \n",
       "         trial_118_n1_delay_0  trial_119_n1_delay_0  trial_120_n1_delay_0  \n",
       " 1.15                     0.0                   0.0                   0.0  \n",
       " 3.45                     0.0                   0.0                   0.0  \n",
       " 5.75                     0.0                   0.0                   0.0  \n",
       " 8.05                     0.0                   0.0                   0.0  \n",
       " 10.35                    0.0                   0.0                   0.0  \n",
       " ...                      ...                   ...                   ...  \n",
       " 422.05                   0.0                   0.0                   0.0  \n",
       " 424.35                   0.0                   0.0                   0.0  \n",
       " 426.65                   0.0                   0.0                   0.0  \n",
       " 428.95                   0.0                   0.0                   0.0  \n",
       " 431.25                   0.0                   0.0                   0.0  \n",
       " \n",
       " [188 rows x 47 columns],\n",
       "         n2_10_delay_0  n2_11_delay_0  n2_14_delay_0  n2_16_delay_0  \\\n",
       " 1.15              0.0            0.0            0.0            0.0   \n",
       " 3.45              0.0            0.0            0.0            0.0   \n",
       " 5.75              0.0            0.0            0.0            0.0   \n",
       " 8.05              0.0            0.0            0.0            0.0   \n",
       " 10.35             0.0            0.0            0.0            0.0   \n",
       " ...               ...            ...            ...            ...   \n",
       " 422.05            0.0            0.0            0.0            0.0   \n",
       " 424.35            0.0            0.0            0.0            0.0   \n",
       " 426.65            0.0            0.0            0.0            0.0   \n",
       " 428.95            0.0            0.0            0.0            0.0   \n",
       " 431.25            0.0            0.0            0.0            0.0   \n",
       " \n",
       "         n2_20_delay_0  n2_23_delay_0  n2_3_delay_0  n2_33_delay_0  \\\n",
       " 1.15              0.0            0.0           0.0            0.0   \n",
       " 3.45              0.0            0.0           0.0            0.0   \n",
       " 5.75              0.0            0.0           0.0            0.0   \n",
       " 8.05              0.0            0.0           0.0            0.0   \n",
       " 10.35             0.0            0.0           0.0            0.0   \n",
       " ...               ...            ...           ...            ...   \n",
       " 422.05            0.0            0.0           0.0            0.0   \n",
       " 424.35            0.0            0.0           0.0            0.0   \n",
       " 426.65            0.0            0.0           0.0            0.0   \n",
       " 428.95            0.0            0.0           0.0            0.0   \n",
       " 431.25            0.0            0.0           0.0            0.0   \n",
       " \n",
       "         n2_39_delay_0  n2_4_delay_0  ...  trial_141_n1_delay_0  \\\n",
       " 1.15              0.0           0.0  ...                   0.0   \n",
       " 3.45              0.0           0.0  ...                   0.0   \n",
       " 5.75              0.0           0.0  ...                   0.0   \n",
       " 8.05              0.0           0.0  ...                   0.0   \n",
       " 10.35             0.0           0.0  ...                   0.0   \n",
       " ...               ...           ...  ...                   ...   \n",
       " 422.05            0.0           0.0  ...                   0.0   \n",
       " 424.35            0.0           0.0  ...                   0.0   \n",
       " 426.65            0.0           0.0  ...                   0.0   \n",
       " 428.95            0.0           0.0  ...                   0.0   \n",
       " 431.25            0.0           0.0  ...                   0.0   \n",
       " \n",
       "         trial_142_n1_delay_0  trial_143_n1_delay_0  trial_144_n1_delay_0  \\\n",
       " 1.15                     0.0                   0.0                   0.0   \n",
       " 3.45                     0.0                   0.0                   0.0   \n",
       " 5.75                     0.0                   0.0                   0.0   \n",
       " 8.05                     0.0                   0.0                   0.0   \n",
       " 10.35                    0.0                   0.0                   0.0   \n",
       " ...                      ...                   ...                   ...   \n",
       " 422.05                   0.0                   0.0                   0.0   \n",
       " 424.35                   0.0                   0.0                   0.0   \n",
       " 426.65                   0.0                   0.0                   0.0   \n",
       " 428.95                   0.0                   0.0                   0.0   \n",
       " 431.25                   0.0                   0.0                   0.0   \n",
       " \n",
       "         trial_145_n1_delay_0  trial_146_n1_delay_0  trial_147_n1_delay_0  \\\n",
       " 1.15                     0.0                   0.0                   0.0   \n",
       " 3.45                     0.0                   0.0                   0.0   \n",
       " 5.75                     0.0                   0.0                   0.0   \n",
       " 8.05                     0.0                   0.0                   0.0   \n",
       " 10.35                    0.0                   0.0                   0.0   \n",
       " ...                      ...                   ...                   ...   \n",
       " 422.05                   0.0                   0.0                   0.0   \n",
       " 424.35                   0.0                   0.0                   0.0   \n",
       " 426.65                   0.0                   0.0                   0.0   \n",
       " 428.95                   0.0                   0.0                   0.0   \n",
       " 431.25                   0.0                   0.0                   0.0   \n",
       " \n",
       "         trial_148_n1_delay_0  trial_149_n1_delay_0  trial_150_n1_delay_0  \n",
       " 1.15                     0.0                   0.0                   0.0  \n",
       " 3.45                     0.0                   0.0                   0.0  \n",
       " 5.75                     0.0                   0.0                   0.0  \n",
       " 8.05                     0.0                   0.0                   0.0  \n",
       " 10.35                    0.0                   0.0                   0.0  \n",
       " ...                      ...                   ...                   ...  \n",
       " 422.05                   0.0                   0.0                   0.0  \n",
       " 424.35                   0.0                   0.0                   0.0  \n",
       " 426.65                   0.0                   0.0                   0.0  \n",
       " 428.95                   0.0                   0.0                   0.0  \n",
       " 431.25                   0.0                   0.0                   0.0  \n",
       " \n",
       " [188 rows x 45 columns],\n",
       "         n2_14_delay_0  n2_16_delay_0  n2_2_delay_0  n2_23_delay_0  \\\n",
       " 1.15              0.0            0.0           0.0            0.0   \n",
       " 3.45              0.0            0.0           0.0            0.0   \n",
       " 5.75              0.0            0.0           0.0            0.0   \n",
       " 8.05              0.0            0.0           0.0            0.0   \n",
       " 10.35             0.0            0.0           0.0            0.0   \n",
       " ...               ...            ...           ...            ...   \n",
       " 422.05            0.0            0.0           0.0            0.0   \n",
       " 424.35            0.0            0.0           0.0            0.0   \n",
       " 426.65            0.0            0.0           0.0            0.0   \n",
       " 428.95            0.0            0.0           0.0            0.0   \n",
       " 431.25            0.0            0.0           0.0            0.0   \n",
       " \n",
       "         n2_3_delay_0  n2_39_delay_0  n2_4_delay_0  n2_40_delay_0  \\\n",
       " 1.15             0.0            0.0           0.0            0.0   \n",
       " 3.45             0.0            0.0           0.0            0.0   \n",
       " 5.75             0.0            0.0           0.0            0.0   \n",
       " 8.05             0.0            0.0           0.0            0.0   \n",
       " 10.35            0.0            0.0           0.0            0.0   \n",
       " ...              ...            ...           ...            ...   \n",
       " 422.05           0.0            0.0           0.0            0.0   \n",
       " 424.35           0.0            0.0           0.0            0.0   \n",
       " 426.65           0.0            0.0           0.0            0.0   \n",
       " 428.95           0.0            0.0           0.0            0.0   \n",
       " 431.25           0.0            0.0           0.0            0.0   \n",
       " \n",
       "         n2_5_delay_0  n2_7_delay_0  ...  trial_171_n1_delay_0  \\\n",
       " 1.15             0.0           0.0  ...                   0.0   \n",
       " 3.45             0.0           0.0  ...                   0.0   \n",
       " 5.75             0.0           0.0  ...                   0.0   \n",
       " 8.05             0.0           0.0  ...                   0.0   \n",
       " 10.35            0.0           0.0  ...                   0.0   \n",
       " ...              ...           ...  ...                   ...   \n",
       " 422.05           0.0           0.0  ...                   0.0   \n",
       " 424.35           0.0           0.0  ...                   0.0   \n",
       " 426.65           0.0           0.0  ...                   0.0   \n",
       " 428.95           0.0           0.0  ...                   0.0   \n",
       " 431.25           0.0           0.0  ...                   0.0   \n",
       " \n",
       "         trial_172_n1_delay_0  trial_173_n1_delay_0  trial_174_n1_delay_0  \\\n",
       " 1.15                     0.0                   0.0                   0.0   \n",
       " 3.45                     0.0                   0.0                   0.0   \n",
       " 5.75                     0.0                   0.0                   0.0   \n",
       " 8.05                     0.0                   0.0                   0.0   \n",
       " 10.35                    0.0                   0.0                   0.0   \n",
       " ...                      ...                   ...                   ...   \n",
       " 422.05                   0.0                   0.0                   0.0   \n",
       " 424.35                   0.0                   0.0                   0.0   \n",
       " 426.65                   0.0                   0.0                   0.0   \n",
       " 428.95                   0.0                   0.0                   0.0   \n",
       " 431.25                   0.0                   0.0                   0.0   \n",
       " \n",
       "         trial_175_n1_delay_0  trial_176_n1_delay_0  trial_177_n1_delay_0  \\\n",
       " 1.15                     0.0                   0.0                   0.0   \n",
       " 3.45                     0.0                   0.0                   0.0   \n",
       " 5.75                     0.0                   0.0                   0.0   \n",
       " 8.05                     0.0                   0.0                   0.0   \n",
       " 10.35                    0.0                   0.0                   0.0   \n",
       " ...                      ...                   ...                   ...   \n",
       " 422.05                   0.0                   0.0                   0.0   \n",
       " 424.35                   0.0                   0.0                   0.0   \n",
       " 426.65                   0.0                   0.0                   0.0   \n",
       " 428.95                   0.0                   0.0                   0.0   \n",
       " 431.25                   0.0                   0.0                   0.0   \n",
       " \n",
       "         trial_178_n1_delay_0  trial_179_n1_delay_0  trial_180_n1_delay_0  \n",
       " 1.15                     0.0                   0.0                   0.0  \n",
       " 3.45                     0.0                   0.0                   0.0  \n",
       " 5.75                     0.0                   0.0                   0.0  \n",
       " 8.05                     0.0                   0.0                   0.0  \n",
       " 10.35                    0.0                   0.0                   0.0  \n",
       " ...                      ...                   ...                   ...  \n",
       " 422.05                   0.0                   0.0                   0.0  \n",
       " 424.35                   0.0                   0.0                   0.0  \n",
       " 426.65                   0.0                   0.0                   0.0  \n",
       " 428.95                   0.0                   0.0                   0.0  \n",
       " 431.25                   0.0                   0.0                   0.0  \n",
       " \n",
       " [188 rows x 41 columns]]"
      ]
     },
     "execution_count": 17,
     "metadata": {},
     "output_type": "execute_result"
    }
   ],
   "source": [
    "dm"
   ]
  },
  {
   "cell_type": "code",
   "execution_count": 9,
   "metadata": {},
   "outputs": [
    {
     "data": {
      "text/html": [
       "<div>\n",
       "<style scoped>\n",
       "    .dataframe tbody tr th:only-of-type {\n",
       "        vertical-align: middle;\n",
       "    }\n",
       "\n",
       "    .dataframe tbody tr th {\n",
       "        vertical-align: top;\n",
       "    }\n",
       "\n",
       "    .dataframe thead th {\n",
       "        text-align: right;\n",
       "    }\n",
       "</style>\n",
       "<table border=\"1\" class=\"dataframe\">\n",
       "  <thead>\n",
       "    <tr style=\"text-align: right;\">\n",
       "      <th></th>\n",
       "      <th></th>\n",
       "      <th>n2_10</th>\n",
       "      <th>n2_11</th>\n",
       "      <th>n2_14</th>\n",
       "      <th>n2_16</th>\n",
       "      <th>n2_19</th>\n",
       "      <th>n2_2</th>\n",
       "      <th>n2_23</th>\n",
       "      <th>n2_28</th>\n",
       "      <th>n2_3</th>\n",
       "      <th>n2_33</th>\n",
       "      <th>...</th>\n",
       "      <th>trial_171_n1</th>\n",
       "      <th>trial_172_n1</th>\n",
       "      <th>trial_173_n1</th>\n",
       "      <th>trial_174_n1</th>\n",
       "      <th>trial_175_n1</th>\n",
       "      <th>trial_176_n1</th>\n",
       "      <th>trial_177_n1</th>\n",
       "      <th>trial_178_n1</th>\n",
       "      <th>trial_179_n1</th>\n",
       "      <th>trial_180_n1</th>\n",
       "    </tr>\n",
       "    <tr>\n",
       "      <th>run</th>\n",
       "      <th></th>\n",
       "      <th></th>\n",
       "      <th></th>\n",
       "      <th></th>\n",
       "      <th></th>\n",
       "      <th></th>\n",
       "      <th></th>\n",
       "      <th></th>\n",
       "      <th></th>\n",
       "      <th></th>\n",
       "      <th></th>\n",
       "      <th></th>\n",
       "      <th></th>\n",
       "      <th></th>\n",
       "      <th></th>\n",
       "      <th></th>\n",
       "      <th></th>\n",
       "      <th></th>\n",
       "      <th></th>\n",
       "      <th></th>\n",
       "      <th></th>\n",
       "      <th></th>\n",
       "    </tr>\n",
       "  </thead>\n",
       "  <tbody>\n",
       "    <tr>\n",
       "      <th rowspan=\"5\" valign=\"top\">1</th>\n",
       "      <th>1.15</th>\n",
       "      <td>0.0</td>\n",
       "      <td>0.0</td>\n",
       "      <td>0.0</td>\n",
       "      <td>0.0</td>\n",
       "      <td>0.0</td>\n",
       "      <td>0.0</td>\n",
       "      <td>0.0</td>\n",
       "      <td>0.0</td>\n",
       "      <td>0.0</td>\n",
       "      <td>0.0</td>\n",
       "      <td>...</td>\n",
       "      <td>0.0</td>\n",
       "      <td>0.0</td>\n",
       "      <td>0.0</td>\n",
       "      <td>0.0</td>\n",
       "      <td>0.0</td>\n",
       "      <td>0.0</td>\n",
       "      <td>0.0</td>\n",
       "      <td>0.0</td>\n",
       "      <td>0.0</td>\n",
       "      <td>0.0</td>\n",
       "    </tr>\n",
       "    <tr>\n",
       "      <th>3.45</th>\n",
       "      <td>0.0</td>\n",
       "      <td>0.0</td>\n",
       "      <td>0.0</td>\n",
       "      <td>0.0</td>\n",
       "      <td>0.0</td>\n",
       "      <td>0.0</td>\n",
       "      <td>0.0</td>\n",
       "      <td>0.0</td>\n",
       "      <td>0.0</td>\n",
       "      <td>0.0</td>\n",
       "      <td>...</td>\n",
       "      <td>0.0</td>\n",
       "      <td>0.0</td>\n",
       "      <td>0.0</td>\n",
       "      <td>0.0</td>\n",
       "      <td>0.0</td>\n",
       "      <td>0.0</td>\n",
       "      <td>0.0</td>\n",
       "      <td>0.0</td>\n",
       "      <td>0.0</td>\n",
       "      <td>0.0</td>\n",
       "    </tr>\n",
       "    <tr>\n",
       "      <th>5.75</th>\n",
       "      <td>0.0</td>\n",
       "      <td>0.0</td>\n",
       "      <td>0.0</td>\n",
       "      <td>0.0</td>\n",
       "      <td>0.0</td>\n",
       "      <td>0.0</td>\n",
       "      <td>0.0</td>\n",
       "      <td>0.0</td>\n",
       "      <td>0.0</td>\n",
       "      <td>0.0</td>\n",
       "      <td>...</td>\n",
       "      <td>0.0</td>\n",
       "      <td>0.0</td>\n",
       "      <td>0.0</td>\n",
       "      <td>0.0</td>\n",
       "      <td>0.0</td>\n",
       "      <td>0.0</td>\n",
       "      <td>0.0</td>\n",
       "      <td>0.0</td>\n",
       "      <td>0.0</td>\n",
       "      <td>0.0</td>\n",
       "    </tr>\n",
       "    <tr>\n",
       "      <th>8.05</th>\n",
       "      <td>0.0</td>\n",
       "      <td>0.0</td>\n",
       "      <td>0.0</td>\n",
       "      <td>0.0</td>\n",
       "      <td>0.0</td>\n",
       "      <td>0.0</td>\n",
       "      <td>0.0</td>\n",
       "      <td>0.0</td>\n",
       "      <td>0.0</td>\n",
       "      <td>0.0</td>\n",
       "      <td>...</td>\n",
       "      <td>0.0</td>\n",
       "      <td>0.0</td>\n",
       "      <td>0.0</td>\n",
       "      <td>0.0</td>\n",
       "      <td>0.0</td>\n",
       "      <td>0.0</td>\n",
       "      <td>0.0</td>\n",
       "      <td>0.0</td>\n",
       "      <td>0.0</td>\n",
       "      <td>0.0</td>\n",
       "    </tr>\n",
       "    <tr>\n",
       "      <th>10.35</th>\n",
       "      <td>0.0</td>\n",
       "      <td>0.0</td>\n",
       "      <td>0.0</td>\n",
       "      <td>0.0</td>\n",
       "      <td>0.0</td>\n",
       "      <td>0.0</td>\n",
       "      <td>0.0</td>\n",
       "      <td>0.0</td>\n",
       "      <td>0.0</td>\n",
       "      <td>0.0</td>\n",
       "      <td>...</td>\n",
       "      <td>0.0</td>\n",
       "      <td>0.0</td>\n",
       "      <td>0.0</td>\n",
       "      <td>0.0</td>\n",
       "      <td>0.0</td>\n",
       "      <td>0.0</td>\n",
       "      <td>0.0</td>\n",
       "      <td>0.0</td>\n",
       "      <td>0.0</td>\n",
       "      <td>0.0</td>\n",
       "    </tr>\n",
       "  </tbody>\n",
       "</table>\n",
       "<p>5 rows × 110 columns</p>\n",
       "</div>"
      ],
      "text/plain": [
       "           n2_10  n2_11  n2_14  n2_16  n2_19  n2_2  n2_23  n2_28  n2_3  n2_33  \\\n",
       "run                                                                             \n",
       "1   1.15     0.0    0.0    0.0    0.0    0.0   0.0    0.0    0.0   0.0    0.0   \n",
       "    3.45     0.0    0.0    0.0    0.0    0.0   0.0    0.0    0.0   0.0    0.0   \n",
       "    5.75     0.0    0.0    0.0    0.0    0.0   0.0    0.0    0.0   0.0    0.0   \n",
       "    8.05     0.0    0.0    0.0    0.0    0.0   0.0    0.0    0.0   0.0    0.0   \n",
       "    10.35    0.0    0.0    0.0    0.0    0.0   0.0    0.0    0.0   0.0    0.0   \n",
       "\n",
       "           ...  trial_171_n1  trial_172_n1  trial_173_n1  trial_174_n1  \\\n",
       "run        ...                                                           \n",
       "1   1.15   ...           0.0           0.0           0.0           0.0   \n",
       "    3.45   ...           0.0           0.0           0.0           0.0   \n",
       "    5.75   ...           0.0           0.0           0.0           0.0   \n",
       "    8.05   ...           0.0           0.0           0.0           0.0   \n",
       "    10.35  ...           0.0           0.0           0.0           0.0   \n",
       "\n",
       "           trial_175_n1  trial_176_n1  trial_177_n1  trial_178_n1  \\\n",
       "run                                                                 \n",
       "1   1.15            0.0           0.0           0.0           0.0   \n",
       "    3.45            0.0           0.0           0.0           0.0   \n",
       "    5.75            0.0           0.0           0.0           0.0   \n",
       "    8.05            0.0           0.0           0.0           0.0   \n",
       "    10.35           0.0           0.0           0.0           0.0   \n",
       "\n",
       "           trial_179_n1  trial_180_n1  \n",
       "run                                    \n",
       "1   1.15            0.0           0.0  \n",
       "    3.45            0.0           0.0  \n",
       "    5.75            0.0           0.0  \n",
       "    8.05            0.0           0.0  \n",
       "    10.35           0.0           0.0  \n",
       "\n",
       "[5 rows x 110 columns]"
      ]
     },
     "execution_count": 9,
     "metadata": {},
     "output_type": "execute_result"
    }
   ],
   "source": [
    "dm = pd.concat(dm, keys=runs, names=['run']).fillna(0)\n",
    "dm.columns = [c.replace('_delay_0', '') for c in dm.columns]\n",
    "dm /= dm.max()\n",
    "#print(dm)\n",
    "dm[dm < 1.0] = 0.0\n",
    "print(dm.shape)"
   ]
  },
  {
   "cell_type": "code",
   "execution_count": 8,
   "metadata": {},
   "outputs": [
    {
     "ename": "KeyError",
     "evalue": "4",
     "output_type": "error",
     "traceback": [
      "\u001b[0;31m---------------------------------------------------------------------------\u001b[0m",
      "\u001b[0;31mKeyError\u001b[0m                                  Traceback (most recent call last)",
      "File \u001b[0;32m~/mambaforge/envs/numrefields/lib/python3.10/site-packages/pandas/core/indexes/base.py:3621\u001b[0m, in \u001b[0;36mIndex.get_loc\u001b[0;34m(self, key, method, tolerance)\u001b[0m\n\u001b[1;32m   3620\u001b[0m \u001b[39mtry\u001b[39;00m:\n\u001b[0;32m-> 3621\u001b[0m     \u001b[39mreturn\u001b[39;00m \u001b[39mself\u001b[39;49m\u001b[39m.\u001b[39;49m_engine\u001b[39m.\u001b[39;49mget_loc(casted_key)\n\u001b[1;32m   3622\u001b[0m \u001b[39mexcept\u001b[39;00m \u001b[39mKeyError\u001b[39;00m \u001b[39mas\u001b[39;00m err:\n",
      "File \u001b[0;32m~/mambaforge/envs/numrefields/lib/python3.10/site-packages/pandas/_libs/index.pyx:136\u001b[0m, in \u001b[0;36mpandas._libs.index.IndexEngine.get_loc\u001b[0;34m()\u001b[0m\n",
      "File \u001b[0;32m~/mambaforge/envs/numrefields/lib/python3.10/site-packages/pandas/_libs/index.pyx:163\u001b[0m, in \u001b[0;36mpandas._libs.index.IndexEngine.get_loc\u001b[0;34m()\u001b[0m\n",
      "File \u001b[0;32mpandas/_libs/hashtable_class_helper.pxi:2131\u001b[0m, in \u001b[0;36mpandas._libs.hashtable.Int64HashTable.get_item\u001b[0;34m()\u001b[0m\n",
      "File \u001b[0;32mpandas/_libs/hashtable_class_helper.pxi:2140\u001b[0m, in \u001b[0;36mpandas._libs.hashtable.Int64HashTable.get_item\u001b[0;34m()\u001b[0m\n",
      "\u001b[0;31mKeyError\u001b[0m: 4",
      "\nThe above exception was the direct cause of the following exception:\n",
      "\u001b[0;31mKeyError\u001b[0m                                  Traceback (most recent call last)",
      "\u001b[1;32m/Users/mrenke/git/numrisk/numrisk/fmri_analysis/glm_denoise/debug_fit_glm_denoise.ipynb Cell 7\u001b[0m line \u001b[0;36m<cell line: 1>\u001b[0;34m()\u001b[0m\n\u001b[0;32m----> <a href='vscode-notebook-cell:/Users/mrenke/git/numrisk/numrisk/fmri_analysis/glm_denoise/debug_fit_glm_denoise.ipynb#X10sZmlsZQ%3D%3D?line=0'>1</a>\u001b[0m X \u001b[39m=\u001b[39m [dm\u001b[39m.\u001b[39mloc[run]\u001b[39m.\u001b[39mvalues \u001b[39mfor\u001b[39;00m run \u001b[39min\u001b[39;00m runs]\n\u001b[1;32m      <a href='vscode-notebook-cell:/Users/mrenke/git/numrisk/numrisk/fmri_analysis/glm_denoise/debug_fit_glm_denoise.ipynb#X10sZmlsZQ%3D%3D?line=2'>3</a>\u001b[0m opt \u001b[39m=\u001b[39m \u001b[39mdict\u001b[39m()\n\u001b[1;32m      <a href='vscode-notebook-cell:/Users/mrenke/git/numrisk/numrisk/fmri_analysis/glm_denoise/debug_fit_glm_denoise.ipynb#X10sZmlsZQ%3D%3D?line=3'>4</a>\u001b[0m opt[\u001b[39m'\u001b[39m\u001b[39mwantlibrary\u001b[39m\u001b[39m'\u001b[39m] \u001b[39m=\u001b[39m \u001b[39m1\u001b[39m\n",
      "\u001b[1;32m/Users/mrenke/git/numrisk/numrisk/fmri_analysis/glm_denoise/debug_fit_glm_denoise.ipynb Cell 7\u001b[0m line \u001b[0;36m<listcomp>\u001b[0;34m(.0)\u001b[0m\n\u001b[0;32m----> <a href='vscode-notebook-cell:/Users/mrenke/git/numrisk/numrisk/fmri_analysis/glm_denoise/debug_fit_glm_denoise.ipynb#X10sZmlsZQ%3D%3D?line=0'>1</a>\u001b[0m X \u001b[39m=\u001b[39m [dm\u001b[39m.\u001b[39;49mloc[run]\u001b[39m.\u001b[39mvalues \u001b[39mfor\u001b[39;00m run \u001b[39min\u001b[39;00m runs]\n\u001b[1;32m      <a href='vscode-notebook-cell:/Users/mrenke/git/numrisk/numrisk/fmri_analysis/glm_denoise/debug_fit_glm_denoise.ipynb#X10sZmlsZQ%3D%3D?line=2'>3</a>\u001b[0m opt \u001b[39m=\u001b[39m \u001b[39mdict\u001b[39m()\n\u001b[1;32m      <a href='vscode-notebook-cell:/Users/mrenke/git/numrisk/numrisk/fmri_analysis/glm_denoise/debug_fit_glm_denoise.ipynb#X10sZmlsZQ%3D%3D?line=3'>4</a>\u001b[0m opt[\u001b[39m'\u001b[39m\u001b[39mwantlibrary\u001b[39m\u001b[39m'\u001b[39m] \u001b[39m=\u001b[39m \u001b[39m1\u001b[39m\n",
      "File \u001b[0;32m~/mambaforge/envs/numrefields/lib/python3.10/site-packages/pandas/core/indexing.py:967\u001b[0m, in \u001b[0;36m_LocationIndexer.__getitem__\u001b[0;34m(self, key)\u001b[0m\n\u001b[1;32m    964\u001b[0m axis \u001b[39m=\u001b[39m \u001b[39mself\u001b[39m\u001b[39m.\u001b[39maxis \u001b[39mor\u001b[39;00m \u001b[39m0\u001b[39m\n\u001b[1;32m    966\u001b[0m maybe_callable \u001b[39m=\u001b[39m com\u001b[39m.\u001b[39mapply_if_callable(key, \u001b[39mself\u001b[39m\u001b[39m.\u001b[39mobj)\n\u001b[0;32m--> 967\u001b[0m \u001b[39mreturn\u001b[39;00m \u001b[39mself\u001b[39;49m\u001b[39m.\u001b[39;49m_getitem_axis(maybe_callable, axis\u001b[39m=\u001b[39;49maxis)\n",
      "File \u001b[0;32m~/mambaforge/envs/numrefields/lib/python3.10/site-packages/pandas/core/indexing.py:1202\u001b[0m, in \u001b[0;36m_LocIndexer._getitem_axis\u001b[0;34m(self, key, axis)\u001b[0m\n\u001b[1;32m   1200\u001b[0m \u001b[39m# fall thru to straight lookup\u001b[39;00m\n\u001b[1;32m   1201\u001b[0m \u001b[39mself\u001b[39m\u001b[39m.\u001b[39m_validate_key(key, axis)\n\u001b[0;32m-> 1202\u001b[0m \u001b[39mreturn\u001b[39;00m \u001b[39mself\u001b[39;49m\u001b[39m.\u001b[39;49m_get_label(key, axis\u001b[39m=\u001b[39;49maxis)\n",
      "File \u001b[0;32m~/mambaforge/envs/numrefields/lib/python3.10/site-packages/pandas/core/indexing.py:1153\u001b[0m, in \u001b[0;36m_LocIndexer._get_label\u001b[0;34m(self, label, axis)\u001b[0m\n\u001b[1;32m   1151\u001b[0m \u001b[39mdef\u001b[39;00m \u001b[39m_get_label\u001b[39m(\u001b[39mself\u001b[39m, label, axis: \u001b[39mint\u001b[39m):\n\u001b[1;32m   1152\u001b[0m     \u001b[39m# GH#5667 this will fail if the label is not present in the axis.\u001b[39;00m\n\u001b[0;32m-> 1153\u001b[0m     \u001b[39mreturn\u001b[39;00m \u001b[39mself\u001b[39;49m\u001b[39m.\u001b[39;49mobj\u001b[39m.\u001b[39;49mxs(label, axis\u001b[39m=\u001b[39;49maxis)\n",
      "File \u001b[0;32m~/mambaforge/envs/numrefields/lib/python3.10/site-packages/pandas/core/generic.py:3857\u001b[0m, in \u001b[0;36mNDFrame.xs\u001b[0;34m(self, key, axis, level, drop_level)\u001b[0m\n\u001b[1;32m   3854\u001b[0m \u001b[39mself\u001b[39m\u001b[39m.\u001b[39m_consolidate_inplace()\n\u001b[1;32m   3856\u001b[0m \u001b[39mif\u001b[39;00m \u001b[39misinstance\u001b[39m(index, MultiIndex):\n\u001b[0;32m-> 3857\u001b[0m     loc, new_index \u001b[39m=\u001b[39m index\u001b[39m.\u001b[39;49m_get_loc_level(key, level\u001b[39m=\u001b[39;49m\u001b[39m0\u001b[39;49m)\n\u001b[1;32m   3858\u001b[0m     \u001b[39mif\u001b[39;00m \u001b[39mnot\u001b[39;00m drop_level:\n\u001b[1;32m   3859\u001b[0m         \u001b[39mif\u001b[39;00m lib\u001b[39m.\u001b[39mis_integer(loc):\n",
      "File \u001b[0;32m~/mambaforge/envs/numrefields/lib/python3.10/site-packages/pandas/core/indexes/multi.py:3113\u001b[0m, in \u001b[0;36mMultiIndex._get_loc_level\u001b[0;34m(self, key, level)\u001b[0m\n\u001b[1;32m   3111\u001b[0m         \u001b[39mreturn\u001b[39;00m indexer, maybe_mi_droplevels(indexer, ilevels)\n\u001b[1;32m   3112\u001b[0m \u001b[39melse\u001b[39;00m:\n\u001b[0;32m-> 3113\u001b[0m     indexer \u001b[39m=\u001b[39m \u001b[39mself\u001b[39;49m\u001b[39m.\u001b[39;49m_get_level_indexer(key, level\u001b[39m=\u001b[39;49mlevel)\n\u001b[1;32m   3114\u001b[0m     \u001b[39mif\u001b[39;00m (\n\u001b[1;32m   3115\u001b[0m         \u001b[39misinstance\u001b[39m(key, \u001b[39mstr\u001b[39m)\n\u001b[1;32m   3116\u001b[0m         \u001b[39mand\u001b[39;00m \u001b[39mself\u001b[39m\u001b[39m.\u001b[39mlevels[level]\u001b[39m.\u001b[39m_supports_partial_string_indexing\n\u001b[1;32m   3117\u001b[0m     ):\n\u001b[1;32m   3118\u001b[0m         \u001b[39m# check to see if we did an exact lookup vs sliced\u001b[39;00m\n\u001b[1;32m   3119\u001b[0m         check \u001b[39m=\u001b[39m \u001b[39mself\u001b[39m\u001b[39m.\u001b[39mlevels[level]\u001b[39m.\u001b[39mget_loc(key)\n",
      "File \u001b[0;32m~/mambaforge/envs/numrefields/lib/python3.10/site-packages/pandas/core/indexes/multi.py:3222\u001b[0m, in \u001b[0;36mMultiIndex._get_level_indexer\u001b[0;34m(self, key, level, indexer)\u001b[0m\n\u001b[1;32m   3218\u001b[0m         \u001b[39mreturn\u001b[39;00m \u001b[39mslice\u001b[39m(i, j, step)\n\u001b[1;32m   3220\u001b[0m \u001b[39melse\u001b[39;00m:\n\u001b[0;32m-> 3222\u001b[0m     idx \u001b[39m=\u001b[39m \u001b[39mself\u001b[39;49m\u001b[39m.\u001b[39;49m_get_loc_single_level_index(level_index, key)\n\u001b[1;32m   3224\u001b[0m     \u001b[39mif\u001b[39;00m level \u001b[39m>\u001b[39m \u001b[39m0\u001b[39m \u001b[39mor\u001b[39;00m \u001b[39mself\u001b[39m\u001b[39m.\u001b[39m_lexsort_depth \u001b[39m==\u001b[39m \u001b[39m0\u001b[39m:\n\u001b[1;32m   3225\u001b[0m         \u001b[39m# Desired level is not sorted\u001b[39;00m\n\u001b[1;32m   3226\u001b[0m         \u001b[39mif\u001b[39;00m \u001b[39misinstance\u001b[39m(idx, \u001b[39mslice\u001b[39m):\n\u001b[1;32m   3227\u001b[0m             \u001b[39m# test_get_loc_partial_timestamp_multiindex\u001b[39;00m\n",
      "File \u001b[0;32m~/mambaforge/envs/numrefields/lib/python3.10/site-packages/pandas/core/indexes/multi.py:2802\u001b[0m, in \u001b[0;36mMultiIndex._get_loc_single_level_index\u001b[0;34m(self, level_index, key)\u001b[0m\n\u001b[1;32m   2800\u001b[0m     \u001b[39mreturn\u001b[39;00m \u001b[39m-\u001b[39m\u001b[39m1\u001b[39m\n\u001b[1;32m   2801\u001b[0m \u001b[39melse\u001b[39;00m:\n\u001b[0;32m-> 2802\u001b[0m     \u001b[39mreturn\u001b[39;00m level_index\u001b[39m.\u001b[39;49mget_loc(key)\n",
      "File \u001b[0;32m~/mambaforge/envs/numrefields/lib/python3.10/site-packages/pandas/core/indexes/base.py:3623\u001b[0m, in \u001b[0;36mIndex.get_loc\u001b[0;34m(self, key, method, tolerance)\u001b[0m\n\u001b[1;32m   3621\u001b[0m     \u001b[39mreturn\u001b[39;00m \u001b[39mself\u001b[39m\u001b[39m.\u001b[39m_engine\u001b[39m.\u001b[39mget_loc(casted_key)\n\u001b[1;32m   3622\u001b[0m \u001b[39mexcept\u001b[39;00m \u001b[39mKeyError\u001b[39;00m \u001b[39mas\u001b[39;00m err:\n\u001b[0;32m-> 3623\u001b[0m     \u001b[39mraise\u001b[39;00m \u001b[39mKeyError\u001b[39;00m(key) \u001b[39mfrom\u001b[39;00m \u001b[39merr\u001b[39;00m\n\u001b[1;32m   3624\u001b[0m \u001b[39mexcept\u001b[39;00m \u001b[39mTypeError\u001b[39;00m:\n\u001b[1;32m   3625\u001b[0m     \u001b[39m# If we have a listlike key, _check_indexing_error will raise\u001b[39;00m\n\u001b[1;32m   3626\u001b[0m     \u001b[39m#  InvalidIndexError. Otherwise we fall through and re-raise\u001b[39;00m\n\u001b[1;32m   3627\u001b[0m     \u001b[39m#  the TypeError.\u001b[39;00m\n\u001b[1;32m   3628\u001b[0m     \u001b[39mself\u001b[39m\u001b[39m.\u001b[39m_check_indexing_error(key)\n",
      "\u001b[0;31mKeyError\u001b[0m: 4"
     ]
    }
   ],
   "source": [
    "X = [dm.loc[run].values for run in runs]\n",
    "\n",
    "opt = dict()\n",
    "opt['wantlibrary'] = 1\n",
    "opt['wantglmdenoise'] = 1\n",
    "opt['wantfracridge'] = 1\n",
    "opt['wantfileoutputs'] = [0, 0, 0, 1]\n"
   ]
  },
  {
   "cell_type": "code",
   "execution_count": null,
   "metadata": {},
   "outputs": [],
   "source": [
    "glmsingle_obj = GLM_single(opt)\n",
    "\n",
    "results_glmsingle = glmsingle_obj.fit(\n",
    "    X,\n",
    "    data,\n",
    "    0.6,\n",
    "    2.3,\n",
    "    outputdir=base_dir)\n",
    "\n",
    "betas = results_glmsingle['typed']['betasmd']\n",
    "betas = image.new_img_like(ims[0], betas)\n",
    "betas = image.index_img(betas, slice(None, None, 2))"
   ]
  },
  {
   "cell_type": "code",
   "execution_count": 10,
   "metadata": {},
   "outputs": [
    {
     "ename": "NameError",
     "evalue": "name 'X' is not defined",
     "output_type": "error",
     "traceback": [
      "\u001b[0;31m---------------------------------------------------------------------------\u001b[0m",
      "\u001b[0;31mNameError\u001b[0m                                 Traceback (most recent call last)",
      "\u001b[1;32m/Users/mrenke/git/numrisk/numrisk/fmri_analysis/glm_denoise/debug_fit_glm_denoise.ipynb Cell 10\u001b[0m line \u001b[0;36m<cell line: 1>\u001b[0;34m()\u001b[0m\n\u001b[0;32m----> <a href='vscode-notebook-cell:/Users/mrenke/git/numrisk/numrisk/fmri_analysis/glm_denoise/debug_fit_glm_denoise.ipynb#X12sZmlsZQ%3D%3D?line=0'>1</a>\u001b[0m np\u001b[39m.\u001b[39mshape(X)\n",
      "\u001b[0;31mNameError\u001b[0m: name 'X' is not defined"
     ]
    }
   ],
   "source": [
    "np.shape(X)"
   ]
  },
  {
   "cell_type": "code",
   "execution_count": 12,
   "metadata": {},
   "outputs": [
    {
     "name": "stdout",
     "output_type": "stream",
     "text": [
      "(564, 110)\n"
     ]
    }
   ],
   "source": [
    "print(dm.shape)"
   ]
  },
  {
   "cell_type": "code",
   "execution_count": 11,
   "metadata": {},
   "outputs": [
    {
     "data": {
      "text/plain": [
       "(3, 59, 71, 49, 188)"
      ]
     },
     "execution_count": 11,
     "metadata": {},
     "output_type": "execute_result"
    }
   ],
   "source": [
    "np.shape(data)"
   ]
  },
  {
   "cell_type": "code",
   "execution_count": 18,
   "metadata": {},
   "outputs": [
    {
     "data": {
      "text/plain": [
       "['/Volumes/mrenkeED/data/ds-dnumr/derivatives/fmriprep/sub-01/ses-1/func/sub-01_ses-1_task-magjudge_run-1_space-T1w_desc-preproc_bold.nii.gz',\n",
       " '/Volumes/mrenkeED/data/ds-dnumr/derivatives/fmriprep/sub-01/ses-1/func/sub-01_ses-1_task-magjudge_run-2_space-T1w_desc-preproc_bold.nii.gz',\n",
       " '/Volumes/mrenkeED/data/ds-dnumr/derivatives/fmriprep/sub-01/ses-1/func/sub-01_ses-1_task-magjudge_run-3_space-T1w_desc-preproc_bold.nii.gz',\n",
       " '/Volumes/mrenkeED/data/ds-dnumr/derivatives/fmriprep/sub-01/ses-1/func/sub-01_ses-1_task-magjudge_run-4_space-T1w_desc-preproc_bold.nii.gz',\n",
       " '/Volumes/mrenkeED/data/ds-dnumr/derivatives/fmriprep/sub-01/ses-1/func/sub-01_ses-1_task-magjudge_run-5_space-T1w_desc-preproc_bold.nii.gz',\n",
       " '/Volumes/mrenkeED/data/ds-dnumr/derivatives/fmriprep/sub-01/ses-1/func/sub-01_ses-1_task-magjudge_run-6_space-T1w_desc-preproc_bold.nii.gz']"
      ]
     },
     "execution_count": 18,
     "metadata": {},
     "output_type": "execute_result"
    }
   ],
   "source": [
    "ims"
   ]
  },
  {
   "cell_type": "code",
   "execution_count": 21,
   "metadata": {},
   "outputs": [
    {
     "data": {
      "text/plain": [
       "(366, 5)"
      ]
     },
     "execution_count": 21,
     "metadata": {},
     "output_type": "execute_result"
    }
   ],
   "source": [
    "np.shape(onsets)"
   ]
  },
  {
   "cell_type": "code",
   "execution_count": 22,
   "metadata": {},
   "outputs": [
    {
     "data": {
      "text/plain": [
       "61.0"
      ]
     },
     "execution_count": 22,
     "metadata": {},
     "output_type": "execute_result"
    }
   ],
   "source": [
    "366/6"
   ]
  },
  {
   "cell_type": "code",
   "execution_count": 18,
   "metadata": {},
   "outputs": [
    {
     "data": {
      "text/plain": [
       "'glm_stim1None.denoise'"
      ]
     },
     "execution_count": 18,
     "metadata": {},
     "output_type": "execute_result"
    }
   ],
   "source": [
    "split_data = None\n",
    "base_dir = f'glm_stim1{split_data}.denoise'\n",
    "base_dir"
   ]
  },
  {
   "cell_type": "code",
   "execution_count": null,
   "metadata": {},
   "outputs": [],
   "source": []
  }
 ],
 "metadata": {
  "kernelspec": {
   "display_name": "numrefields",
   "language": "python",
   "name": "python3"
  },
  "language_info": {
   "codemirror_mode": {
    "name": "ipython",
    "version": 3
   },
   "file_extension": ".py",
   "mimetype": "text/x-python",
   "name": "python",
   "nbconvert_exporter": "python",
   "pygments_lexer": "ipython3",
   "version": "3.10.5"
  },
  "orig_nbformat": 4
 },
 "nbformat": 4,
 "nbformat_minor": 2
}
