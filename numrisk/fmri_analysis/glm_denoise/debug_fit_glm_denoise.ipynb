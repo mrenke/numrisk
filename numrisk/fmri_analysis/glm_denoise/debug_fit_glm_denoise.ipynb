{
 "cells": [
  {
   "cell_type": "code",
   "execution_count": 1,
   "metadata": {},
   "outputs": [
    {
     "name": "stderr",
     "output_type": "stream",
     "text": [
      "/Users/mrenke/mambaforge/envs/numrefields/lib/python3.10/site-packages/nilearn/glm/__init__.py:55: FutureWarning: The nilearn.glm module is experimental. It may change in any future release of Nilearn.\n",
      "  warn('The nilearn.glm module is experimental. '\n"
     ]
    }
   ],
   "source": [
    "from glmsingle.glmsingle import GLM_single\n",
    "import argparse\n",
    "import os\n",
    "import os.path as op\n",
    "from nilearn import image\n",
    "from numrisk.utils.data import Subject\n",
    "from nilearn.glm.first_level import make_first_level_design_matrix\n",
    "import numpy as np\n",
    "import pandas as pd\n",
    "import warnings\n",
    "warnings.filterwarnings('ignore')\n",
    "\n",
    "bids_folder = '/Volumes/mrenkeED/data/ds-dnumr'\n",
    "bids_folder = '/Volumes/mrenkeED/data/ds-smilepilot'"
   ]
  },
  {
   "cell_type": "code",
   "execution_count": 19,
   "metadata": {},
   "outputs": [],
   "source": [
    "subject = '01'\n",
    "session = 1\n",
    "derivatives = op.join(bids_folder, 'derivatives')\n",
    "\n",
    "runs = range(1, 4)\n",
    "#runs = range(4,7) # test only half data\n",
    "\n",
    "sub = Subject(subject, bids_folder=bids_folder)\n",
    "\n",
    "ims = sub.get_preprocessed_bold(session=session, runs=runs)\n",
    "\n",
    "base_dir = 'glm_stim1.denoise'"
   ]
  },
  {
   "cell_type": "code",
   "execution_count": 20,
   "metadata": {},
   "outputs": [
    {
     "data": {
      "text/plain": [
       "['/Volumes/mrenkeED/data/ds-smilepilot/derivatives/fmriprep/sub-01/ses-1/func/sub-01_ses-1_task-magjudge_run-1_space-T1w_desc-preproc_bold.nii.gz',\n",
       " '/Volumes/mrenkeED/data/ds-smilepilot/derivatives/fmriprep/sub-01/ses-1/func/sub-01_ses-1_task-magjudge_run-2_space-T1w_desc-preproc_bold.nii.gz',\n",
       " '/Volumes/mrenkeED/data/ds-smilepilot/derivatives/fmriprep/sub-01/ses-1/func/sub-01_ses-1_task-magjudge_run-3_space-T1w_desc-preproc_bold.nii.gz']"
      ]
     },
     "execution_count": 20,
     "metadata": {},
     "output_type": "execute_result"
    }
   ],
   "source": [
    "ims"
   ]
  },
  {
   "cell_type": "code",
   "execution_count": 21,
   "metadata": {},
   "outputs": [],
   "source": [
    "data = [image.load_img(im).get_fdata() for im in ims]\n",
    "\n",
    "base_dir = op.join(derivatives, base_dir, f'sub-{subject}',\n",
    "                    f'ses-{session}', 'func')\n",
    "\n"
   ]
  },
  {
   "cell_type": "code",
   "execution_count": 22,
   "metadata": {},
   "outputs": [
    {
     "data": {
      "text/plain": [
       "(3, 75, 92, 59, 188)"
      ]
     },
     "execution_count": 22,
     "metadata": {},
     "output_type": "execute_result"
    }
   ],
   "source": [
    "np.shape(data)"
   ]
  },
  {
   "cell_type": "code",
   "execution_count": 15,
   "metadata": {},
   "outputs": [
    {
     "data": {
      "text/plain": [
       "(75, 92, 59, 188)"
      ]
     },
     "execution_count": 15,
     "metadata": {},
     "output_type": "execute_result"
    }
   ],
   "source": [
    "np.shape(image.load_img(ims[0]).get_fdata())#[3] # --> number of timesteps of example images (=per run!)"
   ]
  },
  {
   "cell_type": "code",
   "execution_count": 24,
   "metadata": {},
   "outputs": [
    {
     "name": "stdout",
     "output_type": "stream",
     "text": [
      "(180, 5)\n"
     ]
    }
   ],
   "source": [
    "onsets = sub.get_fmri_events(session=session, runs = runs)\n",
    "print(np.shape(onsets))\n",
    "onsets.head()\n",
    "\n",
    "tr = 2.3\n",
    "n = np.shape(image.load_img(ims[0]).get_fdata())[3]  # before: 135  np.shape(data)[2]\n",
    "frametimes = np.linspace(tr/2., (n - .5)*tr, n)\n",
    "onsets['onset'] = ((onsets['onset']+tr/2.) // 2.3) * 2.3"
   ]
  },
  {
   "cell_type": "code",
   "execution_count": 25,
   "metadata": {},
   "outputs": [],
   "source": [
    "\n",
    "dm = [make_first_level_design_matrix(frametimes, onsets.loc[run], hrf_model='fir', oversampling=100.,\n",
    "                                        drift_order=0,\n",
    "                                        drift_model=None).drop('constant', axis=1) for run in runs]\n"
   ]
  },
  {
   "cell_type": "code",
   "execution_count": 28,
   "metadata": {},
   "outputs": [
    {
     "name": "stdout",
     "output_type": "stream",
     "text": [
      "(564, 111)\n"
     ]
    }
   ],
   "source": [
    "dm = pd.concat(dm, keys=runs, names=['run']).fillna(0)\n",
    "dm.columns = [c.replace('_delay_0', '') for c in dm.columns]\n",
    "dm /= dm.max()\n",
    "#print(dm)\n",
    "dm[dm < 1.0] = 0.0\n",
    "print(dm.shape)"
   ]
  },
  {
   "cell_type": "code",
   "execution_count": 29,
   "metadata": {},
   "outputs": [],
   "source": [
    "X = [dm.loc[run].values for run in runs]\n",
    "\n",
    "opt = dict()\n",
    "opt['wantlibrary'] = 1\n",
    "opt['wantglmdenoise'] = 1\n",
    "opt['wantfracridge'] = 1\n",
    "opt['wantfileoutputs'] = [0, 0, 0, 1]\n"
   ]
  },
  {
   "cell_type": "code",
   "execution_count": null,
   "metadata": {},
   "outputs": [],
   "source": [
    "glmsingle_obj = GLM_single(opt)\n",
    "\n",
    "results_glmsingle = glmsingle_obj.fit(\n",
    "    X,\n",
    "    data,\n",
    "    0.6,\n",
    "    2.3,\n",
    "    outputdir=base_dir)\n",
    "\n",
    "betas = results_glmsingle['typed']['betasmd']\n",
    "betas = image.new_img_like(ims[0], betas)\n",
    "betas = image.index_img(betas, slice(None, None, 2))"
   ]
  },
  {
   "cell_type": "code",
   "execution_count": 30,
   "metadata": {},
   "outputs": [
    {
     "data": {
      "text/plain": [
       "(3, 188, 111)"
      ]
     },
     "execution_count": 30,
     "metadata": {},
     "output_type": "execute_result"
    }
   ],
   "source": [
    "np.shape(X)"
   ]
  },
  {
   "cell_type": "code",
   "execution_count": 31,
   "metadata": {},
   "outputs": [
    {
     "name": "stdout",
     "output_type": "stream",
     "text": [
      "(564, 111)\n"
     ]
    }
   ],
   "source": [
    "print(dm.shape)"
   ]
  },
  {
   "cell_type": "code",
   "execution_count": 32,
   "metadata": {},
   "outputs": [
    {
     "data": {
      "text/plain": [
       "(3, 75, 92, 59, 188)"
      ]
     },
     "execution_count": 32,
     "metadata": {},
     "output_type": "execute_result"
    }
   ],
   "source": [
    "np.shape(data)"
   ]
  },
  {
   "cell_type": "code",
   "execution_count": 33,
   "metadata": {},
   "outputs": [
    {
     "data": {
      "text/plain": [
       "['/Volumes/mrenkeED/data/ds-smilepilot/derivatives/fmriprep/sub-01/ses-1/func/sub-01_ses-1_task-magjudge_run-1_space-T1w_desc-preproc_bold.nii.gz',\n",
       " '/Volumes/mrenkeED/data/ds-smilepilot/derivatives/fmriprep/sub-01/ses-1/func/sub-01_ses-1_task-magjudge_run-2_space-T1w_desc-preproc_bold.nii.gz',\n",
       " '/Volumes/mrenkeED/data/ds-smilepilot/derivatives/fmriprep/sub-01/ses-1/func/sub-01_ses-1_task-magjudge_run-3_space-T1w_desc-preproc_bold.nii.gz']"
      ]
     },
     "execution_count": 33,
     "metadata": {},
     "output_type": "execute_result"
    }
   ],
   "source": [
    "ims"
   ]
  },
  {
   "cell_type": "code",
   "execution_count": 34,
   "metadata": {},
   "outputs": [
    {
     "data": {
      "text/plain": [
       "(180, 5)"
      ]
     },
     "execution_count": 34,
     "metadata": {},
     "output_type": "execute_result"
    }
   ],
   "source": [
    "np.shape(onsets)"
   ]
  },
  {
   "cell_type": "code",
   "execution_count": 22,
   "metadata": {},
   "outputs": [
    {
     "data": {
      "text/plain": [
       "61.0"
      ]
     },
     "execution_count": 22,
     "metadata": {},
     "output_type": "execute_result"
    }
   ],
   "source": [
    "366/6"
   ]
  },
  {
   "cell_type": "code",
   "execution_count": 18,
   "metadata": {},
   "outputs": [
    {
     "data": {
      "text/plain": [
       "'glm_stim1None.denoise'"
      ]
     },
     "execution_count": 18,
     "metadata": {},
     "output_type": "execute_result"
    }
   ],
   "source": [
    "split_data = None\n",
    "base_dir = f'glm_stim1{split_data}.denoise'\n",
    "base_dir"
   ]
  },
  {
   "cell_type": "code",
   "execution_count": null,
   "metadata": {},
   "outputs": [],
   "source": []
  }
 ],
 "metadata": {
  "kernelspec": {
   "display_name": "numrefields",
   "language": "python",
   "name": "python3"
  },
  "language_info": {
   "codemirror_mode": {
    "name": "ipython",
    "version": 3
   },
   "file_extension": ".py",
   "mimetype": "text/x-python",
   "name": "python",
   "nbconvert_exporter": "python",
   "pygments_lexer": "ipython3",
   "version": "3.10.5"
  },
  "orig_nbformat": 4
 },
 "nbformat": 4,
 "nbformat_minor": 2
}
