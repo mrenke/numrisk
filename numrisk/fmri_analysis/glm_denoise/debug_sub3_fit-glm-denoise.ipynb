{
 "cells": [
  {
   "cell_type": "code",
   "execution_count": 2,
   "metadata": {},
   "outputs": [],
   "source": [
    "from glmsingle.glmsingle import GLM_single\n",
    "import argparse\n",
    "import os\n",
    "import os.path as op\n",
    "from nilearn import image\n",
    "from numrisk.utils.data import Subject\n",
    "from nilearn.glm.first_level import make_first_level_design_matrix\n",
    "import numpy as np\n",
    "import pandas as pd\n",
    "\n",
    "bids_folder = '/shares/zne.uzh/mrenke/ds-dnumrisk'"
   ]
  },
  {
   "cell_type": "code",
   "execution_count": 5,
   "metadata": {},
   "outputs": [
    {
     "ename": "MemoryError",
     "evalue": "",
     "output_type": "error",
     "traceback": [
      "\u001b[0;31m---------------------------------------------------------------------------\u001b[0m",
      "\u001b[0;31mMemoryError\u001b[0m                               Traceback (most recent call last)",
      "Cell \u001b[0;32mIn[5], line 12\u001b[0m\n\u001b[1;32m      9\u001b[0m split_data \u001b[38;5;241m=\u001b[39m \u001b[38;5;124m'\u001b[39m\u001b[38;5;124m'\u001b[39m \u001b[38;5;66;03m# change name for ouput filename\u001b[39;00m\n\u001b[1;32m     11\u001b[0m ims \u001b[38;5;241m=\u001b[39m sub\u001b[38;5;241m.\u001b[39mget_preprocessed_bold(session\u001b[38;5;241m=\u001b[39msession, runs\u001b[38;5;241m=\u001b[39mruns)\n\u001b[0;32m---> 12\u001b[0m data \u001b[38;5;241m=\u001b[39m [image\u001b[38;5;241m.\u001b[39mload_img(im)\u001b[38;5;241m.\u001b[39mget_fdata() \u001b[38;5;28;01mfor\u001b[39;00m im \u001b[38;5;129;01min\u001b[39;00m ims]\n",
      "Cell \u001b[0;32mIn[5], line 12\u001b[0m, in \u001b[0;36m<listcomp>\u001b[0;34m(.0)\u001b[0m\n\u001b[1;32m      9\u001b[0m split_data \u001b[38;5;241m=\u001b[39m \u001b[38;5;124m'\u001b[39m\u001b[38;5;124m'\u001b[39m \u001b[38;5;66;03m# change name for ouput filename\u001b[39;00m\n\u001b[1;32m     11\u001b[0m ims \u001b[38;5;241m=\u001b[39m sub\u001b[38;5;241m.\u001b[39mget_preprocessed_bold(session\u001b[38;5;241m=\u001b[39msession, runs\u001b[38;5;241m=\u001b[39mruns)\n\u001b[0;32m---> 12\u001b[0m data \u001b[38;5;241m=\u001b[39m [\u001b[43mimage\u001b[49m\u001b[38;5;241;43m.\u001b[39;49m\u001b[43mload_img\u001b[49m\u001b[43m(\u001b[49m\u001b[43mim\u001b[49m\u001b[43m)\u001b[49m\u001b[38;5;241m.\u001b[39mget_fdata() \u001b[38;5;28;01mfor\u001b[39;00m im \u001b[38;5;129;01min\u001b[39;00m ims]\n",
      "File \u001b[0;32m/data/mrenke/conda/envs/numrefields/lib/python3.9/site-packages/nilearn/image/image.py:1275\u001b[0m, in \u001b[0;36mload_img\u001b[0;34m(img, wildcards, dtype)\u001b[0m\n",
      "File \u001b[0;32m/data/mrenke/conda/envs/numrefields/lib/python3.9/site-packages/nilearn/_utils/niimg_conversions.py:286\u001b[0m, in \u001b[0;36mcheck_niimg\u001b[0;34m(niimg, ensure_ndim, atleast_4d, dtype, return_iterator, wildcards)\u001b[0m\n",
      "File \u001b[0;32m/data/mrenke/conda/envs/numrefields/lib/python3.9/site-packages/nilearn/_utils/niimg.py:131\u001b[0m, in \u001b[0;36mload_niimg\u001b[0;34m(niimg, dtype)\u001b[0m\n",
      "File \u001b[0;32m/data/mrenke/conda/envs/numrefields/lib/python3.9/site-packages/nibabel/loadsave.py:95\u001b[0m, in \u001b[0;36mload\u001b[0;34m(filename, **kwargs)\u001b[0m\n",
      "File \u001b[0;32m/data/mrenke/conda/envs/numrefields/lib/python3.9/site-packages/nibabel/filebasedimages.py:471\u001b[0m, in \u001b[0;36mpath_maybe_image\u001b[0;34m(klass, filename, sniff, sniff_max)\u001b[0m\n",
      "File \u001b[0;32m/data/mrenke/conda/envs/numrefields/lib/python3.9/site-packages/nibabel/filebasedimages.py:416\u001b[0m, in \u001b[0;36m_sniff_meta_for\u001b[0;34m(klass, filename, sniff_nbytes, sniff)\u001b[0m\n",
      "File \u001b[0;32m/data/mrenke/conda/envs/numrefields/lib/python3.9/site-packages/nibabel/openers.py:156\u001b[0m, in \u001b[0;36m__init__\u001b[0;34m(self, fileish, *args, **kwargs)\u001b[0m\n",
      "File \u001b[0;32m/data/mrenke/conda/envs/numrefields/lib/python3.9/site-packages/nibabel/openers.py:76\u001b[0m, in \u001b[0;36m_gzip_open\u001b[0;34m(filename, mode, compresslevel, mtime, keep_open)\u001b[0m\n",
      "File \u001b[0;32m/data/mrenke/conda/envs/numrefields/lib/python3.9/site-packages/nibabel/openers.py:60\u001b[0m, in \u001b[0;36m__init__\u001b[0;34m(self, filename, mode, compresslevel, fileobj, mtime)\u001b[0m\n",
      "\u001b[0;31mMemoryError\u001b[0m: "
     ]
    }
   ],
   "source": [
    "subject= 4\n",
    "\n",
    "session = 1\n",
    "derivatives = op.join(bids_folder, 'derivatives')\n",
    "\n",
    "sub = Subject(subject, bids_folder=bids_folder)\n",
    "base_dir = 'glm_stim1.denoise'\n",
    "runs = range(1, 7)\n",
    "split_data = '' # change name for ouput filename\n",
    "\n",
    "ims = sub.get_preprocessed_bold(session=session, runs=runs)\n",
    "data = [image.load_img(im).get_fdata() for im in ims]\n"
   ]
  },
  {
   "cell_type": "code",
   "execution_count": 6,
   "metadata": {},
   "outputs": [
    {
     "ename": "MemoryError",
     "evalue": "",
     "output_type": "error",
     "traceback": [
      "\u001b[0;31m---------------------------------------------------------------------------\u001b[0m",
      "\u001b[0;31mMemoryError\u001b[0m                               Traceback (most recent call last)",
      "Cell \u001b[0;32mIn[6], line 1\u001b[0m\n",
      "File \u001b[0;32m~/git/numrisk/numrisk/utils/data.py:356\u001b[0m, in \u001b[0;36mget_fmri_events\u001b[0;34m(self, session, runs)\u001b[0m\n",
      "File \u001b[0;32m/data/mrenke/conda/envs/numrefields/lib/python3.9/site-packages/pandas/util/_decorators.py:211\u001b[0m, in \u001b[0;36mwrapper\u001b[0;34m(*args, **kwargs)\u001b[0m\n",
      "File \u001b[0;32m/data/mrenke/conda/envs/numrefields/lib/python3.9/site-packages/pandas/util/_decorators.py:331\u001b[0m, in \u001b[0;36mwrapper\u001b[0;34m(*args, **kwargs)\u001b[0m\n",
      "File \u001b[0;32m/data/mrenke/conda/envs/numrefields/lib/python3.9/site-packages/pandas/io/parsers/readers.py:1289\u001b[0m, in \u001b[0;36mread_table\u001b[0;34m(filepath_or_buffer, sep, delimiter, header, names, index_col, usecols, squeeze, prefix, mangle_dupe_cols, dtype, engine, converters, true_values, false_values, skipinitialspace, skiprows, skipfooter, nrows, na_values, keep_default_na, na_filter, verbose, skip_blank_lines, parse_dates, infer_datetime_format, keep_date_col, date_parser, dayfirst, cache_dates, iterator, chunksize, compression, thousands, decimal, lineterminator, quotechar, quoting, doublequote, escapechar, comment, encoding, encoding_errors, dialect, error_bad_lines, warn_bad_lines, on_bad_lines, delim_whitespace, low_memory, memory_map, float_precision, storage_options)\u001b[0m\n",
      "File \u001b[0;32m/data/mrenke/conda/envs/numrefields/lib/python3.9/site-packages/pandas/io/parsers/readers.py:605\u001b[0m, in \u001b[0;36m_read\u001b[0;34m(filepath_or_buffer, kwds)\u001b[0m\n",
      "File \u001b[0;32m/data/mrenke/conda/envs/numrefields/lib/python3.9/site-packages/pandas/io/parsers/readers.py:1442\u001b[0m, in \u001b[0;36m__init__\u001b[0;34m(self, f, engine, **kwds)\u001b[0m\n",
      "File \u001b[0;32m/data/mrenke/conda/envs/numrefields/lib/python3.9/site-packages/pandas/io/parsers/readers.py:1735\u001b[0m, in \u001b[0;36m_make_engine\u001b[0;34m(self, f, engine)\u001b[0m\n",
      "File \u001b[0;32m/data/mrenke/conda/envs/numrefields/lib/python3.9/site-packages/pandas/io/common.py:856\u001b[0m, in \u001b[0;36mget_handle\u001b[0;34m(path_or_buf, mode, encoding, compression, memory_map, is_text, errors, storage_options)\u001b[0m\n",
      "\u001b[0;31mMemoryError\u001b[0m: "
     ]
    }
   ],
   "source": [
    "onsets = sub.get_fmri_events(session=session, runs = runs) # np.shape(onsets)[0] = 2* N_trials !\n",
    "tr = 2.3\n",
    "n = np.shape(image.load_img(ims[0]).get_fdata())[3] # number of volumes\n",
    "frametimes = np.linspace(tr/2., (n - .5)*tr, n)\n",
    "onsets['onset'] = ((onsets['onset']+tr/2.) // 2.3) * 2.3\n",
    "\n",
    "print(onsets)\n",
    "\n",
    "dm = [make_first_level_design_matrix(frametimes, onsets.loc[run], hrf_model='fir', oversampling=100.,\n",
    "                                        drift_order=0,\n",
    "                                        drift_model=None).drop('constant', axis=1) for run in runs]\n",
    "\n",
    "dm = pd.concat(dm, keys=runs, names=['run']).fillna(0) # keys = range(1, 7)\n",
    "dm.columns = [c.replace('_delay_0', '') for c in dm.columns]\n",
    "dm /= dm.max()\n",
    "print(dm)\n",
    "dm[dm < 1.0] = 0.0\n",
    "print(dm.shape)\n",
    "\n",
    "X = [dm.loc[run].values for run in runs]\n",
    "\n",
    "print(len(X))\n"
   ]
  },
  {
   "cell_type": "code",
   "execution_count": null,
   "metadata": {},
   "outputs": [],
   "source": [
    "opt = dict()\n",
    "\n",
    "# set important fields for completeness (but these would be enabled by default)\n",
    "opt['wantlibrary'] = 1\n",
    "opt['wantglmdenoise'] = 1\n",
    "opt['wantfracridge'] = 1\n",
    "\n",
    "# for the purpose of this example we will keep the relevant outputs in memory\n",
    "# and also save them to the disk\n",
    "opt['wantfileoutputs'] = [0, 0, 0, 1]\n",
    "\n",
    "\n",
    "\n",
    "# running python GLMsingle involves creating a GLM_single object\n",
    "# and then running the procedure using the .fit() routine\n",
    "glmsingle_obj = GLM_single(opt)\n",
    "\n",
    "results_glmsingle = glmsingle_obj.fit(\n",
    "    X,\n",
    "    data,\n",
    "    0.6,\n",
    "    2.3,\n",
    "    outputdir=base_dir)\n",
    "\n",
    "betas = results_glmsingle['typed']['betasmd']\n",
    "betas = image.new_img_like(ims[0], betas)\n",
    "betas = image.index_img(betas, slice(None, None, 2))"
   ]
  }
 ],
 "metadata": {
  "kernelspec": {
   "display_name": "numrefields",
   "language": "python",
   "name": "python3"
  },
  "language_info": {
   "codemirror_mode": {
    "name": "ipython",
    "version": 3
   },
   "file_extension": ".py",
   "mimetype": "text/x-python",
   "name": "python",
   "nbconvert_exporter": "python",
   "pygments_lexer": "ipython3",
   "version": "3.9.13"
  }
 },
 "nbformat": 4,
 "nbformat_minor": 2
}
