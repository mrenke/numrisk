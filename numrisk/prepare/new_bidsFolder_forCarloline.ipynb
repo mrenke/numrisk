{
 "cells": [
  {
   "cell_type": "markdown",
   "metadata": {},
   "source": [
    "## create new bids_folder copy with folder structure and copy  specific files to them\n",
    "\n",
    "* Mount samba server (G_ADABD_Largefiles) to the sciencecloud VM (befoe:`sudo apt install cifs-utils`): \n",
    "`sudo mount -t cifs //idnas37.d.uzh.ch/G_ADABD_Largefiles$ /mnt_AdaBD_largefiles -o username=mrenke,password=St2689oker_,uid=$(id -u),gid=$(id -g)`"
   ]
  },
  {
   "cell_type": "code",
   "execution_count": 4,
   "metadata": {},
   "outputs": [],
   "source": [
    "import os\n",
    "import os.path as op\n",
    "import shutil\n",
    "\n",
    "\n",
    "old_bids = '/Volumes/mrenkeED/data/ds-dnumrisk'\n",
    "new_bids = '/Volumes/mrenkeED/data/ds-dnumrisk_'\n",
    "\n",
    "subjects = [d for d in os.listdir(old_bids) if os.path.isdir(os.path.join(old_bids, d)) and 'sub-' in d]"
   ]
  },
  {
   "cell_type": "code",
   "execution_count": 5,
   "metadata": {},
   "outputs": [],
   "source": [
    "base = 'derivatives/fmriprep/' # ''\n",
    "\n",
    "file_conditions = ['physio.log' , 'events.tsv']\n",
    "\n",
    "for sub in subjects:\n",
    "    old_dir = os.path.join(old_bids, sub, 'ses-1', 'func')\n",
    "    new_dir = os.path.join(new_bids, sub, 'ses-1', 'func')\n",
    "    \n",
    "    # Check if the new directory path exists, if not, create it\n",
    "    os.makedirs(new_dir, exist_ok=True)\n",
    "\n",
    "    files = [f for f in os.listdir(old_dir) if os.path.isfile(os.path.join(old_dir, f))]\n",
    "    for file in files:\n",
    "        for specific_string in file_conditions:\n",
    "            if specific_string in file:\n",
    "                shutil.copy2(os.path.join(old_dir, file), os.path.join(new_dir, file))"
   ]
  },
  {
   "cell_type": "code",
   "execution_count": 6,
   "metadata": {},
   "outputs": [],
   "source": [
    "base = 'derivatives/fmriprep/' # ''\n",
    "\n",
    "file_conditions = ['space-MNI152NLin2009cAsym_desc-preproc_bold.nii.gz' , 'desc-confounds_timeseries.tsv']\n",
    "\n",
    "for sub in subjects:\n",
    "    old_dir = os.path.join(old_bids, base, sub, 'ses-1', 'func')\n",
    "    new_dir = os.path.join(new_bids, base, sub, 'ses-1', 'func')\n",
    "    \n",
    "    # Check if the new directory path exists, if not, create it\n",
    "    os.makedirs(new_dir, exist_ok=True)\n",
    "\n",
    "    files = [f for f in os.listdir(old_dir) if os.path.isfile(os.path.join(old_dir, f))]\n",
    "    for file in files:\n",
    "        for specific_string in file_conditions:\n",
    "            if specific_string in file:\n",
    "                shutil.copy2(os.path.join(old_dir, file), os.path.join(new_dir, file))"
   ]
  },
  {
   "cell_type": "code",
   "execution_count": null,
   "metadata": {},
   "outputs": [],
   "source": []
  }
 ],
 "metadata": {
  "kernelspec": {
   "display_name": "behav_fit",
   "language": "python",
   "name": "python3"
  },
  "language_info": {
   "codemirror_mode": {
    "name": "ipython",
    "version": 3
   },
   "file_extension": ".py",
   "mimetype": "text/x-python",
   "name": "python",
   "nbconvert_exporter": "python",
   "pygments_lexer": "ipython3",
   "version": "3.10.6"
  }
 },
 "nbformat": 4,
 "nbformat_minor": 2
}
