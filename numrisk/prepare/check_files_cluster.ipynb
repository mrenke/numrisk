{
 "cells": [
  {
   "cell_type": "code",
   "execution_count": 1,
   "metadata": {},
   "outputs": [
    {
     "name": "stdout",
     "output_type": "stream",
     "text": [
      "1,2,3,4,5,6,7,8,9,10,11,12,13,14,15,16,17,18,19,20,21,22,23,24,25,26,27,28,29,30,31,32,33,34,35,36,37,38,39,40,41,42,43,44,45,46,47,48,49,50,51,52,53,54,55,56,57,58,59,60,61,62,63,64,65,66\n"
     ]
    }
   ],
   "source": [
    "import glob\n",
    "import re\n",
    "import pandas as pd\n",
    "from os import listdir\n",
    "\n",
    "bids_folder = '/shares/zne.uzh/mrenke/ds-dnumrisk'\n",
    "subject_list = [int(f[4:]) for f in listdir(bids_folder) if f[0:3] == 'sub' and len(f) == 6]\n",
    "all_subjects_set = set(subject_list)\n",
    "print(*list(all_subjects_set), sep=',')"
   ]
  },
  {
   "cell_type": "markdown",
   "metadata": {},
   "source": [
    "### fmriprep"
   ]
  },
  {
   "cell_type": "code",
   "execution_count": 2,
   "metadata": {},
   "outputs": [],
   "source": [
    "key = 'brain_mask'# 'preproc_bold' #  needed for nprf fitting (usually takes run-1 brain mask)\n",
    "fns = glob.glob(f'/shares/zne.uzh/mrenke/ds-dnumrisk/derivatives/fmriprep/sub-*/ses-*/func/*space-T1w_desc-{key}.nii.gz')\n",
    "reg = re.compile(f'.*/sub-(?P<subject>[0-9]+)_ses-1_task-magjudge_run-(?P<run>[0-9]+)_(space-T1w_desc-{key}.nii.gz)') # (?P<session>[0-9]+)"
   ]
  },
  {
   "cell_type": "code",
   "execution_count": 3,
   "metadata": {},
   "outputs": [],
   "source": [
    "data = []\n",
    "\n",
    "for fn in fns:\n",
    "    try:\n",
    "        data.append(reg.match(fn).groupdict())\n",
    "        data[-1]['fn'] = fn\n",
    "    except Exception as e:\n",
    "        print(f'Problem with {fn}: {e}')\n",
    "\n",
    "data = pd.DataFrame(data)\n",
    "data['subject'] = [int(sub) for sub in data['subject']]\n",
    "df = data.set_index(['subject',  'run']).unstack('run') # 'session',"
   ]
  },
  {
   "cell_type": "code",
   "execution_count": 4,
   "metadata": {},
   "outputs": [
    {
     "data": {
      "text/html": [
       "<div>\n",
       "<style scoped>\n",
       "    .dataframe tbody tr th:only-of-type {\n",
       "        vertical-align: middle;\n",
       "    }\n",
       "\n",
       "    .dataframe tbody tr th {\n",
       "        vertical-align: top;\n",
       "    }\n",
       "\n",
       "    .dataframe thead tr th {\n",
       "        text-align: left;\n",
       "    }\n",
       "\n",
       "    .dataframe thead tr:last-of-type th {\n",
       "        text-align: right;\n",
       "    }\n",
       "</style>\n",
       "<table border=\"1\" class=\"dataframe\">\n",
       "  <thead>\n",
       "    <tr>\n",
       "      <th></th>\n",
       "      <th colspan=\"6\" halign=\"left\">fn</th>\n",
       "    </tr>\n",
       "    <tr>\n",
       "      <th>run</th>\n",
       "      <th>1</th>\n",
       "      <th>2</th>\n",
       "      <th>3</th>\n",
       "      <th>4</th>\n",
       "      <th>5</th>\n",
       "      <th>6</th>\n",
       "    </tr>\n",
       "    <tr>\n",
       "      <th>subject</th>\n",
       "      <th></th>\n",
       "      <th></th>\n",
       "      <th></th>\n",
       "      <th></th>\n",
       "      <th></th>\n",
       "      <th></th>\n",
       "    </tr>\n",
       "  </thead>\n",
       "  <tbody>\n",
       "    <tr>\n",
       "      <th>4</th>\n",
       "      <td>/shares/zne.uzh/mrenke/ds-dnumrisk/derivatives...</td>\n",
       "      <td>/shares/zne.uzh/mrenke/ds-dnumrisk/derivatives...</td>\n",
       "      <td>/shares/zne.uzh/mrenke/ds-dnumrisk/derivatives...</td>\n",
       "      <td>/shares/zne.uzh/mrenke/ds-dnumrisk/derivatives...</td>\n",
       "      <td>NaN</td>\n",
       "      <td>/shares/zne.uzh/mrenke/ds-dnumrisk/derivatives...</td>\n",
       "    </tr>\n",
       "    <tr>\n",
       "      <th>5</th>\n",
       "      <td>/shares/zne.uzh/mrenke/ds-dnumrisk/derivatives...</td>\n",
       "      <td>/shares/zne.uzh/mrenke/ds-dnumrisk/derivatives...</td>\n",
       "      <td>/shares/zne.uzh/mrenke/ds-dnumrisk/derivatives...</td>\n",
       "      <td>/shares/zne.uzh/mrenke/ds-dnumrisk/derivatives...</td>\n",
       "      <td>NaN</td>\n",
       "      <td>/shares/zne.uzh/mrenke/ds-dnumrisk/derivatives...</td>\n",
       "    </tr>\n",
       "    <tr>\n",
       "      <th>47</th>\n",
       "      <td>/shares/zne.uzh/mrenke/ds-dnumrisk/derivatives...</td>\n",
       "      <td>NaN</td>\n",
       "      <td>/shares/zne.uzh/mrenke/ds-dnumrisk/derivatives...</td>\n",
       "      <td>/shares/zne.uzh/mrenke/ds-dnumrisk/derivatives...</td>\n",
       "      <td>/shares/zne.uzh/mrenke/ds-dnumrisk/derivatives...</td>\n",
       "      <td>/shares/zne.uzh/mrenke/ds-dnumrisk/derivatives...</td>\n",
       "    </tr>\n",
       "    <tr>\n",
       "      <th>53</th>\n",
       "      <td>/shares/zne.uzh/mrenke/ds-dnumrisk/derivatives...</td>\n",
       "      <td>NaN</td>\n",
       "      <td>/shares/zne.uzh/mrenke/ds-dnumrisk/derivatives...</td>\n",
       "      <td>/shares/zne.uzh/mrenke/ds-dnumrisk/derivatives...</td>\n",
       "      <td>/shares/zne.uzh/mrenke/ds-dnumrisk/derivatives...</td>\n",
       "      <td>/shares/zne.uzh/mrenke/ds-dnumrisk/derivatives...</td>\n",
       "    </tr>\n",
       "    <tr>\n",
       "      <th>62</th>\n",
       "      <td>/shares/zne.uzh/mrenke/ds-dnumrisk/derivatives...</td>\n",
       "      <td>/shares/zne.uzh/mrenke/ds-dnumrisk/derivatives...</td>\n",
       "      <td>NaN</td>\n",
       "      <td>/shares/zne.uzh/mrenke/ds-dnumrisk/derivatives...</td>\n",
       "      <td>/shares/zne.uzh/mrenke/ds-dnumrisk/derivatives...</td>\n",
       "      <td>/shares/zne.uzh/mrenke/ds-dnumrisk/derivatives...</td>\n",
       "    </tr>\n",
       "  </tbody>\n",
       "</table>\n",
       "</div>"
      ],
      "text/plain": [
       "                                                        fn  \\\n",
       "run                                                      1   \n",
       "subject                                                      \n",
       "4        /shares/zne.uzh/mrenke/ds-dnumrisk/derivatives...   \n",
       "5        /shares/zne.uzh/mrenke/ds-dnumrisk/derivatives...   \n",
       "47       /shares/zne.uzh/mrenke/ds-dnumrisk/derivatives...   \n",
       "53       /shares/zne.uzh/mrenke/ds-dnumrisk/derivatives...   \n",
       "62       /shares/zne.uzh/mrenke/ds-dnumrisk/derivatives...   \n",
       "\n",
       "                                                            \\\n",
       "run                                                      2   \n",
       "subject                                                      \n",
       "4        /shares/zne.uzh/mrenke/ds-dnumrisk/derivatives...   \n",
       "5        /shares/zne.uzh/mrenke/ds-dnumrisk/derivatives...   \n",
       "47                                                     NaN   \n",
       "53                                                     NaN   \n",
       "62       /shares/zne.uzh/mrenke/ds-dnumrisk/derivatives...   \n",
       "\n",
       "                                                            \\\n",
       "run                                                      3   \n",
       "subject                                                      \n",
       "4        /shares/zne.uzh/mrenke/ds-dnumrisk/derivatives...   \n",
       "5        /shares/zne.uzh/mrenke/ds-dnumrisk/derivatives...   \n",
       "47       /shares/zne.uzh/mrenke/ds-dnumrisk/derivatives...   \n",
       "53       /shares/zne.uzh/mrenke/ds-dnumrisk/derivatives...   \n",
       "62                                                     NaN   \n",
       "\n",
       "                                                            \\\n",
       "run                                                      4   \n",
       "subject                                                      \n",
       "4        /shares/zne.uzh/mrenke/ds-dnumrisk/derivatives...   \n",
       "5        /shares/zne.uzh/mrenke/ds-dnumrisk/derivatives...   \n",
       "47       /shares/zne.uzh/mrenke/ds-dnumrisk/derivatives...   \n",
       "53       /shares/zne.uzh/mrenke/ds-dnumrisk/derivatives...   \n",
       "62       /shares/zne.uzh/mrenke/ds-dnumrisk/derivatives...   \n",
       "\n",
       "                                                            \\\n",
       "run                                                      5   \n",
       "subject                                                      \n",
       "4                                                      NaN   \n",
       "5                                                      NaN   \n",
       "47       /shares/zne.uzh/mrenke/ds-dnumrisk/derivatives...   \n",
       "53       /shares/zne.uzh/mrenke/ds-dnumrisk/derivatives...   \n",
       "62       /shares/zne.uzh/mrenke/ds-dnumrisk/derivatives...   \n",
       "\n",
       "                                                            \n",
       "run                                                      6  \n",
       "subject                                                     \n",
       "4        /shares/zne.uzh/mrenke/ds-dnumrisk/derivatives...  \n",
       "5        /shares/zne.uzh/mrenke/ds-dnumrisk/derivatives...  \n",
       "47       /shares/zne.uzh/mrenke/ds-dnumrisk/derivatives...  \n",
       "53       /shares/zne.uzh/mrenke/ds-dnumrisk/derivatives...  \n",
       "62       /shares/zne.uzh/mrenke/ds-dnumrisk/derivatives...  "
      ]
     },
     "execution_count": 4,
     "metadata": {},
     "output_type": "execute_result"
    }
   ],
   "source": [
    "df[df.isna().any(axis=1)]"
   ]
  },
  {
   "cell_type": "code",
   "execution_count": 5,
   "metadata": {},
   "outputs": [
    {
     "data": {
      "text/plain": [
       "set()"
      ]
     },
     "execution_count": 5,
     "metadata": {},
     "output_type": "execute_result"
    }
   ],
   "source": [
    "df_subjects_set = set(df.index)\n",
    "missing_subjects = all_subjects_set - df_subjects_set\n",
    "missing_subjects"
   ]
  },
  {
   "cell_type": "markdown",
   "metadata": {},
   "source": [
    "### GLM single denoise\n"
   ]
  },
  {
   "cell_type": "code",
   "execution_count": 6,
   "metadata": {},
   "outputs": [],
   "source": [
    "fns = glob.glob('/shares/zne.uzh/mrenke/ds-dnumrisk/derivatives/glm_stim1.denoise/sub-*/ses-*/func/*ses-1_task-magjudge_space-T1w_desc-stims1_pe.nii.gz')\n",
    "reg = re.compile('.*/sub-(?P<subject>[0-9]+)_ses-1_task-magjudge_space-T1w_desc-stims1_pe.nii.gz') # (?P<session>[0-9]+)"
   ]
  },
  {
   "cell_type": "code",
   "execution_count": 7,
   "metadata": {},
   "outputs": [
    {
     "data": {
      "text/html": [
       "<div>\n",
       "<style scoped>\n",
       "    .dataframe tbody tr th:only-of-type {\n",
       "        vertical-align: middle;\n",
       "    }\n",
       "\n",
       "    .dataframe tbody tr th {\n",
       "        vertical-align: top;\n",
       "    }\n",
       "\n",
       "    .dataframe thead th {\n",
       "        text-align: right;\n",
       "    }\n",
       "</style>\n",
       "<table border=\"1\" class=\"dataframe\">\n",
       "  <thead>\n",
       "    <tr style=\"text-align: right;\">\n",
       "      <th></th>\n",
       "      <th>fn</th>\n",
       "    </tr>\n",
       "    <tr>\n",
       "      <th>subject</th>\n",
       "      <th></th>\n",
       "    </tr>\n",
       "  </thead>\n",
       "  <tbody>\n",
       "    <tr>\n",
       "      <th>1</th>\n",
       "      <td>/shares/zne.uzh/mrenke/ds-dnumrisk/derivatives...</td>\n",
       "    </tr>\n",
       "    <tr>\n",
       "      <th>2</th>\n",
       "      <td>/shares/zne.uzh/mrenke/ds-dnumrisk/derivatives...</td>\n",
       "    </tr>\n",
       "    <tr>\n",
       "      <th>4</th>\n",
       "      <td>/shares/zne.uzh/mrenke/ds-dnumrisk/derivatives...</td>\n",
       "    </tr>\n",
       "    <tr>\n",
       "      <th>5</th>\n",
       "      <td>/shares/zne.uzh/mrenke/ds-dnumrisk/derivatives...</td>\n",
       "    </tr>\n",
       "    <tr>\n",
       "      <th>6</th>\n",
       "      <td>/shares/zne.uzh/mrenke/ds-dnumrisk/derivatives...</td>\n",
       "    </tr>\n",
       "    <tr>\n",
       "      <th>...</th>\n",
       "      <td>...</td>\n",
       "    </tr>\n",
       "    <tr>\n",
       "      <th>60</th>\n",
       "      <td>/shares/zne.uzh/mrenke/ds-dnumrisk/derivatives...</td>\n",
       "    </tr>\n",
       "    <tr>\n",
       "      <th>61</th>\n",
       "      <td>/shares/zne.uzh/mrenke/ds-dnumrisk/derivatives...</td>\n",
       "    </tr>\n",
       "    <tr>\n",
       "      <th>62</th>\n",
       "      <td>/shares/zne.uzh/mrenke/ds-dnumrisk/derivatives...</td>\n",
       "    </tr>\n",
       "    <tr>\n",
       "      <th>63</th>\n",
       "      <td>/shares/zne.uzh/mrenke/ds-dnumrisk/derivatives...</td>\n",
       "    </tr>\n",
       "    <tr>\n",
       "      <th>64</th>\n",
       "      <td>/shares/zne.uzh/mrenke/ds-dnumrisk/derivatives...</td>\n",
       "    </tr>\n",
       "  </tbody>\n",
       "</table>\n",
       "<p>63 rows × 1 columns</p>\n",
       "</div>"
      ],
      "text/plain": [
       "                                                        fn\n",
       "subject                                                   \n",
       "1        /shares/zne.uzh/mrenke/ds-dnumrisk/derivatives...\n",
       "2        /shares/zne.uzh/mrenke/ds-dnumrisk/derivatives...\n",
       "4        /shares/zne.uzh/mrenke/ds-dnumrisk/derivatives...\n",
       "5        /shares/zne.uzh/mrenke/ds-dnumrisk/derivatives...\n",
       "6        /shares/zne.uzh/mrenke/ds-dnumrisk/derivatives...\n",
       "...                                                    ...\n",
       "60       /shares/zne.uzh/mrenke/ds-dnumrisk/derivatives...\n",
       "61       /shares/zne.uzh/mrenke/ds-dnumrisk/derivatives...\n",
       "62       /shares/zne.uzh/mrenke/ds-dnumrisk/derivatives...\n",
       "63       /shares/zne.uzh/mrenke/ds-dnumrisk/derivatives...\n",
       "64       /shares/zne.uzh/mrenke/ds-dnumrisk/derivatives...\n",
       "\n",
       "[63 rows x 1 columns]"
      ]
     },
     "execution_count": 7,
     "metadata": {},
     "output_type": "execute_result"
    }
   ],
   "source": [
    "data = []\n",
    "for fn in fns:\n",
    "    try:\n",
    "        data.append(reg.match(fn).groupdict())\n",
    "        data[-1]['fn'] = fn\n",
    "    except Exception as e:\n",
    "        print(f'Problem with {fn}: {e}')\n",
    "\n",
    "data = pd.DataFrame(data)\n",
    "data['subject'] = [int(sub) for sub in data['subject']]\n",
    "df = data.set_index(['subject'])\n",
    "df.sort_values(by='subject')"
   ]
  },
  {
   "cell_type": "code",
   "execution_count": null,
   "metadata": {},
   "outputs": [],
   "source": [
    "all_subjects_set = set(subject_list)\n",
    "df_subjects_set = set(df.index)\n",
    "\n",
    "missing_subjects = all_subjects_set - df_subjects_set\n",
    "missing_subjects"
   ]
  },
  {
   "cell_type": "markdown",
   "metadata": {},
   "source": [
    "### encoding model (cv)"
   ]
  },
  {
   "cell_type": "code",
   "execution_count": 29,
   "metadata": {},
   "outputs": [],
   "source": [
    "fns = glob.glob('/shares/zne.uzh/mrenke/ds-dnumrisk/derivatives/encoding_model.cv.denoise/sub-*/ses-*/func/*desc-r2.optim_space-T1w_pars.nii.gz')\n",
    "reg = re.compile('.*/sub-(?P<subject>[0-9]+)_ses-1_run-(?P<run>[0-9]+)_(desc-r2.optim_space-T1w_pars.nii.gz)') # (?P<session>[0-9]+)"
   ]
  },
  {
   "cell_type": "code",
   "execution_count": 30,
   "metadata": {},
   "outputs": [],
   "source": [
    "data = []\n",
    "\n",
    "for fn in fns:\n",
    "    try:\n",
    "        data.append(reg.match(fn).groupdict())\n",
    "        data[-1]['fn'] = fn\n",
    "    except Exception as e:\n",
    "        print(f'Problem with {fn}: {e}')\n",
    "\n",
    "data = pd.DataFrame(data)\n",
    "data['subject'] = [int(sub) for sub in data['subject']]\n",
    "df = data.set_index(['subject',  'run']).unstack('run') # 'session',"
   ]
  },
  {
   "cell_type": "code",
   "execution_count": 31,
   "metadata": {},
   "outputs": [
    {
     "data": {
      "text/html": [
       "<div>\n",
       "<style scoped>\n",
       "    .dataframe tbody tr th:only-of-type {\n",
       "        vertical-align: middle;\n",
       "    }\n",
       "\n",
       "    .dataframe tbody tr th {\n",
       "        vertical-align: top;\n",
       "    }\n",
       "\n",
       "    .dataframe thead tr th {\n",
       "        text-align: left;\n",
       "    }\n",
       "\n",
       "    .dataframe thead tr:last-of-type th {\n",
       "        text-align: right;\n",
       "    }\n",
       "</style>\n",
       "<table border=\"1\" class=\"dataframe\">\n",
       "  <thead>\n",
       "    <tr>\n",
       "      <th></th>\n",
       "      <th colspan=\"6\" halign=\"left\">fn</th>\n",
       "    </tr>\n",
       "    <tr>\n",
       "      <th>run</th>\n",
       "      <th>1</th>\n",
       "      <th>2</th>\n",
       "      <th>3</th>\n",
       "      <th>4</th>\n",
       "      <th>5</th>\n",
       "      <th>6</th>\n",
       "    </tr>\n",
       "    <tr>\n",
       "      <th>subject</th>\n",
       "      <th></th>\n",
       "      <th></th>\n",
       "      <th></th>\n",
       "      <th></th>\n",
       "      <th></th>\n",
       "      <th></th>\n",
       "    </tr>\n",
       "  </thead>\n",
       "  <tbody>\n",
       "  </tbody>\n",
       "</table>\n",
       "</div>"
      ],
      "text/plain": [
       "Empty DataFrame\n",
       "Columns: [(fn, 1), (fn, 2), (fn, 3), (fn, 4), (fn, 5), (fn, 6)]\n",
       "Index: []"
      ]
     },
     "execution_count": 31,
     "metadata": {},
     "output_type": "execute_result"
    }
   ],
   "source": [
    "df[df.isna().any(axis=1)]"
   ]
  },
  {
   "cell_type": "code",
   "execution_count": 32,
   "metadata": {},
   "outputs": [
    {
     "data": {
      "text/plain": [
       "{3}"
      ]
     },
     "execution_count": 32,
     "metadata": {},
     "output_type": "execute_result"
    }
   ],
   "source": [
    "df_subjects_set = set(df.index)\n",
    "\n",
    "missing_subjects = all_subjects_set - df_subjects_set\n",
    "missing_subjects\n",
    "# log: 'ValueError: File not found: '...._run-1_space-T1w_desc-brain_mask.nii.gz'"
   ]
  },
  {
   "cell_type": "markdown",
   "metadata": {},
   "source": [
    "### ips masks"
   ]
  },
  {
   "cell_type": "code",
   "execution_count": 10,
   "metadata": {},
   "outputs": [],
   "source": [
    "fns = glob.glob('/shares/zne.uzh/mrenke/ds-dnumrisk/derivatives/ips_masks/sub-*/*_space-T1w_desc-NPC_R.nii.gz')\n",
    "reg = re.compile('.*/sub-(?P<subject>[0-9]+)_(space-T1w_desc-NPC_R.nii.gz)')"
   ]
  },
  {
   "cell_type": "code",
   "execution_count": 11,
   "metadata": {},
   "outputs": [
    {
     "data": {
      "text/plain": [
       "set()"
      ]
     },
     "execution_count": 11,
     "metadata": {},
     "output_type": "execute_result"
    }
   ],
   "source": [
    "data = []\n",
    "for fn in fns:\n",
    "    try:\n",
    "        data.append(reg.match(fn).groupdict())\n",
    "        data[-1]['fn'] = fn\n",
    "    except Exception as e:\n",
    "        print(f'Problem with {fn}: {e}')\n",
    "\n",
    "data = pd.DataFrame(data)\n",
    "data['subject'] = [int(sub) for sub in data['subject']]\n",
    "df = data.set_index(['subject'])\n",
    "#df.sort_values(by='subject')\n",
    "\n",
    "df_subjects_set = set(df.index)\n",
    "missing_subjects = all_subjects_set - df_subjects_set\n",
    "missing_subjects"
   ]
  },
  {
   "cell_type": "markdown",
   "metadata": {},
   "source": [
    "### decoding\n"
   ]
  },
  {
   "cell_type": "code",
   "execution_count": 2,
   "metadata": {},
   "outputs": [],
   "source": [
    "fns = glob.glob('/shares/zne.uzh/mrenke/ds-dnumrisk/derivatives/decoded_pdfs.volume.cv_vselect.denoise/sub-*/func/*_ses-1_mask-NPC_R_space-T1w_pars.tsv')\n",
    "                # sub-40_ses-1_mask-NPC_R_space-T1w_pars.tsv  sub-40_ses-1_mask-NPC_R_space-T1w_r2s.tsv\n",
    "reg = re.compile('.*/sub-(?P<subject>[0-9]+)_(ses-1_mask-NPC_R_space-T1w_pars.tsv)')"
   ]
  },
  {
   "cell_type": "code",
   "execution_count": 3,
   "metadata": {},
   "outputs": [
    {
     "data": {
      "text/plain": [
       "{3}"
      ]
     },
     "execution_count": 3,
     "metadata": {},
     "output_type": "execute_result"
    }
   ],
   "source": [
    "data = []\n",
    "for fn in fns:\n",
    "    try:\n",
    "        data.append(reg.match(fn).groupdict())\n",
    "        data[-1]['fn'] = fn\n",
    "    except Exception as e:\n",
    "        print(f'Problem with {fn}: {e}')\n",
    "\n",
    "data = pd.DataFrame(data)\n",
    "data['subject'] = [int(sub) for sub in data['subject']]\n",
    "df = data.set_index(['subject'])\n",
    "#df.sort_values(by='subject')\n",
    "\n",
    "df_subjects_set = set(df.index)\n",
    "missing_subjects = all_subjects_set - df_subjects_set\n",
    "missing_subjects"
   ]
  },
  {
   "cell_type": "markdown",
   "metadata": {},
   "source": [
    "# missing:\n",
    "\n",
    "* {3, 4, 10, 56, 60} --> problems with brain-mask from fmriprep?! --> just rerun it (deleting the workflow folders!!)\n",
    "* 5.08.24  only sub-3 missing"
   ]
  },
  {
   "cell_type": "code",
   "execution_count": null,
   "metadata": {},
   "outputs": [],
   "source": []
  }
 ],
 "metadata": {
  "kernelspec": {
   "display_name": "numrefields",
   "language": "python",
   "name": "python3"
  },
  "language_info": {
   "codemirror_mode": {
    "name": "ipython",
    "version": 3
   },
   "file_extension": ".py",
   "mimetype": "text/x-python",
   "name": "python",
   "nbconvert_exporter": "python",
   "pygments_lexer": "ipython3",
   "version": "3.9.13"
  }
 },
 "nbformat": 4,
 "nbformat_minor": 2
}
