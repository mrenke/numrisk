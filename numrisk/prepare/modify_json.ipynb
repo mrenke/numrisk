{
 "cells": [
  {
   "cell_type": "code",
   "execution_count": 36,
   "metadata": {},
   "outputs": [],
   "source": [
    "import os.path as op\n",
    "from os import listdir\n",
    "\n",
    "#import \n",
    "\n",
    "bids_folder = '/Volumes/mrenkeED/data/ds-dnumr'\n",
    "\n",
    "subFolders = [f for f in listdir(bids_folder) if f[0:3] == 'sub']\n"
   ]
  },
  {
   "cell_type": "code",
   "execution_count": 10,
   "metadata": {},
   "outputs": [],
   "source": [
    "#/Volumes/mrenkeED/data/ds-dnumr/sub-01/ses-1/func/sub-01_ses-1_task-magjudge_run-1_bold.json\n",
    "\n",
    "for sub in subFolders:\n",
    "    for run in range(1,7):\n",
    "        fn = op.join(bids_folder, sub,'ses-1','func',f'{sub}_ses-1_task-magjudge_run-{run}_bold.json')\n",
    "        with open(fn) as file:\n",
    "            contents = file.read()\n",
    "            contents = contents.replace(\"risk\", \"magjudge\")\n",
    "            contents = contents.replace(\"Risk task\", \"Magjudge task\")\n",
    "\n",
    "        with open(fn, \"w\") as file:\n",
    "            file.write(contents)\n"
   ]
  },
  {
   "cell_type": "code",
   "execution_count": 31,
   "metadata": {},
   "outputs": [],
   "source": [
    "fn = '/Volumes/mrenkeED/data/ds-dnumr/task-magjudge_bold.json'\n",
    "with open(fn) as file:\n",
    "    contents = file.read()\n",
    "    contents = contents.replace(\"risk\", \"magjudge\")\n",
    "    contents = contents.replace(\"Risk task\", \"Magjudge task\")\n",
    "\n",
    "with open(fn, \"w\") as file:\n",
    "    file.write(contents)"
   ]
  },
  {
   "cell_type": "code",
   "execution_count": 32,
   "metadata": {},
   "outputs": [],
   "source": [
    "\n",
    "l = str()\n",
    "nums = []\n",
    "for e in subFolders:\n",
    "    if len(e) == 6:\n",
    "        l = l + e[4:] + ','\n",
    "        nums.append(e[4:])\n"
   ]
  },
  {
   "cell_type": "code",
   "execution_count": 34,
   "metadata": {},
   "outputs": [
    {
     "ename": "AttributeError",
     "evalue": "'list' object has no attribute 'T'",
     "output_type": "error",
     "traceback": [
      "\u001b[0;31m---------------------------------------------------------------------------\u001b[0m",
      "\u001b[0;31mAttributeError\u001b[0m                            Traceback (most recent call last)",
      "\u001b[1;32m/Users/mrenke/git/numrisk/numrisk/prepare/modify_json.ipynb Cell 5\u001b[0m in \u001b[0;36m<cell line: 4>\u001b[0;34m()\u001b[0m\n\u001b[1;32m      <a href='vscode-notebook-cell:/Users/mrenke/git/numrisk/numrisk/prepare/modify_json.ipynb#W5sZmlsZQ%3D%3D?line=1'>2</a>\u001b[0m nums \u001b[39m=\u001b[39m [\u001b[39mint\u001b[39m(item) \u001b[39mfor\u001b[39;00m item \u001b[39min\u001b[39;00m nums]\n\u001b[1;32m      <a href='vscode-notebook-cell:/Users/mrenke/git/numrisk/numrisk/prepare/modify_json.ipynb#W5sZmlsZQ%3D%3D?line=2'>3</a>\u001b[0m nums\u001b[39m.\u001b[39msort()\n\u001b[0;32m----> <a href='vscode-notebook-cell:/Users/mrenke/git/numrisk/numrisk/prepare/modify_json.ipynb#W5sZmlsZQ%3D%3D?line=3'>4</a>\u001b[0m nums\u001b[39m.\u001b[39;49mT\n",
      "\u001b[0;31mAttributeError\u001b[0m: 'list' object has no attribute 'T'"
     ]
    }
   ],
   "source": [
    "import numpy as np\n",
    "nums = [int(item) for item in nums]\n",
    "nums.sort()\n"
   ]
  },
  {
   "cell_type": "code",
   "execution_count": 38,
   "metadata": {},
   "outputs": [
    {
     "data": {
      "text/plain": [
       "['sub-10',\n",
       " 'sub-23',\n",
       " 'sub-08',\n",
       " 'sub-01',\n",
       " 'sub-06',\n",
       " 'sub-07',\n",
       " 'sub-05',\n",
       " 'sub-02',\n",
       " 'sub-03',\n",
       " 'sub-04',\n",
       " 'sub-09',\n",
       " 'sub-11',\n",
       " 'sub-12',\n",
       " 'sub-13',\n",
       " 'sub-14',\n",
       " 'sub-15',\n",
       " 'sub-16',\n",
       " 'sub-17',\n",
       " 'sub-18',\n",
       " 'sub-19',\n",
       " 'sub-20',\n",
       " 'sub-21',\n",
       " 'sub-22']"
      ]
     },
     "execution_count": 38,
     "metadata": {},
     "output_type": "execute_result"
    }
   ],
   "source": [
    "subFolders"
   ]
  },
  {
   "cell_type": "code",
   "execution_count": 37,
   "metadata": {},
   "outputs": [
    {
     "data": {
      "text/plain": [
       "23"
      ]
     },
     "execution_count": 37,
     "metadata": {},
     "output_type": "execute_result"
    }
   ],
   "source": [
    "len(subFolders)"
   ]
  },
  {
   "cell_type": "code",
   "execution_count": 23,
   "metadata": {},
   "outputs": [
    {
     "data": {
      "text/plain": [
       "'10,08,01,06,07,05,02,03,04,09,11,12,13,14,15,16,17,18,19,20,21,22,'"
      ]
     },
     "execution_count": 23,
     "metadata": {},
     "output_type": "execute_result"
    }
   ],
   "source": [
    "l"
   ]
  },
  {
   "cell_type": "code",
   "execution_count": null,
   "metadata": {},
   "outputs": [],
   "source": []
  }
 ],
 "metadata": {
  "kernelspec": {
   "display_name": "numrefields",
   "language": "python",
   "name": "python3"
  },
  "language_info": {
   "codemirror_mode": {
    "name": "ipython",
    "version": 3
   },
   "file_extension": ".py",
   "mimetype": "text/x-python",
   "name": "python",
   "nbconvert_exporter": "python",
   "pygments_lexer": "ipython3",
   "version": "3.10.5"
  },
  "orig_nbformat": 4
 },
 "nbformat": 4,
 "nbformat_minor": 2
}
