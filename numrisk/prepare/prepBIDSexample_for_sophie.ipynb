{
 "cells": [
  {
   "cell_type": "markdown",
   "metadata": {},
   "source": [
    "# Prepare example BIDS folder for Sophie to get started\n",
    "\n",
    "rsync -av --include='*/' --include='*space-fsaverage5_*' --exclude='*' sciencecloud:/mnt_03/ds-dnumrisk/derivatives/fmriprep/sub-01/ses-1/func/ /Users/mrenke/data/ds-dnumrisk_02/derivatives/fmriprep/sub-01/ses-1/func/\n",
    "\n",
    "\n",
    "rsync -av --include='*/' --include='*desc-confounds_timeseries.tsv' --exclude='*' sciencecloud:/mnt_03/ds-dnumrisk/derivatives/fmriprep/sub-01/ses-1/func/ /Users/mrenke/data/ds-dnumrisk_02/derivatives/fmriprep/sub-01/ses-1/func/"
   ]
  },
  {
   "cell_type": "code",
   "execution_count": 2,
   "metadata": {},
   "outputs": [],
   "source": [
    "import os\n",
    "\n"
   ]
  },
  {
   "cell_type": "code",
   "execution_count": 7,
   "metadata": {},
   "outputs": [],
   "source": [
    "bids_folder = '/Users/mrenke/data/ds-dnumrisk_02'\n",
    "fmriprep_key = 'derivatives/fmriprep/sub-01/ses-1/func'\n",
    "\n",
    "os.makedirs(os.path.join(bids_folder,fmriprep_key), exist_ok=True)\n",
    "\n",
    "event_file_key = 'sub-01/ses-1/func'\n",
    "os.makedirs(os.path.join(bids_folder,event_file_key))\n"
   ]
  },
  {
   "cell_type": "code",
   "execution_count": null,
   "metadata": {},
   "outputs": [],
   "source": []
  }
 ],
 "metadata": {
  "kernelspec": {
   "display_name": "numrefields",
   "language": "python",
   "name": "python3"
  },
  "language_info": {
   "codemirror_mode": {
    "name": "ipython",
    "version": 3
   },
   "file_extension": ".py",
   "mimetype": "text/x-python",
   "name": "python",
   "nbconvert_exporter": "python",
   "pygments_lexer": "ipython3",
   "version": "3.10.5"
  }
 },
 "nbformat": 4,
 "nbformat_minor": 2
}
